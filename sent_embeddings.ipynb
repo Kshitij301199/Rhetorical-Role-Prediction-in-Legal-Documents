{
 "cells": [
  {
   "cell_type": "code",
   "execution_count": 4,
   "metadata": {},
   "outputs": [],
   "source": [
    "from transformers import BertTokenizer, BertModel\n",
    "import torch\n",
    "import json\n",
    "import pandas as pd\n",
    "\n"
   ]
  },
  {
   "cell_type": "markdown",
   "metadata": {},
   "source": [
    "# Gather data, put into pandas dataframe"
   ]
  },
  {
   "cell_type": "code",
   "execution_count": 5,
   "metadata": {},
   "outputs": [],
   "source": [
    "TRAIN_DATA_PATH = \"./data/train.json\"\n",
    "with open(TRAIN_DATA_PATH, 'r') as file:\n",
    "    data = json.load(file)"
   ]
  },
  {
   "cell_type": "code",
   "execution_count": 12,
   "metadata": {},
   "outputs": [],
   "source": [
    "cumulative_texts = []\n",
    "cumulative_labels = []\n",
    "document_id = []\n",
    "document_meta = []\n",
    "sentence_id = []\n",
    "start_loc = []\n",
    "end_loc = []\n",
    "\n",
    "for document in data:\n",
    "    for key, value in document.items():\n",
    "        current_id = document['id']\n",
    "        current_meta = document['meta']['group']\n",
    "        for annotation in document['annotations']:\n",
    "            for sentence in annotation['result']:\n",
    "\n",
    "                sent_id = sentence['id']\n",
    "\n",
    "                text = sentence['value']['text']            #remove newline characters for a cleaner text\n",
    "                cleaned_text = text.replace(\"\\n\",\"\") \n",
    "\n",
    "                labels = sentence['value']['labels'][0]\n",
    "                start = sentence['value']['start']\n",
    "                end = sentence['value']['end']\n",
    "\n",
    "                cumulative_texts.append(cleaned_text)\n",
    "                cumulative_labels.append(labels)\n",
    "                document_id.append(current_id)\n",
    "                document_meta.append(current_meta)\n",
    "                sentence_id.append(sent_id)\n",
    "                start_loc.append(start)\n",
    "                end_loc.append(end)\n",
    "\n",
    "                \n",
    "\n",
    "                \n",
    "df = pd.DataFrame({'document_id': document_id,'sentence_id':sentence_id,'text': cumulative_texts, 'labels': cumulative_labels,'start': start_loc,'end': end_loc, 'meta':document_meta})\n",
    "\n",
    "    \n",
    "    "
   ]
  },
  {
   "cell_type": "code",
   "execution_count": 13,
   "metadata": {},
   "outputs": [
    {
     "data": {
      "text/html": [
       "<div>\n",
       "<style scoped>\n",
       "    .dataframe tbody tr th:only-of-type {\n",
       "        vertical-align: middle;\n",
       "    }\n",
       "\n",
       "    .dataframe tbody tr th {\n",
       "        vertical-align: top;\n",
       "    }\n",
       "\n",
       "    .dataframe thead th {\n",
       "        text-align: right;\n",
       "    }\n",
       "</style>\n",
       "<table border=\"1\" class=\"dataframe\">\n",
       "  <thead>\n",
       "    <tr style=\"text-align: right;\">\n",
       "      <th></th>\n",
       "      <th>document_id</th>\n",
       "      <th>sentence_id</th>\n",
       "      <th>text</th>\n",
       "      <th>labels</th>\n",
       "      <th>start</th>\n",
       "      <th>end</th>\n",
       "      <th>meta</th>\n",
       "    </tr>\n",
       "  </thead>\n",
       "  <tbody>\n",
       "    <tr>\n",
       "      <th>0</th>\n",
       "      <td>1735</td>\n",
       "      <td>d7a902fe9c23417499a7ef782f9fbdeb</td>\n",
       "      <td>IN THE HIGH COURT OF KARNATAKA,         ...</td>\n",
       "      <td>PREAMBLE</td>\n",
       "      <td>0</td>\n",
       "      <td>116</td>\n",
       "      <td>Criminal</td>\n",
       "    </tr>\n",
       "    <tr>\n",
       "      <th>1</th>\n",
       "      <td>1735</td>\n",
       "      <td>8d41599e98424d9480c25109556a7d14</td>\n",
       "      <td>BEFORETHE HON'BLE MR.JUSTICE ANAND BYRAR...</td>\n",
       "      <td>PREAMBLE</td>\n",
       "      <td>116</td>\n",
       "      <td>678</td>\n",
       "      <td>Criminal</td>\n",
       "    </tr>\n",
       "    <tr>\n",
       "      <th>2</th>\n",
       "      <td>1735</td>\n",
       "      <td>e501424117da40a7935c2d9f2fb2fe38</td>\n",
       "      <td>This Criminal Appeal is filed under Section 37...</td>\n",
       "      <td>PREAMBLE</td>\n",
       "      <td>678</td>\n",
       "      <td>964</td>\n",
       "      <td>Criminal</td>\n",
       "    </tr>\n",
       "    <tr>\n",
       "      <th>3</th>\n",
       "      <td>1735</td>\n",
       "      <td>4825806388fe43d39f73354b10b5b32d</td>\n",
       "      <td>This appeal coming on for hearing this ...</td>\n",
       "      <td>PREAMBLE</td>\n",
       "      <td>964</td>\n",
       "      <td>1093</td>\n",
       "      <td>Criminal</td>\n",
       "    </tr>\n",
       "    <tr>\n",
       "      <th>4</th>\n",
       "      <td>1735</td>\n",
       "      <td>d6893a25f82948f8be17fc9e876fb716</td>\n",
       "      <td>Heard the learned Counsel for the appel...</td>\n",
       "      <td>NONE</td>\n",
       "      <td>1093</td>\n",
       "      <td>1180</td>\n",
       "      <td>Criminal</td>\n",
       "    </tr>\n",
       "    <tr>\n",
       "      <th>...</th>\n",
       "      <td>...</td>\n",
       "      <td>...</td>\n",
       "      <td>...</td>\n",
       "      <td>...</td>\n",
       "      <td>...</td>\n",
       "      <td>...</td>\n",
       "      <td>...</td>\n",
       "    </tr>\n",
       "    <tr>\n",
       "      <th>115939</th>\n",
       "      <td>4090</td>\n",
       "      <td>d20ea0cee1e1491498f05197f9ef19e0</td>\n",
       "      <td>So Section 132 of the Evidence Act sufficient...</td>\n",
       "      <td>RATIO</td>\n",
       "      <td>21494</td>\n",
       "      <td>21601</td>\n",
       "      <td>Criminal</td>\n",
       "    </tr>\n",
       "    <tr>\n",
       "      <th>115940</th>\n",
       "      <td>4090</td>\n",
       "      <td>1ec9d9a5c1a64a8bb423c5c8d6497892</td>\n",
       "      <td>For the reasons aforesaid, the appeal is allo...</td>\n",
       "      <td>RPC</td>\n",
       "      <td>21601</td>\n",
       "      <td>21652</td>\n",
       "      <td>Criminal</td>\n",
       "    </tr>\n",
       "    <tr>\n",
       "      <th>115941</th>\n",
       "      <td>4090</td>\n",
       "      <td>d1f14db1ebff454ba2f13fdc90dc875f</td>\n",
       "      <td>The judgment and order dated April 27, 1987 pa...</td>\n",
       "      <td>RPC</td>\n",
       "      <td>21653</td>\n",
       "      <td>21761</td>\n",
       "      <td>Criminal</td>\n",
       "    </tr>\n",
       "    <tr>\n",
       "      <th>115942</th>\n",
       "      <td>4090</td>\n",
       "      <td>8adf1005d8c7458093a3f5599df282ca</td>\n",
       "      <td>R.S.S.</td>\n",
       "      <td>NONE</td>\n",
       "      <td>21761</td>\n",
       "      <td>21769</td>\n",
       "      <td>Criminal</td>\n",
       "    </tr>\n",
       "    <tr>\n",
       "      <th>115943</th>\n",
       "      <td>4090</td>\n",
       "      <td>7b623cc12023466fb53214acd31dc1cb</td>\n",
       "      <td>Appeal allowed.</td>\n",
       "      <td>RPC</td>\n",
       "      <td>21769</td>\n",
       "      <td>21799</td>\n",
       "      <td>Criminal</td>\n",
       "    </tr>\n",
       "  </tbody>\n",
       "</table>\n",
       "<p>115944 rows × 7 columns</p>\n",
       "</div>"
      ],
      "text/plain": [
       "        document_id                       sentence_id  \\\n",
       "0              1735  d7a902fe9c23417499a7ef782f9fbdeb   \n",
       "1              1735  8d41599e98424d9480c25109556a7d14   \n",
       "2              1735  e501424117da40a7935c2d9f2fb2fe38   \n",
       "3              1735  4825806388fe43d39f73354b10b5b32d   \n",
       "4              1735  d6893a25f82948f8be17fc9e876fb716   \n",
       "...             ...                               ...   \n",
       "115939         4090  d20ea0cee1e1491498f05197f9ef19e0   \n",
       "115940         4090  1ec9d9a5c1a64a8bb423c5c8d6497892   \n",
       "115941         4090  d1f14db1ebff454ba2f13fdc90dc875f   \n",
       "115942         4090  8adf1005d8c7458093a3f5599df282ca   \n",
       "115943         4090  7b623cc12023466fb53214acd31dc1cb   \n",
       "\n",
       "                                                     text    labels  start  \\\n",
       "0             IN THE HIGH COURT OF KARNATAKA,         ...  PREAMBLE      0   \n",
       "1             BEFORETHE HON'BLE MR.JUSTICE ANAND BYRAR...  PREAMBLE    116   \n",
       "2       This Criminal Appeal is filed under Section 37...  PREAMBLE    678   \n",
       "3              This appeal coming on for hearing this ...  PREAMBLE    964   \n",
       "4              Heard the learned Counsel for the appel...      NONE   1093   \n",
       "...                                                   ...       ...    ...   \n",
       "115939   So Section 132 of the Evidence Act sufficient...     RATIO  21494   \n",
       "115940   For the reasons aforesaid, the appeal is allo...       RPC  21601   \n",
       "115941  The judgment and order dated April 27, 1987 pa...       RPC  21653   \n",
       "115942                                             R.S.S.      NONE  21761   \n",
       "115943                                    Appeal allowed.       RPC  21769   \n",
       "\n",
       "          end      meta  \n",
       "0         116  Criminal  \n",
       "1         678  Criminal  \n",
       "2         964  Criminal  \n",
       "3        1093  Criminal  \n",
       "4        1180  Criminal  \n",
       "...       ...       ...  \n",
       "115939  21601  Criminal  \n",
       "115940  21652  Criminal  \n",
       "115941  21761  Criminal  \n",
       "115942  21769  Criminal  \n",
       "115943  21799  Criminal  \n",
       "\n",
       "[115944 rows x 7 columns]"
      ]
     },
     "execution_count": 13,
     "metadata": {},
     "output_type": "execute_result"
    }
   ],
   "source": [
    "df"
   ]
  },
  {
   "cell_type": "code",
   "execution_count": 25,
   "metadata": {},
   "outputs": [
    {
     "data": {
      "text/plain": [
       "'      IN THE HIGH COURT OF KARNATAKA,          CIRCUIT BENCH AT GULBARGADATED THIS THE 22ND DAY OF FEBRUARY, 2013'"
      ]
     },
     "execution_count": 25,
     "metadata": {},
     "output_type": "execute_result"
    }
   ],
   "source": [
    "df['text'][0]"
   ]
  },
  {
   "cell_type": "code",
   "execution_count": 8,
   "metadata": {},
   "outputs": [],
   "source": [
    "tokenizer = BertTokenizer.from_pretrained('bert-base-uncased')\n",
    "model = BertModel.from_pretrained('bert-base-uncased')"
   ]
  },
  {
   "cell_type": "markdown",
   "metadata": {},
   "source": [
    "### Grab text from DF, push to list"
   ]
  },
  {
   "cell_type": "code",
   "execution_count": 35,
   "metadata": {},
   "outputs": [],
   "source": [
    "sentence_data = []\n",
    "\n",
    "for text in df['text']:\n",
    "    sentence_data.append(text)"
   ]
  },
  {
   "cell_type": "markdown",
   "metadata": {},
   "source": [
    "### Tokenize text through BERT's tokenizer"
   ]
  },
  {
   "cell_type": "code",
   "execution_count": 36,
   "metadata": {},
   "outputs": [],
   "source": [
    "tokenized_inputs = tokenizer(sentence_data, return_tensors='pt', padding=True, truncation=True)\n"
   ]
  },
  {
   "cell_type": "code",
   "execution_count": 39,
   "metadata": {},
   "outputs": [
    {
     "data": {
      "text/plain": [
       "{'input_ids': tensor([[  101,  1999,  1996,  ...,     0,     0,     0],\n",
       "        [  101,  2077, 10760,  ...,     0,     0,     0],\n",
       "        [  101,  2023,  4735,  ...,     0,     0,     0],\n",
       "        ...,\n",
       "        [  101,  1996,  8689,  ...,     0,     0,     0],\n",
       "        [  101,  1054,  1012,  ...,     0,     0,     0],\n",
       "        [  101,  5574,  3039,  ...,     0,     0,     0]]), 'token_type_ids': tensor([[0, 0, 0,  ..., 0, 0, 0],\n",
       "        [0, 0, 0,  ..., 0, 0, 0],\n",
       "        [0, 0, 0,  ..., 0, 0, 0],\n",
       "        ...,\n",
       "        [0, 0, 0,  ..., 0, 0, 0],\n",
       "        [0, 0, 0,  ..., 0, 0, 0],\n",
       "        [0, 0, 0,  ..., 0, 0, 0]]), 'attention_mask': tensor([[1, 1, 1,  ..., 0, 0, 0],\n",
       "        [1, 1, 1,  ..., 0, 0, 0],\n",
       "        [1, 1, 1,  ..., 0, 0, 0],\n",
       "        ...,\n",
       "        [1, 1, 1,  ..., 0, 0, 0],\n",
       "        [1, 1, 1,  ..., 0, 0, 0],\n",
       "        [1, 1, 1,  ..., 0, 0, 0]])}"
      ]
     },
     "execution_count": 39,
     "metadata": {},
     "output_type": "execute_result"
    }
   ],
   "source": [
    "tokenized_inputs"
   ]
  },
  {
   "cell_type": "code",
   "execution_count": 45,
   "metadata": {},
   "outputs": [
    {
     "data": {
      "text/plain": [
       "115944"
      ]
     },
     "execution_count": 45,
     "metadata": {},
     "output_type": "execute_result"
    }
   ],
   "source": [
    "len(tokenized_inputs['input_ids'])"
   ]
  },
  {
   "cell_type": "code",
   "execution_count": 46,
   "metadata": {},
   "outputs": [
    {
     "ename": "",
     "evalue": "",
     "output_type": "error",
     "traceback": [
      "\u001b[1;31mThe Kernel crashed while executing code in the the current cell or a previous cell. Please review the code in the cell(s) to identify a possible cause of the failure. Click <a href='https://aka.ms/vscodeJupyterKernelCrash'>here</a> for more info. View Jupyter <a href='command:jupyter.viewOutput'>log</a> for further details."
     ]
    }
   ],
   "source": [
    "with torch.no_grad():\n",
    "    outputs = model(**tokenized_inputs)"
   ]
  },
  {
   "cell_type": "code",
   "execution_count": null,
   "metadata": {},
   "outputs": [],
   "source": [
    "embeddings = outputs.last_hidden_state[:, 0, :]"
   ]
  }
 ],
 "metadata": {
  "kernelspec": {
   "display_name": "anlp2023",
   "language": "python",
   "name": "python3"
  },
  "language_info": {
   "codemirror_mode": {
    "name": "ipython",
    "version": 3
   },
   "file_extension": ".py",
   "mimetype": "text/x-python",
   "name": "python",
   "nbconvert_exporter": "python",
   "pygments_lexer": "ipython3",
   "version": "3.8.18"
  }
 },
 "nbformat": 4,
 "nbformat_minor": 2
}
