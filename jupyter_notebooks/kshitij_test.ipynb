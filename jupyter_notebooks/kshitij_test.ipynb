{
 "cells": [
  {
   "cell_type": "code",
   "execution_count": 154,
   "metadata": {},
   "outputs": [],
   "source": [
    "import re\n",
    "import json\n",
    "\n",
    "import torch\n",
    "from transformers import BertTokenizer\n",
    "import pandas as pd\n",
    "import numpy as np\n",
    "\n",
    "import seaborn as sns"
   ]
  },
  {
   "cell_type": "markdown",
   "metadata": {},
   "source": [
    "# Data"
   ]
  },
  {
   "cell_type": "code",
   "execution_count": 4,
   "metadata": {},
   "outputs": [],
   "source": [
    "with open(\"../data/dev.json\") as json_file:\n",
    "    data = json.load(json_file)"
   ]
  },
  {
   "cell_type": "code",
   "execution_count": 14,
   "metadata": {},
   "outputs": [
    {
     "name": "stdout",
     "output_type": "stream",
     "text": [
      "PETITIONER:\n",
      "THE COMMISSIONER OF INCOME-TAXNEW DELHI\n",
      "\n",
      "Vs.\n",
      "\n",
      "RESPONDENT:\n",
      "M/s. CHUNI LAL MOONGA RAM\n",
      "\n",
      "DATE OF JUDGMENT:\n",
      "05/05/1961\n",
      "\n",
      "BENCH:\n",
      "DAS, S.K.\n",
      "BENCH:\n",
      "DAS, S.K.\n",
      "HIDAYATULLAH, M.\n",
      "SHAH, J.C.\n",
      "\n",
      "CITATION:            1962 SCR (2) 823\n",
      " 1962 AIR 1272\n",
      "\n",
      "ACT:\n",
      "Excess Profits Tax-Income-Assesseecarrying on business in\n",
      "taxable territory-Losses incurred in transactionsin non-\n",
      "taxable territory-If allowable in computing income-Excess\n",
      "Profits Tax Act, 1940 (15 of 1940), s. 5.\n",
      "\n",
      "HEADNOTE:\n",
      "During the assessment year 1946-47, the assessee was\n",
      "carrying on speculative business in bullion at Delhi. It\n",
      "entered into transactions in the nature of forward\n",
      "transactions with parties at Bhatinda (in the Patiala State\n",
      "outside the taxable territories of British India) in which\n",
      "it suffered losses. The assessee claimed deduction of these\n",
      "losses in the computation of its income.\n",
      "Held, that the losses incurred in Bhatinda could not be\n",
      "taken into account in computing the income of the assessee\n",
      "in British India. Under the third proviso to s. 5 of the\n",
      "Excess Profits Tax Act, 1940, that part of the business of\n",
      "the assessee in which the losses occurred at Bhatinda was to\n",
      "be deemed to be a separate business, and consequently the\n",
      "losses incurred in non-taxable territory could not be taken\n",
      "into consideration for purposes of Excess Profits Tax. The\n",
      "language of the third proviso to s. 5 was one of exclusion\n",
      "and made the Act inapplicable to profits etc. of the part of\n",
      "the business which arose in non-taxable territories.\n",
      "Commissioner of Income-tax v. Karamchand Premchand Ltd.,\n",
      "(1960) 40 1. T. R. 106, relied on.\n",
      "\n",
      "JUDGMENT:\n",
      "CIVIL APPELLATE JURISDICTION .- Civil Appeals Nos. 39 and 40 of 1960.\n",
      "Appeals from the judgment and order dated January 23, 1957, of the Punjab High. Court in Civil Reference No. 13 of 1955.\n",
      "H.N. Sanyal, Additional Solicitor-General of India, K.\n",
      "N.. Rajagopala Sastri and D. Gupta, for the appellant.\n",
      "Naunit Lal, for the respondent.1961. May 5. The Judgment of the Court was delivered by DAS, J. These two appeals have been brought to this Court on a certificates of fitness granted by the High, Court of Punjab under s. 66A(2) of the Indian Income-tax Act, 1922.\n",
      "The relevant facts are these. Messrs Chunilal Moonga Ram, a firm of Delhi, carried on a speculative business in bullion, mostly in ,old and silver, in Chandni Chowk at Delhi. For the assessment year 1946-47 it was charged to income-tax on its income from the business in the relevant accounting period. Similarly, it was charged to excess profits tax for the chargeable accounting period ending on February 6, 1946.\n",
      "One of the appeals, Civil Appeal No. 39 of 1960, arises out of the assessment of income-tax and the other appeal, Civil Appeal No. 40 of' 1960, arises out of the assessment of excess profits tax. During the relevant accounting periods the firm entered into certain transactions called \"hedge\"\n",
      "transactions in the billion market at Bhatinda (then a part of the Patiala State, that is, outside: the taxable territories of British India). It claimed-that it had incurred losses to non-residents there in the sums of Rs.\n",
      "6,366/- and Rs. 16,615/- in the said transactions and claimed that these losses should be taken into consideration in determining its 'income. It appears from the assessment order of the Income-tax Officer, Delhi, dated January 27, 1949 that the firm purchased certain \"sillies\" (bars of gold and silver) from a Bhatinda party on the telephone, which purchases were later confirmed by a letter or wire.\n",
      "Similarly, the bars were also sold by the firm through a Bhatinda party on the telephone. Apparently , no delivery was intended to be taken or was taken of the bars bought or sold ; nor did the firm have any branch or agent at Bhatinda. The transactions were in the nature of forward transactions carried out by means of telephonemessages, letters or telegrams with parties at Bhatinda.\n",
      "This was the nature of the transactions Which resulted in the losses for which the firm claimed deduction. The Income-tax authorities disallowed the claim on the ground that if the Bhatinda transactions had resulted in profits, such profits would have been exempt from tax in terms of s.14(2)(c) as it then stood and if the profits were exempt from tax, the proviso to a. 24(1) of the Act was a bar to the adjustment of the losses. The assessee then moved the Income-tax Appellate Tribunal. The Appellate Tribunal, however, allowed the deduction claimed on grounds which are not very clearly stated. It appears; that the Tribunal proceeded on the footing that it was not possible to ,\"split up transactions of a business located in the taxable territories into two categories of transactions inside and outside such territories\" and even if such spliting up was possible, the Bhatinda transactions would fall within s. 42 of the Act and the income etc. therefrom would be deemed to have arisen in British India. In this view of the matter, the Accountant Member of' the Tribunal who delivered the judgment of the Tribunal said \"To start with, it seems to us that there is no warrant either in terms of s. 14(2)(c) or in terms of the proviso to s. 24(1) to split up the transactions of a business located in the taxable territories into transactions in taxable territories and transactions without taxable territories. Even if that treatment were permitted and the profits or losses resulting from transactions outside the taxable territories can be described as income, profits and gains, such income, profits and gains are deemed under s. 42 to have accrued or arisen in British India. The results of transactions of the nature under review are' therefore, not exempt from tax by virtue of s. 14(2)(c). The proviso to s.\n",
      "          214(1) does riot in any case come          into play. The Income-tax authorities have, in this view that we have, taken wrongly disallowed the assessee's claim for adjustment of losses amounting to Rs. 6,360/- and Rs.\n",
      "          16,615/-. We allow these losses.\"\n",
      "The Tribunal accordingly allowed the two appeals. We may here state that the Income-tax authorities as also the Tribunal considered the claim for deduction in relation to the assessment for income-tax only. As to the excess profits tax there was-no separate discussion of the provisions of S. 5 of the Excess Profits Tax Act, 1940 and they dealt with the assessment of excess profits tax as a mere consequential matter.\n",
      "The, Commissioner of Income-tax, Delhi, then made two applications asking the Tribunal to refer certain questions of law arising out of its orders to the High Court of Punjab, The Tribunal cam to the conclusion that no questions of law arose out of its orders and rejected the applications. The High Court was then moved under s. 66 (2) of the Indian income-tax Act, 1922 and the High, Court heard the two applications together and directed the Tribunal to state a case on the following two questions which, in the opinion of the High Court, arose out of the Tribunal's orders.\n",
      "          (1) Whether the claim of loss in this case is governed by the provisions of S. 10(1) or 24(1) proviso read with s. 14(2)(c), or by the provisions of s. 42 ?\n",
      " (2) Whether on the facts of the case a loss of Rs. 22,981/- is allowable in computing the income of the assessee chargeable to the Excess Profits Tax ?\"\n",
      "The Tribunal then' drew up a statement of case on the two questions aforesaid. By its judgement and order dated January 23, 1957 the High Court answered both the questions in favour of theassessee. Thereafter the Commissioner of Incometax, Delhi, asked for and obtained a certificate under s.66A(2) of the Indian Income-tax Act and on that certificate the present appeals have been brought to this Court.\n",
      "As to the first question the learned Additional Solicitor- General, appearing on behalf of the appellant, has conceded that him 'not in a, position to dispute the correctness of the answer given, in view of the decision of this Court in Commissioner of Income-tax v. Indo-Mercantile Bank Ltd. (1).\n",
      "This disposes of Civil Appeal No. 39 of 1960 which must be dismissed.\n",
      "In Civil Appeal No. 40 of 1960 the second question falls for decision. In answering this second question the High Court has proceeded on two grounds : firstly, it has referred to s.5 of the Excess Profits Tax Act, 1940, particularly the third proviss thereto, and contracting the provisions of that section with s.5 of the Business Profits Tax Act of 1947 has expressed the view that neither of these provisions touched the question whether losses incurred in an Indian State could be taken into account in assessing the taxable income of an assessee in British India for purposes of assessing excess profits tax or business profits tax ; it then referred to the decision of the Bombay High Court in Karamchand Premchand Ltd. v. Commissioner of Income-tax, Bombay (2) and said: \"It would seem that inspite of the slightly different language of the Excess Profits Tax Act from that of the Income-tax Act, no distinction has ever been drawn in this matter between the principles governing assessment to income-tax and the principles governing assessment to excess profits tax and in fact it would appear to have been the universal (1) (1959) 36 I.T.R, 1.\n",
      "(2) (1956)30I.T.R.849,          practice that decisions of the Income-tax authorities and High Courts have been followed by consequential orders relating to the same assessee's taxable income for the purpose of the Excess Profits Tax Act and the learned counsel for the Commissioner has not been able to cite any decision in which different principles have been applied in this particular matter. Admittedly one of the reasons given in his judgment by Chagla C.J.\n",
      "          for coming to the decision mentioned above 'was that the third proviso had been changed in the Business Profits Tax Act as compared with the Excess Profit-, Tax Act, but this is only one of a number of reasons and the questions has not been considered at all whether under the proviso in the Excess Profits Tax Act losses made in an Indian State could have been computed in assessing the assessee's income from business in British India. I can only say that in the circumstances it seems to me likely that if the point had arisen the same view that I.\n",
      "          have expressed above would have been taken, namely, that whereas for the excess profits tax profits earned in an Indian State could not be taken into consideration at all, such profits could be taken into account if brought into taxable territories for assessing profits tax and that is regards losses. they I could be taken into account in assessing the business whether they occurred in a State. or in what was British India.\"\n",
      "The second ground given by the High Court depended on the facts found. The High Court expressed the view that, on the facts found it was doubtful if the losses in question could be deemed to have occurred in Bhatinda.\n",
      "It said \"It is not in dispute that the only place where the assessee carries on business is Delhi and that its transactions in other markets are carried out by means of commu- nication by telephone or Post. There is no Suggestion that the firm has any agent or branch in any native State and it therefore seems to me that whether profits result or losses are incurred as the result of transac- tions of this kind even with firms in Indian States, the profits accrue or the losses are incurred at the place where the payments are received or from which they are made, namely, the firm's place of business at Delhi.\"\n",
      "On behalf of the appellant it is contended that both the aforesaid grounds given by the High Court for the answer which it gave to the second question are unsubstantial.\n",
      "The, first ground, it is contended, is untenable in law, and the second. proceeds not on the findings of fact arrived at by the Tribunal but on new findings made by the High Court, which course was not open to the High Court to take.\n",
      "We consider that these contentions are correct. As to the first ground, it seems clear to us that under the third proviso to s.5 of the Excess Profits Tax Act, 1940 where the profits etc., of a part of the firm's business accrued or arose it Bhatinda, that part of the, business shall for the purpose of the said section be deemed to be a separate business. If that is so the losses which arose at Bhatinda must also be the losses of a separate business. We may here read s.5 and the third proviso thereto : .lm15 \" s. 5. This act shall apply to every business of which any part of the profits made during the chargeable accounting period is chargeable to income-tax by virtue of the provisions of sub-clause (i) on sub-clause (ii) of clause (b) of subsection (1) of section 4 of theIndian Income-tax Act, 1922, or of clause (c) of that sub-section : Provided further that this act shall not apply to any business the whole of the profits of which accrue or arise in an Indian State and where the profits of a part of a business accrue or arise in an Indian State, such part shall, for the purposes of this provision, be deemed to be a separate business the \",hole of the profits of which accrue or arise in an Indian State and the other part of the busi- ness shall, for all the purposes of this Act, be deemed to be, a separate business.\"\n",
      "In Commissioner of Income-tax v. Karamchand Premchand Ltd.(1). This Court considered s. 5. of the Business Profits Tax Act, 1947 and pointed out the distinction between the third proviso thereto and the third proviso to s. 5 of the Excess Profits Tax Act, 1.940. This Court quoted. with approval the decision in Commissioner of Excess Profits Tax, Bombay City v. Bhogilal H. Patel Bombay (2 ) and held that the language used in the third proviso to S. 5 of the Excess Profits Tax Act, 1940 was one of exclusion and that Act did not apply to profits etc. of that part of the business which arose in an Indian State. If that part of the business has to be treated as a separate business for the purposes of the Excess Profits Tax Act, it is difficult to see how the losses incurred in an Indian State can be taken into consideration for the same purposes. We think that the High Court was in error in thinking that the third proviso to s. 5 of the Excess Profits Tax Act did not touch the question which the High Court had to answer. On the (2) (1952) 21 I.T.R. 72, (1) (1960) 40 I.T.R. 106.contrary, we think that the proviso answers the question against the assessee.\n",
      "Now, as to the second ground given by the High Court. It seems to us that there can be no doubt that the assessing authorities proceeded on the footing that the losses for which the assessee firm claimed a deduction arose and were incurred at Bhatinda, even though the firm's place of business was Delhi. The Income-tax Officer, as also the Appellate Assistant Commissioner referred to s. 14(2)(c ) of the Income-tax Act, 1922; that provision related to income, profit-, or gains accruing or arising in an Indian State.\n",
      "The assessing authorities proceeded on the footing that as the proof its we are exempt from tax in terms of s.\n",
      "14(2)(c), the losses arising out-. side the taxable territories could not be taken into account. The Tribunal did not rely on s. 14(2)(c), nor on the proviso to s. 24 (1) of the Income-tax Act, 1922. But it relied on s.42. That again shows that it proceeded on the footing that though the income actually arose outside the taxable territories, it should be deemed to have arisen with in the taxable territories by reason of its business connection in the taxable territories. The High Court had to answer the second question on the facts found; it could not.arrived at fresh findings of fact. Such a course was not open to it.\n",
      "Indeed, it is true that the Tribunal said that the firm's transactions could not be split up, but the actual decision of the tribunal proceeded on the basis that. even it the transactions could be split up, s.42 applied and the income actually arising at Bhatinda would be deemed to have arisen in the taxable territories and so the losses must be taken into consideration for arriving at the income. The Tribunal considered the matter solely from the point of view of the assessment of income-tax. It did not consider the third proviso to s. 5 of the Excess Profits Tax Act, 1940 and what effect it had in the matter of the assessment of' excess profits tax. We agree that if the incomedid not arise or accrue in Bhatinda but the whole of it arose in Delhi, the third proviso would have no application.\n",
      "If however, part of the income etc. arose in Bhatinda, there that part of the business was a separate, business for the purposes of the Excess Profits Tax Act and the losses' incurred at Bhatinda could not be taken into account. We are of the view that on the facts found, the answer to the second question must be in favour of the appellant and against the assessee. Civil Appeal No. 40 of 1960 must, therefore, be allowed.\n",
      "The two appeals were heard together and in view of the divided success of the parties, the parties must bear their own costs in both appeals.\n",
      "Civil Appeal No. 39 dismissed.\n",
      "Civil Appeal No 40 allowed, \n"
     ]
    }
   ],
   "source": [
    "print(data[0]['data']['text'])"
   ]
  },
  {
   "cell_type": "code",
   "execution_count": 15,
   "metadata": {},
   "outputs": [
    {
     "data": {
      "text/plain": [
       "30"
      ]
     },
     "execution_count": 15,
     "metadata": {},
     "output_type": "execute_result"
    }
   ],
   "source": [
    "len(data)"
   ]
  },
  {
   "cell_type": "code",
   "execution_count": 50,
   "metadata": {},
   "outputs": [
    {
     "name": "stdout",
     "output_type": "stream",
     "text": [
      "PETITIONER:\n",
      "THE COMMISSIONER OF INCOME-TAXNEW DELHI\n",
      "\n",
      "Vs.\n",
      "\n",
      "RESPONDENT:\n",
      "M/s. CHUNI LAL MOONGA RAM\n",
      "\n",
      "DATE OF JUDGMENT:\n",
      "05/05/1961\n",
      "\n",
      "BENCH:\n",
      "DAS, S.K.\n",
      "BENCH:\n",
      "DAS, S.K.\n",
      "HIDAYATULLAH, M.\n",
      "SHAH, J.C.\n",
      "\n",
      "CITATION:            1962 SCR (2) 823\n",
      " 1962 AIR 1272\n",
      "\n",
      "\n",
      "-----------------------------\n",
      "ACT:\n",
      "Excess Profits Tax-Income-Assesseecarrying on business in\n",
      "taxable territory-Losses incurred in transactionsin non-\n",
      "taxable territory-If allowable in computing income-Excess\n",
      "Profits Tax Act, 1940 (15 of 1940), s. 5.\n",
      "\n",
      "HEADNOTE:\n",
      "During the assessment year 1946-47, the assessee was\n",
      "carrying on speculative business in bullion at Delhi. It\n",
      "entered into transactions in the nature of forward\n",
      "transactions with parties at Bhatinda (in the Patiala State\n",
      "outside the taxable territories of British India) in which\n",
      "it suffered losses. The assessee claimed deduction of these\n",
      "losses in the computation of its income.\n",
      "Held, that the losses incurred in Bhatinda could not be\n",
      "taken into account in computing the income of the assessee\n",
      "in British India. Under the third proviso to s. 5 of the\n",
      "Excess Profits Tax Act, 1940, that part of the business of\n",
      "the assessee in which the losses occurred at Bhatinda was to\n",
      "be deemed to be a separate business, and consequently the\n",
      "losses incurred in non-taxable territory could not be taken\n",
      "into consideration for purposes of Excess Profits Tax. The\n",
      "language of the third proviso to s. 5 was one of exclusion\n",
      "and made the Act inapplicable to profits etc. of the part of\n",
      "the business which arose in non-taxable territories.\n",
      "Commissioner of Income-tax v. Karamchand Premchand Ltd.,\n",
      "(1960) 40 1. T. R. 106, relied on.\n",
      "\n",
      "JUDGMENT:\n",
      "CIVIL APPELLATE JURISDICTION .- Civil Appeals Nos. 39 and 40 of 1960.\n",
      "Appeals from the judgment and order dated January 23, 1957, of the Punjab High. Court in Civil Reference No. 13 of 1955.\n",
      "H.N. Sanyal, Additional Solicitor-General of India, K.\n",
      "N.. Rajagopala Sastri and D. Gupta, for the appellant.\n",
      "Naunit Lal, for the respondent.1961. May 5. The Judgment of the Court was delivered by DAS, J. These two appeals have been brought to this Court on a certificates of fitness granted by the High, Court of Punjab under s. 66A(2) of the Indian Income-tax Act, 1922.\n",
      "The relevant facts are these. Messrs Chunilal Moonga Ram, a firm of Delhi, carried on a speculative business in bullion, mostly in ,old and silver, in Chandni Chowk at Delhi. For the assessment year 1946-47 it was charged to income-tax on its income from the business in the relevant accounting period. Similarly, it was charged to excess profits tax for the chargeable accounting period ending on February 6, 1946.\n",
      "One of the appeals, Civil Appeal No. 39 of 1960, arises out of the assessment of income-tax and the other appeal, Civil Appeal No. 40 of' 1960, arises out of the assessment of excess profits tax. During the relevant accounting periods the firm entered into certain transactions called \"hedge\"\n",
      "transactions in the billion market at Bhatinda (then a part of the Patiala State, that is, outside: the taxable territories of British India). It claimed-that it had incurred losses to non-residents there in the sums of Rs.\n",
      "6,366/- and Rs. 16,615/- in the said transactions and claimed that these losses should be taken into consideration in determining its 'income. It appears from the assessment order of the Income-tax Officer, Delhi, dated January 27, 1949 that the firm purchased certain \"sillies\" (bars of gold and silver) from a Bhatinda party on the telephone, which purchases were later confirmed by a letter or wire.\n",
      "Similarly, the bars were also sold by the firm through a Bhatinda party on the telephone. Apparently , no delivery was intended to be taken or was taken of the bars bought or sold ; nor did the firm have any branch or agent at Bhatinda. The transactions were in the nature of forward transactions carried out by means of telephonemessages, letters or telegrams with parties at Bhatinda.\n",
      "This was the nature of the transactions Which resulted in the losses for which the firm claimed deduction. The Income-tax authorities disallowed the claim on the ground that if the Bhatinda transactions had resulted in profits, such profits would have been exempt from tax in terms of s.14(2)(c) as it then stood and if the profits were exempt from tax, the proviso to a. 24(1) of the Act was a bar to the adjustment of the losses. The assessee then moved the Income-tax Appellate Tribunal. The Appellate Tribunal, however, allowed the deduction claimed on grounds which are not very clearly stated. It appears; that the Tribunal proceeded on the footing that it was not possible to ,\"split up transactions of a business located in the taxable territories into two categories of transactions inside and outside such territories\" and even if such spliting up was possible, the Bhatinda transactions would fall within s. 42 of the Act and the income etc. therefrom would be deemed to have arisen in British India. In this view of the matter, the Accountant Member of' the Tribunal who delivered the judgment of the Tribunal said \"To start with, it seems to us that there is no warrant either in terms of s. 14(2)(c) or in terms of the proviso to s. 24(1) to split up the transactions of a business located in the taxable territories into transactions in taxable territories and transactions without taxable territories. Even if that treatment were permitted and the profits or losses resulting from transactions outside the taxable territories can be described as income, profits and gains, such income, profits and gains are deemed under s. 42 to have accrued or arisen in British India. The results of transactions of the nature under review are' therefore, not exempt from tax by virtue of s. 14(2)(c). The proviso to s.\n",
      "          214(1) does riot in any case come          into play. The Income-tax authorities have, in this view that we have, taken wrongly disallowed the assessee's claim for adjustment of losses amounting to Rs. 6,360/- and Rs.\n",
      "          16,615/-. We allow these losses.\"\n",
      "The Tribunal accordingly allowed the two appeals. We may here state that the Income-tax authorities as also the Tribunal considered the claim for deduction in relation to the assessment for income-tax only. As to the excess profits tax there was-no separate discussion of the provisions of S. 5 of the Excess Profits Tax Act, 1940 and they dealt with the assessment of excess profits tax as a mere consequential matter.\n",
      "The, Commissioner of Income-tax, Delhi, then made two applications asking the Tribunal to refer certain questions of law arising out of its orders to the High Court of Punjab, The Tribunal cam to the conclusion that no questions of law arose out of its orders and rejected the applications. The High Court was then moved under s. 66 (2) of the Indian income-tax Act, 1922 and the High, Court heard the two applications together and directed the Tribunal to state a case on the following two questions which, in the opinion of the High Court, arose out of the Tribunal's orders.\n",
      "          (1) Whether the claim of loss in this case is governed by the provisions of S. 10(1) or 24(1) proviso read with s. 14(2)(c), or by the provisions of s. 42 ?\n",
      " (2) Whether on the facts of the case a loss of Rs. 22,981/- is allowable in computing the income of the assessee chargeable to the Excess Profits Tax ?\"\n",
      "The Tribunal then' drew up a statement of case on the two questions aforesaid. By its judgement and order dated January 23, 1957 the High Court answered both the questions in favour of theassessee. Thereafter the Commissioner of Incometax, Delhi, asked for and obtained a certificate under s.66A(2) of the Indian Income-tax Act and on that certificate the present appeals have been brought to this Court.\n",
      "As to the first question the learned Additional Solicitor- General, appearing on behalf of the appellant, has conceded that him 'not in a, position to dispute the correctness of the answer given, in view of the decision of this Court in Commissioner of Income-tax v. Indo-Mercantile Bank Ltd. (1).\n",
      "This disposes of Civil Appeal No. 39 of 1960 which must be dismissed.\n",
      "In Civil Appeal No. 40 of 1960 the second question falls for decision. In answering this second question the High Court has proceeded on two grounds : firstly, it has referred to s.5 of the Excess Profits Tax Act, 1940, particularly the third proviss thereto, and contracting the provisions of that section with s.5 of the Business Profits Tax Act of 1947 has expressed the view that neither of these provisions touched the question whether losses incurred in an Indian State could be taken into account in assessing the taxable income of an assessee in British India for purposes of assessing excess profits tax or business profits tax ; it then referred to the decision of the Bombay High Court in Karamchand Premchand Ltd. v. Commissioner of Income-tax, Bombay (2) and said: \"It would seem that inspite of the slightly different language of the Excess Profits Tax Act from that of the Income-tax Act, no distinction has ever been drawn in this matter between the principles governing assessment to income-tax and the principles governing assessment to excess profits tax and in fact it would appear to have been the universal (1) (1959) 36 I.T.R, 1.\n",
      "(2) (1956)30I.T.R.849,          practice that decisions of the Income-tax authorities and High Courts have been followed by consequential orders relating to the same assessee's taxable income for the purpose of the Excess Profits Tax Act and the learned counsel for the Commissioner has not been able to cite any decision in which different principles have been applied in this particular matter. Admittedly one of the reasons given in his judgment by Chagla C.J.\n",
      "          for coming to the decision mentioned above 'was that the third proviso had been changed in the Business Profits Tax Act as compared with the Excess Profit-, Tax Act, but this is only one of a number of reasons and the questions has not been considered at all whether under the proviso in the Excess Profits Tax Act losses made in an Indian State could have been computed in assessing the assessee's income from business in British India. I can only say that in the circumstances it seems to me likely that if the point had arisen the same view that I.\n",
      "          have expressed above would have been taken, namely, that whereas for the excess profits tax profits earned in an Indian State could not be taken into consideration at all, such profits could be taken into account if brought into taxable territories for assessing profits tax and that is regards losses. they I could be taken into account in assessing the business whether they occurred in a State. or in what was British India.\"\n",
      "The second ground given by the High Court depended on the facts found. The High Court expressed the view that, on the facts found it was doubtful if the losses in question could be deemed to have occurred in Bhatinda.\n",
      "It said \"It is not in dispute that the only place where the assessee carries on business is Delhi and that its transactions in other markets are carried out by means of commu- nication by telephone or Post. There is no Suggestion that the firm has any agent or branch in any native State and it therefore seems to me that whether profits result or losses are incurred as the result of transac- tions of this kind even with firms in Indian States, the profits accrue or the losses are incurred at the place where the payments are received or from which they are made, namely, the firm's place of business at Delhi.\"\n",
      "On behalf of the appellant it is contended that both the aforesaid grounds given by the High Court for the answer which it gave to the second question are unsubstantial.\n",
      "The, first ground, it is contended, is untenable in law, and the second. proceeds not on the findings of fact arrived at by the Tribunal but on new findings made by the High Court, which course was not open to the High Court to take.\n",
      "We consider that these contentions are correct. As to the first ground, it seems clear to us that under the third proviso to s.5 of the Excess Profits Tax Act, 1940 where the profits etc., of a part of the firm's business accrued or arose it Bhatinda, that part of the, business shall for the purpose of the said section be deemed to be a separate business. If that is so the losses which arose at Bhatinda must also be the losses of a separate business. We may here read s.5 and the third proviso thereto : .lm15 \" s. 5. This act shall apply to every business of which any part of the profits made during the chargeable accounting period is chargeable to income-tax by virtue of the provisions of sub-clause (i) on sub-clause (ii) of clause (b) of subsection (1) of section 4 of theIndian Income-tax Act, 1922, or of clause (c) of that sub-section : Provided further that this act shall not apply to any business the whole of the profits of which accrue or arise in an Indian State and where the profits of a part of a business accrue or arise in an Indian State, such part shall, for the purposes of this provision, be deemed to be a separate business the \",hole of the profits of which accrue or arise in an Indian State and the other part of the busi- ness shall, for all the purposes of this Act, be deemed to be, a separate business.\"\n",
      "In Commissioner of Income-tax v. Karamchand Premchand Ltd.(1). This Court considered s. 5. of the Business Profits Tax Act, 1947 and pointed out the distinction between the third proviso thereto and the third proviso to s. 5 of the Excess Profits Tax Act, 1.940. This Court quoted. with approval the decision in Commissioner of Excess Profits Tax, Bombay City v. Bhogilal H. Patel Bombay (2 ) and held that the language used in the third proviso to S. 5 of the Excess Profits Tax Act, 1940 was one of exclusion and that Act did not apply to profits etc. of that part of the business which arose in an Indian State. If that part of the business has to be treated as a separate business for the purposes of the Excess Profits Tax Act, it is difficult to see how the losses incurred in an Indian State can be taken into consideration for the same purposes. We think that the High Court was in error in thinking that the third proviso to s. 5 of the Excess Profits Tax Act did not touch the question which the High Court had to answer. On the (2) (1952) 21 I.T.R. 72, (1) (1960) 40 I.T.R. 106.contrary, we think that the proviso answers the question against the assessee.\n",
      "Now, as to the second ground given by the High Court. It seems to us that there can be no doubt that the assessing authorities proceeded on the footing that the losses for which the assessee firm claimed a deduction arose and were incurred at Bhatinda, even though the firm's place of business was Delhi. The Income-tax Officer, as also the Appellate Assistant Commissioner referred to s. 14(2)(c ) of the Income-tax Act, 1922; that provision related to income, profit-, or gains accruing or arising in an Indian State.\n",
      "The assessing authorities proceeded on the footing that as the proof its we are exempt from tax in terms of s.\n",
      "14(2)(c), the losses arising out-. side the taxable territories could not be taken into account. The Tribunal did not rely on s. 14(2)(c), nor on the proviso to s. 24 (1) of the Income-tax Act, 1922. But it relied on s.42. That again shows that it proceeded on the footing that though the income actually arose outside the taxable territories, it should be deemed to have arisen with in the taxable territories by reason of its business connection in the taxable territories. The High Court had to answer the second question on the facts found; it could not.arrived at fresh findings of fact. Such a course was not open to it.\n",
      "Indeed, it is true that the Tribunal said that the firm's transactions could not be split up, but the actual decision of the tribunal proceeded on the basis that. even it the transactions could be split up, s.42 applied and the income actually arising at Bhatinda would be deemed to have arisen in the taxable territories and so the losses must be taken into consideration for arriving at the income. The Tribunal considered the matter solely from the point of view of the assessment of income-tax. It did not consider the third proviso to s. 5 of the Excess Profits Tax Act, 1940 and what effect it had in the matter of the assessment of' excess profits tax. We agree that if the incomedid not arise or accrue in Bhatinda but the whole of it arose in Delhi, the third proviso would have no application.\n",
      "If however, part of the income etc. arose in Bhatinda, there that part of the business was a separate, business for the purposes of the Excess Profits Tax Act and the losses' incurred at Bhatinda could not be taken into account. We are of the view that on the facts found, the answer to the second question must be in favour of the appellant and against the assessee. Civil Appeal No. 40 of 1960 must, therefore, be allowed.\n",
      "The two appeals were heard together and in view of the divided success of the parties, the parties must bear their own costs in both appeals.\n",
      "Civil Appeal No. 39 dismissed.\n",
      "Civil Appeal No 40 allowed, \n"
     ]
    }
   ],
   "source": [
    "doc = data[0]['data']['text']\n",
    "used = doc[:doc.rindex(\"ACT:\")]\n",
    "doc = doc[doc.rindex(\"ACT:\"):]\n",
    "print(used)\n",
    "print(\"-----------------------------\")\n",
    "print(doc)"
   ]
  },
  {
   "cell_type": "code",
   "execution_count": 40,
   "metadata": {},
   "outputs": [],
   "source": [
    "# def extract_sentences(text, start_text):\n",
    "#     pattern = re.compile(rf'\\b{re.escape(start_text)}.*?[.!?](?=\\s|$)', re.IGNORECASE | re.DOTALL)\n",
    "#     matches = re.findall(pattern, text)\n",
    "#     return matches\n",
    "\n",
    "# # Example usage:\n",
    "# # text_to_search = \"This is a sample text. Starting sentence with given text. Another sentence with the given text. Not starting with it.\"\n",
    "\n",
    "# start_text = \"CITATION\"\n",
    "# result = extract_sentences(doc, start_text)"
   ]
  },
  {
   "cell_type": "code",
   "execution_count": 51,
   "metadata": {},
   "outputs": [
    {
     "data": {
      "text/plain": [
       "dict_keys(['id', 'annotations', 'data', 'meta'])"
      ]
     },
     "execution_count": 51,
     "metadata": {},
     "output_type": "execute_result"
    }
   ],
   "source": [
    "data[0].keys()"
   ]
  },
  {
   "cell_type": "code",
   "execution_count": 53,
   "metadata": {},
   "outputs": [
    {
     "data": {
      "text/plain": [
       "1"
      ]
     },
     "execution_count": 53,
     "metadata": {},
     "output_type": "execute_result"
    }
   ],
   "source": [
    "len(data[0]['annotations'])"
   ]
  },
  {
   "cell_type": "code",
   "execution_count": 56,
   "metadata": {},
   "outputs": [
    {
     "data": {
      "text/plain": [
       "dict_keys(['result'])"
      ]
     },
     "execution_count": 56,
     "metadata": {},
     "output_type": "execute_result"
    }
   ],
   "source": [
    "data[0]['annotations'][0].keys()"
   ]
  },
  {
   "cell_type": "code",
   "execution_count": 58,
   "metadata": {},
   "outputs": [
    {
     "data": {
      "text/plain": [
       "96"
      ]
     },
     "execution_count": 58,
     "metadata": {},
     "output_type": "execute_result"
    }
   ],
   "source": [
    "len(data[0]['annotations'][0]['result'])"
   ]
  },
  {
   "cell_type": "markdown",
   "metadata": {},
   "source": [
    "# Tokenizing"
   ]
  },
  {
   "cell_type": "code",
   "execution_count": 84,
   "metadata": {},
   "outputs": [
    {
     "name": "stderr",
     "output_type": "stream",
     "text": [
      "tokenizer_config.json: 100%|██████████| 28.0/28.0 [00:00<00:00, 5.88kB/s]\n",
      "vocab.txt: 100%|██████████| 232k/232k [00:00<00:00, 1.12MB/s]\n",
      "tokenizer.json: 100%|██████████| 466k/466k [00:00<00:00, 1.56MB/s]\n",
      "config.json: 100%|██████████| 570/570 [00:00<00:00, 558kB/s]"
     ]
    },
    {
     "name": "stdout",
     "output_type": "stream",
     "text": [
      "BertTokenizer(name_or_path='bert-base-uncased', vocab_size=30522, model_max_length=512, is_fast=False, padding_side='right', truncation_side='right', special_tokens={'unk_token': '[UNK]', 'sep_token': '[SEP]', 'pad_token': '[PAD]', 'cls_token': '[CLS]', 'mask_token': '[MASK]'}, clean_up_tokenization_spaces=True),  added_tokens_decoder={\n",
      "\t0: AddedToken(\"[PAD]\", rstrip=False, lstrip=False, single_word=False, normalized=False, special=True),\n",
      "\t100: AddedToken(\"[UNK]\", rstrip=False, lstrip=False, single_word=False, normalized=False, special=True),\n",
      "\t101: AddedToken(\"[CLS]\", rstrip=False, lstrip=False, single_word=False, normalized=False, special=True),\n",
      "\t102: AddedToken(\"[SEP]\", rstrip=False, lstrip=False, single_word=False, normalized=False, special=True),\n",
      "\t103: AddedToken(\"[MASK]\", rstrip=False, lstrip=False, single_word=False, normalized=False, special=True),\n",
      "}\n"
     ]
    },
    {
     "name": "stderr",
     "output_type": "stream",
     "text": [
      "\n"
     ]
    }
   ],
   "source": [
    "tokenizer = BertTokenizer.from_pretrained('bert-base-uncased')\n",
    "print(tokenizer)"
   ]
  },
  {
   "cell_type": "code",
   "execution_count": 132,
   "metadata": {},
   "outputs": [],
   "source": [
    "sent_id = []\n",
    "sent_start = []\n",
    "sent_end = []\n",
    "train_sents = []\n",
    "target = []\n",
    "for entry in data:\n",
    "    _ids, _start, _end, _text, _labels = [], [], [], [], []\n",
    "    # print(entry)\n",
    "    # print(entry['annotations'][0]['result'])\n",
    "    # for x , y in [(data_point['text'], data_point['labels']) for data_point in entry['annotations'][0]['result']['value']]:\n",
    "    for data_point in entry['annotations'][0]['result']:\n",
    "        _ids.append(data_point['id'])\n",
    "        _start.append(data_point['value']['start'])\n",
    "        _end.append(data_point['value']['end'])\n",
    "        _text.append(data_point['value']['text'])\n",
    "        _labels.append(data_point['value']['labels'])\n",
    "    \n",
    "    sent_id.append(_ids)\n",
    "    sent_start.append(_start)\n",
    "    sent_end.append(_end)\n",
    "    train_sents.append(_text)\n",
    "    target.append(_labels)"
   ]
  },
  {
   "cell_type": "code",
   "execution_count": 134,
   "metadata": {},
   "outputs": [],
   "source": [
    "try:\n",
    "    doc_lens = []\n",
    "    for doc_index, doc in enumerate(train_sents):\n",
    "        sent_lens = []\n",
    "        for sent_index, sentence in enumerate(doc):\n",
    "            train_sents[doc_index][sent_index] = [tokenizer.cls_token] + tokenizer.tokenize(sentence) + [tokenizer.sep_token]\n",
    "            sent_lens.append(len(train_sents[doc_index][sent_index]))    \n",
    "        doc_lens.append(sent_lens)\n",
    "    \n",
    "except TypeError:\n",
    "    print(\"Sentences already tokenized. Check again\")"
   ]
  },
  {
   "cell_type": "code",
   "execution_count": 135,
   "metadata": {},
   "outputs": [
    {
     "name": "stdout",
     "output_type": "stream",
     "text": [
      "Number of documents : 30\n"
     ]
    }
   ],
   "source": [
    "print(f\"Number of documents : {len(train_sents)}\")"
   ]
  },
  {
   "cell_type": "code",
   "execution_count": 169,
   "metadata": {},
   "outputs": [],
   "source": [
    "df = pd.DataFrame()\n",
    "df['index'] = range(len(doc_lens))\n",
    "df['lengths'] = doc_lens   \n",
    "# for i in range(len(df)):\n",
    "#     df['mean_length'] = np.mean(df['lengths'][i])\n",
    "    "
   ]
  },
  {
   "cell_type": "code",
   "execution_count": 186,
   "metadata": {},
   "outputs": [
    {
     "name": "stdout",
     "output_type": "stream",
     "text": [
      "329\n"
     ]
    },
    {
     "data": {
      "image/png": "[encoded data removed]",
      "text/plain": [
       "<Figure size 432x288 with 1 Axes>"
      ]
     },
     "metadata": {
      "needs_background": "light"
     },
     "output_type": "display_data"
    }
   ],
   "source": [
    "max_length = 0\n",
    "for index, row in df.iterrows():\n",
    "    sns.histplot(row['lengths'],bins=15)\n",
    "    if np.max(row['lengths']) > max_length:\n",
    "        max_length = np.max(row['lengths'])\n",
    "        \n",
    "print(max_length)"
   ]
  },
  {
   "cell_type": "code",
   "execution_count": 190,
   "metadata": {},
   "outputs": [],
   "source": [
    "MAX_LENGTH = 330\n",
    "# attention_matrix = np.zeros(train_sents)\n",
    "for doc_index, doc in enumerate(train_sents):\n",
    "    for sent_index, sentence in enumerate(doc):\n",
    "        train_sents[doc_index][sent_index] = train_sents[doc_index][sent_index] + [tokenizer.pad_token for _ in range(MAX_LENGTH - len(train_sents[doc_index][sent_index]))]\n",
    "        # for token in train_sents[doc_index][sent_index]:\n",
    "        # attention_matrix[doc_index][sent_index] = [1 if token != tokenizer.pad_token else 0 for token in train_sents[doc_index][sent_index]]"
   ]
  },
  {
   "cell_type": "code",
   "execution_count": 196,
   "metadata": {},
   "outputs": [
    {
     "ename": "ValueError",
     "evalue": "setting an array element with a sequence. The requested array has an inhomogeneous shape after 1 dimensions. The detected shape was (30,) + inhomogeneous part.",
     "output_type": "error",
     "traceback": [
      "\u001b[0;31m---------------------------------------------------------------------------\u001b[0m",
      "\u001b[0;31mValueError\u001b[0m                                Traceback (most recent call last)",
      "\u001b[0;32m/tmp/ipykernel_493/3559839711.py\u001b[0m in \u001b[0;36m<module>\u001b[0;34m\u001b[0m\n\u001b[0;32m----> 1\u001b[0;31m \u001b[0mnp\u001b[0m\u001b[0;34m.\u001b[0m\u001b[0marray\u001b[0m\u001b[0;34m(\u001b[0m\u001b[0mtrain_sents\u001b[0m\u001b[0;34m)\u001b[0m\u001b[0;34m.\u001b[0m\u001b[0mshape\u001b[0m\u001b[0;34m\u001b[0m\u001b[0;34m\u001b[0m\u001b[0m\n\u001b[0m",
      "\u001b[0;31mValueError\u001b[0m: setting an array element with a sequence. The requested array has an inhomogeneous shape after 1 dimensions. The detected shape was (30,) + inhomogeneous part."
     ]
    }
   ],
   "source": []
  },
  {
   "cell_type": "code",
   "execution_count": null,
   "metadata": {},
   "outputs": [],
   "source": []
  }
 ],
 "metadata": {
  "kernelspec": {
   "display_name": "Python 3",
   "language": "python",
   "name": "python3"
  },
  "language_info": {
   "codemirror_mode": {
    "name": "ipython",
    "version": 3
   },
   "file_extension": ".py",
   "mimetype": "text/x-python",
   "name": "python",
   "nbconvert_exporter": "python",
   "pygments_lexer": "ipython3",
   "version": "3.8.10"
  }
 },
 "nbformat": 4,
 "nbformat_minor": 2
}
