{
 "cells": [
  {
   "cell_type": "code",
   "execution_count": 27,
   "metadata": {},
   "outputs": [],
   "source": [
    "import re\n",
    "import json\n",
    "from typing import List, Tuple\n",
    "\n",
    "import torch\n",
    "import torch.nn as nn\n",
    "from transformers import BertTokenizer, BertModel\n",
    "from transformers import DistilBertTokenizer, DistilBertModel\n",
    "import pandas as pd\n",
    "import numpy as np\n",
    "\n",
    "import seaborn as sns"
   ]
  },
  {
   "cell_type": "markdown",
   "metadata": {},
   "source": [
    "# Data"
   ]
  },
  {
   "cell_type": "code",
   "execution_count": 3,
   "metadata": {},
   "outputs": [],
   "source": [
    "with open(\"../data/dev.json\") as json_file:\n",
    "    data = json.load(json_file)"
   ]
  },
  {
   "cell_type": "code",
   "execution_count": 86,
   "metadata": {},
   "outputs": [
    {
     "name": "stdout",
     "output_type": "stream",
     "text": [
      "PETITIONER:\n",
      "THE COMMISSIONER OF INCOME-TAXNEW DELHI\n",
      "\n",
      "Vs.\n",
      "\n",
      "RESPONDENT:\n",
      "M/s. CHUNI LAL MOONGA RAM\n",
      "\n",
      "DATE OF JUDGMENT:\n",
      "05/05/1961\n",
      "\n",
      "BENCH:\n",
      "DAS, S.K.\n",
      "BENCH:\n",
      "DAS, S.K.\n",
      "HIDAYATULLAH, M.\n",
      "SHAH, J.C.\n",
      "\n",
      "CITATION:            1962 SCR (2) 823\n",
      " 1962 AIR 1272\n",
      "\n",
      "ACT:\n",
      "Excess Profits Tax-Income-Assesseecarrying on business in\n",
      "taxable territory-Losses incurred in transactionsin non-\n",
      "taxable territory-If allowable in computing income-Excess\n",
      "Profits Tax Act, 1940 (15 of 1940), s. 5.\n",
      "\n",
      "HEADNOTE:\n",
      "During the assessment year 1946-47, the assessee was\n",
      "carrying on speculative business in bullion at Delhi. It\n",
      "entered into transactions in the nature of forward\n",
      "transactions with parties at Bhatinda (in the Patiala State\n",
      "outside the taxable territories of British India) in which\n",
      "it suffered losses. The assessee claimed deduction of these\n",
      "losses in the computation of its income.\n",
      "Held, that the losses incurred in Bhatinda could not be\n",
      "taken into account in computing the income of the assessee\n",
      "in British India. Under the third proviso to s. 5 of the\n",
      "Excess Profits Tax Act, 1940, that part of the business of\n",
      "the assessee in which the losses occurred at Bhatinda was to\n",
      "be deemed to be a separate business, and consequently the\n",
      "losses incurred in non-taxable territory could not be taken\n",
      "into consideration for purposes of Excess Profits Tax. The\n",
      "language of the third proviso to s. 5 was one of exclusion\n",
      "and made the Act inapplicable to profits etc. of the part of\n",
      "the business which arose in non-taxable territories.\n",
      "Commissioner of Income-tax v. Karamchand Premchand Ltd.,\n",
      "(1960) 40 1. T. R. 106, relied on.\n",
      "\n",
      "JUDGMENT:\n",
      "CIVIL APPELLATE JURISDICTION .- Civil Appeals Nos. 39 and 40 of 1960.\n",
      "Appeals from the judgment and order dated January 23, 1957, of the Punjab High. Court in Civil Reference No. 13 of 1955.\n",
      "H.N. Sanyal, Additional Solicitor-General of India, K.\n",
      "N.. Rajagopala Sastri and D. Gupta, for the appellant.\n",
      "Naunit Lal, for the respondent.1961. May 5. The Judgment of the Court was delivered by DAS, J. These two appeals have been brought to this Court on a certificates of fitness granted by the High, Court of Punjab under s. 66A(2) of the Indian Income-tax Act, 1922.\n",
      "The relevant facts are these. Messrs Chunilal Moonga Ram, a firm of Delhi, carried on a speculative business in bullion, mostly in ,old and silver, in Chandni Chowk at Delhi. For the assessment year 1946-47 it was charged to income-tax on its income from the business in the relevant accounting period. Similarly, it was charged to excess profits tax for the chargeable accounting period ending on February 6, 1946.\n",
      "One of the appeals, Civil Appeal No. 39 of 1960, arises out of the assessment of income-tax and the other appeal, Civil Appeal No. 40 of' 1960, arises out of the assessment of excess profits tax. During the relevant accounting periods the firm entered into certain transactions called \"hedge\"\n",
      "transactions in the billion market at Bhatinda (then a part of the Patiala State, that is, outside: the taxable territories of British India). It claimed-that it had incurred losses to non-residents there in the sums of Rs.\n",
      "6,366/- and Rs. 16,615/- in the said transactions and claimed that these losses should be taken into consideration in determining its 'income. It appears from the assessment order of the Income-tax Officer, Delhi, dated January 27, 1949 that the firm purchased certain \"sillies\" (bars of gold and silver) from a Bhatinda party on the telephone, which purchases were later confirmed by a letter or wire.\n",
      "Similarly, the bars were also sold by the firm through a Bhatinda party on the telephone. Apparently , no delivery was intended to be taken or was taken of the bars bought or sold ; nor did the firm have any branch or agent at Bhatinda. The transactions were in the nature of forward transactions carried out by means of telephonemessages, letters or telegrams with parties at Bhatinda.\n",
      "This was the nature of the transactions Which resulted in the losses for which the firm claimed deduction. The Income-tax authorities disallowed the claim on the ground that if the Bhatinda transactions had resulted in profits, such profits would have been exempt from tax in terms of s.14(2)(c) as it then stood and if the profits were exempt from tax, the proviso to a. 24(1) of the Act was a bar to the adjustment of the losses. The assessee then moved the Income-tax Appellate Tribunal. The Appellate Tribunal, however, allowed the deduction claimed on grounds which are not very clearly stated. It appears; that the Tribunal proceeded on the footing that it was not possible to ,\"split up transactions of a business located in the taxable territories into two categories of transactions inside and outside such territories\" and even if such spliting up was possible, the Bhatinda transactions would fall within s. 42 of the Act and the income etc. therefrom would be deemed to have arisen in British India. In this view of the matter, the Accountant Member of' the Tribunal who delivered the judgment of the Tribunal said \"To start with, it seems to us that there is no warrant either in terms of s. 14(2)(c) or in terms of the proviso to s. 24(1) to split up the transactions of a business located in the taxable territories into transactions in taxable territories and transactions without taxable territories. Even if that treatment were permitted and the profits or losses resulting from transactions outside the taxable territories can be described as income, profits and gains, such income, profits and gains are deemed under s. 42 to have accrued or arisen in British India. The results of transactions of the nature under review are' therefore, not exempt from tax by virtue of s. 14(2)(c). The proviso to s.\n",
      "          214(1) does riot in any case come          into play. The Income-tax authorities have, in this view that we have, taken wrongly disallowed the assessee's claim for adjustment of losses amounting to Rs. 6,360/- and Rs.\n",
      "          16,615/-. We allow these losses.\"\n",
      "The Tribunal accordingly allowed the two appeals. We may here state that the Income-tax authorities as also the Tribunal considered the claim for deduction in relation to the assessment for income-tax only. As to the excess profits tax there was-no separate discussion of the provisions of S. 5 of the Excess Profits Tax Act, 1940 and they dealt with the assessment of excess profits tax as a mere consequential matter.\n",
      "The, Commissioner of Income-tax, Delhi, then made two applications asking the Tribunal to refer certain questions of law arising out of its orders to the High Court of Punjab, The Tribunal cam to the conclusion that no questions of law arose out of its orders and rejected the applications. The High Court was then moved under s. 66 (2) of the Indian income-tax Act, 1922 and the High, Court heard the two applications together and directed the Tribunal to state a case on the following two questions which, in the opinion of the High Court, arose out of the Tribunal's orders.\n",
      "          (1) Whether the claim of loss in this case is governed by the provisions of S. 10(1) or 24(1) proviso read with s. 14(2)(c), or by the provisions of s. 42 ?\n",
      " (2) Whether on the facts of the case a loss of Rs. 22,981/- is allowable in computing the income of the assessee chargeable to the Excess Profits Tax ?\"\n",
      "The Tribunal then' drew up a statement of case on the two questions aforesaid. By its judgement and order dated January 23, 1957 the High Court answered both the questions in favour of theassessee. Thereafter the Commissioner of Incometax, Delhi, asked for and obtained a certificate under s.66A(2) of the Indian Income-tax Act and on that certificate the present appeals have been brought to this Court.\n",
      "As to the first question the learned Additional Solicitor- General, appearing on behalf of the appellant, has conceded that him 'not in a, position to dispute the correctness of the answer given, in view of the decision of this Court in Commissioner of Income-tax v. Indo-Mercantile Bank Ltd. (1).\n",
      "This disposes of Civil Appeal No. 39 of 1960 which must be dismissed.\n",
      "In Civil Appeal No. 40 of 1960 the second question falls for decision. In answering this second question the High Court has proceeded on two grounds : firstly, it has referred to s.5 of the Excess Profits Tax Act, 1940, particularly the third proviss thereto, and contracting the provisions of that section with s.5 of the Business Profits Tax Act of 1947 has expressed the view that neither of these provisions touched the question whether losses incurred in an Indian State could be taken into account in assessing the taxable income of an assessee in British India for purposes of assessing excess profits tax or business profits tax ; it then referred to the decision of the Bombay High Court in Karamchand Premchand Ltd. v. Commissioner of Income-tax, Bombay (2) and said: \"It would seem that inspite of the slightly different language of the Excess Profits Tax Act from that of the Income-tax Act, no distinction has ever been drawn in this matter between the principles governing assessment to income-tax and the principles governing assessment to excess profits tax and in fact it would appear to have been the universal (1) (1959) 36 I.T.R, 1.\n",
      "(2) (1956)30I.T.R.849,          practice that decisions of the Income-tax authorities and High Courts have been followed by consequential orders relating to the same assessee's taxable income for the purpose of the Excess Profits Tax Act and the learned counsel for the Commissioner has not been able to cite any decision in which different principles have been applied in this particular matter. Admittedly one of the reasons given in his judgment by Chagla C.J.\n",
      "          for coming to the decision mentioned above 'was that the third proviso had been changed in the Business Profits Tax Act as compared with the Excess Profit-, Tax Act, but this is only one of a number of reasons and the questions has not been considered at all whether under the proviso in the Excess Profits Tax Act losses made in an Indian State could have been computed in assessing the assessee's income from business in British India. I can only say that in the circumstances it seems to me likely that if the point had arisen the same view that I.\n",
      "          have expressed above would have been taken, namely, that whereas for the excess profits tax profits earned in an Indian State could not be taken into consideration at all, such profits could be taken into account if brought into taxable territories for assessing profits tax and that is regards losses. they I could be taken into account in assessing the business whether they occurred in a State. or in what was British India.\"\n",
      "The second ground given by the High Court depended on the facts found. The High Court expressed the view that, on the facts found it was doubtful if the losses in question could be deemed to have occurred in Bhatinda.\n",
      "It said \"It is not in dispute that the only place where the assessee carries on business is Delhi and that its transactions in other markets are carried out by means of commu- nication by telephone or Post. There is no Suggestion that the firm has any agent or branch in any native State and it therefore seems to me that whether profits result or losses are incurred as the result of transac- tions of this kind even with firms in Indian States, the profits accrue or the losses are incurred at the place where the payments are received or from which they are made, namely, the firm's place of business at Delhi.\"\n",
      "On behalf of the appellant it is contended that both the aforesaid grounds given by the High Court for the answer which it gave to the second question are unsubstantial.\n",
      "The, first ground, it is contended, is untenable in law, and the second. proceeds not on the findings of fact arrived at by the Tribunal but on new findings made by the High Court, which course was not open to the High Court to take.\n",
      "We consider that these contentions are correct. As to the first ground, it seems clear to us that under the third proviso to s.5 of the Excess Profits Tax Act, 1940 where the profits etc., of a part of the firm's business accrued or arose it Bhatinda, that part of the, business shall for the purpose of the said section be deemed to be a separate business. If that is so the losses which arose at Bhatinda must also be the losses of a separate business. We may here read s.5 and the third proviso thereto : .lm15 \" s. 5. This act shall apply to every business of which any part of the profits made during the chargeable accounting period is chargeable to income-tax by virtue of the provisions of sub-clause (i) on sub-clause (ii) of clause (b) of subsection (1) of section 4 of theIndian Income-tax Act, 1922, or of clause (c) of that sub-section : Provided further that this act shall not apply to any business the whole of the profits of which accrue or arise in an Indian State and where the profits of a part of a business accrue or arise in an Indian State, such part shall, for the purposes of this provision, be deemed to be a separate business the \",hole of the profits of which accrue or arise in an Indian State and the other part of the busi- ness shall, for all the purposes of this Act, be deemed to be, a separate business.\"\n",
      "In Commissioner of Income-tax v. Karamchand Premchand Ltd.(1). This Court considered s. 5. of the Business Profits Tax Act, 1947 and pointed out the distinction between the third proviso thereto and the third proviso to s. 5 of the Excess Profits Tax Act, 1.940. This Court quoted. with approval the decision in Commissioner of Excess Profits Tax, Bombay City v. Bhogilal H. Patel Bombay (2 ) and held that the language used in the third proviso to S. 5 of the Excess Profits Tax Act, 1940 was one of exclusion and that Act did not apply to profits etc. of that part of the business which arose in an Indian State. If that part of the business has to be treated as a separate business for the purposes of the Excess Profits Tax Act, it is difficult to see how the losses incurred in an Indian State can be taken into consideration for the same purposes. We think that the High Court was in error in thinking that the third proviso to s. 5 of the Excess Profits Tax Act did not touch the question which the High Court had to answer. On the (2) (1952) 21 I.T.R. 72, (1) (1960) 40 I.T.R. 106.contrary, we think that the proviso answers the question against the assessee.\n",
      "Now, as to the second ground given by the High Court. It seems to us that there can be no doubt that the assessing authorities proceeded on the footing that the losses for which the assessee firm claimed a deduction arose and were incurred at Bhatinda, even though the firm's place of business was Delhi. The Income-tax Officer, as also the Appellate Assistant Commissioner referred to s. 14(2)(c ) of the Income-tax Act, 1922; that provision related to income, profit-, or gains accruing or arising in an Indian State.\n",
      "The assessing authorities proceeded on the footing that as the proof its we are exempt from tax in terms of s.\n",
      "14(2)(c), the losses arising out-. side the taxable territories could not be taken into account. The Tribunal did not rely on s. 14(2)(c), nor on the proviso to s. 24 (1) of the Income-tax Act, 1922. But it relied on s.42. That again shows that it proceeded on the footing that though the income actually arose outside the taxable territories, it should be deemed to have arisen with in the taxable territories by reason of its business connection in the taxable territories. The High Court had to answer the second question on the facts found; it could not.arrived at fresh findings of fact. Such a course was not open to it.\n",
      "Indeed, it is true that the Tribunal said that the firm's transactions could not be split up, but the actual decision of the tribunal proceeded on the basis that. even it the transactions could be split up, s.42 applied and the income actually arising at Bhatinda would be deemed to have arisen in the taxable territories and so the losses must be taken into consideration for arriving at the income. The Tribunal considered the matter solely from the point of view of the assessment of income-tax. It did not consider the third proviso to s. 5 of the Excess Profits Tax Act, 1940 and what effect it had in the matter of the assessment of' excess profits tax. We agree that if the incomedid not arise or accrue in Bhatinda but the whole of it arose in Delhi, the third proviso would have no application.\n",
      "If however, part of the income etc. arose in Bhatinda, there that part of the business was a separate, business for the purposes of the Excess Profits Tax Act and the losses' incurred at Bhatinda could not be taken into account. We are of the view that on the facts found, the answer to the second question must be in favour of the appellant and against the assessee. Civil Appeal No. 40 of 1960 must, therefore, be allowed.\n",
      "The two appeals were heard together and in view of the divided success of the parties, the parties must bear their own costs in both appeals.\n",
      "Civil Appeal No. 39 dismissed.\n",
      "Civil Appeal No 40 allowed, \n"
     ]
    }
   ],
   "source": [
    "print(data[0]['data']['text'])"
   ]
  },
  {
   "cell_type": "code",
   "execution_count": 5,
   "metadata": {},
   "outputs": [
    {
     "data": {
      "text/plain": [
       "dict_keys(['id', 'annotations', 'data', 'meta'])"
      ]
     },
     "execution_count": 5,
     "metadata": {},
     "output_type": "execute_result"
    }
   ],
   "source": [
    "data[0].keys()"
   ]
  },
  {
   "cell_type": "code",
   "execution_count": 5,
   "metadata": {},
   "outputs": [],
   "source": [
    "# doc = data[0]['data']['text']\n",
    "# used = doc[:doc.rindex(\"ACT:\")]\n",
    "# doc = doc[doc.rindex(\"ACT:\"):]\n",
    "# print(used)\n",
    "# print(\"-----------------------------\")\n",
    "# print(doc)"
   ]
  },
  {
   "cell_type": "code",
   "execution_count": 6,
   "metadata": {},
   "outputs": [],
   "source": [
    "# def extract_sentences(text, start_text):\n",
    "#     pattern = re.compile(rf'\\b{re.escape(start_text)}.*?[.!?](?=\\s|$)', re.IGNORECASE | re.DOTALL)\n",
    "#     matches = re.findall(pattern, text)\n",
    "#     return matches\n",
    "\n",
    "# # Example usage:\n",
    "# # text_to_search = \"This is a sample text. Starting sentence with given text. Another sentence with the given text. Not starting with it.\"\n",
    "\n",
    "# start_text = \"CITATION\"\n",
    "# result = extract_sentences(doc, start_text)"
   ]
  },
  {
   "cell_type": "code",
   "execution_count": 6,
   "metadata": {},
   "outputs": [
    {
     "data": {
      "text/plain": [
       "1"
      ]
     },
     "execution_count": 6,
     "metadata": {},
     "output_type": "execute_result"
    }
   ],
   "source": [
    "len(data[0]['annotations'])"
   ]
  },
  {
   "cell_type": "code",
   "execution_count": 7,
   "metadata": {},
   "outputs": [
    {
     "data": {
      "text/plain": [
       "dict_keys(['result'])"
      ]
     },
     "execution_count": 7,
     "metadata": {},
     "output_type": "execute_result"
    }
   ],
   "source": [
    "data[0]['annotations'][0].keys()"
   ]
  },
  {
   "cell_type": "code",
   "execution_count": 8,
   "metadata": {},
   "outputs": [
    {
     "data": {
      "text/plain": [
       "96"
      ]
     },
     "execution_count": 8,
     "metadata": {},
     "output_type": "execute_result"
    }
   ],
   "source": [
    "len(data[0]['annotations'][0]['result'])"
   ]
  },
  {
   "cell_type": "markdown",
   "metadata": {},
   "source": [
    "# Tokenizing"
   ]
  },
  {
   "cell_type": "code",
   "execution_count": 50,
   "metadata": {},
   "outputs": [],
   "source": [
    "tokenizer = BertTokenizer.from_pretrained('bert-base-uncased')\n",
    "# print(tokenizer)"
   ]
  },
  {
   "cell_type": "markdown",
   "metadata": {},
   "source": [
    "### Extract info from dictionary"
   ]
  },
  {
   "cell_type": "code",
   "execution_count": 10,
   "metadata": {},
   "outputs": [],
   "source": [
    "sent_id = []\n",
    "sent_start = []\n",
    "sent_end = []\n",
    "train_sents = []\n",
    "target = []\n",
    "for entry in data:\n",
    "    _ids, _start, _end, _text, _labels = [], [], [], [], []\n",
    "    # print(entry)\n",
    "    # print(entry['annotations'][0]['result'])\n",
    "    # for x , y in [(data_point['text'], data_point['labels']) for data_point in entry['annotations'][0]['result']['value']]:\n",
    "    for data_point in entry['annotations'][0]['result']:\n",
    "        _ids.append(data_point['id'])\n",
    "        _start.append(data_point['value']['start'])\n",
    "        _end.append(data_point['value']['end'])\n",
    "        _text.append(data_point['value']['text'])\n",
    "        _labels.append(data_point['value']['labels'])\n",
    "    \n",
    "    sent_id.append(_ids)\n",
    "    sent_start.append(_start)\n",
    "    sent_end.append(_end)\n",
    "    train_sents.append(_text)\n",
    "    target.append(_labels)"
   ]
  },
  {
   "cell_type": "markdown",
   "metadata": {},
   "source": [
    "### Tokenize sentences and add CLS and SEP tokens"
   ]
  },
  {
   "cell_type": "code",
   "execution_count": 28,
   "metadata": {},
   "outputs": [],
   "source": [
    "# try:\n",
    "#     doc_lens = []\n",
    "#     for doc_index, doc in enumerate(train_sents):\n",
    "#         sent_lens = []\n",
    "#         for sent_index, sentence in enumerate(doc):\n",
    "#             train_sents[doc_index][sent_index] = [tokenizer.cls_token] + tokenizer.tokenize(sentence) + [tokenizer.sep_token]\n",
    "#             sent_lens.append(len(train_sents[doc_index][sent_index]))    \n",
    "#         doc_lens.append(sent_lens)\n",
    "    \n",
    "# except TypeError:\n",
    "#     print(\"Sentences already tokenized. Check again\")"
   ]
  },
  {
   "cell_type": "code",
   "execution_count": 29,
   "metadata": {},
   "outputs": [],
   "source": [
    "# print(f\"Number of documents : {len(train_sents)}\")"
   ]
  },
  {
   "cell_type": "code",
   "execution_count": 115,
   "metadata": {},
   "outputs": [
    {
     "ename": "NameError",
     "evalue": "name 'doc_lens' is not defined",
     "output_type": "error",
     "traceback": [
      "\u001b[0;31m---------------------------------------------------------------------------\u001b[0m",
      "\u001b[0;31mNameError\u001b[0m                                 Traceback (most recent call last)",
      "\u001b[0;32m/tmp/ipykernel_337/2734270488.py\u001b[0m in \u001b[0;36m<module>\u001b[0;34m\u001b[0m\n\u001b[1;32m      1\u001b[0m \u001b[0mdf\u001b[0m \u001b[0;34m=\u001b[0m \u001b[0mpd\u001b[0m\u001b[0;34m.\u001b[0m\u001b[0mDataFrame\u001b[0m\u001b[0;34m(\u001b[0m\u001b[0;34m)\u001b[0m\u001b[0;34m\u001b[0m\u001b[0;34m\u001b[0m\u001b[0m\n\u001b[0;32m----> 2\u001b[0;31m \u001b[0mdf\u001b[0m\u001b[0;34m[\u001b[0m\u001b[0;34m'lengths'\u001b[0m\u001b[0;34m]\u001b[0m \u001b[0;34m=\u001b[0m \u001b[0mdoc_lens\u001b[0m\u001b[0;34m\u001b[0m\u001b[0;34m\u001b[0m\u001b[0m\n\u001b[0m\u001b[1;32m      3\u001b[0m \u001b[0mdf\u001b[0m\u001b[0;34m[\u001b[0m\u001b[0;34m'max_length'\u001b[0m\u001b[0;34m]\u001b[0m \u001b[0;34m=\u001b[0m \u001b[0;34m[\u001b[0m\u001b[0mnp\u001b[0m\u001b[0;34m.\u001b[0m\u001b[0mmax\u001b[0m\u001b[0;34m(\u001b[0m\u001b[0mi\u001b[0m\u001b[0;34m)\u001b[0m \u001b[0;32mfor\u001b[0m \u001b[0mi\u001b[0m \u001b[0;32min\u001b[0m \u001b[0mdoc_lens\u001b[0m\u001b[0;34m]\u001b[0m\u001b[0;34m\u001b[0m\u001b[0;34m\u001b[0m\u001b[0m\n",
      "\u001b[0;31mNameError\u001b[0m: name 'doc_lens' is not defined"
     ]
    }
   ],
   "source": [
    "# df = pd.DataFrame()\n",
    "# df['lengths'] = doc_lens \n",
    "# df['max_length'] = [np.max(i) for i in doc_lens]  "
   ]
  },
  {
   "cell_type": "code",
   "execution_count": 31,
   "metadata": {},
   "outputs": [],
   "source": [
    "# df.head()"
   ]
  },
  {
   "cell_type": "code",
   "execution_count": 32,
   "metadata": {},
   "outputs": [],
   "source": [
    "# df.iloc[0]"
   ]
  },
  {
   "cell_type": "code",
   "execution_count": 33,
   "metadata": {},
   "outputs": [],
   "source": [
    "# max_length = 0\n",
    "# for index, row in df.iterrows():\n",
    "#     sns.histplot(row['lengths'],bins=15)\n",
    "#     if row['max_length'] > max_length:\n",
    "#         max_length = row['max_length']\n",
    "        \n",
    "# print(max_length)"
   ]
  },
  {
   "cell_type": "markdown",
   "metadata": {},
   "source": [
    "### Padding the sentences with PAD token"
   ]
  },
  {
   "cell_type": "code",
   "execution_count": 34,
   "metadata": {},
   "outputs": [],
   "source": [
    "# # MAX_LENGTH = 330\n",
    "# # attention_matrix = np.zeros(train_sents)\n",
    "# for doc_index, doc in enumerate(train_sents):\n",
    "#     MAX_LENGTH = df.iloc[doc_index]['max_length'] + 1\n",
    "#     for sent_index, sentence in enumerate(doc):\n",
    "#         train_sents[doc_index][sent_index] = train_sents[doc_index][sent_index] + [tokenizer.pad_token for _ in range(MAX_LENGTH - len(train_sents[doc_index][sent_index]))]\n",
    "#         # for token in train_sents[doc_index][sent_index]:\n",
    "#         # attention_matrix[doc_index][sent_index] = [1 if token != tokenizer.pad_token else 0 for token in train_sents[doc_index][sent_index]]"
   ]
  },
  {
   "cell_type": "markdown",
   "metadata": {},
   "source": [
    "### Creating attention matrix for each document"
   ]
  },
  {
   "cell_type": "code",
   "execution_count": 35,
   "metadata": {},
   "outputs": [],
   "source": [
    "# ids = []\n",
    "# segs = []\n",
    "# for doc_index, doc in enumerate(train_sents):\n",
    "#     globals()[f\"attention_mask_{doc_index}\"] = np.zeros_like(doc,dtype='int')\n",
    "#     sent_id = []\n",
    "#     sent_segs = []\n",
    "#     for sent_index,sentence in enumerate(doc):\n",
    "#         sent_id.append(tokenizer.convert_tokens_to_ids(sentence))\n",
    "#         sent_segs.append([0 for _ in range(len(sentence))])\n",
    "#         for i in range(len(sentence)):\n",
    "#             if sentence[i] != tokenizer.pad_token:\n",
    "#                 globals()[f'attention_mask_{doc_index}'][sent_index][i] = 1 \n",
    "#     ids.append(sent_id)\n",
    "#     segs.append(sent_segs)"
   ]
  },
  {
   "cell_type": "code",
   "execution_count": 36,
   "metadata": {},
   "outputs": [],
   "source": [
    "# len(ids)\n",
    "# # len(segs)"
   ]
  },
  {
   "cell_type": "code",
   "execution_count": 37,
   "metadata": {},
   "outputs": [],
   "source": [
    "# for i in range(len(train_sents)):\n",
    "#     print(f'Attention Mask for document {i+1} : {globals()[f\"attention_mask_{i}\"].shape}')"
   ]
  },
  {
   "cell_type": "markdown",
   "metadata": {},
   "source": [
    "# Extracting sentence embeddings"
   ]
  },
  {
   "cell_type": "code",
   "execution_count": 38,
   "metadata": {},
   "outputs": [],
   "source": [
    "# model = BertModel.from_pretrained(\"bert-base-uncased\")"
   ]
  },
  {
   "cell_type": "code",
   "execution_count": 39,
   "metadata": {},
   "outputs": [],
   "source": [
    "# for i in range(len(train_sents)):\n",
    "#     globals()[f'ids_tensor_{i}'] = torch.LongTensor(ids[i]).unsqueeze(0)\n",
    "#     globals()[f'attention_mask_{i}'] = torch.from_numpy(globals()[f'attention_mask_{i}']).unsqueeze(0)\n",
    "#     globals()[f'seg_tokens_{i}'] = torch.LongTensor(segs[i]).unsqueeze(0)"
   ]
  },
  {
   "cell_type": "code",
   "execution_count": 40,
   "metadata": {},
   "outputs": [],
   "source": [
    "# type(attention_mask_0)"
   ]
  },
  {
   "cell_type": "code",
   "execution_count": 41,
   "metadata": {},
   "outputs": [],
   "source": [
    "# type(ids_tensor_0)"
   ]
  },
  {
   "cell_type": "code",
   "execution_count": 42,
   "metadata": {},
   "outputs": [],
   "source": [
    "# type(seg_tokens_0)"
   ]
  },
  {
   "cell_type": "code",
   "execution_count": 43,
   "metadata": {},
   "outputs": [],
   "source": [
    "# globals()[f'ids_tensor_{0}'][:,0,:]"
   ]
  },
  {
   "cell_type": "code",
   "execution_count": 109,
   "metadata": {},
   "outputs": [
    {
     "ename": "",
     "evalue": "",
     "output_type": "error",
     "traceback": [
      "\u001b[1;31mThe Kernel crashed while executing code in the the current cell or a previous cell. Please review the code in the cell(s) to identify a possible cause of the failure. Click <a href='https://aka.ms/vscodeJupyterKernelCrash'>here</a> for more info. View Jupyter <a href='command:jupyter.viewOutput'>log</a> for further details."
     ]
    }
   ],
   "source": [
    "# for doc_index, doc in enumerate(train_sents):\n",
    "#     last_hidden_state = []\n",
    "#     pooler_output = []\n",
    "#     for sent_index in range(len(doc)):\n",
    "#         # if doc_index == 0:\n",
    "#             # print(sent_index)\n",
    "#         output = model(globals()[f'ids_tensor_{doc_index}'][:,sent_index,:],\n",
    "#                         attention_mask = globals()[f'attention_mask_{doc_index}'][:,sent_index,:],\n",
    "#                         token_type_ids = globals()[f'seg_tokens_{doc_index}'][:,sent_index,:])\n",
    "#         last_hidden_state.append(output[0])\n",
    "#         pooler_output.append(output[1])\n",
    "#     globals()[f'last_hidden_state_{doc_index}'], globals()[f'pooler_output_{doc_index}'] = last_hidden_state, pooler_output"
   ]
  },
  {
   "cell_type": "code",
   "execution_count": 44,
   "metadata": {},
   "outputs": [],
   "source": [
    "# model(ids_tensor_0[:,0,:],attention_mask_0[:,0,:],seg_tokens_0[:,0,:]).pooler_output.size()"
   ]
  },
  {
   "cell_type": "code",
   "execution_count": 45,
   "metadata": {},
   "outputs": [],
   "source": [
    "# sentence_embeddings = []\n",
    "# for i in range(15):\n",
    "#     emb = model(ids_tensor_0[:,i,:],attention_mask_0[:,i,:],seg_tokens_0[:,i,:]).pooler_output\n",
    "#     sentence_embeddings.append(emb.squeeze(0))"
   ]
  },
  {
   "cell_type": "code",
   "execution_count": 46,
   "metadata": {},
   "outputs": [],
   "source": [
    "# sentence_embeddings[0]"
   ]
  },
  {
   "cell_type": "markdown",
   "metadata": {},
   "source": [
    " - Create function that given a sentence produces id, attention mask and seg\n",
    " - Create a function that uses those 3 as input and produces embeddings on the fly"
   ]
  },
  {
   "cell_type": "markdown",
   "metadata": {},
   "source": [
    "# Tom's work"
   ]
  },
  {
   "cell_type": "code",
   "execution_count": 47,
   "metadata": {},
   "outputs": [],
   "source": [
    "# from transformers import BertTokenizer, BertModel\n",
    "# import torch\n",
    "\n",
    "# tokenizer = BertTokenizer.from_pretrained('bert-base-uncased')\n",
    "# model = BertModel.from_pretrained('bert-base-uncased')\n",
    "\n",
    "# import json\n",
    "\n",
    "# file_path = '../data/train.json'\n",
    "\n",
    "# with open(file_path, 'r') as file:\n",
    "#     data = json.load(file)\n",
    "    \n",
    "#     for key, value in data[0].items():\n",
    "        \n",
    "#         if key == 'annotations':\n",
    "#             for element in value:\n",
    "#                 for key2, value2 in element.items():\n",
    "#                     for element2 in value2:\n",
    "#                         for key3, value3 in element2.items():\n",
    "#                             if isinstance(value3, dict):\n",
    "#                                 for key4, value4 in value3.items():\n",
    "#                                     if key4 == \"text\":\n",
    "#                                         print(value4)\n",
    "                                        \n",
    "#                                     inputs = tokenizer(key4, return_tensors=\"pt\", truncation=True, padding=True)\n",
    "#                                     outputs = model(**inputs)\n",
    "\n",
    "#                                     bert_embedding = outputs.last_hidden_state[:, 0, :]\n",
    "\n",
    "\n",
    "#                                     bert_embedding_np = bert_embedding.detach().numpy()\n",
    "\n",
    "                                    \n",
    "#                                     print(bert_embedding_np.shape)"
   ]
  },
  {
   "cell_type": "markdown",
   "metadata": {},
   "source": [
    "# Simple CNN implementation"
   ]
  },
  {
   "cell_type": "code",
   "execution_count": 9,
   "metadata": {},
   "outputs": [
    {
     "name": "stdout",
     "output_type": "stream",
     "text": [
      "Number of documents for training : 30\n"
     ]
    }
   ],
   "source": [
    "print(f\"Number of documents for training : {len(data)}\")"
   ]
  },
  {
   "cell_type": "code",
   "execution_count": 10,
   "metadata": {},
   "outputs": [
    {
     "data": {
      "text/plain": [
       "list"
      ]
     },
     "execution_count": 10,
     "metadata": {},
     "output_type": "execute_result"
    }
   ],
   "source": [
    "doc1_train_data = data[0]['annotations'][0]['result']\n",
    "type(doc1_train_data)"
   ]
  },
  {
   "cell_type": "code",
   "execution_count": 15,
   "metadata": {},
   "outputs": [],
   "source": [
    "labels = []\n",
    "for entry in doc1_train_data:\n",
    "    labels.append(entry['value']['labels'][0])"
   ]
  },
  {
   "cell_type": "code",
   "execution_count": 26,
   "metadata": {},
   "outputs": [
    {
     "name": "stdout",
     "output_type": "stream",
     "text": [
      "0 PREAMBLE RPC\n",
      "10 ANALYSIS PREAMBLE\n",
      "11 NONE ANALYSIS\n",
      "18 FAC NONE\n",
      "47 RLC FAC\n",
      "50 FAC RLC\n",
      "51 ARG_PETITIONER FAC\n",
      "53 ANALYSIS ARG_PETITIONER\n",
      "68 STA ANALYSIS\n",
      "70 PRE_RELIED STA\n",
      "73 ANALYSIS PRE_RELIED\n",
      "91 RPC ANALYSIS\n"
     ]
    }
   ],
   "source": [
    "change_count = 0\n",
    "for index, label in enumerate(labels):\n",
    "    try:\n",
    "        if label != labels[index-1]:\n",
    "            print(index, label, labels[index-1])\n",
    "            change_count += 1\n",
    "    except IndexError:\n",
    "        continue"
   ]
  },
  {
   "cell_type": "code",
   "execution_count": 25,
   "metadata": {},
   "outputs": [
    {
     "name": "stdout",
     "output_type": "stream",
     "text": [
      "Percentage changes from sentence to sentence : 12.5%\n"
     ]
    }
   ],
   "source": [
    "print(f\"Percentage changes from sentence to sentence : {change_count / len(labels) * 100}%\")"
   ]
  },
  {
   "cell_type": "code",
   "execution_count": 34,
   "metadata": {},
   "outputs": [],
   "source": [
    "def sent2tensors(sentence: str, MAX_LEN = None) -> dict:\n",
    "    tokenizer = BertTokenizer.from_pretrained('bert-base-uncased')\n",
    "    # print(tokenizer.tokenize(sentence))\n",
    "    if MAX_LEN is None:\n",
    "        inputs = tokenizer(sentence, return_tensors=\"pt\", truncation=True, padding=True)\n",
    "    else:\n",
    "        inputs = tokenizer(sentence, return_tensors=\"pt\", truncation=True, padding='max_length',max_length = MAX_LEN)\n",
    "    return inputs\n",
    "\n",
    "def sent2embeddings(sentence: List, MAX_LEN = None) -> torch.TensorType:\n",
    "    model = BertModel.from_pretrained('bert-base-uncased')\n",
    "    \n",
    "    inputs = sent2tensors(sentence,MAX_LEN)\n",
    "    emb = model(**inputs).pooler_output\n",
    "    \n",
    "    return emb"
   ]
  },
  {
   "cell_type": "code",
   "execution_count": 81,
   "metadata": {},
   "outputs": [],
   "source": [
    "class SimpleCNN1(nn.Module):\n",
    "    def __init__(self, input_channels, output_classes):\n",
    "        super(SimpleCNN1, self).__init__()\n",
    "\n",
    "        # Convolutional layer\n",
    "        self.conv1 = nn.Conv2d(in_channels=input_channels, out_channels=1, kernel_size=(1,5), stride=(1,5))\n",
    "        \n",
    "        # ReLU activation\n",
    "        self.relu = nn.ReLU()\n",
    "\n",
    "        # Max pooling layer\n",
    "        self.max_pool = nn.MaxPool2d(kernel_size = (1,2), stride = (1,2))\n",
    "\n",
    "        # Fully connected layer\n",
    "        # self.fc1 = nn.Linear(32 * 383, output_classes)\n",
    "        \n",
    "    def forward(self, x):\n",
    "        # Forward pass through the layers\n",
    "        x = self.conv1(x)\n",
    "        print(x.size())\n",
    "        x = self.relu(x)\n",
    "        x = self.max_pool(x)\n",
    "        print(x.size())\n",
    "        # x = x.view(x.size(0), -1)  # Flatten the output for the fully connected layer\n",
    "        # x = self.fc1(x)\n",
    "        return x\n",
    "    \n",
    "class SimpleCNN2(nn.Module):\n",
    "    def __init__(self, input_channels, output_classes):\n",
    "        super(SimpleCNN2, self).__init__()\n",
    "\n",
    "        # Convolutional layer\n",
    "        self.conv1 = nn.Conv2d(in_channels=input_channels, out_channels=1, kernel_size=(2,5), stride=(1,5))\n",
    "        \n",
    "        # ReLU activation\n",
    "        self.relu = nn.ReLU()\n",
    "\n",
    "        # Max pooling layer\n",
    "        self.max_pool = nn.MaxPool2d(kernel_size = (1,2), stride = (1,2))\n",
    "\n",
    "        # Fully connected layer\n",
    "        # self.fc1 = nn.Linear(32 * 383, output_classes)\n",
    "        \n",
    "    def forward(self, x):\n",
    "        # Forward pass through the layers\n",
    "        x = self.conv1(x)\n",
    "        print(x.size())\n",
    "        x = self.relu(x)\n",
    "        x = self.max_pool(x)\n",
    "        print(x.size())\n",
    "        # x = x.view(x.size(0), -1)  # Flatten the output for the fully connected layer\n",
    "        # x = self.fc1(x)\n",
    "        return x"
   ]
  },
  {
   "cell_type": "code",
   "execution_count": 82,
   "metadata": {},
   "outputs": [],
   "source": [
    "CNN1 = SimpleCNN1(1,8)\n",
    "CNN2 = SimpleCNN2(1,8)"
   ]
  },
  {
   "cell_type": "code",
   "execution_count": 84,
   "metadata": {},
   "outputs": [
    {
     "data": {
      "text/plain": [
       "torch.Size([10, 768])"
      ]
     },
     "execution_count": 84,
     "metadata": {},
     "output_type": "execute_result"
    }
   ],
   "source": [
    "# test_sentence = doc1_train_data[0]['value']['text']\n",
    "# emb_test_sent = sent2embeddings(test_sentence)\n",
    "# emb_test_sent.size()\n",
    "a = torch.Tensor()\n",
    "for i in range(10):\n",
    "    test_sentence = doc1_train_data[i]['value']['text']\n",
    "    emb_test_sent = sent2embeddings(test_sentence)\n",
    "    a = torch.cat((a,emb_test_sent),dim=0)\n",
    "    \n",
    "a.size()"
   ]
  },
  {
   "cell_type": "code",
   "execution_count": 85,
   "metadata": {},
   "outputs": [
    {
     "name": "stdout",
     "output_type": "stream",
     "text": [
      "torch.Size([1, 10, 153])\n",
      "torch.Size([1, 10, 76])\n",
      "torch.Size([1, 9, 153])\n",
      "torch.Size([1, 9, 76])\n"
     ]
    }
   ],
   "source": [
    "cnn_out1 = CNN1.forward(a.unsqueeze(0))\n",
    "cnn_out2 = CNN2.forward(a.unsqueeze(0))"
   ]
  },
  {
   "cell_type": "code",
   "execution_count": 51,
   "metadata": {},
   "outputs": [
    {
     "data": {
      "text/plain": [
       "torch.Size([1, 1, 76])"
      ]
     },
     "execution_count": 51,
     "metadata": {},
     "output_type": "execute_result"
    }
   ],
   "source": [
    "cnn_out.size()"
   ]
  },
  {
   "cell_type": "code",
   "execution_count": 61,
   "metadata": {},
   "outputs": [
    {
     "data": {
      "text/plain": [
       "tensor([[[0.2111, 0.2538, 0.0000, 0.3890, 0.0000, 0.0210, 0.0000, 0.0000,\n",
       "          0.0000, 0.2214, 0.0000, 0.0000, 0.1427, 0.0000, 0.0000, 0.0336,\n",
       "          0.2356, 0.0067, 0.5807, 0.1057, 0.0131, 0.3784, 0.3886, 0.0000,\n",
       "          0.3275, 0.0000, 0.3735, 0.0000, 0.2242, 0.2170, 0.0000, 0.4937,\n",
       "          0.0825, 0.0524, 0.2628, 0.4775, 0.2935, 0.5830, 0.0000, 0.0257,\n",
       "          0.2118, 0.1271, 0.4794, 0.1105, 0.4283, 0.1057, 0.0099, 0.5743,\n",
       "          0.0000, 0.1275, 0.4188, 0.4332, 0.0687, 0.1553, 0.1363, 0.0000,\n",
       "          0.1185, 0.0000, 0.0000, 0.4724, 0.2046, 0.0000, 0.1247, 0.2693,\n",
       "          0.5646, 0.0207, 0.0000, 0.0000, 0.0000, 0.6681, 0.2004, 0.2905,\n",
       "          0.1377, 0.5044, 0.6974, 0.4104]]],\n",
       "       grad_fn=<MaxPool2DWithIndicesBackward0>)"
      ]
     },
     "execution_count": 61,
     "metadata": {},
     "output_type": "execute_result"
    }
   ],
   "source": [
    "cnn_out"
   ]
  },
  {
   "cell_type": "code",
   "execution_count": 128,
   "metadata": {},
   "outputs": [],
   "source": [
    "# def extract_word_embeddings(sentence,MAX_LEN = None):\n",
    "#     # Load pre-trained DistilBERT model and tokenizer\n",
    "#     model_name = 'distilbert-base-uncased'\n",
    "#     model = DistilBertModel.from_pretrained(model_name)\n",
    "#     tokenizer = DistilBertTokenizer.from_pretrained(model_name)\n",
    "#     # print(tokenizer.tokenize(sentence))\n",
    "\n",
    "#     # Tokenize the input sentence\n",
    "#     tokens = tokenizer(sentence, return_tensors='pt', padding='max_length', truncation=True, max_length = MAX_LEN, add_special_tokens=True)\n",
    "\n",
    "#     # Obtain the output embeddings from the model\n",
    "#     with torch.no_grad():\n",
    "#         outputs = model(**tokens)\n",
    "\n",
    "#     # Extract the embeddings for each token\n",
    "#     embeddings = outputs.last_hidden_state\n",
    "\n",
    "#     return embeddings"
   ]
  },
  {
   "cell_type": "code",
   "execution_count": 124,
   "metadata": {},
   "outputs": [],
   "source": [
    "# max([len(tokenizer.tokenize(sent)) for sent in train_sents[0]])"
   ]
  },
  {
   "cell_type": "code",
   "execution_count": 152,
   "metadata": {},
   "outputs": [
    {
     "name": "stdout",
     "output_type": "stream",
     "text": [
      "['petition', '##er', ':', 'the', 'commissioner', 'of', 'income', '-', 'tax', '##ne', '##w', 'delhi', 'vs', '.', 'respond', '##ent', ':', 'm', '/', 's', '.', 'chun', '##i', 'lal', 'moon', '##ga', 'ram']\n",
      "['date', 'of', 'judgment', ':', '05', '/', '05', '/', '1961', 'bench', ':', 'das', ',', 's', '.', 'k', '.']\n",
      "['bench', ':', 'das', ',', 's', '.', 'k', '.', 'hid', '##aya', '##tu', '##llah', ',', 'm', '.', 'shah', ',', 'j', '.', 'c', '.', 'citation', ':', '1962', 'sc', '##r', '(', '2', ')', '82', '##3', '1962', 'air', '127', '##2', 'act', ':', 'excess', 'profits', 'tax', '-', 'income', '-', 'assess', '##ee', '##car', '##ry', '##ing', 'on', 'business', 'in', 'taxa', '##ble', 'territory', '-', 'losses', 'incurred', 'in', 'transactions', '##in', 'non', '-', 'taxa', '##ble', 'territory', '-', 'if', 'allow', '##able', 'in', 'computing', 'income', '-', 'excess', 'profits', 'tax', 'act', ',', '1940', '(', '15', 'of', '1940', ')', ',', 's', '.', '5', '.', 'head', '##note', ':', 'during', 'the', 'assessment', 'year', '1946', '-', '47', ',', 'the', 'assess', '##ee', 'was', 'carrying', 'on', 'speculative', 'business', 'in', 'bull', '##ion', 'at', 'delhi', '.']\n",
      "['it', 'entered', 'into', 'transactions', 'in', 'the', 'nature', 'of', 'forward', 'transactions', 'with', 'parties', 'at', 'b', '##hat', '##inda', '(', 'in', 'the', 'pat', '##ial', '##a', 'state', 'outside', 'the', 'taxa', '##ble', 'territories', 'of', 'british', 'india', ')', 'in', 'which', 'it', 'suffered', 'losses', '.']\n",
      "['the', 'assess', '##ee', 'claimed', 'de', '##duction', 'of', 'these', 'losses', 'in', 'the', 'computation', 'of', 'its', 'income', '.']\n",
      "['held', ',', 'that', 'the', 'losses', 'incurred', 'in', 'b', '##hat', '##inda', 'could', 'not', 'be', 'taken', 'into', 'account', 'in', 'computing', 'the', 'income', 'of', 'the', 'assess', '##ee', 'in', 'british', 'india', '.']\n",
      "['under', 'the', 'third', 'pro', '##vis', '##o', 'to', 's', '.', '5', 'of', 'the', 'excess', 'profits', 'tax', 'act', ',', '1940']\n",
      "[',', 'that', 'part', 'of', 'the', 'business', 'of', 'the', 'assess', '##ee', 'in', 'which', 'the', 'losses', 'occurred', 'at', 'b', '##hat', '##inda', 'was', 'to', 'be', 'deemed', 'to', 'be', 'a', 'separate', 'business', ',', 'and', 'consequently', 'the', 'losses', 'incurred', 'in', 'non', '-', 'taxa', '##ble', 'territory', 'could', 'not', 'be', 'taken', 'into', 'consideration', 'for', 'purposes', 'of', 'excess', 'profits', 'tax', '.']\n",
      "['the', 'language', 'of', 'the', 'third', 'pro', '##vis', '##o', 'to', 's', '.', '5', 'was', 'one', 'of', 'exclusion', 'and', 'made', 'the', 'act', 'ina', '##pp', '##lica', '##ble', 'to', 'profits', 'etc', '.', 'of', 'the', 'part', 'of', 'the', 'business', 'which', 'arose', 'in', 'non', '-', 'taxa', '##ble', 'territories', '.']\n",
      "['commissioner', 'of', 'income', '-', 'tax', 'v', '.', 'kara', '##mc', '##hand', 'prem', '##chan', '##d', 'ltd', '.', ',', '(', '1960', ')', '40', '1', '.', 't', '.', 'r', '.', '106', ',', 'relied', 'on', '.']\n",
      "['judgment', ':', 'civil', 'appellate', 'jurisdiction', '.', '-', 'civil', 'appeals', 'nos', '.', '39', 'and', '40', 'of', '1960', '.']\n"
     ]
    },
    {
     "ename": "KeyboardInterrupt",
     "evalue": "",
     "output_type": "error",
     "traceback": [
      "\u001b[0;31m---------------------------------------------------------------------------\u001b[0m",
      "\u001b[0;31mKeyboardInterrupt\u001b[0m                         Traceback (most recent call last)",
      "\u001b[0;32m/tmp/ipykernel_337/76228950.py\u001b[0m in \u001b[0;36m<module>\u001b[0;34m\u001b[0m\n\u001b[1;32m      2\u001b[0m \u001b[0mresult\u001b[0m \u001b[0;34m=\u001b[0m \u001b[0mtorch\u001b[0m\u001b[0;34m.\u001b[0m\u001b[0mTensor\u001b[0m\u001b[0;34m(\u001b[0m\u001b[0;34m)\u001b[0m\u001b[0;34m\u001b[0m\u001b[0;34m\u001b[0m\u001b[0m\n\u001b[1;32m      3\u001b[0m \u001b[0;32mfor\u001b[0m \u001b[0msentence\u001b[0m \u001b[0;32min\u001b[0m \u001b[0mtrain_sents\u001b[0m\u001b[0;34m[\u001b[0m\u001b[0;36m0\u001b[0m\u001b[0;34m]\u001b[0m\u001b[0;34m:\u001b[0m\u001b[0;34m\u001b[0m\u001b[0;34m\u001b[0m\u001b[0m\n\u001b[0;32m----> 4\u001b[0;31m     \u001b[0membedding\u001b[0m \u001b[0;34m=\u001b[0m \u001b[0msent2embeddings\u001b[0m\u001b[0;34m(\u001b[0m\u001b[0msentence\u001b[0m\u001b[0;34m,\u001b[0m\u001b[0mMAX_LEN\u001b[0m \u001b[0;34m=\u001b[0m \u001b[0mMAX_LENGTH\u001b[0m\u001b[0;34m)\u001b[0m\u001b[0;34m\u001b[0m\u001b[0;34m\u001b[0m\u001b[0m\n\u001b[0m\u001b[1;32m      5\u001b[0m     \u001b[0mresult\u001b[0m \u001b[0;34m=\u001b[0m \u001b[0mtorch\u001b[0m\u001b[0;34m.\u001b[0m\u001b[0mcat\u001b[0m\u001b[0;34m(\u001b[0m\u001b[0;34m(\u001b[0m\u001b[0mresult\u001b[0m\u001b[0;34m,\u001b[0m\u001b[0membedding\u001b[0m\u001b[0;34m)\u001b[0m\u001b[0;34m,\u001b[0m\u001b[0mdim\u001b[0m\u001b[0;34m=\u001b[0m\u001b[0;36m0\u001b[0m\u001b[0;34m)\u001b[0m\u001b[0;34m\u001b[0m\u001b[0;34m\u001b[0m\u001b[0m\n\u001b[1;32m      6\u001b[0m \u001b[0;31m# sentence1 = train_sents[0][0]\u001b[0m\u001b[0;34m\u001b[0m\u001b[0;34m\u001b[0m\u001b[0;34m\u001b[0m\u001b[0m\n",
      "\u001b[0;32m/tmp/ipykernel_337/1879501875.py\u001b[0m in \u001b[0;36msent2embeddings\u001b[0;34m(sentence, MAX_LEN)\u001b[0m\n\u001b[1;32m     10\u001b[0m \u001b[0;34m\u001b[0m\u001b[0m\n\u001b[1;32m     11\u001b[0m     \u001b[0minputs\u001b[0m \u001b[0;34m=\u001b[0m \u001b[0msent2tensors\u001b[0m\u001b[0;34m(\u001b[0m\u001b[0msentence\u001b[0m\u001b[0;34m,\u001b[0m\u001b[0mMAX_LEN\u001b[0m\u001b[0;34m)\u001b[0m\u001b[0;34m\u001b[0m\u001b[0;34m\u001b[0m\u001b[0m\n\u001b[0;32m---> 12\u001b[0;31m     \u001b[0memb\u001b[0m \u001b[0;34m=\u001b[0m \u001b[0mmodel\u001b[0m\u001b[0;34m(\u001b[0m\u001b[0;34m**\u001b[0m\u001b[0minputs\u001b[0m\u001b[0;34m)\u001b[0m\u001b[0;34m.\u001b[0m\u001b[0mpooler_output\u001b[0m\u001b[0;34m\u001b[0m\u001b[0;34m\u001b[0m\u001b[0m\n\u001b[0m\u001b[1;32m     13\u001b[0m \u001b[0;34m\u001b[0m\u001b[0m\n\u001b[1;32m     14\u001b[0m     \u001b[0;32mreturn\u001b[0m \u001b[0memb\u001b[0m\u001b[0;34m\u001b[0m\u001b[0;34m\u001b[0m\u001b[0m\n",
      "\u001b[0;32m~/.local/lib/python3.8/site-packages/torch/nn/modules/module.py\u001b[0m in \u001b[0;36m_wrapped_call_impl\u001b[0;34m(self, *args, **kwargs)\u001b[0m\n\u001b[1;32m   1516\u001b[0m             \u001b[0;32mreturn\u001b[0m \u001b[0mself\u001b[0m\u001b[0;34m.\u001b[0m\u001b[0m_compiled_call_impl\u001b[0m\u001b[0;34m(\u001b[0m\u001b[0;34m*\u001b[0m\u001b[0margs\u001b[0m\u001b[0;34m,\u001b[0m \u001b[0;34m**\u001b[0m\u001b[0mkwargs\u001b[0m\u001b[0;34m)\u001b[0m  \u001b[0;31m# type: ignore[misc]\u001b[0m\u001b[0;34m\u001b[0m\u001b[0;34m\u001b[0m\u001b[0m\n\u001b[1;32m   1517\u001b[0m         \u001b[0;32melse\u001b[0m\u001b[0;34m:\u001b[0m\u001b[0;34m\u001b[0m\u001b[0;34m\u001b[0m\u001b[0m\n\u001b[0;32m-> 1518\u001b[0;31m             \u001b[0;32mreturn\u001b[0m \u001b[0mself\u001b[0m\u001b[0;34m.\u001b[0m\u001b[0m_call_impl\u001b[0m\u001b[0;34m(\u001b[0m\u001b[0;34m*\u001b[0m\u001b[0margs\u001b[0m\u001b[0;34m,\u001b[0m \u001b[0;34m**\u001b[0m\u001b[0mkwargs\u001b[0m\u001b[0;34m)\u001b[0m\u001b[0;34m\u001b[0m\u001b[0;34m\u001b[0m\u001b[0m\n\u001b[0m\u001b[1;32m   1519\u001b[0m \u001b[0;34m\u001b[0m\u001b[0m\n\u001b[1;32m   1520\u001b[0m     \u001b[0;32mdef\u001b[0m \u001b[0m_call_impl\u001b[0m\u001b[0;34m(\u001b[0m\u001b[0mself\u001b[0m\u001b[0;34m,\u001b[0m \u001b[0;34m*\u001b[0m\u001b[0margs\u001b[0m\u001b[0;34m,\u001b[0m \u001b[0;34m**\u001b[0m\u001b[0mkwargs\u001b[0m\u001b[0;34m)\u001b[0m\u001b[0;34m:\u001b[0m\u001b[0;34m\u001b[0m\u001b[0;34m\u001b[0m\u001b[0m\n",
      "\u001b[0;32m~/.local/lib/python3.8/site-packages/torch/nn/modules/module.py\u001b[0m in \u001b[0;36m_call_impl\u001b[0;34m(self, *args, **kwargs)\u001b[0m\n\u001b[1;32m   1525\u001b[0m                 \u001b[0;32mor\u001b[0m \u001b[0m_global_backward_pre_hooks\u001b[0m \u001b[0;32mor\u001b[0m \u001b[0m_global_backward_hooks\u001b[0m\u001b[0;34m\u001b[0m\u001b[0;34m\u001b[0m\u001b[0m\n\u001b[1;32m   1526\u001b[0m                 or _global_forward_hooks or _global_forward_pre_hooks):\n\u001b[0;32m-> 1527\u001b[0;31m             \u001b[0;32mreturn\u001b[0m \u001b[0mforward_call\u001b[0m\u001b[0;34m(\u001b[0m\u001b[0;34m*\u001b[0m\u001b[0margs\u001b[0m\u001b[0;34m,\u001b[0m \u001b[0;34m**\u001b[0m\u001b[0mkwargs\u001b[0m\u001b[0;34m)\u001b[0m\u001b[0;34m\u001b[0m\u001b[0;34m\u001b[0m\u001b[0m\n\u001b[0m\u001b[1;32m   1528\u001b[0m \u001b[0;34m\u001b[0m\u001b[0m\n\u001b[1;32m   1529\u001b[0m         \u001b[0;32mtry\u001b[0m\u001b[0;34m:\u001b[0m\u001b[0;34m\u001b[0m\u001b[0;34m\u001b[0m\u001b[0m\n",
      "\u001b[0;32m~/.local/lib/python3.8/site-packages/transformers/models/bert/modeling_bert.py\u001b[0m in \u001b[0;36mforward\u001b[0;34m(self, input_ids, attention_mask, token_type_ids, position_ids, head_mask, inputs_embeds, encoder_hidden_states, encoder_attention_mask, past_key_values, use_cache, output_attentions, output_hidden_states, return_dict)\u001b[0m\n\u001b[1;32m   1011\u001b[0m             \u001b[0mpast_key_values_length\u001b[0m\u001b[0;34m=\u001b[0m\u001b[0mpast_key_values_length\u001b[0m\u001b[0;34m,\u001b[0m\u001b[0;34m\u001b[0m\u001b[0;34m\u001b[0m\u001b[0m\n\u001b[1;32m   1012\u001b[0m         )\n\u001b[0;32m-> 1013\u001b[0;31m         encoder_outputs = self.encoder(\n\u001b[0m\u001b[1;32m   1014\u001b[0m             \u001b[0membedding_output\u001b[0m\u001b[0;34m,\u001b[0m\u001b[0;34m\u001b[0m\u001b[0;34m\u001b[0m\u001b[0m\n\u001b[1;32m   1015\u001b[0m             \u001b[0mattention_mask\u001b[0m\u001b[0;34m=\u001b[0m\u001b[0mextended_attention_mask\u001b[0m\u001b[0;34m,\u001b[0m\u001b[0;34m\u001b[0m\u001b[0;34m\u001b[0m\u001b[0m\n",
      "\u001b[0;32m~/.local/lib/python3.8/site-packages/torch/nn/modules/module.py\u001b[0m in \u001b[0;36m_wrapped_call_impl\u001b[0;34m(self, *args, **kwargs)\u001b[0m\n\u001b[1;32m   1516\u001b[0m             \u001b[0;32mreturn\u001b[0m \u001b[0mself\u001b[0m\u001b[0;34m.\u001b[0m\u001b[0m_compiled_call_impl\u001b[0m\u001b[0;34m(\u001b[0m\u001b[0;34m*\u001b[0m\u001b[0margs\u001b[0m\u001b[0;34m,\u001b[0m \u001b[0;34m**\u001b[0m\u001b[0mkwargs\u001b[0m\u001b[0;34m)\u001b[0m  \u001b[0;31m# type: ignore[misc]\u001b[0m\u001b[0;34m\u001b[0m\u001b[0;34m\u001b[0m\u001b[0m\n\u001b[1;32m   1517\u001b[0m         \u001b[0;32melse\u001b[0m\u001b[0;34m:\u001b[0m\u001b[0;34m\u001b[0m\u001b[0;34m\u001b[0m\u001b[0m\n\u001b[0;32m-> 1518\u001b[0;31m             \u001b[0;32mreturn\u001b[0m \u001b[0mself\u001b[0m\u001b[0;34m.\u001b[0m\u001b[0m_call_impl\u001b[0m\u001b[0;34m(\u001b[0m\u001b[0;34m*\u001b[0m\u001b[0margs\u001b[0m\u001b[0;34m,\u001b[0m \u001b[0;34m**\u001b[0m\u001b[0mkwargs\u001b[0m\u001b[0;34m)\u001b[0m\u001b[0;34m\u001b[0m\u001b[0;34m\u001b[0m\u001b[0m\n\u001b[0m\u001b[1;32m   1519\u001b[0m \u001b[0;34m\u001b[0m\u001b[0m\n\u001b[1;32m   1520\u001b[0m     \u001b[0;32mdef\u001b[0m \u001b[0m_call_impl\u001b[0m\u001b[0;34m(\u001b[0m\u001b[0mself\u001b[0m\u001b[0;34m,\u001b[0m \u001b[0;34m*\u001b[0m\u001b[0margs\u001b[0m\u001b[0;34m,\u001b[0m \u001b[0;34m**\u001b[0m\u001b[0mkwargs\u001b[0m\u001b[0;34m)\u001b[0m\u001b[0;34m:\u001b[0m\u001b[0;34m\u001b[0m\u001b[0;34m\u001b[0m\u001b[0m\n",
      "\u001b[0;32m~/.local/lib/python3.8/site-packages/torch/nn/modules/module.py\u001b[0m in \u001b[0;36m_call_impl\u001b[0;34m(self, *args, **kwargs)\u001b[0m\n\u001b[1;32m   1525\u001b[0m                 \u001b[0;32mor\u001b[0m \u001b[0m_global_backward_pre_hooks\u001b[0m \u001b[0;32mor\u001b[0m \u001b[0m_global_backward_hooks\u001b[0m\u001b[0;34m\u001b[0m\u001b[0;34m\u001b[0m\u001b[0m\n\u001b[1;32m   1526\u001b[0m                 or _global_forward_hooks or _global_forward_pre_hooks):\n\u001b[0;32m-> 1527\u001b[0;31m             \u001b[0;32mreturn\u001b[0m \u001b[0mforward_call\u001b[0m\u001b[0;34m(\u001b[0m\u001b[0;34m*\u001b[0m\u001b[0margs\u001b[0m\u001b[0;34m,\u001b[0m \u001b[0;34m**\u001b[0m\u001b[0mkwargs\u001b[0m\u001b[0;34m)\u001b[0m\u001b[0;34m\u001b[0m\u001b[0;34m\u001b[0m\u001b[0m\n\u001b[0m\u001b[1;32m   1528\u001b[0m \u001b[0;34m\u001b[0m\u001b[0m\n\u001b[1;32m   1529\u001b[0m         \u001b[0;32mtry\u001b[0m\u001b[0;34m:\u001b[0m\u001b[0;34m\u001b[0m\u001b[0;34m\u001b[0m\u001b[0m\n",
      "\u001b[0;32m~/.local/lib/python3.8/site-packages/transformers/models/bert/modeling_bert.py\u001b[0m in \u001b[0;36mforward\u001b[0;34m(self, hidden_states, attention_mask, head_mask, encoder_hidden_states, encoder_attention_mask, past_key_values, use_cache, output_attentions, output_hidden_states, return_dict)\u001b[0m\n\u001b[1;32m    605\u001b[0m                 )\n\u001b[1;32m    606\u001b[0m             \u001b[0;32melse\u001b[0m\u001b[0;34m:\u001b[0m\u001b[0;34m\u001b[0m\u001b[0;34m\u001b[0m\u001b[0m\n\u001b[0;32m--> 607\u001b[0;31m                 layer_outputs = layer_module(\n\u001b[0m\u001b[1;32m    608\u001b[0m                     \u001b[0mhidden_states\u001b[0m\u001b[0;34m,\u001b[0m\u001b[0;34m\u001b[0m\u001b[0;34m\u001b[0m\u001b[0m\n\u001b[1;32m    609\u001b[0m                     \u001b[0mattention_mask\u001b[0m\u001b[0;34m,\u001b[0m\u001b[0;34m\u001b[0m\u001b[0;34m\u001b[0m\u001b[0m\n",
      "\u001b[0;32m~/.local/lib/python3.8/site-packages/torch/nn/modules/module.py\u001b[0m in \u001b[0;36m_wrapped_call_impl\u001b[0;34m(self, *args, **kwargs)\u001b[0m\n\u001b[1;32m   1516\u001b[0m             \u001b[0;32mreturn\u001b[0m \u001b[0mself\u001b[0m\u001b[0;34m.\u001b[0m\u001b[0m_compiled_call_impl\u001b[0m\u001b[0;34m(\u001b[0m\u001b[0;34m*\u001b[0m\u001b[0margs\u001b[0m\u001b[0;34m,\u001b[0m \u001b[0;34m**\u001b[0m\u001b[0mkwargs\u001b[0m\u001b[0;34m)\u001b[0m  \u001b[0;31m# type: ignore[misc]\u001b[0m\u001b[0;34m\u001b[0m\u001b[0;34m\u001b[0m\u001b[0m\n\u001b[1;32m   1517\u001b[0m         \u001b[0;32melse\u001b[0m\u001b[0;34m:\u001b[0m\u001b[0;34m\u001b[0m\u001b[0;34m\u001b[0m\u001b[0m\n\u001b[0;32m-> 1518\u001b[0;31m             \u001b[0;32mreturn\u001b[0m \u001b[0mself\u001b[0m\u001b[0;34m.\u001b[0m\u001b[0m_call_impl\u001b[0m\u001b[0;34m(\u001b[0m\u001b[0;34m*\u001b[0m\u001b[0margs\u001b[0m\u001b[0;34m,\u001b[0m \u001b[0;34m**\u001b[0m\u001b[0mkwargs\u001b[0m\u001b[0;34m)\u001b[0m\u001b[0;34m\u001b[0m\u001b[0;34m\u001b[0m\u001b[0m\n\u001b[0m\u001b[1;32m   1519\u001b[0m \u001b[0;34m\u001b[0m\u001b[0m\n\u001b[1;32m   1520\u001b[0m     \u001b[0;32mdef\u001b[0m \u001b[0m_call_impl\u001b[0m\u001b[0;34m(\u001b[0m\u001b[0mself\u001b[0m\u001b[0;34m,\u001b[0m \u001b[0;34m*\u001b[0m\u001b[0margs\u001b[0m\u001b[0;34m,\u001b[0m \u001b[0;34m**\u001b[0m\u001b[0mkwargs\u001b[0m\u001b[0;34m)\u001b[0m\u001b[0;34m:\u001b[0m\u001b[0;34m\u001b[0m\u001b[0;34m\u001b[0m\u001b[0m\n",
      "\u001b[0;32m~/.local/lib/python3.8/site-packages/torch/nn/modules/module.py\u001b[0m in \u001b[0;36m_call_impl\u001b[0;34m(self, *args, **kwargs)\u001b[0m\n\u001b[1;32m   1525\u001b[0m                 \u001b[0;32mor\u001b[0m \u001b[0m_global_backward_pre_hooks\u001b[0m \u001b[0;32mor\u001b[0m \u001b[0m_global_backward_hooks\u001b[0m\u001b[0;34m\u001b[0m\u001b[0;34m\u001b[0m\u001b[0m\n\u001b[1;32m   1526\u001b[0m                 or _global_forward_hooks or _global_forward_pre_hooks):\n\u001b[0;32m-> 1527\u001b[0;31m             \u001b[0;32mreturn\u001b[0m \u001b[0mforward_call\u001b[0m\u001b[0;34m(\u001b[0m\u001b[0;34m*\u001b[0m\u001b[0margs\u001b[0m\u001b[0;34m,\u001b[0m \u001b[0;34m**\u001b[0m\u001b[0mkwargs\u001b[0m\u001b[0;34m)\u001b[0m\u001b[0;34m\u001b[0m\u001b[0;34m\u001b[0m\u001b[0m\n\u001b[0m\u001b[1;32m   1528\u001b[0m \u001b[0;34m\u001b[0m\u001b[0m\n\u001b[1;32m   1529\u001b[0m         \u001b[0;32mtry\u001b[0m\u001b[0;34m:\u001b[0m\u001b[0;34m\u001b[0m\u001b[0;34m\u001b[0m\u001b[0m\n",
      "\u001b[0;32m~/.local/lib/python3.8/site-packages/transformers/models/bert/modeling_bert.py\u001b[0m in \u001b[0;36mforward\u001b[0;34m(self, hidden_states, attention_mask, head_mask, encoder_hidden_states, encoder_attention_mask, past_key_value, output_attentions)\u001b[0m\n\u001b[1;32m    495\u001b[0m         \u001b[0;31m# decoder uni-directional self-attention cached key/values tuple is at positions 1,2\u001b[0m\u001b[0;34m\u001b[0m\u001b[0;34m\u001b[0m\u001b[0;34m\u001b[0m\u001b[0m\n\u001b[1;32m    496\u001b[0m         \u001b[0mself_attn_past_key_value\u001b[0m \u001b[0;34m=\u001b[0m \u001b[0mpast_key_value\u001b[0m\u001b[0;34m[\u001b[0m\u001b[0;34m:\u001b[0m\u001b[0;36m2\u001b[0m\u001b[0;34m]\u001b[0m \u001b[0;32mif\u001b[0m \u001b[0mpast_key_value\u001b[0m \u001b[0;32mis\u001b[0m \u001b[0;32mnot\u001b[0m \u001b[0;32mNone\u001b[0m \u001b[0;32melse\u001b[0m \u001b[0;32mNone\u001b[0m\u001b[0;34m\u001b[0m\u001b[0;34m\u001b[0m\u001b[0m\n\u001b[0;32m--> 497\u001b[0;31m         self_attention_outputs = self.attention(\n\u001b[0m\u001b[1;32m    498\u001b[0m             \u001b[0mhidden_states\u001b[0m\u001b[0;34m,\u001b[0m\u001b[0;34m\u001b[0m\u001b[0;34m\u001b[0m\u001b[0m\n\u001b[1;32m    499\u001b[0m             \u001b[0mattention_mask\u001b[0m\u001b[0;34m,\u001b[0m\u001b[0;34m\u001b[0m\u001b[0;34m\u001b[0m\u001b[0m\n",
      "\u001b[0;32m~/.local/lib/python3.8/site-packages/torch/nn/modules/module.py\u001b[0m in \u001b[0;36m_wrapped_call_impl\u001b[0;34m(self, *args, **kwargs)\u001b[0m\n\u001b[1;32m   1516\u001b[0m             \u001b[0;32mreturn\u001b[0m \u001b[0mself\u001b[0m\u001b[0;34m.\u001b[0m\u001b[0m_compiled_call_impl\u001b[0m\u001b[0;34m(\u001b[0m\u001b[0;34m*\u001b[0m\u001b[0margs\u001b[0m\u001b[0;34m,\u001b[0m \u001b[0;34m**\u001b[0m\u001b[0mkwargs\u001b[0m\u001b[0;34m)\u001b[0m  \u001b[0;31m# type: ignore[misc]\u001b[0m\u001b[0;34m\u001b[0m\u001b[0;34m\u001b[0m\u001b[0m\n\u001b[1;32m   1517\u001b[0m         \u001b[0;32melse\u001b[0m\u001b[0;34m:\u001b[0m\u001b[0;34m\u001b[0m\u001b[0;34m\u001b[0m\u001b[0m\n\u001b[0;32m-> 1518\u001b[0;31m             \u001b[0;32mreturn\u001b[0m \u001b[0mself\u001b[0m\u001b[0;34m.\u001b[0m\u001b[0m_call_impl\u001b[0m\u001b[0;34m(\u001b[0m\u001b[0;34m*\u001b[0m\u001b[0margs\u001b[0m\u001b[0;34m,\u001b[0m \u001b[0;34m**\u001b[0m\u001b[0mkwargs\u001b[0m\u001b[0;34m)\u001b[0m\u001b[0;34m\u001b[0m\u001b[0;34m\u001b[0m\u001b[0m\n\u001b[0m\u001b[1;32m   1519\u001b[0m \u001b[0;34m\u001b[0m\u001b[0m\n\u001b[1;32m   1520\u001b[0m     \u001b[0;32mdef\u001b[0m \u001b[0m_call_impl\u001b[0m\u001b[0;34m(\u001b[0m\u001b[0mself\u001b[0m\u001b[0;34m,\u001b[0m \u001b[0;34m*\u001b[0m\u001b[0margs\u001b[0m\u001b[0;34m,\u001b[0m \u001b[0;34m**\u001b[0m\u001b[0mkwargs\u001b[0m\u001b[0;34m)\u001b[0m\u001b[0;34m:\u001b[0m\u001b[0;34m\u001b[0m\u001b[0;34m\u001b[0m\u001b[0m\n",
      "\u001b[0;32m~/.local/lib/python3.8/site-packages/torch/nn/modules/module.py\u001b[0m in \u001b[0;36m_call_impl\u001b[0;34m(self, *args, **kwargs)\u001b[0m\n\u001b[1;32m   1525\u001b[0m                 \u001b[0;32mor\u001b[0m \u001b[0m_global_backward_pre_hooks\u001b[0m \u001b[0;32mor\u001b[0m \u001b[0m_global_backward_hooks\u001b[0m\u001b[0;34m\u001b[0m\u001b[0;34m\u001b[0m\u001b[0m\n\u001b[1;32m   1526\u001b[0m                 or _global_forward_hooks or _global_forward_pre_hooks):\n\u001b[0;32m-> 1527\u001b[0;31m             \u001b[0;32mreturn\u001b[0m \u001b[0mforward_call\u001b[0m\u001b[0;34m(\u001b[0m\u001b[0;34m*\u001b[0m\u001b[0margs\u001b[0m\u001b[0;34m,\u001b[0m \u001b[0;34m**\u001b[0m\u001b[0mkwargs\u001b[0m\u001b[0;34m)\u001b[0m\u001b[0;34m\u001b[0m\u001b[0;34m\u001b[0m\u001b[0m\n\u001b[0m\u001b[1;32m   1528\u001b[0m \u001b[0;34m\u001b[0m\u001b[0m\n\u001b[1;32m   1529\u001b[0m         \u001b[0;32mtry\u001b[0m\u001b[0;34m:\u001b[0m\u001b[0;34m\u001b[0m\u001b[0;34m\u001b[0m\u001b[0m\n",
      "\u001b[0;32m~/.local/lib/python3.8/site-packages/transformers/models/bert/modeling_bert.py\u001b[0m in \u001b[0;36mforward\u001b[0;34m(self, hidden_states, attention_mask, head_mask, encoder_hidden_states, encoder_attention_mask, past_key_value, output_attentions)\u001b[0m\n\u001b[1;32m    425\u001b[0m         \u001b[0moutput_attentions\u001b[0m\u001b[0;34m:\u001b[0m \u001b[0mOptional\u001b[0m\u001b[0;34m[\u001b[0m\u001b[0mbool\u001b[0m\u001b[0;34m]\u001b[0m \u001b[0;34m=\u001b[0m \u001b[0;32mFalse\u001b[0m\u001b[0;34m,\u001b[0m\u001b[0;34m\u001b[0m\u001b[0;34m\u001b[0m\u001b[0m\n\u001b[1;32m    426\u001b[0m     ) -> Tuple[torch.Tensor]:\n\u001b[0;32m--> 427\u001b[0;31m         self_outputs = self.self(\n\u001b[0m\u001b[1;32m    428\u001b[0m             \u001b[0mhidden_states\u001b[0m\u001b[0;34m,\u001b[0m\u001b[0;34m\u001b[0m\u001b[0;34m\u001b[0m\u001b[0m\n\u001b[1;32m    429\u001b[0m             \u001b[0mattention_mask\u001b[0m\u001b[0;34m,\u001b[0m\u001b[0;34m\u001b[0m\u001b[0;34m\u001b[0m\u001b[0m\n",
      "\u001b[0;32m~/.local/lib/python3.8/site-packages/torch/nn/modules/module.py\u001b[0m in \u001b[0;36m_wrapped_call_impl\u001b[0;34m(self, *args, **kwargs)\u001b[0m\n\u001b[1;32m   1516\u001b[0m             \u001b[0;32mreturn\u001b[0m \u001b[0mself\u001b[0m\u001b[0;34m.\u001b[0m\u001b[0m_compiled_call_impl\u001b[0m\u001b[0;34m(\u001b[0m\u001b[0;34m*\u001b[0m\u001b[0margs\u001b[0m\u001b[0;34m,\u001b[0m \u001b[0;34m**\u001b[0m\u001b[0mkwargs\u001b[0m\u001b[0;34m)\u001b[0m  \u001b[0;31m# type: ignore[misc]\u001b[0m\u001b[0;34m\u001b[0m\u001b[0;34m\u001b[0m\u001b[0m\n\u001b[1;32m   1517\u001b[0m         \u001b[0;32melse\u001b[0m\u001b[0;34m:\u001b[0m\u001b[0;34m\u001b[0m\u001b[0;34m\u001b[0m\u001b[0m\n\u001b[0;32m-> 1518\u001b[0;31m             \u001b[0;32mreturn\u001b[0m \u001b[0mself\u001b[0m\u001b[0;34m.\u001b[0m\u001b[0m_call_impl\u001b[0m\u001b[0;34m(\u001b[0m\u001b[0;34m*\u001b[0m\u001b[0margs\u001b[0m\u001b[0;34m,\u001b[0m \u001b[0;34m**\u001b[0m\u001b[0mkwargs\u001b[0m\u001b[0;34m)\u001b[0m\u001b[0;34m\u001b[0m\u001b[0;34m\u001b[0m\u001b[0m\n\u001b[0m\u001b[1;32m   1519\u001b[0m \u001b[0;34m\u001b[0m\u001b[0m\n\u001b[1;32m   1520\u001b[0m     \u001b[0;32mdef\u001b[0m \u001b[0m_call_impl\u001b[0m\u001b[0;34m(\u001b[0m\u001b[0mself\u001b[0m\u001b[0;34m,\u001b[0m \u001b[0;34m*\u001b[0m\u001b[0margs\u001b[0m\u001b[0;34m,\u001b[0m \u001b[0;34m**\u001b[0m\u001b[0mkwargs\u001b[0m\u001b[0;34m)\u001b[0m\u001b[0;34m:\u001b[0m\u001b[0;34m\u001b[0m\u001b[0;34m\u001b[0m\u001b[0m\n",
      "\u001b[0;32m~/.local/lib/python3.8/site-packages/torch/nn/modules/module.py\u001b[0m in \u001b[0;36m_call_impl\u001b[0;34m(self, *args, **kwargs)\u001b[0m\n\u001b[1;32m   1525\u001b[0m                 \u001b[0;32mor\u001b[0m \u001b[0m_global_backward_pre_hooks\u001b[0m \u001b[0;32mor\u001b[0m \u001b[0m_global_backward_hooks\u001b[0m\u001b[0;34m\u001b[0m\u001b[0;34m\u001b[0m\u001b[0m\n\u001b[1;32m   1526\u001b[0m                 or _global_forward_hooks or _global_forward_pre_hooks):\n\u001b[0;32m-> 1527\u001b[0;31m             \u001b[0;32mreturn\u001b[0m \u001b[0mforward_call\u001b[0m\u001b[0;34m(\u001b[0m\u001b[0;34m*\u001b[0m\u001b[0margs\u001b[0m\u001b[0;34m,\u001b[0m \u001b[0;34m**\u001b[0m\u001b[0mkwargs\u001b[0m\u001b[0;34m)\u001b[0m\u001b[0;34m\u001b[0m\u001b[0;34m\u001b[0m\u001b[0m\n\u001b[0m\u001b[1;32m   1528\u001b[0m \u001b[0;34m\u001b[0m\u001b[0m\n\u001b[1;32m   1529\u001b[0m         \u001b[0;32mtry\u001b[0m\u001b[0;34m:\u001b[0m\u001b[0;34m\u001b[0m\u001b[0;34m\u001b[0m\u001b[0m\n",
      "\u001b[0;32m~/.local/lib/python3.8/site-packages/transformers/models/bert/modeling_bert.py\u001b[0m in \u001b[0;36mforward\u001b[0;34m(self, hidden_states, attention_mask, head_mask, encoder_hidden_states, encoder_attention_mask, past_key_value, output_attentions)\u001b[0m\n\u001b[1;32m    347\u001b[0m                 \u001b[0mattention_scores\u001b[0m \u001b[0;34m=\u001b[0m \u001b[0mattention_scores\u001b[0m \u001b[0;34m+\u001b[0m \u001b[0mrelative_position_scores_query\u001b[0m \u001b[0;34m+\u001b[0m \u001b[0mrelative_position_scores_key\u001b[0m\u001b[0;34m\u001b[0m\u001b[0;34m\u001b[0m\u001b[0m\n\u001b[1;32m    348\u001b[0m \u001b[0;34m\u001b[0m\u001b[0m\n\u001b[0;32m--> 349\u001b[0;31m         \u001b[0mattention_scores\u001b[0m \u001b[0;34m=\u001b[0m \u001b[0mattention_scores\u001b[0m \u001b[0;34m/\u001b[0m \u001b[0mmath\u001b[0m\u001b[0;34m.\u001b[0m\u001b[0msqrt\u001b[0m\u001b[0;34m(\u001b[0m\u001b[0mself\u001b[0m\u001b[0;34m.\u001b[0m\u001b[0mattention_head_size\u001b[0m\u001b[0;34m)\u001b[0m\u001b[0;34m\u001b[0m\u001b[0;34m\u001b[0m\u001b[0m\n\u001b[0m\u001b[1;32m    350\u001b[0m         \u001b[0;32mif\u001b[0m \u001b[0mattention_mask\u001b[0m \u001b[0;32mis\u001b[0m \u001b[0;32mnot\u001b[0m \u001b[0;32mNone\u001b[0m\u001b[0;34m:\u001b[0m\u001b[0;34m\u001b[0m\u001b[0;34m\u001b[0m\u001b[0m\n\u001b[1;32m    351\u001b[0m             \u001b[0;31m# Apply the attention mask is (precomputed for all layers in BertModel forward() function)\u001b[0m\u001b[0;34m\u001b[0m\u001b[0;34m\u001b[0m\u001b[0;34m\u001b[0m\u001b[0m\n",
      "\u001b[0;31mKeyboardInterrupt\u001b[0m: "
     ]
    }
   ],
   "source": [
    "# MAX_LENGTH = max([len(tokenizer.tokenize(sent)) for sent in train_sents[0]])\n",
    "# result = torch.Tensor()\n",
    "# for sentence in train_sents[0]:\n",
    "#     embedding = sent2embeddings(sentence,MAX_LEN = MAX_LENGTH)\n",
    "#     result = torch.cat((result,embedding),dim=0)\n",
    "# sentence1 = train_sents[0][0]\n",
    "# sentence2 = train_sents[0][1]\n",
    "# MAX_LENGTH = 30\n",
    "# print(sentence1)\n",
    "# print(sentence2)\n",
    "# emb1 = sent2embeddings(sentence1,MAX_LEN = MAX_LENGTH)\n",
    "# emb2 = sent2embeddings(sentence2,MAX_LEN = MAX_LENGTH)\n",
    "# print(emb1.size())\n",
    "# print(emb2.size())"
   ]
  },
  {
   "cell_type": "code",
   "execution_count": 150,
   "metadata": {},
   "outputs": [
    {
     "name": "stdout",
     "output_type": "stream",
     "text": [
      "['petition', '##er', ':', 'the', 'commissioner', 'of', 'income', '-', 'tax', '##ne', '##w', 'delhi', 'vs', '.', 'respond', '##ent', ':', 'm', '/', 's', '.', 'chun', '##i', 'lal', 'moon', '##ga', 'ram']\n"
     ]
    },
    {
     "data": {
      "text/plain": [
       "512"
      ]
     },
     "execution_count": 150,
     "metadata": {},
     "output_type": "execute_result"
    }
   ],
   "source": [
    "len(sent2tensors(train_sents[0][0])['input_ids'].squeeze(0))"
   ]
  },
  {
   "cell_type": "code",
   "execution_count": 153,
   "metadata": {},
   "outputs": [
    {
     "data": {
      "text/plain": [
       "torch.Size([10, 768])"
      ]
     },
     "execution_count": 153,
     "metadata": {},
     "output_type": "execute_result"
    }
   ],
   "source": [
    "result.size()"
   ]
  },
  {
   "cell_type": "code",
   "execution_count": null,
   "metadata": {},
   "outputs": [],
   "source": []
  }
 ],
 "metadata": {
  "kernelspec": {
   "display_name": "Python 3",
   "language": "python",
   "name": "python3"
  },
  "language_info": {
   "codemirror_mode": {
    "name": "ipython",
    "version": 3
   },
   "file_extension": ".py",
   "mimetype": "text/x-python",
   "name": "python",
   "nbconvert_exporter": "python",
   "pygments_lexer": "ipython3",
   "version": "3.8.10"
  }
 },
 "nbformat": 4,
 "nbformat_minor": 2
}
