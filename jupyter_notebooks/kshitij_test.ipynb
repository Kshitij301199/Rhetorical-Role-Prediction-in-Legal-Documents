{
 "cells": [
  {
   "cell_type": "code",
   "execution_count": 3,
   "metadata": {},
   "outputs": [
    {
     "name": "stderr",
     "output_type": "stream",
     "text": [
      "/home/kshitij/.local/lib/python3.8/site-packages/tqdm/auto.py:21: TqdmWarning: IProgress not found. Please update jupyter and ipywidgets. See https://ipywidgets.readthedocs.io/en/stable/user_install.html\n",
      "  from .autonotebook import tqdm as notebook_tqdm\n",
      "/home/kshitij/.local/lib/python3.8/site-packages/scipy/__init__.py:146: UserWarning: A NumPy version >=1.16.5 and <1.23.0 is required for this version of SciPy (detected version 1.24.4\n",
      "  warnings.warn(f\"A NumPy version >={np_minversion} and <{np_maxversion}\"\n"
     ]
    }
   ],
   "source": [
    "import json\n",
    "from typing import List, Tuple\n",
    "\n",
    "import torch\n",
    "import torch.nn as nn\n",
    "from transformers import BertTokenizer, BertModel\n",
    "from transformers import DistilBertTokenizer, DistilBertModel\n",
    "import pandas as pd\n",
    "import numpy as np\n",
    "\n",
    "import seaborn as sns"
   ]
  },
  {
   "cell_type": "markdown",
   "metadata": {},
   "source": [
    "# Data"
   ]
  },
  {
   "cell_type": "code",
   "execution_count": 4,
   "metadata": {},
   "outputs": [],
   "source": [
    "with open(\"../data/dev.json\") as json_file:\n",
    "    data = json.load(json_file)"
   ]
  },
  {
   "cell_type": "code",
   "execution_count": 5,
   "metadata": {},
   "outputs": [
    {
     "name": "stdout",
     "output_type": "stream",
     "text": [
      "PETITIONER:\n",
      "THE COMMISSIONER OF INCOME-TAXNEW DELHI\n",
      "\n",
      "Vs.\n",
      "\n",
      "RESPONDENT:\n",
      "M/s. CHUNI LAL MOONGA RAM\n",
      "\n",
      "DATE OF JUDGMENT:\n",
      "05/05/1961\n",
      "\n",
      "BENCH:\n",
      "DAS, S.K.\n",
      "BENCH:\n",
      "DAS, S.K.\n",
      "HIDAYATULLAH, M.\n",
      "SHAH, J.C.\n",
      "\n",
      "CITATION:            1962 SCR (2) 823\n",
      " 1962 AIR 1272\n",
      "\n",
      "ACT:\n",
      "Excess Profits Tax-Income-Assesseecarrying on business in\n",
      "taxable territory-Losses incurred in transactionsin non-\n",
      "taxable territory-If allowable in computing income-Excess\n",
      "Profits Tax Act, 1940 (15 of 1940), s. 5.\n",
      "\n",
      "HEADNOTE:\n",
      "During the assessment year 1946-47, the assessee was\n",
      "carrying on speculative business in bullion at Delhi. It\n",
      "entered into transactions in the nature of forward\n",
      "transactions with parties at Bhatinda (in the Patiala State\n",
      "outside the taxable territories of British India) in which\n",
      "it suffered losses. The assessee claimed deduction of these\n",
      "losses in the computation of its income.\n",
      "Held, that the losses incurred in Bhatinda could not be\n",
      "taken into account in computing the income of the assessee\n",
      "in British India. Under the third proviso to s. 5 of the\n",
      "Excess Profits Tax Act, 1940, that part of the business of\n",
      "the assessee in which the losses occurred at Bhatinda was to\n",
      "be deemed to be a separate business, and consequently the\n",
      "losses incurred in non-taxable territory could not be taken\n",
      "into consideration for purposes of Excess Profits Tax. The\n",
      "language of the third proviso to s. 5 was one of exclusion\n",
      "and made the Act inapplicable to profits etc. of the part of\n",
      "the business which arose in non-taxable territories.\n",
      "Commissioner of Income-tax v. Karamchand Premchand Ltd.,\n",
      "(1960) 40 1. T. R. 106, relied on.\n",
      "\n",
      "JUDGMENT:\n",
      "CIVIL APPELLATE JURISDICTION .- Civil Appeals Nos. 39 and 40 of 1960.\n",
      "Appeals from the judgment and order dated January 23, 1957, of the Punjab High. Court in Civil Reference No. 13 of 1955.\n",
      "H.N. Sanyal, Additional Solicitor-General of India, K.\n",
      "N.. Rajagopala Sastri and D. Gupta, for the appellant.\n",
      "Naunit Lal, for the respondent.1961. May 5. The Judgment of the Court was delivered by DAS, J. These two appeals have been brought to this Court on a certificates of fitness granted by the High, Court of Punjab under s. 66A(2) of the Indian Income-tax Act, 1922.\n",
      "The relevant facts are these. Messrs Chunilal Moonga Ram, a firm of Delhi, carried on a speculative business in bullion, mostly in ,old and silver, in Chandni Chowk at Delhi. For the assessment year 1946-47 it was charged to income-tax on its income from the business in the relevant accounting period. Similarly, it was charged to excess profits tax for the chargeable accounting period ending on February 6, 1946.\n",
      "One of the appeals, Civil Appeal No. 39 of 1960, arises out of the assessment of income-tax and the other appeal, Civil Appeal No. 40 of' 1960, arises out of the assessment of excess profits tax. During the relevant accounting periods the firm entered into certain transactions called \"hedge\"\n",
      "transactions in the billion market at Bhatinda (then a part of the Patiala State, that is, outside: the taxable territories of British India). It claimed-that it had incurred losses to non-residents there in the sums of Rs.\n",
      "6,366/- and Rs. 16,615/- in the said transactions and claimed that these losses should be taken into consideration in determining its 'income. It appears from the assessment order of the Income-tax Officer, Delhi, dated January 27, 1949 that the firm purchased certain \"sillies\" (bars of gold and silver) from a Bhatinda party on the telephone, which purchases were later confirmed by a letter or wire.\n",
      "Similarly, the bars were also sold by the firm through a Bhatinda party on the telephone. Apparently , no delivery was intended to be taken or was taken of the bars bought or sold ; nor did the firm have any branch or agent at Bhatinda. The transactions were in the nature of forward transactions carried out by means of telephonemessages, letters or telegrams with parties at Bhatinda.\n",
      "This was the nature of the transactions Which resulted in the losses for which the firm claimed deduction. The Income-tax authorities disallowed the claim on the ground that if the Bhatinda transactions had resulted in profits, such profits would have been exempt from tax in terms of s.14(2)(c) as it then stood and if the profits were exempt from tax, the proviso to a. 24(1) of the Act was a bar to the adjustment of the losses. The assessee then moved the Income-tax Appellate Tribunal. The Appellate Tribunal, however, allowed the deduction claimed on grounds which are not very clearly stated. It appears; that the Tribunal proceeded on the footing that it was not possible to ,\"split up transactions of a business located in the taxable territories into two categories of transactions inside and outside such territories\" and even if such spliting up was possible, the Bhatinda transactions would fall within s. 42 of the Act and the income etc. therefrom would be deemed to have arisen in British India. In this view of the matter, the Accountant Member of' the Tribunal who delivered the judgment of the Tribunal said \"To start with, it seems to us that there is no warrant either in terms of s. 14(2)(c) or in terms of the proviso to s. 24(1) to split up the transactions of a business located in the taxable territories into transactions in taxable territories and transactions without taxable territories. Even if that treatment were permitted and the profits or losses resulting from transactions outside the taxable territories can be described as income, profits and gains, such income, profits and gains are deemed under s. 42 to have accrued or arisen in British India. The results of transactions of the nature under review are' therefore, not exempt from tax by virtue of s. 14(2)(c). The proviso to s.\n",
      "          214(1) does riot in any case come          into play. The Income-tax authorities have, in this view that we have, taken wrongly disallowed the assessee's claim for adjustment of losses amounting to Rs. 6,360/- and Rs.\n",
      "          16,615/-. We allow these losses.\"\n",
      "The Tribunal accordingly allowed the two appeals. We may here state that the Income-tax authorities as also the Tribunal considered the claim for deduction in relation to the assessment for income-tax only. As to the excess profits tax there was-no separate discussion of the provisions of S. 5 of the Excess Profits Tax Act, 1940 and they dealt with the assessment of excess profits tax as a mere consequential matter.\n",
      "The, Commissioner of Income-tax, Delhi, then made two applications asking the Tribunal to refer certain questions of law arising out of its orders to the High Court of Punjab, The Tribunal cam to the conclusion that no questions of law arose out of its orders and rejected the applications. The High Court was then moved under s. 66 (2) of the Indian income-tax Act, 1922 and the High, Court heard the two applications together and directed the Tribunal to state a case on the following two questions which, in the opinion of the High Court, arose out of the Tribunal's orders.\n",
      "          (1) Whether the claim of loss in this case is governed by the provisions of S. 10(1) or 24(1) proviso read with s. 14(2)(c), or by the provisions of s. 42 ?\n",
      " (2) Whether on the facts of the case a loss of Rs. 22,981/- is allowable in computing the income of the assessee chargeable to the Excess Profits Tax ?\"\n",
      "The Tribunal then' drew up a statement of case on the two questions aforesaid. By its judgement and order dated January 23, 1957 the High Court answered both the questions in favour of theassessee. Thereafter the Commissioner of Incometax, Delhi, asked for and obtained a certificate under s.66A(2) of the Indian Income-tax Act and on that certificate the present appeals have been brought to this Court.\n",
      "As to the first question the learned Additional Solicitor- General, appearing on behalf of the appellant, has conceded that him 'not in a, position to dispute the correctness of the answer given, in view of the decision of this Court in Commissioner of Income-tax v. Indo-Mercantile Bank Ltd. (1).\n",
      "This disposes of Civil Appeal No. 39 of 1960 which must be dismissed.\n",
      "In Civil Appeal No. 40 of 1960 the second question falls for decision. In answering this second question the High Court has proceeded on two grounds : firstly, it has referred to s.5 of the Excess Profits Tax Act, 1940, particularly the third proviss thereto, and contracting the provisions of that section with s.5 of the Business Profits Tax Act of 1947 has expressed the view that neither of these provisions touched the question whether losses incurred in an Indian State could be taken into account in assessing the taxable income of an assessee in British India for purposes of assessing excess profits tax or business profits tax ; it then referred to the decision of the Bombay High Court in Karamchand Premchand Ltd. v. Commissioner of Income-tax, Bombay (2) and said: \"It would seem that inspite of the slightly different language of the Excess Profits Tax Act from that of the Income-tax Act, no distinction has ever been drawn in this matter between the principles governing assessment to income-tax and the principles governing assessment to excess profits tax and in fact it would appear to have been the universal (1) (1959) 36 I.T.R, 1.\n",
      "(2) (1956)30I.T.R.849,          practice that decisions of the Income-tax authorities and High Courts have been followed by consequential orders relating to the same assessee's taxable income for the purpose of the Excess Profits Tax Act and the learned counsel for the Commissioner has not been able to cite any decision in which different principles have been applied in this particular matter. Admittedly one of the reasons given in his judgment by Chagla C.J.\n",
      "          for coming to the decision mentioned above 'was that the third proviso had been changed in the Business Profits Tax Act as compared with the Excess Profit-, Tax Act, but this is only one of a number of reasons and the questions has not been considered at all whether under the proviso in the Excess Profits Tax Act losses made in an Indian State could have been computed in assessing the assessee's income from business in British India. I can only say that in the circumstances it seems to me likely that if the point had arisen the same view that I.\n",
      "          have expressed above would have been taken, namely, that whereas for the excess profits tax profits earned in an Indian State could not be taken into consideration at all, such profits could be taken into account if brought into taxable territories for assessing profits tax and that is regards losses. they I could be taken into account in assessing the business whether they occurred in a State. or in what was British India.\"\n",
      "The second ground given by the High Court depended on the facts found. The High Court expressed the view that, on the facts found it was doubtful if the losses in question could be deemed to have occurred in Bhatinda.\n",
      "It said \"It is not in dispute that the only place where the assessee carries on business is Delhi and that its transactions in other markets are carried out by means of commu- nication by telephone or Post. There is no Suggestion that the firm has any agent or branch in any native State and it therefore seems to me that whether profits result or losses are incurred as the result of transac- tions of this kind even with firms in Indian States, the profits accrue or the losses are incurred at the place where the payments are received or from which they are made, namely, the firm's place of business at Delhi.\"\n",
      "On behalf of the appellant it is contended that both the aforesaid grounds given by the High Court for the answer which it gave to the second question are unsubstantial.\n",
      "The, first ground, it is contended, is untenable in law, and the second. proceeds not on the findings of fact arrived at by the Tribunal but on new findings made by the High Court, which course was not open to the High Court to take.\n",
      "We consider that these contentions are correct. As to the first ground, it seems clear to us that under the third proviso to s.5 of the Excess Profits Tax Act, 1940 where the profits etc., of a part of the firm's business accrued or arose it Bhatinda, that part of the, business shall for the purpose of the said section be deemed to be a separate business. If that is so the losses which arose at Bhatinda must also be the losses of a separate business. We may here read s.5 and the third proviso thereto : .lm15 \" s. 5. This act shall apply to every business of which any part of the profits made during the chargeable accounting period is chargeable to income-tax by virtue of the provisions of sub-clause (i) on sub-clause (ii) of clause (b) of subsection (1) of section 4 of theIndian Income-tax Act, 1922, or of clause (c) of that sub-section : Provided further that this act shall not apply to any business the whole of the profits of which accrue or arise in an Indian State and where the profits of a part of a business accrue or arise in an Indian State, such part shall, for the purposes of this provision, be deemed to be a separate business the \",hole of the profits of which accrue or arise in an Indian State and the other part of the busi- ness shall, for all the purposes of this Act, be deemed to be, a separate business.\"\n",
      "In Commissioner of Income-tax v. Karamchand Premchand Ltd.(1). This Court considered s. 5. of the Business Profits Tax Act, 1947 and pointed out the distinction between the third proviso thereto and the third proviso to s. 5 of the Excess Profits Tax Act, 1.940. This Court quoted. with approval the decision in Commissioner of Excess Profits Tax, Bombay City v. Bhogilal H. Patel Bombay (2 ) and held that the language used in the third proviso to S. 5 of the Excess Profits Tax Act, 1940 was one of exclusion and that Act did not apply to profits etc. of that part of the business which arose in an Indian State. If that part of the business has to be treated as a separate business for the purposes of the Excess Profits Tax Act, it is difficult to see how the losses incurred in an Indian State can be taken into consideration for the same purposes. We think that the High Court was in error in thinking that the third proviso to s. 5 of the Excess Profits Tax Act did not touch the question which the High Court had to answer. On the (2) (1952) 21 I.T.R. 72, (1) (1960) 40 I.T.R. 106.contrary, we think that the proviso answers the question against the assessee.\n",
      "Now, as to the second ground given by the High Court. It seems to us that there can be no doubt that the assessing authorities proceeded on the footing that the losses for which the assessee firm claimed a deduction arose and were incurred at Bhatinda, even though the firm's place of business was Delhi. The Income-tax Officer, as also the Appellate Assistant Commissioner referred to s. 14(2)(c ) of the Income-tax Act, 1922; that provision related to income, profit-, or gains accruing or arising in an Indian State.\n",
      "The assessing authorities proceeded on the footing that as the proof its we are exempt from tax in terms of s.\n",
      "14(2)(c), the losses arising out-. side the taxable territories could not be taken into account. The Tribunal did not rely on s. 14(2)(c), nor on the proviso to s. 24 (1) of the Income-tax Act, 1922. But it relied on s.42. That again shows that it proceeded on the footing that though the income actually arose outside the taxable territories, it should be deemed to have arisen with in the taxable territories by reason of its business connection in the taxable territories. The High Court had to answer the second question on the facts found; it could not.arrived at fresh findings of fact. Such a course was not open to it.\n",
      "Indeed, it is true that the Tribunal said that the firm's transactions could not be split up, but the actual decision of the tribunal proceeded on the basis that. even it the transactions could be split up, s.42 applied and the income actually arising at Bhatinda would be deemed to have arisen in the taxable territories and so the losses must be taken into consideration for arriving at the income. The Tribunal considered the matter solely from the point of view of the assessment of income-tax. It did not consider the third proviso to s. 5 of the Excess Profits Tax Act, 1940 and what effect it had in the matter of the assessment of' excess profits tax. We agree that if the incomedid not arise or accrue in Bhatinda but the whole of it arose in Delhi, the third proviso would have no application.\n",
      "If however, part of the income etc. arose in Bhatinda, there that part of the business was a separate, business for the purposes of the Excess Profits Tax Act and the losses' incurred at Bhatinda could not be taken into account. We are of the view that on the facts found, the answer to the second question must be in favour of the appellant and against the assessee. Civil Appeal No. 40 of 1960 must, therefore, be allowed.\n",
      "The two appeals were heard together and in view of the divided success of the parties, the parties must bear their own costs in both appeals.\n",
      "Civil Appeal No. 39 dismissed.\n",
      "Civil Appeal No 40 allowed, \n"
     ]
    }
   ],
   "source": [
    "print(data[0]['data']['text'])"
   ]
  },
  {
   "cell_type": "code",
   "execution_count": 6,
   "metadata": {},
   "outputs": [
    {
     "data": {
      "text/plain": [
       "dict_keys(['id', 'annotations', 'data', 'meta'])"
      ]
     },
     "execution_count": 6,
     "metadata": {},
     "output_type": "execute_result"
    }
   ],
   "source": [
    "data[0].keys()"
   ]
  },
  {
   "cell_type": "code",
   "execution_count": 7,
   "metadata": {},
   "outputs": [],
   "source": [
    "# doc = data[0]['data']['text']\n",
    "# used = doc[:doc.rindex(\"ACT:\")]\n",
    "# doc = doc[doc.rindex(\"ACT:\"):]\n",
    "# print(used)\n",
    "# print(\"-----------------------------\")\n",
    "# print(doc)"
   ]
  },
  {
   "cell_type": "code",
   "execution_count": 8,
   "metadata": {},
   "outputs": [],
   "source": [
    "# def extract_sentences(text, start_text):\n",
    "#     pattern = re.compile(rf'\\b{re.escape(start_text)}.*?[.!?](?=\\s|$)', re.IGNORECASE | re.DOTALL)\n",
    "#     matches = re.findall(pattern, text)\n",
    "#     return matches\n",
    "\n",
    "# # Example usage:\n",
    "# # text_to_search = \"This is a sample text. Starting sentence with given text. Another sentence with the given text. Not starting with it.\"\n",
    "\n",
    "# start_text = \"CITATION\"\n",
    "# result = extract_sentences(doc, start_text)"
   ]
  },
  {
   "cell_type": "code",
   "execution_count": 9,
   "metadata": {},
   "outputs": [
    {
     "data": {
      "text/plain": [
       "1"
      ]
     },
     "execution_count": 9,
     "metadata": {},
     "output_type": "execute_result"
    }
   ],
   "source": [
    "len(data[0]['annotations'])"
   ]
  },
  {
   "cell_type": "code",
   "execution_count": 10,
   "metadata": {},
   "outputs": [
    {
     "data": {
      "text/plain": [
       "dict_keys(['result'])"
      ]
     },
     "execution_count": 10,
     "metadata": {},
     "output_type": "execute_result"
    }
   ],
   "source": [
    "data[0]['annotations'][0].keys()"
   ]
  },
  {
   "cell_type": "code",
   "execution_count": 11,
   "metadata": {},
   "outputs": [
    {
     "data": {
      "text/plain": [
       "96"
      ]
     },
     "execution_count": 11,
     "metadata": {},
     "output_type": "execute_result"
    }
   ],
   "source": [
    "len(data[0]['annotations'][0]['result'])"
   ]
  },
  {
   "cell_type": "markdown",
   "metadata": {},
   "source": [
    "# Tokenizing"
   ]
  },
  {
   "cell_type": "code",
   "execution_count": 12,
   "metadata": {},
   "outputs": [],
   "source": [
    "tokenizer = BertTokenizer.from_pretrained('bert-base-uncased')\n",
    "# print(tokenizer)"
   ]
  },
  {
   "cell_type": "markdown",
   "metadata": {},
   "source": [
    "### Extract info from dictionary"
   ]
  },
  {
   "cell_type": "code",
   "execution_count": 13,
   "metadata": {},
   "outputs": [],
   "source": [
    "sent_id = []\n",
    "sent_start = []\n",
    "sent_end = []\n",
    "train_sents = []\n",
    "target = []\n",
    "for entry in data:\n",
    "    _ids, _start, _end, _text, _labels = [], [], [], [], []\n",
    "    # print(entry)\n",
    "    # print(entry['annotations'][0]['result'])\n",
    "    # for x , y in [(data_point['text'], data_point['labels']) for data_point in entry['annotations'][0]['result']['value']]:\n",
    "    for data_point in entry['annotations'][0]['result']:\n",
    "        _ids.append(data_point['id'])\n",
    "        _start.append(data_point['value']['start'])\n",
    "        _end.append(data_point['value']['end'])\n",
    "        _text.append(data_point['value']['text'])\n",
    "        _labels.append(data_point['value']['labels'][0])\n",
    "    \n",
    "    sent_id.append(_ids)\n",
    "    sent_start.append(_start)\n",
    "    sent_end.append(_end)\n",
    "    train_sents.append(_text)\n",
    "    [target.append(label) for label in _labels]"
   ]
  },
  {
   "cell_type": "code",
   "execution_count": 14,
   "metadata": {},
   "outputs": [],
   "source": [
    "unique_labels = set(target)"
   ]
  },
  {
   "cell_type": "markdown",
   "metadata": {},
   "source": [
    "### Tokenize sentences and add CLS and SEP tokens"
   ]
  },
  {
   "cell_type": "code",
   "execution_count": 101,
   "metadata": {},
   "outputs": [],
   "source": [
    "try:\n",
    "    doc_lens = []\n",
    "    for doc_index, doc in enumerate(train_sents):\n",
    "        sent_lens = []\n",
    "        for sent_index, sentence in enumerate(doc):\n",
    "            train_sents[doc_index][sent_index] = [tokenizer.cls_token] + tokenizer.tokenize(sentence) + [tokenizer.sep_token]\n",
    "            sent_lens.append(len(train_sents[doc_index][sent_index]))    \n",
    "        doc_lens.append(sent_lens)\n",
    "    \n",
    "except TypeError:\n",
    "    print(\"Sentences already tokenized. Check again\")"
   ]
  },
  {
   "cell_type": "code",
   "execution_count": 102,
   "metadata": {},
   "outputs": [
    {
     "name": "stdout",
     "output_type": "stream",
     "text": [
      "Number of documents : 30\n"
     ]
    }
   ],
   "source": [
    "print(f\"Number of documents : {len(train_sents)}\")"
   ]
  },
  {
   "cell_type": "code",
   "execution_count": 110,
   "metadata": {},
   "outputs": [],
   "source": [
    "df = pd.DataFrame()\n",
    "df['lengths'] = doc_lens \n",
    "df['max_length'] = [np.max(i) for i in doc_lens]  \n",
    "df['avg_length'] = [np.mean(i) for i in doc_lens]"
   ]
  },
  {
   "cell_type": "code",
   "execution_count": 111,
   "metadata": {},
   "outputs": [
    {
     "data": {
      "text/html": [
       "<div>\n",
       "<style scoped>\n",
       "    .dataframe tbody tr th:only-of-type {\n",
       "        vertical-align: middle;\n",
       "    }\n",
       "\n",
       "    .dataframe tbody tr th {\n",
       "        vertical-align: top;\n",
       "    }\n",
       "\n",
       "    .dataframe thead th {\n",
       "        text-align: right;\n",
       "    }\n",
       "</style>\n",
       "<table border=\"1\" class=\"dataframe\">\n",
       "  <thead>\n",
       "    <tr style=\"text-align: right;\">\n",
       "      <th></th>\n",
       "      <th>lengths</th>\n",
       "      <th>max_length</th>\n",
       "      <th>avg_length</th>\n",
       "    </tr>\n",
       "  </thead>\n",
       "  <tbody>\n",
       "    <tr>\n",
       "      <th>0</th>\n",
       "      <td>[29, 19, 116, 40, 18, 30, 20, 55, 45, 33, 19, ...</td>\n",
       "      <td>311</td>\n",
       "      <td>42.416667</td>\n",
       "    </tr>\n",
       "    <tr>\n",
       "      <th>1</th>\n",
       "      <td>[10, 29, 49, 10, 79, 26, 23, 29, 32, 50, 24, 2...</td>\n",
       "      <td>176</td>\n",
       "      <td>35.223022</td>\n",
       "    </tr>\n",
       "    <tr>\n",
       "      <th>2</th>\n",
       "      <td>[16, 15, 10, 152, 40, 48, 51, 24, 51, 66, 18, ...</td>\n",
       "      <td>152</td>\n",
       "      <td>32.913333</td>\n",
       "    </tr>\n",
       "    <tr>\n",
       "      <th>3</th>\n",
       "      <td>[22, 10, 195, 47, 11, 31, 44, 22, 11, 37, 6, 5...</td>\n",
       "      <td>195</td>\n",
       "      <td>37.851852</td>\n",
       "    </tr>\n",
       "    <tr>\n",
       "      <th>4</th>\n",
       "      <td>[29, 18, 14, 6, 15, 24, 15, 18, 21, 8, 11, 11,...</td>\n",
       "      <td>152</td>\n",
       "      <td>26.418605</td>\n",
       "    </tr>\n",
       "  </tbody>\n",
       "</table>\n",
       "</div>"
      ],
      "text/plain": [
       "                                             lengths  max_length  avg_length\n",
       "0  [29, 19, 116, 40, 18, 30, 20, 55, 45, 33, 19, ...         311   42.416667\n",
       "1  [10, 29, 49, 10, 79, 26, 23, 29, 32, 50, 24, 2...         176   35.223022\n",
       "2  [16, 15, 10, 152, 40, 48, 51, 24, 51, 66, 18, ...         152   32.913333\n",
       "3  [22, 10, 195, 47, 11, 31, 44, 22, 11, 37, 6, 5...         195   37.851852\n",
       "4  [29, 18, 14, 6, 15, 24, 15, 18, 21, 8, 11, 11,...         152   26.418605"
      ]
     },
     "execution_count": 111,
     "metadata": {},
     "output_type": "execute_result"
    }
   ],
   "source": [
    "df.head()"
   ]
  },
  {
   "cell_type": "code",
   "execution_count": 112,
   "metadata": {},
   "outputs": [
    {
     "data": {
      "text/plain": [
       "215.54999999999995"
      ]
     },
     "execution_count": 112,
     "metadata": {},
     "output_type": "execute_result"
    }
   ],
   "source": [
    "df.max_length.quantile(0.85)"
   ]
  },
  {
   "cell_type": "code",
   "execution_count": 114,
   "metadata": {},
   "outputs": [
    {
     "data": {
      "text/plain": [
       "57.62580645161291"
      ]
     },
     "execution_count": 114,
     "metadata": {},
     "output_type": "execute_result"
    }
   ],
   "source": [
    "df.avg_length.quantile(0.99)"
   ]
  },
  {
   "cell_type": "code",
   "execution_count": 105,
   "metadata": {},
   "outputs": [
    {
     "name": "stdout",
     "output_type": "stream",
     "text": [
      "329\n"
     ]
    },
    {
     "data": {
      "image/png": "[encoded data removed]",
      "text/plain": [
       "<Figure size 432x288 with 1 Axes>"
      ]
     },
     "metadata": {
      "needs_background": "light"
     },
     "output_type": "display_data"
    }
   ],
   "source": [
    "max_length = 0\n",
    "for index, row in df.iterrows():\n",
    "    sns.histplot(row['lengths'],bins=15)\n",
    "    if row['max_length'] > max_length:\n",
    "        max_length = row['max_length']\n",
    "        \n",
    "print(max_length)"
   ]
  },
  {
   "cell_type": "markdown",
   "metadata": {},
   "source": [
    "### Padding the sentences with PAD token"
   ]
  },
  {
   "cell_type": "code",
   "execution_count": 34,
   "metadata": {},
   "outputs": [],
   "source": [
    "# # MAX_LENGTH = 330\n",
    "# # attention_matrix = np.zeros(train_sents)\n",
    "# for doc_index, doc in enumerate(train_sents):\n",
    "#     MAX_LENGTH = df.iloc[doc_index]['max_length'] + 1\n",
    "#     for sent_index, sentence in enumerate(doc):\n",
    "#         train_sents[doc_index][sent_index] = train_sents[doc_index][sent_index] + [tokenizer.pad_token for _ in range(MAX_LENGTH - len(train_sents[doc_index][sent_index]))]\n",
    "#         # for token in train_sents[doc_index][sent_index]:\n",
    "#         # attention_matrix[doc_index][sent_index] = [1 if token != tokenizer.pad_token else 0 for token in train_sents[doc_index][sent_index]]"
   ]
  },
  {
   "cell_type": "markdown",
   "metadata": {},
   "source": [
    "### Creating attention matrix for each document"
   ]
  },
  {
   "cell_type": "code",
   "execution_count": 35,
   "metadata": {},
   "outputs": [],
   "source": [
    "# ids = []\n",
    "# segs = []\n",
    "# for doc_index, doc in enumerate(train_sents):\n",
    "#     globals()[f\"attention_mask_{doc_index}\"] = np.zeros_like(doc,dtype='int')\n",
    "#     sent_id = []\n",
    "#     sent_segs = []\n",
    "#     for sent_index,sentence in enumerate(doc):\n",
    "#         sent_id.append(tokenizer.convert_tokens_to_ids(sentence))\n",
    "#         sent_segs.append([0 for _ in range(len(sentence))])\n",
    "#         for i in range(len(sentence)):\n",
    "#             if sentence[i] != tokenizer.pad_token:\n",
    "#                 globals()[f'attention_mask_{doc_index}'][sent_index][i] = 1 \n",
    "#     ids.append(sent_id)\n",
    "#     segs.append(sent_segs)"
   ]
  },
  {
   "cell_type": "code",
   "execution_count": 36,
   "metadata": {},
   "outputs": [],
   "source": [
    "# len(ids)\n",
    "# # len(segs)"
   ]
  },
  {
   "cell_type": "code",
   "execution_count": 37,
   "metadata": {},
   "outputs": [],
   "source": [
    "# for i in range(len(train_sents)):\n",
    "#     print(f'Attention Mask for document {i+1} : {globals()[f\"attention_mask_{i}\"].shape}')"
   ]
  },
  {
   "cell_type": "markdown",
   "metadata": {},
   "source": [
    "# Extracting sentence embeddings"
   ]
  },
  {
   "cell_type": "code",
   "execution_count": 38,
   "metadata": {},
   "outputs": [],
   "source": [
    "# model = BertModel.from_pretrained(\"bert-base-uncased\")"
   ]
  },
  {
   "cell_type": "code",
   "execution_count": 39,
   "metadata": {},
   "outputs": [],
   "source": [
    "# for i in range(len(train_sents)):\n",
    "#     globals()[f'ids_tensor_{i}'] = torch.LongTensor(ids[i]).unsqueeze(0)\n",
    "#     globals()[f'attention_mask_{i}'] = torch.from_numpy(globals()[f'attention_mask_{i}']).unsqueeze(0)\n",
    "#     globals()[f'seg_tokens_{i}'] = torch.LongTensor(segs[i]).unsqueeze(0)"
   ]
  },
  {
   "cell_type": "code",
   "execution_count": 40,
   "metadata": {},
   "outputs": [],
   "source": [
    "# type(attention_mask_0)"
   ]
  },
  {
   "cell_type": "code",
   "execution_count": 41,
   "metadata": {},
   "outputs": [],
   "source": [
    "# type(ids_tensor_0)"
   ]
  },
  {
   "cell_type": "code",
   "execution_count": 42,
   "metadata": {},
   "outputs": [],
   "source": [
    "# type(seg_tokens_0)"
   ]
  },
  {
   "cell_type": "code",
   "execution_count": 43,
   "metadata": {},
   "outputs": [],
   "source": [
    "# globals()[f'ids_tensor_{0}'][:,0,:]"
   ]
  },
  {
   "cell_type": "code",
   "execution_count": 109,
   "metadata": {},
   "outputs": [
    {
     "ename": "",
     "evalue": "",
     "output_type": "error",
     "traceback": [
      "\u001b[1;31mThe Kernel crashed while executing code in the the current cell or a previous cell. Please review the code in the cell(s) to identify a possible cause of the failure. Click <a href='https://aka.ms/vscodeJupyterKernelCrash'>here</a> for more info. View Jupyter <a href='command:jupyter.viewOutput'>log</a> for further details."
     ]
    }
   ],
   "source": [
    "# for doc_index, doc in enumerate(train_sents):\n",
    "#     last_hidden_state = []\n",
    "#     pooler_output = []\n",
    "#     for sent_index in range(len(doc)):\n",
    "#         # if doc_index == 0:\n",
    "#             # print(sent_index)\n",
    "#         output = model(globals()[f'ids_tensor_{doc_index}'][:,sent_index,:],\n",
    "#                         attention_mask = globals()[f'attention_mask_{doc_index}'][:,sent_index,:],\n",
    "#                         token_type_ids = globals()[f'seg_tokens_{doc_index}'][:,sent_index,:])\n",
    "#         last_hidden_state.append(output[0])\n",
    "#         pooler_output.append(output[1])\n",
    "#     globals()[f'last_hidden_state_{doc_index}'], globals()[f'pooler_output_{doc_index}'] = last_hidden_state, pooler_output"
   ]
  },
  {
   "cell_type": "code",
   "execution_count": 44,
   "metadata": {},
   "outputs": [],
   "source": [
    "# model(ids_tensor_0[:,0,:],attention_mask_0[:,0,:],seg_tokens_0[:,0,:]).pooler_output.size()"
   ]
  },
  {
   "cell_type": "code",
   "execution_count": 45,
   "metadata": {},
   "outputs": [],
   "source": [
    "# sentence_embeddings = []\n",
    "# for i in range(15):\n",
    "#     emb = model(ids_tensor_0[:,i,:],attention_mask_0[:,i,:],seg_tokens_0[:,i,:]).pooler_output\n",
    "#     sentence_embeddings.append(emb.squeeze(0))"
   ]
  },
  {
   "cell_type": "code",
   "execution_count": 46,
   "metadata": {},
   "outputs": [],
   "source": [
    "# sentence_embeddings[0]"
   ]
  },
  {
   "cell_type": "markdown",
   "metadata": {},
   "source": [
    " - Create function that given a sentence produces id, attention mask and seg\n",
    " - Create a function that uses those 3 as input and produces embeddings on the fly"
   ]
  },
  {
   "cell_type": "markdown",
   "metadata": {},
   "source": [
    "# Tom's work"
   ]
  },
  {
   "cell_type": "code",
   "execution_count": 47,
   "metadata": {},
   "outputs": [],
   "source": [
    "# from transformers import BertTokenizer, BertModel\n",
    "# import torch\n",
    "\n",
    "# tokenizer = BertTokenizer.from_pretrained('bert-base-uncased')\n",
    "# model = BertModel.from_pretrained('bert-base-uncased')\n",
    "\n",
    "# import json\n",
    "\n",
    "# file_path = '../data/train.json'\n",
    "\n",
    "# with open(file_path, 'r') as file:\n",
    "#     data = json.load(file)\n",
    "    \n",
    "#     for key, value in data[0].items():\n",
    "        \n",
    "#         if key == 'annotations':\n",
    "#             for element in value:\n",
    "#                 for key2, value2 in element.items():\n",
    "#                     for element2 in value2:\n",
    "#                         for key3, value3 in element2.items():\n",
    "#                             if isinstance(value3, dict):\n",
    "#                                 for key4, value4 in value3.items():\n",
    "#                                     if key4 == \"text\":\n",
    "#                                         print(value4)\n",
    "                                        \n",
    "#                                     inputs = tokenizer(key4, return_tensors=\"pt\", truncation=True, padding=True)\n",
    "#                                     outputs = model(**inputs)\n",
    "\n",
    "#                                     bert_embedding = outputs.last_hidden_state[:, 0, :]\n",
    "\n",
    "\n",
    "#                                     bert_embedding_np = bert_embedding.detach().numpy()\n",
    "\n",
    "                                    \n",
    "#                                     print(bert_embedding_np.shape)"
   ]
  },
  {
   "cell_type": "markdown",
   "metadata": {},
   "source": [
    "# Simple CNN implementation"
   ]
  },
  {
   "cell_type": "markdown",
   "metadata": {},
   "source": [
    "## Label Encoding"
   ]
  },
  {
   "cell_type": "code",
   "execution_count": 15,
   "metadata": {},
   "outputs": [],
   "source": [
    "from sklearn.preprocessing import LabelBinarizer\n",
    "\n",
    "def label_encode(target_variables):\n",
    "    \"\"\"\n",
    "    Encode target variables using one-hot encoding.\n",
    "    \n",
    "    Args:\n",
    "    - target_variables (list or array-like): List of target variable strings.\n",
    "    \n",
    "    Returns:\n",
    "    - encoded_labels (array-like): One-hot encoded labels.\n",
    "    - label_classes (array-like): Classes found in the target variables.\n",
    "    \"\"\"\n",
    "    lb = LabelBinarizer()\n",
    "    lb = lb.fit(target_variables)\n",
    "    \n",
    "    return lb"
   ]
  },
  {
   "cell_type": "code",
   "execution_count": 16,
   "metadata": {},
   "outputs": [
    {
     "data": {
      "text/plain": [
       "{'ANALYSIS',\n",
       " 'ARG_PETITIONER',\n",
       " 'ARG_RESPONDENT',\n",
       " 'FAC',\n",
       " 'ISSUE',\n",
       " 'NONE',\n",
       " 'PREAMBLE',\n",
       " 'PRE_NOT_RELIED',\n",
       " 'PRE_RELIED',\n",
       " 'RATIO',\n",
       " 'RLC',\n",
       " 'RPC',\n",
       " 'STA'}"
      ]
     },
     "execution_count": 16,
     "metadata": {},
     "output_type": "execute_result"
    }
   ],
   "source": [
    "unique_labels"
   ]
  },
  {
   "cell_type": "code",
   "execution_count": 17,
   "metadata": {},
   "outputs": [],
   "source": [
    "label_encoder = label_encode(list(unique_labels))"
   ]
  },
  {
   "cell_type": "markdown",
   "metadata": {},
   "source": [
    "#### Example usage"
   ]
  },
  {
   "cell_type": "code",
   "execution_count": 18,
   "metadata": {},
   "outputs": [
    {
     "data": {
      "text/plain": [
       "array([[0, 0, 0, 0, 1, 0, 0, 0, 0, 0, 0, 0, 0]])"
      ]
     },
     "execution_count": 18,
     "metadata": {},
     "output_type": "execute_result"
    }
   ],
   "source": [
    "label_encoder.transform([\"ISSUE\"])"
   ]
  },
  {
   "cell_type": "code",
   "execution_count": 19,
   "metadata": {},
   "outputs": [
    {
     "data": {
      "text/plain": [
       "array(['PREAMBLE'], dtype='<U14')"
      ]
     },
     "execution_count": 19,
     "metadata": {},
     "output_type": "execute_result"
    }
   ],
   "source": [
    "label_encoder.inverse_transform(np.array([[0, 0, 0, 0, 0, 0, 1, 0, 0, 0, 0, 0, 0]]))"
   ]
  },
  {
   "cell_type": "markdown",
   "metadata": {},
   "source": [
    "# CNN"
   ]
  },
  {
   "cell_type": "code",
   "execution_count": 20,
   "metadata": {},
   "outputs": [
    {
     "name": "stdout",
     "output_type": "stream",
     "text": [
      "Number of documents for training : 30\n"
     ]
    }
   ],
   "source": [
    "print(f\"Number of documents for training : {len(data)}\")"
   ]
  },
  {
   "cell_type": "code",
   "execution_count": 21,
   "metadata": {},
   "outputs": [
    {
     "data": {
      "text/plain": [
       "list"
      ]
     },
     "execution_count": 21,
     "metadata": {},
     "output_type": "execute_result"
    }
   ],
   "source": [
    "doc1_train_data = data[0]['annotations'][0]['result']\n",
    "type(doc1_train_data)"
   ]
  },
  {
   "cell_type": "code",
   "execution_count": 22,
   "metadata": {},
   "outputs": [
    {
     "data": {
      "text/plain": [
       "96"
      ]
     },
     "execution_count": 22,
     "metadata": {},
     "output_type": "execute_result"
    }
   ],
   "source": [
    "len(doc1_train_data)"
   ]
  },
  {
   "cell_type": "code",
   "execution_count": 23,
   "metadata": {},
   "outputs": [],
   "source": [
    "def sent2tensors(sentence: str, MAX_LEN = None) -> dict:\n",
    "    tokenizer = BertTokenizer.from_pretrained('bert-base-uncased')\n",
    "    # print(tokenizer.tokenize(sentence))\n",
    "    if MAX_LEN is None:\n",
    "        inputs = tokenizer(sentence, return_tensors=\"pt\", truncation=True, padding=True)\n",
    "    else:\n",
    "        inputs = tokenizer(sentence, return_tensors=\"pt\", truncation=True, padding='max_length',max_length = MAX_LEN)\n",
    "    return inputs\n",
    "\n",
    "def sent2embeddings(sentence: str, MAX_LEN = None) -> torch.TensorType:\n",
    "    model = BertModel.from_pretrained('bert-base-uncased')\n",
    "    \n",
    "    inputs = sent2tensors(sentence,MAX_LEN)\n",
    "    emb = model(**inputs).last_hidden_state\n",
    "    \n",
    "    return emb"
   ]
  },
  {
   "cell_type": "code",
   "execution_count": 24,
   "metadata": {},
   "outputs": [
    {
     "data": {
      "text/plain": [
       "{'input_ids': tensor([[ 101, 1045, 2031, 1037, 4937,  102]]), 'token_type_ids': tensor([[0, 0, 0, 0, 0, 0]]), 'attention_mask': tensor([[1, 1, 1, 1, 1, 1]])}"
      ]
     },
     "execution_count": 24,
     "metadata": {},
     "output_type": "execute_result"
    }
   ],
   "source": [
    "sent2tensors(\"i have a cat\")"
   ]
  },
  {
   "cell_type": "code",
   "execution_count": 25,
   "metadata": {},
   "outputs": [],
   "source": [
    "# class word_level_CNN(nn.Module):\n",
    "#     def __init__(self, input_channels : int = 1, output_channels : int = 1, kernel_size : int = (5,1)):\n",
    "#         super(word_level_CNN, self).__init__()\n",
    "#         # Convolutional layer\n",
    "#         self.conv1 = nn.Conv2d(in_channels = input_channels,\n",
    "#                                out_channels = output_channels,\n",
    "#                                kernel_size = kernel_size)\n",
    "#         # ReLU activation\n",
    "#         self.relu = nn.ReLU()\n",
    "#         # Max pooling layer\n",
    "#         self.max_pool = nn.MaxPool2d(kernel_size = (2,1))\n",
    "        \n",
    "#     def forward(self, x):\n",
    "#         print(x.size())\n",
    "#         x = x.view(x.size(0), x.size(1), -1)\n",
    "#         x = self.conv1(x)\n",
    "#         # print(\"After Convolution : \", x.size())\n",
    "#         x = self.relu(x)\n",
    "#         x = self.max_pool(x)\n",
    "#         # print(\"After Max-Pooling : \", x.size())\n",
    "#         return x"
   ]
  },
  {
   "cell_type": "code",
   "execution_count": 26,
   "metadata": {},
   "outputs": [],
   "source": [
    "# class sent_level_CNN(nn.Module):\n",
    "#     def __init__(self, input_channels : int = 3, output_classes : int = 1):\n",
    "#         super(sent_level_CNN, self).__init__()\n",
    "#         # Convolutional layer\n",
    "#         self.conv1 = nn.Conv2d(in_channels = input_channels,\n",
    "#                                out_channels = output_classes,\n",
    "#                                kernel_size = (1,1))\n",
    "#     def forward(self, x):\n",
    "#         print(x.size())\n",
    "#         # Forward pass through the layers\n",
    "#         x = self.conv1(x)\n",
    "#         # print(\"After Convolution : \", x.size())\n",
    "        \n",
    "#         return x"
   ]
  },
  {
   "cell_type": "code",
   "execution_count": 27,
   "metadata": {},
   "outputs": [],
   "source": [
    "# def extract_word_embeddings(sentence,MAX_LEN = None):\n",
    "#     # Load pre-trained DistilBERT model and tokenizer\n",
    "#     model_name = 'distilbert-base-uncased'\n",
    "#     model = DistilBertModel.from_pretrained(model_name)\n",
    "#     tokenizer = DistilBertTokenizer.from_pretrained(model_name)\n",
    "#     # print(tokenizer.tokenize(sentence))\n",
    "\n",
    "#     # Tokenize the input sentence\n",
    "#     tokens = tokenizer(sentence, return_tensors='pt', padding='max_length', truncation=True, max_length = MAX_LEN, add_special_tokens=True)\n",
    "\n",
    "#     # Obtain the output embeddings from the model\n",
    "#     with torch.no_grad():\n",
    "#         outputs = model(**tokens)\n",
    "\n",
    "#     # Extract the embeddings for each token\n",
    "#     embeddings = outputs.last_hidden_state\n",
    "\n",
    "#     return embeddings"
   ]
  },
  {
   "cell_type": "code",
   "execution_count": 28,
   "metadata": {},
   "outputs": [
    {
     "data": {
      "text/plain": [
       "{'id': 'd4814190a8ab41e98029ce8aded54acc',\n",
       " 'value': {'start': 0,\n",
       "  'end': 95,\n",
       "  'text': 'PETITIONER:\\nTHE COMMISSIONER OF INCOME-TAXNEW DELHI\\n\\nVs.\\n\\nRESPONDENT:\\nM/s. CHUNI LAL MOONGA RAM',\n",
       "  'labels': ['PREAMBLE']}}"
      ]
     },
     "execution_count": 28,
     "metadata": {},
     "output_type": "execute_result"
    }
   ],
   "source": [
    "doc1_train_data[0]"
   ]
  },
  {
   "cell_type": "code",
   "execution_count": 56,
   "metadata": {},
   "outputs": [
    {
     "name": "stdout",
     "output_type": "stream",
     "text": [
      "0\n",
      "torch.Size([2, 80, 768])\n",
      "1\n",
      "torch.Size([3, 80, 768])\n",
      "2\n"
     ]
    }
   ],
   "source": [
    "# train_dict = {}\n",
    "max_sent_tok_len = 80\n",
    "\n",
    "for index, entry in enumerate(doc1_train_data):\n",
    "    print(index)\n",
    "    if index == 2:\n",
    "        break\n",
    "    sent_triplet = []\n",
    "    sent_tensor = torch.Tensor()\n",
    "    if index == 0: # for start of document only pair of sentences taken\n",
    "        # word_cnn = word_level_CNN(input_channels = 1, output_channels = 1)\n",
    "        # sent_cnn = sent_level_CNN(input_channels = 2, output_classes = 1)\n",
    "        sent_triplet.append(doc1_train_data[index]['value']['text'])\n",
    "        sent_triplet.append(doc1_train_data[index+1]['value']['text'])\n",
    "    elif index == len(doc1_train_data) - 1: # for end of document only pair of sentences taken\n",
    "        # word_cnn = word_level_CNN(input_channels = 1, output_channels = 1)\n",
    "        # sent_cnn = sent_level_CNN(input_channels = 2, output_classes = 1)\n",
    "        sent_triplet.append(doc1_train_data[index-1]['value']['text'])\n",
    "        sent_triplet.append(doc1_train_data[index]['value']['text'])\n",
    "    else:\n",
    "        # word_cnn = word_level_CNN(input_channels = 1, output_channels = 1)\n",
    "        # sent_cnn = sent_level_CNN()\n",
    "        sent_triplet.append(doc1_train_data[index-1]['value']['text'])\n",
    "        sent_triplet.append(doc1_train_data[index]['value']['text'])\n",
    "        sent_triplet.append(doc1_train_data[index+1]['value']['text'])\n",
    "    \n",
    "    for sent in sent_triplet:\n",
    "        sent_emb = sent2embeddings(sent,MAX_LEN = max_sent_tok_len)\n",
    "        # sent_emb_post_cnn = word_cnn.forward(sent_emb) # word level CNN \n",
    "        sent_tensor = torch.cat((sent_tensor,sent_emb),dim=0) # creating triplet of word level CNN outputs\n",
    "        \n",
    "    print(sent_tensor.size())\n",
    "    # final_emb_tensor = sent_cnn.forward(sent_tensor).squeeze(0) # sentence level CNN\n",
    "    target_encoded = torch.from_numpy(label_encoder.transform(entry['value']['labels'])).float()\n",
    "    # print(f\"Input tensor :  {final_emb_tensor.size()}\")\n",
    "    # print(f\"Target :  {target_encoded.size()}\")\n",
    "    # # train_dict[f\"{index}\"] = {\"input\" : final_emb_tensor, \"target\" : entry['value']['labels']}"
   ]
  },
  {
   "cell_type": "code",
   "execution_count": 30,
   "metadata": {},
   "outputs": [
    {
     "data": {
      "text/plain": [
       "torch.Size([3, 80, 768])"
      ]
     },
     "execution_count": 30,
     "metadata": {},
     "output_type": "execute_result"
    }
   ],
   "source": [
    "sent_tensor.size()"
   ]
  },
  {
   "cell_type": "code",
   "execution_count": 31,
   "metadata": {},
   "outputs": [],
   "source": [
    "# individual_tens = sent_tensor.unbind(0)"
   ]
  },
  {
   "cell_type": "code",
   "execution_count": 32,
   "metadata": {},
   "outputs": [],
   "source": [
    "# for tens in individual_tens:\n",
    "#     print(tens.size())"
   ]
  },
  {
   "cell_type": "code",
   "execution_count": 33,
   "metadata": {},
   "outputs": [],
   "source": [
    "# final_emb_tensor.size()"
   ]
  },
  {
   "cell_type": "code",
   "execution_count": 34,
   "metadata": {},
   "outputs": [],
   "source": [
    "# target_encoded.size()"
   ]
  },
  {
   "cell_type": "code",
   "execution_count": 35,
   "metadata": {},
   "outputs": [],
   "source": [
    "# label_encoder.inverse_transform(target_encoded)"
   ]
  },
  {
   "cell_type": "markdown",
   "metadata": {},
   "source": [
    "# BiLSTM"
   ]
  },
  {
   "cell_type": "code",
   "execution_count": 123,
   "metadata": {},
   "outputs": [],
   "source": [
    "class BiLSTM(nn.Module):\n",
    "    def __init__(self, input_size, hidden_size, num_layers, output_size):\n",
    "        super(BiLSTM, self).__init__()\n",
    "        \n",
    "        self.hidden_size = hidden_size\n",
    "        self.num_layers = num_layers\n",
    "\n",
    "        # Bidirectional LSTM layer\n",
    "        self.lstm = nn.LSTM(input_size, hidden_size, num_layers, batch_first=True, bidirectional=True)\n",
    "\n",
    "        # Fully connected layers\n",
    "        self.fc1 = nn.Linear(hidden_size * 2, 128)  # *2 for bidirectional\n",
    "        self.fc2 = nn.Linear(128, output_size)\n",
    "        \n",
    "        # # Activation function\n",
    "        self.relu = nn.ReLU()\n",
    "\n",
    "    def forward(self, x, hidden, cell):\n",
    "        # Initialize hidden state and cell state\n",
    "        # h0 = torch.zeros(self.num_layers * 2, x.size(0), self.hidden_size)  # *2 for bidirectional\n",
    "        # c0 = torch.zeros(self.num_layers * 2, x.size(0), self.hidden_size)\n",
    "\n",
    "        # Forward pass through LSTM layer\n",
    "        out, (hidden,cell) = self.lstm(x.unsqueeze(0), (hidden, cell))\n",
    "\n",
    "        # Take the output from the last time step\n",
    "        out = out[:, -1, :]\n",
    "\n",
    "        # Fully connected layers\n",
    "        out = self.fc1(out)\n",
    "        out = self.relu(out)\n",
    "        out = self.fc2(out)\n",
    "\n",
    "        return out, (hidden,cell)\n",
    "    \n",
    "    def init_hidden(self, batch_size=1):\n",
    "        \"\"\"\n",
    "        Initialize the hidden and cell states of the LSTM model.\n",
    "\n",
    "        Args:\n",
    "            batch_size (int, optional): Batch size for initialization. Defaults to 1.\n",
    "\n",
    "        Returns:\n",
    "            tuple: Tuple containing the initialized hidden and cell states.\n",
    "        \"\"\"\n",
    "        hidden = torch.zeros(self.num_layers * 2, batch_size, self.hidden_size)\n",
    "        cell = torch.zeros(self.num_layers * 2, batch_size, self.hidden_size)\n",
    "        return hidden, cell"
   ]
  },
  {
   "cell_type": "code",
   "execution_count": 124,
   "metadata": {},
   "outputs": [],
   "source": [
    "bilstm = BiLSTM(input_size=768,hidden_size=256,num_layers=2,output_size=13)"
   ]
  },
  {
   "cell_type": "code",
   "execution_count": 125,
   "metadata": {},
   "outputs": [],
   "source": [
    "hidden, cell = bilstm.init_hidden()\n",
    "bilstm.zero_grad()\n",
    "loss = 0\n",
    "criterion = nn.CrossEntropyLoss()"
   ]
  },
  {
   "cell_type": "code",
   "execution_count": 126,
   "metadata": {},
   "outputs": [],
   "source": [
    "out, (hidden,cell) = bilstm.forward(final_emb_tensor,hidden,cell)"
   ]
  },
  {
   "cell_type": "code",
   "execution_count": 127,
   "metadata": {},
   "outputs": [
    {
     "data": {
      "text/plain": [
       "torch.Size([1, 13])"
      ]
     },
     "execution_count": 127,
     "metadata": {},
     "output_type": "execute_result"
    }
   ],
   "source": [
    "out.size()"
   ]
  },
  {
   "cell_type": "code",
   "execution_count": 128,
   "metadata": {},
   "outputs": [
    {
     "data": {
      "text/plain": [
       "torch.float32"
      ]
     },
     "execution_count": 128,
     "metadata": {},
     "output_type": "execute_result"
    }
   ],
   "source": [
    "target_encoded.dtype"
   ]
  },
  {
   "cell_type": "code",
   "execution_count": 129,
   "metadata": {},
   "outputs": [
    {
     "data": {
      "text/plain": [
       "torch.Size([1, 13])"
      ]
     },
     "execution_count": 129,
     "metadata": {},
     "output_type": "execute_result"
    }
   ],
   "source": [
    "target_encoded.size()"
   ]
  },
  {
   "cell_type": "code",
   "execution_count": 130,
   "metadata": {},
   "outputs": [
    {
     "data": {
      "text/plain": [
       "tensor(2.5396, grad_fn=<DivBackward1>)"
      ]
     },
     "execution_count": 130,
     "metadata": {},
     "output_type": "execute_result"
    }
   ],
   "source": [
    "criterion(out,target_encoded)"
   ]
  },
  {
   "cell_type": "code",
   "execution_count": 134,
   "metadata": {},
   "outputs": [
    {
     "data": {
      "text/plain": [
       "<bound method Module.parameters of word_level_CNN(\n",
       "  (conv1): Conv2d(1, 1, kernel_size=(5, 1), stride=(1, 1))\n",
       "  (relu): ReLU()\n",
       "  (max_pool): MaxPool2d(kernel_size=(2, 1), stride=(2, 1), padding=0, dilation=1, ceil_mode=False)\n",
       ")>"
      ]
     },
     "execution_count": 134,
     "metadata": {},
     "output_type": "execute_result"
    }
   ],
   "source": [
    "word_cnn.parameters"
   ]
  },
  {
   "cell_type": "code",
   "execution_count": 135,
   "metadata": {},
   "outputs": [
    {
     "data": {
      "text/plain": [
       "<bound method Module.parameters of sent_level_CNN(\n",
       "  (conv1): Conv2d(3, 1, kernel_size=(1, 1), stride=(1, 1))\n",
       ")>"
      ]
     },
     "execution_count": 135,
     "metadata": {},
     "output_type": "execute_result"
    }
   ],
   "source": [
    "sent_cnn.parameters"
   ]
  },
  {
   "cell_type": "code",
   "execution_count": 132,
   "metadata": {},
   "outputs": [
    {
     "data": {
      "text/plain": [
       "<bound method Module.parameters of BiLSTM(\n",
       "  (lstm): LSTM(768, 256, num_layers=2, batch_first=True, bidirectional=True)\n",
       "  (fc1): Linear(in_features=512, out_features=128, bias=True)\n",
       "  (fc2): Linear(in_features=128, out_features=13, bias=True)\n",
       "  (relu): ReLU()\n",
       ")>"
      ]
     },
     "execution_count": 132,
     "metadata": {},
     "output_type": "execute_result"
    }
   ],
   "source": [
    "bilstm.parameters"
   ]
  },
  {
   "cell_type": "markdown",
   "metadata": {},
   "source": [
    "# CNN BiLSTM"
   ]
  },
  {
   "cell_type": "code",
   "execution_count": 60,
   "metadata": {},
   "outputs": [],
   "source": [
    "class CNN_BiLSTM(nn.Module):\n",
    "    def __init__(self,\n",
    "                word_input_channels:int = 1,\n",
    "                word_output_channels:int = 1, \n",
    "                word_kernel_size:Tuple[int,int] = (5,1),\n",
    "                sent_input_channels:int = 3,\n",
    "                sent_output_channels:int = 1,\n",
    "                input_size:int = 768, \n",
    "                hidden_size:int = 256, \n",
    "                num_layers:int = 2, \n",
    "                output_size:int = 13,\n",
    "                ) -> None:\n",
    "        super(CNN_BiLSTM,self).__init__()\n",
    "        # Word Level CNN\n",
    "        self.word_conv = nn.Conv2d(in_channels = word_input_channels,\n",
    "                                   out_channels = word_output_channels,\n",
    "                                   kernel_size = word_kernel_size)\n",
    "        self.word_max_pool = nn.MaxPool2d(kernel_size = (2,1))\n",
    "        # Sentence Level CNN\n",
    "        self.sent_conv = nn.Conv2d(in_channels = sent_input_channels,\n",
    "                                   out_channels = sent_output_channels,\n",
    "                                   kernel_size = (1,1))\n",
    "        # BiLSTM\n",
    "        self.hidden_size = hidden_size\n",
    "        self.num_layers = num_layers\n",
    "        \n",
    "        self.bilstm = nn.LSTM(input_size = input_size,\n",
    "                              hidden_size = hidden_size,\n",
    "                              num_layers = num_layers,\n",
    "                              batch_first=True,bidirectional=True)\n",
    "        self.fc1 = nn.Linear(hidden_size*2, 128)\n",
    "        self.fc2 = nn.Linear(128, output_size)\n",
    "        \n",
    "        # Activation functions\n",
    "        self.relu = nn.ReLU()\n",
    "        self.softmax = nn.Softmax(dim=1)\n",
    "        \n",
    "    def forward(self, x, hidden, cell):\n",
    "        sent_ten = torch.Tensor()\n",
    "        # Passing through the word level CNN\n",
    "        # Takes sentence word-level embeddings of 3 sentences\n",
    "        # passes each sentence through the word level CNN \n",
    "        # concats the output to form a 3,38,768 tensor\n",
    "        ind_x = x.unbind(0) \n",
    "        for int_x in ind_x:\n",
    "            int_x = int_x.unsqueeze(0)\n",
    "            print(int_x.size())\n",
    "            # int_x = int_x.view(int_x.size(0),int_x.size(1), -1)\n",
    "            int_x = self.word_conv(int_x)\n",
    "            int_x = self.relu(int_x)\n",
    "            int_x = self.word_max_pool(int_x)\n",
    "            sent_ten = torch.cat((sent_ten,int_x),dim=0)\n",
    "            \n",
    "        # 3,38,768 tensor passes through sentence level CNN\n",
    "        # output is a 1,38,768 tensor\n",
    "        x = self.sent_conv(sent_ten)\n",
    "        \n",
    "        # Forward pass through LSTM layer\n",
    "        out, (hidden,cell) = self.bilstm(x, (hidden, cell))\n",
    "\n",
    "        # Take the output from the last time step\n",
    "        out = out[:, -1, :]\n",
    "\n",
    "        # Fully connected layers\n",
    "        out = self.fc1(out)\n",
    "        out = self.relu(out)\n",
    "        out = self.fc2(out)\n",
    "        out = self.softmax(out)\n",
    "\n",
    "        return out, (hidden,cell)\n",
    "\n",
    "    def init_hidden(self, batch_size=1):\n",
    "        \"\"\"\n",
    "        Initialize the hidden and cell states of the LSTM model.\n",
    "\n",
    "        Args:\n",
    "            batch_size (int, optional): Batch size for initialization. Defaults to 1.\n",
    "\n",
    "        Returns:\n",
    "            tuple: Tuple containing the initialized hidden and cell states.\n",
    "        \"\"\"\n",
    "        hidden = torch.zeros(self.num_layers * 2, batch_size, self.hidden_size)\n",
    "        cell = torch.zeros(self.num_layers * 2, batch_size, self.hidden_size)\n",
    "        return hidden, cell"
   ]
  },
  {
   "cell_type": "code",
   "execution_count": 61,
   "metadata": {},
   "outputs": [],
   "source": [
    "cnn_lstm = CNN_BiLSTM()\n",
    "hidden,cell = cnn_lstm.init_hidden()"
   ]
  },
  {
   "cell_type": "code",
   "execution_count": 62,
   "metadata": {},
   "outputs": [
    {
     "name": "stdout",
     "output_type": "stream",
     "text": [
      "torch.Size([1, 80, 768])\n",
      "torch.Size([1, 80, 768])\n",
      "torch.Size([1, 80, 768])\n"
     ]
    }
   ],
   "source": [
    "output, (hidden,cell) = cnn_lstm.forward(sent_tensor,hidden,cell)"
   ]
  },
  {
   "cell_type": "code",
   "execution_count": 63,
   "metadata": {},
   "outputs": [
    {
     "data": {
      "text/plain": [
       "tensor([[0.0801, 0.0811, 0.0735, 0.0790, 0.0810, 0.0748, 0.0761, 0.0737, 0.0794,\n",
       "         0.0715, 0.0782, 0.0797, 0.0717]], grad_fn=<SoftmaxBackward0>)"
      ]
     },
     "execution_count": 63,
     "metadata": {},
     "output_type": "execute_result"
    }
   ],
   "source": [
    "output"
   ]
  },
  {
   "cell_type": "code",
   "execution_count": 64,
   "metadata": {},
   "outputs": [],
   "source": [
    "criterion = nn.CrossEntropyLoss()"
   ]
  },
  {
   "cell_type": "code",
   "execution_count": 65,
   "metadata": {},
   "outputs": [
    {
     "data": {
      "text/plain": [
       "tensor(2.5657, grad_fn=<DivBackward1>)"
      ]
     },
     "execution_count": 65,
     "metadata": {},
     "output_type": "execute_result"
    }
   ],
   "source": [
    "criterion(output,target_encoded)"
   ]
  },
  {
   "cell_type": "code",
   "execution_count": 66,
   "metadata": {},
   "outputs": [
    {
     "data": {
      "text/plain": [
       "<bound method Module.parameters of CNN_BiLSTM(\n",
       "  (word_conv): Conv2d(1, 1, kernel_size=(5, 1), stride=(1, 1))\n",
       "  (word_max_pool): MaxPool2d(kernel_size=(2, 1), stride=(2, 1), padding=0, dilation=1, ceil_mode=False)\n",
       "  (sent_conv): Conv2d(3, 1, kernel_size=(1, 1), stride=(1, 1))\n",
       "  (bilstm): LSTM(768, 256, num_layers=2, batch_first=True, bidirectional=True)\n",
       "  (fc1): Linear(in_features=512, out_features=128, bias=True)\n",
       "  (fc2): Linear(in_features=128, out_features=13, bias=True)\n",
       "  (relu): ReLU()\n",
       "  (softmax): Softmax(dim=1)\n",
       ")>"
      ]
     },
     "execution_count": 66,
     "metadata": {},
     "output_type": "execute_result"
    }
   ],
   "source": [
    "cnn_lstm.parameters"
   ]
  },
  {
   "cell_type": "code",
   "execution_count": null,
   "metadata": {},
   "outputs": [],
   "source": []
  }
 ],
 "metadata": {
  "kernelspec": {
   "display_name": "Python 3",
   "language": "python",
   "name": "python3"
  },
  "language_info": {
   "codemirror_mode": {
    "name": "ipython",
    "version": 3
   },
   "file_extension": ".py",
   "mimetype": "text/x-python",
   "name": "python",
   "nbconvert_exporter": "python",
   "pygments_lexer": "ipython3",
   "version": "3.8.10"
  }
 },
 "nbformat": 4,
 "nbformat_minor": 2
}
