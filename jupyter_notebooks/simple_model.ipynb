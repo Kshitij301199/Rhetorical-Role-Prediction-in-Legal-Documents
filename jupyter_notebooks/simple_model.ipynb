{
 "cells": [
  {
   "cell_type": "code",
   "execution_count": 1,
   "metadata": {},
   "outputs": [
    {
     "name": "stderr",
     "output_type": "stream",
     "text": [
      "/home/kshitij/.local/lib/python3.8/site-packages/tqdm/auto.py:21: TqdmWarning: IProgress not found. Please update jupyter and ipywidgets. See https://ipywidgets.readthedocs.io/en/stable/user_install.html\n",
      "  from .autonotebook import tqdm as notebook_tqdm\n",
      "/home/kshitij/.local/lib/python3.8/site-packages/scipy/__init__.py:146: UserWarning: A NumPy version >=1.16.5 and <1.23.0 is required for this version of SciPy (detected version 1.24.4\n",
      "  warnings.warn(f\"A NumPy version >={np_minversion} and <{np_maxversion}\"\n"
     ]
    }
   ],
   "source": [
    "import os, sys\n",
    "import json\n",
    "import random\n",
    "import pickle\n",
    "from typing import List, Tuple, Dict\n",
    "\n",
    "import torch\n",
    "import torch.nn as nn\n",
    "import numpy as np\n",
    "from transformers import BertTokenizer, BertModel\n",
    "# from transformers import DistilBertTokenizer, DistilBertModel\n",
    "from torch.utils.data import Dataset\n",
    "from sklearn.preprocessing import LabelEncoder\n",
    "\n",
    "sys.path.append(os.path.abspath(os.path.join(os.getcwd(),'..')))\n",
    "from utils import Dataset_Reader"
   ]
  },
  {
   "cell_type": "code",
   "execution_count": 17,
   "metadata": {},
   "outputs": [],
   "source": [
    "def save_model(model, filepath):\n",
    "    \"\"\"\n",
    "    Save PyTorch model parameters to a file.\n",
    "\n",
    "    Args:\n",
    "    - model (torch.nn.Module): PyTorch model to save.\n",
    "    - filepath (str): Filepath to save the model parameters.\n",
    "    \"\"\"\n",
    "    torch.save(model.state_dict(), filepath)\n",
    "    print(f\"Model parameters saved to '{filepath}'\")\n",
    "\n",
    "def load_model(model, filepath):\n",
    "    \"\"\"\n",
    "    Load PyTorch model parameters from a file.\n",
    "\n",
    "    Args:\n",
    "    - model (torch.nn.Module): PyTorch model to load parameters into.\n",
    "    - filepath (str): Filepath to the saved model parameters.\n",
    "    \"\"\"\n",
    "    model.load_state_dict(torch.load(filepath))\n",
    "    print(f\"Model parameters loaded from '{filepath}'\")\n",
    "    \n",
    "def save_tensor(tensor, dir, filename):\n",
    "    \"\"\"\n",
    "    Save PyTorch tensor to a file.\n",
    "\n",
    "    Args:\n",
    "    - tensor (torch.Tensor): PyTorch tensor to save.\n",
    "    - dir (str): Directory to save the tensor.\n",
    "    - filename (str): Filename to save the tensor.\n",
    "    \"\"\"\n",
    "    \n",
    "    if not os.path.exists(os.path.join(dir)):\n",
    "        os.makedirs(os.path.join(dir))\n",
    "        \n",
    "    filepath = os.path.join(dir, filename)\n",
    "    torch.save(tensor, filepath)\n",
    "    print(f\"Tensor saved to '{filepath}'\")\n",
    "\n",
    "def load_tensor(filepath):\n",
    "    \"\"\"\n",
    "    Load PyTorch tensor from a file.\n",
    "\n",
    "    Args:\n",
    "    - filepath (str): Filepath to the saved tensor.\n",
    "\n",
    "    Returns:\n",
    "    - tensor (torch.Tensor): Loaded PyTorch tensor.\n",
    "    \"\"\"\n",
    "    tensor = torch.load(filepath)\n",
    "    print(f\"Tensor loaded from '{filepath}'\")\n",
    "    return tensor"
   ]
  },
  {
   "cell_type": "code",
   "execution_count": 3,
   "metadata": {},
   "outputs": [],
   "source": [
    "with open('../data/train.json', 'r') as file:\n",
    "    train_data = json.load(file)\n",
    "\n",
    "with open('../data/dev.json', 'r') as file:\n",
    "    test_data = json.load(file)"
   ]
  },
  {
   "cell_type": "code",
   "execution_count": 4,
   "metadata": {},
   "outputs": [
    {
     "name": "stdout",
     "output_type": "stream",
     "text": [
      "247\n"
     ]
    }
   ],
   "source": [
    "TRAIN_data = Dataset_Reader(train_data)\n",
    "TEST_data = Dataset_Reader(test_data)\n",
    "print(len(TRAIN_data))\n",
    "# TRAIN_data_batched = DataLoader(TRAIN_data, batch_size = 5, shuffle= True)"
   ]
  },
  {
   "cell_type": "code",
   "execution_count": 5,
   "metadata": {},
   "outputs": [],
   "source": [
    "def max_length(documents, tokenizer = BertTokenizer.from_pretrained('bert-base-uncased')):\n",
    "    \"\"\"\n",
    "    Generate the maximum length of each sentence in each document. This is necessary to make sure there is a fixed sentence-length \n",
    "    for each document before we pass the sentence embeddings through the model.\n",
    "\n",
    "    Returns: {document index: length of longest sentence}\n",
    "\n",
    "    \"\"\"\n",
    "    max_l_dict = {}\n",
    "    \n",
    "    for sentence in documents.texts:\n",
    "        size = []\n",
    "\n",
    "        inputs = tokenizer(sentence[2], return_tensors=\"pt\", truncation=True, padding=True, add_special_tokens= True)\n",
    "\n",
    "        size.append(inputs['input_ids'].size(1))\n",
    "        \n",
    "        max_l_dict[sentence[0]] = max(size)\n",
    "    \n",
    "    dict_keys = list(max_l_dict.keys())\n",
    "    reference_keys = list(range(len(documents)))  \n",
    "    for key in reference_keys:\n",
    "        if key not in dict_keys:\n",
    "            max_l_dict[key] = 0\n",
    "            \n",
    "    return max_l_dict"
   ]
  },
  {
   "cell_type": "code",
   "execution_count": 7,
   "metadata": {},
   "outputs": [],
   "source": [
    "def get_batched_data(data: Dataset, batch_size:int = 1) ->  Tuple[List,List,List]:\n",
    "    doc_idx = []\n",
    "    batched_texts = []\n",
    "    batched_labels = []\n",
    "    for start, stop in zip(range(0,len(data)-batch_size,batch_size), range(batch_size,len(data),batch_size)):\n",
    "        idxs = []\n",
    "        texts = []\n",
    "        labels = []\n",
    "        for idx in range(start,stop):\n",
    "            idxs.append(idx) \n",
    "            [texts.append(text) for text in data[idx]['text']]\n",
    "            [labels.append(label) for label in data[idx]['label']]\n",
    "        \n",
    "        doc_idx.append(idxs)\n",
    "        batched_texts.append(texts)\n",
    "        batched_labels.append(labels)\n",
    "    return doc_idx, batched_texts, batched_labels"
   ]
  },
  {
   "cell_type": "code",
   "execution_count": 8,
   "metadata": {},
   "outputs": [],
   "source": [
    "max_lens_train = max_length(TRAIN_data)"
   ]
  },
  {
   "cell_type": "code",
   "execution_count": 9,
   "metadata": {},
   "outputs": [],
   "source": [
    "doc_idxs, batched_texts, batched_labels = get_batched_data(TRAIN_data, batch_size= 1)"
   ]
  },
  {
   "cell_type": "code",
   "execution_count": 10,
   "metadata": {},
   "outputs": [],
   "source": [
    "def label_encode(target_variables : list) -> LabelEncoder:\n",
    "    \"\"\"\n",
    "    Encode target variables.\n",
    "    \n",
    "    Args:\n",
    "    - target_variables (list or array-like): List of target variable strings.\n",
    "    \n",
    "    Returns:\n",
    "    - lb (object): class object used to tranform and inverse transform.\n",
    "    \"\"\"\n",
    "    le = LabelEncoder()\n",
    "    le = le.fit(target_variables)\n",
    "    \n",
    "    return le\n",
    "\n",
    "def get_model_data(data:torch.utils.data.Dataset, encoder: LabelEncoder,\n",
    "                   tokenizer= BertTokenizer.from_pretrained('bert-base-uncased'),\n",
    "                   model= BertModel.from_pretrained('bert-base-uncased'),\n",
    "                   num_of_docs:int = None,\n",
    "                   ) -> Tuple[torch.TensorType, torch.TensorType]:\n",
    "    numerical_labels = encoder.transform(data.labels)\n",
    "    sent_emb = []\n",
    "    max_sent_length = 128\n",
    "    if num_of_docs is None:\n",
    "        for idx, sentence in enumerate(data.texts):\n",
    "            inputs = tokenizer(sentence[2].lower(),  return_tensors=\"pt\", truncation= True,\n",
    "                                padding='max_length', max_length = max_sent_length,\n",
    "                                add_special_tokens= True)\n",
    "            with torch.no_grad():\n",
    "                output = model(**inputs)\n",
    "            sent_emb.append(output.last_hidden_state[:,0,:])\n",
    "    else:\n",
    "        for idx, sentence in enumerate(data.texts):\n",
    "            if sentence[0] < num_of_docs:\n",
    "                inputs = tokenizer(sentence[2].lower(),  return_tensors=\"pt\", truncation= True,\n",
    "                                    padding='max_length', max_length = max_sent_length,\n",
    "                                    add_special_tokens= True)\n",
    "                with torch.no_grad():\n",
    "                    output = model(**inputs)\n",
    "                sent_emb.append(output.last_hidden_state[:,0,:]) \n",
    "        numerical_labels = numerical_labels[:len(sent_emb)]\n",
    "    x_train = np.zeros((len(sent_emb), 1, 768), dtype=float)\n",
    "    y_train = torch.from_numpy(numerical_labels)\n",
    "    for idx, sentence in enumerate(sent_emb):\n",
    "        x_train[idx] = sent_emb[idx]\n",
    "    x_train = torch.from_numpy(x_train).float()\n",
    "    print(f\"X_train size: {x_train.size()}\\tY_train size: {y_train.size()}\")\n",
    "    return x_train, y_train\n",
    "\n",
    "def get_model_data_batched(indexes:List, texts:List, labels:List, encoder:LabelEncoder,max_len_dict:Dict,\n",
    "                           tokenizer= BertTokenizer.from_pretrained('bert-base-uncased'),\n",
    "                           model= BertModel.from_pretrained('bert-base-uncased'),\n",
    "                           ) -> Tuple[torch.TensorType, torch.TensorType]:\n",
    "    numerical_labels = encoder.transform(labels)\n",
    "    sent_emb = []\n",
    "    for idx, sentence in enumerate(texts):\n",
    "        try:\n",
    "            max_sent_length = max([max_len_dict[i] for i in indexes])\n",
    "        except KeyError:\n",
    "            continue\n",
    "        inputs = tokenizer(sentence.lower(),  return_tensors=\"pt\", truncation= True,\n",
    "                            padding='max_length', max_length = max_sent_length,\n",
    "                            add_special_tokens= True)\n",
    "        with torch.no_grad():\n",
    "            output = model(**inputs)\n",
    "        sent_emb.append(output.last_hidden_state[:,0,:])\n",
    "    x_train = np.zeros((len(sent_emb), 1, 768), dtype=float)\n",
    "    y_train = torch.from_numpy(numerical_labels)\n",
    "    for idx, sentence in enumerate(sent_emb):\n",
    "        x_train[idx] = sent_emb[idx]\n",
    "    x_train = torch.from_numpy(x_train).float()\n",
    "    print(f\"X_train size: {x_train.size()}\\tY_train size: {y_train.size()}\")\n",
    "    return x_train, y_train    \n",
    "    \n",
    "\n",
    "list_of_targets = ['ISSUE', 'FAC', 'NONE', 'ARG_PETITIONER', 'PRE_NOT_RELIED', 'STA', 'RPC', 'ARG_RESPONDENT', 'PREAMBLE', 'ANALYSIS', 'RLC', 'PRE_RELIED', 'RATIO']\n",
    "label_encoder = label_encode(list_of_targets)"
   ]
  },
  {
   "cell_type": "code",
   "execution_count": 11,
   "metadata": {},
   "outputs": [],
   "source": [
    "def init_weights(m):\n",
    "    if isinstance(m, nn.Linear):\n",
    "        torch.nn.init.xavier_uniform_(m.weight)\n",
    "        m.bias.data.fill_(0.01)\n",
    "        \n",
    "class BiLSTM(nn.Module):\n",
    "    def __init__(self,\n",
    "                input_size:int = 768,\n",
    "                hidden_size:int = 256,\n",
    "                num_layers:int = 2,\n",
    "                output_size:int = 13,\n",
    "                dropout:float = 0.1\n",
    "                ) -> None:\n",
    "        super().__init__()\n",
    "        self.hidden_size = hidden_size\n",
    "        self.num_layers = num_layers\n",
    "        \n",
    "        self.bilstm = nn.LSTM(input_size = input_size,\n",
    "                              hidden_size = hidden_size,\n",
    "                              num_layers = num_layers,\n",
    "                              bidirectional=True)\n",
    "        \n",
    "        self.dense = nn.Sequential(nn.Dropout(p=dropout),\n",
    "                                   nn.Linear(hidden_size*2, 128),\n",
    "                                   nn.ReLU(),\n",
    "                                   nn.Linear(128, output_size),\n",
    "                                   nn.Softmax(dim=1),\n",
    "        )\n",
    "        \n",
    "        self.apply(init_weights)\n",
    "        \n",
    "    def forward(self, x):\n",
    "        lstm_out, _ = self.bilstm(x)\n",
    "        lstm_out = lstm_out[:, -1, :]\n",
    "\n",
    "        # Fully connected layers\n",
    "        out = self.dense(lstm_out)\n",
    "\n",
    "        return out"
   ]
  },
  {
   "cell_type": "code",
   "execution_count": 16,
   "metadata": {},
   "outputs": [],
   "source": [
    "# TRAIN_emb, TRAIN_labels = get_model_data(data= TRAIN_data, encoder= label_encoder, num_of_docs= 10)\n",
    "# TEST_emb, TEST_labels = get_model_data(data= TEST_data, encoder= label_encoder,num_of_docs= 5)"
   ]
  },
  {
   "cell_type": "code",
   "execution_count": 12,
   "metadata": {},
   "outputs": [],
   "source": [
    "def train(x_train, y_train, model, optimizer, loss_fc, num_epochs):\n",
    "    model.train()\n",
    "    loss_list = []\n",
    "    acc_list = []\n",
    "    model.train()\n",
    "    print(f'{\"Starting Training\":-^100}')\n",
    "    for epoch in range(num_epochs+1):\n",
    "        output = model(x_train)\n",
    "        loss = loss_fc(output,y_train)\n",
    "        \n",
    "        optimizer.zero_grad()\n",
    "        loss.backward()\n",
    "        optimizer.step()\n",
    "        loss_list.append(loss.item())\n",
    "        \n",
    "        if epoch%50 == 0:\n",
    "            acc = sum(output.argmax(dim=1) == y_train)/ output.size(0)\n",
    "            acc_list.append(acc)\n",
    "            print(f\"Epoch: {epoch} \\t Loss: {loss.item():.5f} \\t Accuracy: {acc*100:.2f}%\")\n",
    "            \n",
    "    return loss_list, acc_list\n",
    "            \n",
    "def test_accuracy(x_test, y_test, model):\n",
    "    model.eval()\n",
    "    output = model(x_test)\n",
    "    acc = sum(output.argmax(dim=1) == y_test)/ output.size(0)\n",
    "    print(f\"Test Accuracy {acc*100:.2f}%\")"
   ]
  },
  {
   "cell_type": "code",
   "execution_count": 18,
   "metadata": {},
   "outputs": [],
   "source": [
    "# losses, accs = train(TRAIN_emb,TRAIN_labels,model,model_opt,loss_function,300)"
   ]
  },
  {
   "cell_type": "code",
   "execution_count": 19,
   "metadata": {},
   "outputs": [],
   "source": [
    "# TEST_emb, TEST_labels = get_model_data(data= TEST_data, encoder= label_encoder,num_of_docs= 5)\n",
    "# test_accuracy(TEST_emb, TEST_labels, model)"
   ]
  },
  {
   "cell_type": "code",
   "execution_count": 20,
   "metadata": {},
   "outputs": [],
   "source": [
    "model = BiLSTM(num_layers=1)\n",
    "model_opt = torch.optim.RMSprop(model.parameters(), lr= 0.00008)\n",
    "loss_function = nn.CrossEntropyLoss()"
   ]
  },
  {
   "cell_type": "code",
   "execution_count": 21,
   "metadata": {},
   "outputs": [
    {
     "name": "stdout",
     "output_type": "stream",
     "text": [
      "[27, 52, 5, 55, 33, 51, 31, 60, 35, 9]\n",
      "-------------------------------------------BATCH NUMBER 1-------------------------------------------\n",
      "X_train size: torch.Size([274, 1, 768])\tY_train size: torch.Size([274])\n",
      "-----------------------------------------Starting Training------------------------------------------\n",
      "Epoch: 0 \t Loss: 2.56188 \t Accuracy: 3.28%\n",
      "Epoch: 50 \t Loss: 2.02373 \t Accuracy: 67.52%\n",
      "Epoch: 100 \t Loss: 2.00258 \t Accuracy: 68.61%\n",
      "Epoch: 150 \t Loss: 1.91807 \t Accuracy: 77.74%\n",
      "Epoch: 200 \t Loss: 1.89655 \t Accuracy: 79.56%\n",
      "-------------------------------------------BATCH NUMBER 2-------------------------------------------\n",
      "X_train size: torch.Size([225, 1, 768])\tY_train size: torch.Size([225])\n",
      "-----------------------------------------Starting Training------------------------------------------\n",
      "Epoch: 0 \t Loss: 2.28974 \t Accuracy: 43.56%\n",
      "Epoch: 50 \t Loss: 2.01499 \t Accuracy: 67.56%\n",
      "Epoch: 100 \t Loss: 1.94002 \t Accuracy: 75.11%\n",
      "Epoch: 150 \t Loss: 1.93812 \t Accuracy: 75.11%\n",
      "Epoch: 200 \t Loss: 1.93752 \t Accuracy: 75.11%\n",
      "-------------------------------------------BATCH NUMBER 3-------------------------------------------\n",
      "X_train size: torch.Size([396, 1, 768])\tY_train size: torch.Size([396])\n",
      "-----------------------------------------Starting Training------------------------------------------\n",
      "Epoch: 0 \t Loss: 2.23556 \t Accuracy: 46.72%\n",
      "Epoch: 50 \t Loss: 1.90129 \t Accuracy: 79.04%\n",
      "Epoch: 100 \t Loss: 1.89923 \t Accuracy: 79.04%\n",
      "Epoch: 150 \t Loss: 1.89466 \t Accuracy: 79.55%\n",
      "Epoch: 200 \t Loss: 1.84978 \t Accuracy: 84.34%\n",
      "-------------------------------------------BATCH NUMBER 4-------------------------------------------\n",
      "X_train size: torch.Size([220, 1, 768])\tY_train size: torch.Size([220])\n",
      "-----------------------------------------Starting Training------------------------------------------\n",
      "Epoch: 0 \t Loss: 2.20175 \t Accuracy: 48.18%\n",
      "Epoch: 50 \t Loss: 1.92905 \t Accuracy: 77.73%\n",
      "Epoch: 100 \t Loss: 1.83773 \t Accuracy: 87.27%\n",
      "Epoch: 150 \t Loss: 1.81837 \t Accuracy: 87.73%\n",
      "Epoch: 200 \t Loss: 1.81047 \t Accuracy: 88.64%\n",
      "-------------------------------------------BATCH NUMBER 5-------------------------------------------\n",
      "X_train size: torch.Size([279, 1, 768])\tY_train size: torch.Size([279])\n",
      "-----------------------------------------Starting Training------------------------------------------\n",
      "Epoch: 0 \t Loss: 2.07530 \t Accuracy: 64.52%\n",
      "Epoch: 50 \t Loss: 1.93598 \t Accuracy: 75.99%\n",
      "Epoch: 100 \t Loss: 1.92898 \t Accuracy: 76.34%\n",
      "Epoch: 150 \t Loss: 1.92718 \t Accuracy: 76.34%\n",
      "Epoch: 200 \t Loss: 1.92752 \t Accuracy: 76.34%\n",
      "-------------------------------------------BATCH NUMBER 6-------------------------------------------\n",
      "X_train size: torch.Size([309, 1, 768])\tY_train size: torch.Size([309])\n",
      "-----------------------------------------Starting Training------------------------------------------\n",
      "Epoch: 0 \t Loss: 1.99645 \t Accuracy: 69.26%\n",
      "Epoch: 50 \t Loss: 1.85134 \t Accuracy: 85.11%\n",
      "Epoch: 100 \t Loss: 1.81380 \t Accuracy: 88.03%\n",
      "Epoch: 150 \t Loss: 1.80738 \t Accuracy: 88.03%\n",
      "Epoch: 200 \t Loss: 1.78749 \t Accuracy: 90.29%\n",
      "-------------------------------------------BATCH NUMBER 7-------------------------------------------\n",
      "X_train size: torch.Size([321, 1, 768])\tY_train size: torch.Size([321])\n",
      "-----------------------------------------Starting Training------------------------------------------\n",
      "Epoch: 0 \t Loss: 2.12479 \t Accuracy: 56.39%\n",
      "Epoch: 50 \t Loss: 1.85539 \t Accuracy: 84.11%\n",
      "Epoch: 100 \t Loss: 1.82305 \t Accuracy: 86.92%\n",
      "Epoch: 150 \t Loss: 1.82107 \t Accuracy: 86.92%\n",
      "Epoch: 200 \t Loss: 1.81822 \t Accuracy: 87.23%\n",
      "-------------------------------------------BATCH NUMBER 8-------------------------------------------\n",
      "X_train size: torch.Size([271, 1, 768])\tY_train size: torch.Size([271])\n",
      "-----------------------------------------Starting Training------------------------------------------\n",
      "Epoch: 0 \t Loss: 2.08828 \t Accuracy: 60.52%\n",
      "Epoch: 50 \t Loss: 1.97879 \t Accuracy: 71.22%\n",
      "Epoch: 100 \t Loss: 1.96352 \t Accuracy: 72.69%\n",
      "Epoch: 150 \t Loss: 1.95915 \t Accuracy: 73.06%\n",
      "Epoch: 200 \t Loss: 1.95795 \t Accuracy: 73.06%\n",
      "-------------------------------------------BATCH NUMBER 9-------------------------------------------\n",
      "X_train size: torch.Size([425, 1, 768])\tY_train size: torch.Size([425])\n",
      "-----------------------------------------Starting Training------------------------------------------\n",
      "Epoch: 0 \t Loss: 2.13414 \t Accuracy: 55.06%\n",
      "Epoch: 50 \t Loss: 1.89438 \t Accuracy: 80.00%\n",
      "Epoch: 100 \t Loss: 1.80066 \t Accuracy: 89.65%\n",
      "Epoch: 150 \t Loss: 1.79634 \t Accuracy: 89.65%\n",
      "Epoch: 200 \t Loss: 1.79441 \t Accuracy: 89.65%\n",
      "------------------------------------------BATCH NUMBER 10-------------------------------------------\n",
      "X_train size: torch.Size([506, 1, 768])\tY_train size: torch.Size([506])\n",
      "-----------------------------------------Starting Training------------------------------------------\n",
      "Epoch: 0 \t Loss: 2.14376 \t Accuracy: 54.15%\n",
      "Epoch: 50 \t Loss: 1.98184 \t Accuracy: 70.75%\n",
      "Epoch: 100 \t Loss: 1.97990 \t Accuracy: 70.95%\n",
      "Epoch: 150 \t Loss: 1.97812 \t Accuracy: 70.95%\n",
      "Epoch: 200 \t Loss: 1.89987 \t Accuracy: 79.25%\n"
     ]
    }
   ],
   "source": [
    "batch_loss, batch_acc = [], []\n",
    "batch_counter = 0\n",
    "random_doc_indexes = random.sample([i for i in range(len(batched_texts))],k=10)\n",
    "print(random_doc_indexes)\n",
    "for idx in random_doc_indexes:\n",
    "    batch_counter += 1\n",
    "    print(f\"{f'BATCH NUMBER {batch_counter}':-^100}\")\n",
    "    TRAIN_emb, TRAIN_labels = get_model_data_batched(doc_idxs[idx],batched_texts[idx],batched_labels[idx],label_encoder,max_lens_train)\n",
    "    loss, acc = train(TRAIN_emb,TRAIN_labels,model,model_opt,loss_function,200)\n",
    "    batch_loss.append(loss)\n",
    "    batch_acc.append(acc)\n",
    "    del TRAIN_emb, TRAIN_labels"
   ]
  },
  {
   "cell_type": "code",
   "execution_count": 24,
   "metadata": {},
   "outputs": [
    {
     "name": "stdout",
     "output_type": "stream",
     "text": [
      "Model parameters saved to '../models/BiLSTM.pth'\n"
     ]
    }
   ],
   "source": [
    "save_model(model, \"../models/BiLSTM.pth\")"
   ]
  },
  {
   "cell_type": "code",
   "execution_count": 25,
   "metadata": {},
   "outputs": [
    {
     "name": "stdout",
     "output_type": "stream",
     "text": [
      "X_train size: torch.Size([536, 1, 768])\tY_train size: torch.Size([536])\n",
      "Test Accuracy 61.38%\n"
     ]
    }
   ],
   "source": [
    "TEST_emb, TEST_labels = get_model_data(data= TEST_data, encoder= label_encoder,num_of_docs= 5)"
   ]
  },
  {
   "cell_type": "code",
   "execution_count": 107,
   "metadata": {},
   "outputs": [
    {
     "name": "stdout",
     "output_type": "stream",
     "text": [
      "Test Accuracy 47.57%\n"
     ]
    }
   ],
   "source": [
    "test_accuracy(TEST_emb, TEST_labels, model)"
   ]
  },
  {
   "cell_type": "code",
   "execution_count": 108,
   "metadata": {},
   "outputs": [],
   "source": [
    "accs_plot = [acc[-1].item() for acc in batch_acc]\n",
    "loss_plot = [np.mean(loss[-5:]) for loss in batch_loss]"
   ]
  },
  {
   "cell_type": "code",
   "execution_count": 109,
   "metadata": {},
   "outputs": [
    {
     "data": {
      "image/png": "[encoded data removed]",
      "text/plain": [
       "<Figure size 432x288 with 1 Axes>"
      ]
     },
     "metadata": {
      "needs_background": "light"
     },
     "output_type": "display_data"
    }
   ],
   "source": [
    "import seaborn as sns\n",
    "\n",
    "sns.lineplot(x= range(len(accs_plot)), y= accs_plot);"
   ]
  },
  {
   "cell_type": "code",
   "execution_count": 110,
   "metadata": {},
   "outputs": [
    {
     "data": {
      "image/png": "[encoded data removed]",
      "text/plain": [
       "<Figure size 432x288 with 1 Axes>"
      ]
     },
     "metadata": {
      "needs_background": "light"
     },
     "output_type": "display_data"
    }
   ],
   "source": [
    "sns.lineplot(x= range(len(loss_plot)), y= loss_plot);"
   ]
  },
  {
   "cell_type": "markdown",
   "metadata": {},
   "source": [
    "# -------------------------------------------------"
   ]
  },
  {
   "cell_type": "markdown",
   "metadata": {},
   "source": [
    "# Saving document embeddings"
   ]
  },
  {
   "cell_type": "code",
   "execution_count": 20,
   "metadata": {},
   "outputs": [],
   "source": [
    "doc_idxs, batched_texts, batched_labels = get_batched_data(TRAIN_data, batch_size= 1)"
   ]
  },
  {
   "cell_type": "code",
   "execution_count": 21,
   "metadata": {},
   "outputs": [
    {
     "name": "stdout",
     "output_type": "stream",
     "text": [
      "X_train size: torch.Size([91, 1, 768])\tY_train size: torch.Size([91])\n",
      "Tensor saved to '../train_document/doc_0/embedding'\n",
      "Tensor saved to '../train_document/doc_0/label'\n",
      "X_train size: torch.Size([72, 1, 768])\tY_train size: torch.Size([72])\n",
      "Tensor saved to '../train_document/doc_1/embedding'\n",
      "Tensor saved to '../train_document/doc_1/label'\n",
      "X_train size: torch.Size([200, 1, 768])\tY_train size: torch.Size([200])\n",
      "Tensor saved to '../train_document/doc_2/embedding'\n",
      "Tensor saved to '../train_document/doc_2/label'\n",
      "X_train size: torch.Size([119, 1, 768])\tY_train size: torch.Size([119])\n",
      "Tensor saved to '../train_document/doc_3/embedding'\n",
      "Tensor saved to '../train_document/doc_3/label'\n",
      "X_train size: torch.Size([184, 1, 768])\tY_train size: torch.Size([184])\n",
      "Tensor saved to '../train_document/doc_4/embedding'\n",
      "Tensor saved to '../train_document/doc_4/label'\n",
      "X_train size: torch.Size([211, 1, 768])\tY_train size: torch.Size([211])\n",
      "Tensor saved to '../train_document/doc_5/embedding'\n",
      "Tensor saved to '../train_document/doc_5/label'\n",
      "X_train size: torch.Size([140, 1, 768])\tY_train size: torch.Size([140])\n",
      "Tensor saved to '../train_document/doc_6/embedding'\n",
      "Tensor saved to '../train_document/doc_6/label'\n",
      "X_train size: torch.Size([87, 1, 768])\tY_train size: torch.Size([87])\n",
      "Tensor saved to '../train_document/doc_7/embedding'\n",
      "Tensor saved to '../train_document/doc_7/label'\n",
      "X_train size: torch.Size([228, 1, 768])\tY_train size: torch.Size([228])\n",
      "Tensor saved to '../train_document/doc_8/embedding'\n",
      "Tensor saved to '../train_document/doc_8/label'\n",
      "X_train size: torch.Size([99, 1, 768])\tY_train size: torch.Size([99])\n",
      "Tensor saved to '../train_document/doc_9/embedding'\n",
      "Tensor saved to '../train_document/doc_9/label'\n",
      "X_train size: torch.Size([62, 1, 768])\tY_train size: torch.Size([62])\n",
      "Tensor saved to '../train_document/doc_10/embedding'\n",
      "Tensor saved to '../train_document/doc_10/label'\n",
      "X_train size: torch.Size([213, 1, 768])\tY_train size: torch.Size([213])\n",
      "Tensor saved to '../train_document/doc_11/embedding'\n",
      "Tensor saved to '../train_document/doc_11/label'\n"
     ]
    }
   ],
   "source": [
    "for idx in range(len(doc_idxs)):\n",
    "    TRAIN_emb, TRAIN_labels = get_model_data_batched(doc_idxs[idx], batched_texts[idx], batched_labels[idx],label_encoder,max_lens_train)\n",
    "    save_tensor(TRAIN_emb, '../train_document/doc_'+str(idx),\"embedding\")\n",
    "    save_tensor(TRAIN_labels, '../train_document/doc_'+str(idx),\"label\")"
   ]
  },
  {
   "cell_type": "code",
   "execution_count": null,
   "metadata": {},
   "outputs": [],
   "source": [
    "doc_idxs, batched_texts, batched_labels = get_batched_data(TEST_data, batch_size= 1)\n",
    "max_lens_test = max_length(TEST_data)"
   ]
  },
  {
   "cell_type": "code",
   "execution_count": null,
   "metadata": {},
   "outputs": [],
   "source": [
    "for idx in range(len(doc_idxs)):\n",
    "    TEST_emb, TEST_labels = get_model_data_batched(doc_idxs[idx], batched_texts[idx], batched_labels[idx],label_encoder,max_lens_test)\n",
    "    save_tensor(TEST_emb, '../test_document/doc_'+str(idx),\"embedding\")\n",
    "    save_tensor(TEST_labels, '../test_document/doc_'+str(idx),\"label\")"
   ]
  },
  {
   "cell_type": "code",
   "execution_count": null,
   "metadata": {},
   "outputs": [],
   "source": []
  }
 ],
 "metadata": {
  "kernelspec": {
   "display_name": "Python 3",
   "language": "python",
   "name": "python3"
  },
  "language_info": {
   "codemirror_mode": {
    "name": "ipython",
    "version": 3
   },
   "file_extension": ".py",
   "mimetype": "text/x-python",
   "name": "python",
   "nbconvert_exporter": "python",
   "pygments_lexer": "ipython3",
   "version": "3.8.10"
  }
 },
 "nbformat": 4,
 "nbformat_minor": 2
}
