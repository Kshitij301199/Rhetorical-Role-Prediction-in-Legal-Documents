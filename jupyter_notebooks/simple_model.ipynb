{
 "cells": [
  {
   "cell_type": "code",
   "execution_count": 7,
   "metadata": {},
   "outputs": [
    {
     "name": "stderr",
     "output_type": "stream",
     "text": [
      "/home/kshitij/.local/lib/python3.8/site-packages/tqdm/auto.py:21: TqdmWarning: IProgress not found. Please update jupyter and ipywidgets. See https://ipywidgets.readthedocs.io/en/stable/user_install.html\n",
      "  from .autonotebook import tqdm as notebook_tqdm\n",
      "/home/kshitij/.local/lib/python3.8/site-packages/scipy/__init__.py:146: UserWarning: A NumPy version >=1.16.5 and <1.23.0 is required for this version of SciPy (detected version 1.24.4\n",
      "  warnings.warn(f\"A NumPy version >={np_minversion} and <{np_maxversion}\"\n"
     ]
    }
   ],
   "source": [
    "import os, sys\n",
    "import json\n",
    "from typing import List, Tuple, Dict\n",
    "\n",
    "import torch\n",
    "import torch.nn as nn\n",
    "import numpy as np\n",
    "from transformers import BertTokenizer, BertModel\n",
    "# from transformers import DistilBertTokenizer, DistilBertModel\n",
    "from torch.utils.data import Dataset, DataLoader\n",
    "from sklearn.preprocessing import LabelEncoder\n",
    "\n",
    "sys.path.append(os.path.abspath(os.path.join(os.getcwd(),'..')))\n",
    "from utils import Dataset_Reader"
   ]
  },
  {
   "cell_type": "code",
   "execution_count": 8,
   "metadata": {},
   "outputs": [],
   "source": [
    "with open('../data/train.json', 'r') as file:\n",
    "    train_data = json.load(file)\n",
    "\n",
    "with open('../data/dev.json', 'r') as file:\n",
    "    test_data = json.load(file)"
   ]
  },
  {
   "cell_type": "code",
   "execution_count": 9,
   "metadata": {},
   "outputs": [
    {
     "name": "stdout",
     "output_type": "stream",
     "text": [
      "247\n"
     ]
    }
   ],
   "source": [
    "TRAIN_data = Dataset_Reader(train_data)\n",
    "TEST_data = Dataset_Reader(test_data)\n",
    "print(len(TRAIN_data))\n",
    "# TRAIN_data_batched = DataLoader(TRAIN_data, batch_size = 5, shuffle= True)"
   ]
  },
  {
   "cell_type": "code",
   "execution_count": 11,
   "metadata": {},
   "outputs": [],
   "source": [
    "def max_length(documents, tokenizer = BertTokenizer.from_pretrained('bert-base-uncased')):\n",
    "    \"\"\"\n",
    "    Generate the maximum length of each sentence in each document. This is necessary to make sure there is a fixed sentence-length \n",
    "    for each document before we pass the sentence embeddings through the model.\n",
    "\n",
    "    Returns: {document index: length of longest sentence}\n",
    "\n",
    "    \"\"\"\n",
    "    max_l_dict = {}\n",
    "    \n",
    "    for sentence in documents.texts:\n",
    "        size = []\n",
    "\n",
    "        inputs = tokenizer(sentence[2], return_tensors=\"pt\", truncation=True, padding=True, add_special_tokens= True)\n",
    "\n",
    "        size.append(inputs['input_ids'].size(1))\n",
    "        \n",
    "        max_l_dict[sentence[0]] = max(size)\n",
    "    \n",
    "    dict_keys = list(max_l_dict.keys())\n",
    "    reference_keys = list(range(len(documents)))  \n",
    "    for key in reference_keys:\n",
    "        if key not in dict_keys:\n",
    "            max_l_dict[key] = 0\n",
    "            \n",
    "    return max_l_dict"
   ]
  },
  {
   "cell_type": "code",
   "execution_count": 12,
   "metadata": {},
   "outputs": [],
   "source": [
    "def get_batched_data(data: DataLoader, batch_size:int = 5) ->  Tuple[List,List,List]:\n",
    "    doc_idx = []\n",
    "    batched_texts = []\n",
    "    batched_labels = []\n",
    "    for start, stop in zip(range(0,len(TRAIN_data)-batch_size,batch_size), range(batch_size,len(TRAIN_data),batch_size)):\n",
    "        idxs = []\n",
    "        texts = []\n",
    "        labels = []\n",
    "        for idx in range(start,stop):\n",
    "            idxs.append(idx) \n",
    "            [texts.append(text) for text in TRAIN_data[idx]['text']]\n",
    "            [labels.append(label) for label in TRAIN_data[idx]['label']]\n",
    "        \n",
    "        doc_idx.append(idxs)\n",
    "        batched_texts.append(texts)\n",
    "        batched_labels.append(labels)\n",
    "    return doc_idx, batched_texts, batched_labels"
   ]
  },
  {
   "cell_type": "code",
   "execution_count": 13,
   "metadata": {},
   "outputs": [],
   "source": [
    "max_lens_train = max_length(TRAIN_data)"
   ]
  },
  {
   "cell_type": "code",
   "execution_count": 15,
   "metadata": {},
   "outputs": [],
   "source": [
    "doc_idxs, batched_texts, batched_labels = get_batched_data(TRAIN_data, batch_size= 3)"
   ]
  },
  {
   "cell_type": "code",
   "execution_count": 16,
   "metadata": {},
   "outputs": [],
   "source": [
    "def label_encode(target_variables : list) -> LabelEncoder:\n",
    "    \"\"\"\n",
    "    Encode target variables.\n",
    "    \n",
    "    Args:\n",
    "    - target_variables (list or array-like): List of target variable strings.\n",
    "    \n",
    "    Returns:\n",
    "    - lb (object): class object used to tranform and inverse transform.\n",
    "    \"\"\"\n",
    "    le = LabelEncoder()\n",
    "    le = le.fit(target_variables)\n",
    "    \n",
    "    return le\n",
    "\n",
    "def get_model_data(data:torch.utils.data.Dataset, encoder: LabelEncoder,\n",
    "                   tokenizer= BertTokenizer.from_pretrained('bert-base-uncased'),\n",
    "                   model= BertModel.from_pretrained('bert-base-uncased'),\n",
    "                   num_of_docs:int = None,\n",
    "                   ) -> Tuple[torch.TensorType, torch.TensorType]:\n",
    "    numerical_labels = encoder.transform(data.labels)\n",
    "    sent_emb = []\n",
    "    max_sent_length = 128\n",
    "    if num_of_docs is None:\n",
    "        for idx, sentence in enumerate(data.texts):\n",
    "            inputs = tokenizer(sentence[2].lower(),  return_tensors=\"pt\", truncation= True,\n",
    "                                padding='max_length', max_length = max_sent_length,\n",
    "                                add_special_tokens= True)\n",
    "            with torch.no_grad():\n",
    "                output = model(**inputs)\n",
    "            sent_emb.append(output.last_hidden_state[:,0,:])\n",
    "    else:\n",
    "        for idx, sentence in enumerate(data.texts):\n",
    "            if sentence[0] < num_of_docs:\n",
    "                inputs = tokenizer(sentence[2].lower(),  return_tensors=\"pt\", truncation= True,\n",
    "                                    padding='max_length', max_length = max_sent_length,\n",
    "                                    add_special_tokens= True)\n",
    "                with torch.no_grad():\n",
    "                    output = model(**inputs)\n",
    "                sent_emb.append(output.last_hidden_state[:,0,:]) \n",
    "        numerical_labels = numerical_labels[:len(sent_emb)]\n",
    "    x_train = np.zeros((len(sent_emb), 1, 768), dtype=float)\n",
    "    y_train = torch.from_numpy(numerical_labels)\n",
    "    for idx, sentence in enumerate(sent_emb):\n",
    "        x_train[idx] = sent_emb[idx]\n",
    "    x_train = torch.from_numpy(x_train).float()\n",
    "    print(f\"X_train size: {x_train.size()}\\tY_train size: {y_train.size()}\")\n",
    "    return x_train, y_train\n",
    "\n",
    "def get_model_data_batched(indexes:List, texts:List, labels:List, encoder:LabelEncoder,max_len_dict:Dict,\n",
    "                           tokenizer= BertTokenizer.from_pretrained('bert-base-uncased'),\n",
    "                           model= BertModel.from_pretrained('bert-base-uncased'),\n",
    "                           ) -> Tuple[torch.TensorType, torch.TensorType]:\n",
    "    numerical_labels = encoder.transform(labels)\n",
    "    sent_emb = []\n",
    "    for idx, sentence in enumerate(texts):\n",
    "        try:\n",
    "            max_sent_length = max([max_len_dict[i] for i in indexes])\n",
    "        except KeyError:\n",
    "            continue\n",
    "        inputs = tokenizer(sentence.lower(),  return_tensors=\"pt\", truncation= True,\n",
    "                            padding='max_length', max_length = max_sent_length,\n",
    "                            add_special_tokens= True)\n",
    "        with torch.no_grad():\n",
    "            output = model(**inputs)\n",
    "        sent_emb.append(output.last_hidden_state[:,0,:])\n",
    "    x_train = np.zeros((len(sent_emb), 1, 768), dtype=float)\n",
    "    y_train = torch.from_numpy(numerical_labels)\n",
    "    for idx, sentence in enumerate(sent_emb):\n",
    "        x_train[idx] = sent_emb[idx]\n",
    "    x_train = torch.from_numpy(x_train).float()\n",
    "    print(f\"X_train size: {x_train.size()}\\tY_train size: {y_train.size()}\")\n",
    "    return x_train, y_train    \n",
    "    \n",
    "\n",
    "list_of_targets = ['ISSUE', 'FAC', 'NONE', 'ARG_PETITIONER', 'PRE_NOT_RELIED', 'STA', 'RPC', 'ARG_RESPONDENT', 'PREAMBLE', 'ANALYSIS', 'RLC', 'PRE_RELIED', 'RATIO']\n",
    "label_encoder = label_encode(list_of_targets)"
   ]
  },
  {
   "cell_type": "code",
   "execution_count": 17,
   "metadata": {},
   "outputs": [],
   "source": [
    "def init_weights(m):\n",
    "    if isinstance(m, nn.Linear):\n",
    "        torch.nn.init.xavier_uniform_(m.weight)\n",
    "        m.bias.data.fill_(0.01)\n",
    "        \n",
    "class BiLSTM(nn.Module):\n",
    "    def __init__(self,\n",
    "                input_size:int = 768,\n",
    "                hidden_size:int = 256,\n",
    "                num_layers:int = 2,\n",
    "                output_size:int = 13,\n",
    "                dropout:float = 0.1\n",
    "                ) -> None:\n",
    "        super().__init__()\n",
    "        self.hidden_size = hidden_size\n",
    "        self.num_layers = num_layers\n",
    "        \n",
    "        self.bilstm = nn.LSTM(input_size = input_size,\n",
    "                              hidden_size = hidden_size,\n",
    "                              num_layers = num_layers,\n",
    "                              bidirectional=True)\n",
    "        \n",
    "        self.dense = nn.Sequential(nn.Linear(hidden_size*2, 128),\n",
    "                                   nn.Dropout(p=dropout),\n",
    "                                   nn.Linear(128, output_size),\n",
    "                                   nn.Softmax(dim=1),\n",
    "        )\n",
    "        \n",
    "        self.apply(init_weights)\n",
    "        \n",
    "    def forward(self, x):\n",
    "        lstm_out, _ = self.bilstm(x)\n",
    "        lstm_out = lstm_out[:, -1, :]\n",
    "\n",
    "        # # Fully connected layers\n",
    "        out = self.dense(lstm_out)\n",
    "\n",
    "        return out"
   ]
  },
  {
   "cell_type": "code",
   "execution_count": 54,
   "metadata": {},
   "outputs": [
    {
     "name": "stdout",
     "output_type": "stream",
     "text": [
      "X_train size: torch.Size([536, 1, 768])\tY_train size: torch.Size([536])\n"
     ]
    }
   ],
   "source": [
    "# TRAIN_emb, TRAIN_labels = get_model_data(data= TRAIN_data, encoder= label_encoder, num_of_docs= 10)\n",
    "# TEST_emb, TEST_labels = get_model_data(data= TEST_data, encoder= label_encoder,num_of_docs= 5)"
   ]
  },
  {
   "cell_type": "code",
   "execution_count": 18,
   "metadata": {},
   "outputs": [],
   "source": [
    "model = BiLSTM(num_layers=1)\n",
    "model_opt = torch.optim.Adam(model.parameters(), lr= 0.00005)\n",
    "loss_function = nn.CrossEntropyLoss()"
   ]
  },
  {
   "cell_type": "code",
   "execution_count": 19,
   "metadata": {},
   "outputs": [],
   "source": [
    "def train(x_train, y_train, model, optimizer, loss_fc, num_epochs):\n",
    "    model.train()\n",
    "    loss_list = []\n",
    "    acc_list = []\n",
    "    model.train()\n",
    "    print(f'{\"Starting Training\":-^100}')\n",
    "    for epoch in range(num_epochs+1):\n",
    "        output = model(x_train)\n",
    "        loss = loss_fc(output,y_train)\n",
    "        \n",
    "        optimizer.zero_grad()\n",
    "        loss.backward()\n",
    "        optimizer.step()\n",
    "        loss_list.append(loss.item())\n",
    "        \n",
    "        if epoch%50 == 0:\n",
    "            acc = sum(output.argmax(dim=1) == y_train)/ output.size(0)\n",
    "            acc_list.append(acc)\n",
    "            print(f\"Epoch: {epoch} \\t Loss: {loss.item():.5f} \\t Accuracy: {acc*100:.2f}%\")\n",
    "            \n",
    "    return loss_list, acc_list\n",
    "            \n",
    "def test_accuracy(x_test, y_test, model):\n",
    "    model.eval()\n",
    "    output = model(x_test)\n",
    "    acc = sum(output.argmax(dim=1) == y_test)/ output.size(0)\n",
    "    print(f\"Test Accuracy {acc*100:.2f}%\")"
   ]
  },
  {
   "cell_type": "code",
   "execution_count": 20,
   "metadata": {},
   "outputs": [],
   "source": [
    "# losses, accs = train(TRAIN_emb,TRAIN_labels,model,model_opt,loss_function,300)"
   ]
  },
  {
   "cell_type": "code",
   "execution_count": 21,
   "metadata": {},
   "outputs": [],
   "source": [
    "# test_accuracy(TEST_emb, TEST_labels, model)"
   ]
  },
  {
   "cell_type": "code",
   "execution_count": 37,
   "metadata": {},
   "outputs": [
    {
     "name": "stdout",
     "output_type": "stream",
     "text": [
      "X_train size: torch.Size([363, 1, 768])\n",
      "Y_train size: torch.Size([363])\n",
      "-----------------------------------------Starting Training------------------------------------------\n",
      "Epoch: 0 \t Loss: 2.57144 \t Accuracy: 3.58%\n",
      "Epoch: 25 \t Loss: 2.37717 \t Accuracy: 31.13%\n",
      "Epoch: 50 \t Loss: 2.24312 \t Accuracy: 43.53%\n",
      "Epoch: 75 \t Loss: 2.12001 \t Accuracy: 56.75%\n",
      "Epoch: 100 \t Loss: 2.03608 \t Accuracy: 66.39%\n",
      "Epoch: 125 \t Loss: 2.02191 \t Accuracy: 68.32%\n",
      "Epoch: 150 \t Loss: 2.01109 \t Accuracy: 68.32%\n",
      "X_train size: torch.Size([514, 1, 768])\n",
      "Y_train size: torch.Size([514])\n",
      "-----------------------------------------Starting Training------------------------------------------\n",
      "Epoch: 0 \t Loss: 2.20470 \t Accuracy: 47.86%\n",
      "Epoch: 25 \t Loss: 1.89782 \t Accuracy: 79.96%\n",
      "Epoch: 50 \t Loss: 1.89474 \t Accuracy: 79.77%\n",
      "Epoch: 75 \t Loss: 1.89154 \t Accuracy: 80.16%\n",
      "Epoch: 100 \t Loss: 1.88963 \t Accuracy: 80.35%\n",
      "Epoch: 125 \t Loss: 1.88675 \t Accuracy: 80.54%\n",
      "Epoch: 150 \t Loss: 1.88436 \t Accuracy: 80.74%\n",
      "X_train size: torch.Size([455, 1, 768])\n",
      "Y_train size: torch.Size([455])\n",
      "-----------------------------------------Starting Training------------------------------------------\n",
      "Epoch: 0 \t Loss: 2.20427 \t Accuracy: 48.35%\n",
      "Epoch: 25 \t Loss: 1.86430 \t Accuracy: 82.86%\n",
      "Epoch: 50 \t Loss: 1.85688 \t Accuracy: 83.52%\n",
      "Epoch: 75 \t Loss: 1.85531 \t Accuracy: 83.74%\n",
      "Epoch: 100 \t Loss: 1.85490 \t Accuracy: 83.74%\n",
      "Epoch: 125 \t Loss: 1.85374 \t Accuracy: 83.74%\n",
      "Epoch: 150 \t Loss: 1.85683 \t Accuracy: 83.52%\n",
      "X_train size: torch.Size([374, 1, 768])\n",
      "Y_train size: torch.Size([374])\n",
      "-----------------------------------------Starting Training------------------------------------------\n",
      "Epoch: 0 \t Loss: 2.01715 \t Accuracy: 66.31%\n",
      "Epoch: 25 \t Loss: 1.83825 \t Accuracy: 85.56%\n",
      "Epoch: 50 \t Loss: 1.83345 \t Accuracy: 85.83%\n",
      "Epoch: 75 \t Loss: 1.83168 \t Accuracy: 85.83%\n",
      "Epoch: 100 \t Loss: 1.83141 \t Accuracy: 85.83%\n",
      "Epoch: 125 \t Loss: 1.83009 \t Accuracy: 86.10%\n",
      "Epoch: 150 \t Loss: 1.83113 \t Accuracy: 85.83%\n",
      "X_train size: torch.Size([498, 1, 768])\n",
      "Y_train size: torch.Size([498])\n",
      "-----------------------------------------Starting Training------------------------------------------\n",
      "Epoch: 0 \t Loss: 2.04718 \t Accuracy: 63.86%\n",
      "Epoch: 25 \t Loss: 1.89931 \t Accuracy: 79.12%\n",
      "Epoch: 50 \t Loss: 1.89041 \t Accuracy: 79.92%\n",
      "Epoch: 75 \t Loss: 1.88556 \t Accuracy: 80.72%\n",
      "Epoch: 100 \t Loss: 1.82561 \t Accuracy: 86.75%\n",
      "Epoch: 125 \t Loss: 1.82371 \t Accuracy: 86.75%\n",
      "Epoch: 150 \t Loss: 1.82221 \t Accuracy: 86.95%\n",
      "X_train size: torch.Size([396, 1, 768])\n",
      "Y_train size: torch.Size([396])\n",
      "-----------------------------------------Starting Training------------------------------------------\n",
      "Epoch: 0 \t Loss: 2.40770 \t Accuracy: 27.53%\n",
      "Epoch: 25 \t Loss: 1.91805 \t Accuracy: 77.53%\n",
      "Epoch: 50 \t Loss: 1.91497 \t Accuracy: 77.78%\n",
      "Epoch: 75 \t Loss: 1.91434 \t Accuracy: 77.78%\n",
      "Epoch: 100 \t Loss: 1.91518 \t Accuracy: 77.78%\n",
      "Epoch: 125 \t Loss: 1.91531 \t Accuracy: 77.53%\n",
      "Epoch: 150 \t Loss: 1.91542 \t Accuracy: 77.53%\n",
      "X_train size: torch.Size([415, 1, 768])\n",
      "Y_train size: torch.Size([415])\n",
      "-----------------------------------------Starting Training------------------------------------------\n",
      "Epoch: 0 \t Loss: 2.25604 \t Accuracy: 43.37%\n",
      "Epoch: 25 \t Loss: 2.10807 \t Accuracy: 58.07%\n",
      "Epoch: 50 \t Loss: 2.10695 \t Accuracy: 58.07%\n",
      "Epoch: 75 \t Loss: 2.10730 \t Accuracy: 58.07%\n",
      "Epoch: 100 \t Loss: 2.08826 \t Accuracy: 60.00%\n",
      "Epoch: 125 \t Loss: 2.02352 \t Accuracy: 66.99%\n",
      "Epoch: 150 \t Loss: 2.02196 \t Accuracy: 66.51%\n",
      "X_train size: torch.Size([219, 1, 768])\n",
      "Y_train size: torch.Size([219])\n",
      "-----------------------------------------Starting Training------------------------------------------\n",
      "Epoch: 0 \t Loss: 2.08530 \t Accuracy: 60.27%\n",
      "Epoch: 25 \t Loss: 2.01735 \t Accuracy: 67.12%\n",
      "Epoch: 50 \t Loss: 2.01773 \t Accuracy: 67.12%\n",
      "Epoch: 75 \t Loss: 2.01702 \t Accuracy: 67.12%\n",
      "Epoch: 100 \t Loss: 2.01721 \t Accuracy: 67.12%\n",
      "Epoch: 125 \t Loss: 2.01669 \t Accuracy: 67.12%\n",
      "Epoch: 150 \t Loss: 2.01657 \t Accuracy: 67.12%\n",
      "X_train size: torch.Size([265, 1, 768])\n",
      "Y_train size: torch.Size([265])\n",
      "-----------------------------------------Starting Training------------------------------------------\n",
      "Epoch: 0 \t Loss: 1.97116 \t Accuracy: 71.32%\n",
      "Epoch: 25 \t Loss: 1.88131 \t Accuracy: 80.75%\n",
      "Epoch: 50 \t Loss: 1.88011 \t Accuracy: 80.75%\n",
      "Epoch: 75 \t Loss: 1.88117 \t Accuracy: 80.75%\n",
      "Epoch: 100 \t Loss: 1.87824 \t Accuracy: 81.13%\n",
      "Epoch: 125 \t Loss: 1.88086 \t Accuracy: 80.75%\n",
      "Epoch: 150 \t Loss: 1.87851 \t Accuracy: 81.13%\n",
      "X_train size: torch.Size([506, 1, 768])\n",
      "Y_train size: torch.Size([506])\n",
      "-----------------------------------------Starting Training------------------------------------------\n",
      "Epoch: 0 \t Loss: 2.11571 \t Accuracy: 57.71%\n",
      "Epoch: 25 \t Loss: 2.06237 \t Accuracy: 62.65%\n",
      "Epoch: 50 \t Loss: 2.03646 \t Accuracy: 65.42%\n",
      "Epoch: 75 \t Loss: 2.03516 \t Accuracy: 65.42%\n",
      "Epoch: 100 \t Loss: 2.03437 \t Accuracy: 65.42%\n",
      "Epoch: 125 \t Loss: 2.03507 \t Accuracy: 65.42%\n",
      "Epoch: 150 \t Loss: 2.03584 \t Accuracy: 65.02%\n",
      "X_train size: torch.Size([358, 1, 768])\n",
      "Y_train size: torch.Size([358])\n",
      "-----------------------------------------Starting Training------------------------------------------\n",
      "Epoch: 0 \t Loss: 2.19939 \t Accuracy: 48.32%\n",
      "Epoch: 25 \t Loss: 1.84684 \t Accuracy: 84.36%\n",
      "Epoch: 50 \t Loss: 1.84592 \t Accuracy: 84.36%\n",
      "Epoch: 75 \t Loss: 1.84419 \t Accuracy: 84.64%\n",
      "Epoch: 100 \t Loss: 1.84310 \t Accuracy: 84.64%\n",
      "Epoch: 125 \t Loss: 1.84417 \t Accuracy: 84.36%\n",
      "Epoch: 150 \t Loss: 1.84239 \t Accuracy: 84.64%\n",
      "X_train size: torch.Size([411, 1, 768])\n",
      "Y_train size: torch.Size([411])\n",
      "-----------------------------------------Starting Training------------------------------------------\n",
      "Epoch: 0 \t Loss: 2.04123 \t Accuracy: 64.72%\n",
      "Epoch: 25 \t Loss: 1.93572 \t Accuracy: 75.43%\n",
      "Epoch: 50 \t Loss: 1.88332 \t Accuracy: 81.27%\n",
      "Epoch: 75 \t Loss: 1.88144 \t Accuracy: 81.02%\n",
      "Epoch: 100 \t Loss: 1.87901 \t Accuracy: 81.27%\n",
      "Epoch: 125 \t Loss: 1.87820 \t Accuracy: 81.51%\n",
      "Epoch: 150 \t Loss: 1.87779 \t Accuracy: 81.27%\n",
      "X_train size: torch.Size([422, 1, 768])\n",
      "Y_train size: torch.Size([422])\n",
      "-----------------------------------------Starting Training------------------------------------------\n",
      "Epoch: 0 \t Loss: 2.10319 \t Accuracy: 58.53%\n",
      "Epoch: 25 \t Loss: 1.96546 \t Accuracy: 72.27%\n",
      "Epoch: 50 \t Loss: 1.96247 \t Accuracy: 72.75%\n",
      "Epoch: 75 \t Loss: 1.96073 \t Accuracy: 72.99%\n",
      "Epoch: 100 \t Loss: 1.96183 \t Accuracy: 72.99%\n",
      "Epoch: 125 \t Loss: 1.96126 \t Accuracy: 72.75%\n",
      "Epoch: 150 \t Loss: 1.96160 \t Accuracy: 72.75%\n",
      "X_train size: torch.Size([408, 1, 768])\n",
      "Y_train size: torch.Size([408])\n",
      "-----------------------------------------Starting Training------------------------------------------\n",
      "Epoch: 0 \t Loss: 2.30830 \t Accuracy: 37.75%\n",
      "Epoch: 25 \t Loss: 1.90005 \t Accuracy: 79.41%\n",
      "Epoch: 50 \t Loss: 1.89929 \t Accuracy: 79.17%\n",
      "Epoch: 75 \t Loss: 1.89962 \t Accuracy: 79.41%\n",
      "Epoch: 100 \t Loss: 1.89786 \t Accuracy: 79.41%\n",
      "Epoch: 125 \t Loss: 1.89657 \t Accuracy: 79.41%\n",
      "Epoch: 150 \t Loss: 1.89629 \t Accuracy: 79.66%\n",
      "X_train size: torch.Size([337, 1, 768])\n",
      "Y_train size: torch.Size([337])\n",
      "-----------------------------------------Starting Training------------------------------------------\n",
      "Epoch: 0 \t Loss: 2.16501 \t Accuracy: 52.52%\n",
      "Epoch: 25 \t Loss: 2.02634 \t Accuracy: 66.47%\n",
      "Epoch: 50 \t Loss: 1.95853 \t Accuracy: 73.00%\n",
      "Epoch: 75 \t Loss: 1.94988 \t Accuracy: 74.48%\n",
      "Epoch: 100 \t Loss: 1.94628 \t Accuracy: 74.48%\n",
      "Epoch: 125 \t Loss: 1.94281 \t Accuracy: 74.48%\n",
      "Epoch: 150 \t Loss: 1.93950 \t Accuracy: 74.78%\n",
      "X_train size: torch.Size([384, 1, 768])\n",
      "Y_train size: torch.Size([384])\n",
      "-----------------------------------------Starting Training------------------------------------------\n",
      "Epoch: 0 \t Loss: 2.04142 \t Accuracy: 64.58%\n",
      "Epoch: 25 \t Loss: 1.82649 \t Accuracy: 86.46%\n",
      "Epoch: 50 \t Loss: 1.81286 \t Accuracy: 87.76%\n",
      "Epoch: 75 \t Loss: 1.80986 \t Accuracy: 88.28%\n",
      "Epoch: 100 \t Loss: 1.80386 \t Accuracy: 89.06%\n",
      "Epoch: 125 \t Loss: 1.80293 \t Accuracy: 89.06%\n",
      "Epoch: 150 \t Loss: 1.80127 \t Accuracy: 89.06%\n",
      "X_train size: torch.Size([339, 1, 768])\n",
      "Y_train size: torch.Size([339])\n",
      "-----------------------------------------Starting Training------------------------------------------\n",
      "Epoch: 0 \t Loss: 2.04688 \t Accuracy: 65.19%\n",
      "Epoch: 25 \t Loss: 1.95566 \t Accuracy: 73.75%\n",
      "Epoch: 50 \t Loss: 1.94934 \t Accuracy: 74.04%\n",
      "Epoch: 75 \t Loss: 1.94506 \t Accuracy: 74.63%\n",
      "Epoch: 100 \t Loss: 1.94827 \t Accuracy: 74.34%\n",
      "Epoch: 125 \t Loss: 1.94785 \t Accuracy: 74.04%\n",
      "Epoch: 150 \t Loss: 1.94476 \t Accuracy: 74.63%\n",
      "X_train size: torch.Size([229, 1, 768])\n",
      "Y_train size: torch.Size([229])\n",
      "-----------------------------------------Starting Training------------------------------------------\n",
      "Epoch: 0 \t Loss: 2.31134 \t Accuracy: 37.55%\n",
      "Epoch: 25 \t Loss: 2.19395 \t Accuracy: 49.78%\n",
      "Epoch: 50 \t Loss: 2.19095 \t Accuracy: 49.34%\n",
      "Epoch: 75 \t Loss: 2.08704 \t Accuracy: 59.83%\n",
      "Epoch: 100 \t Loss: 2.06986 \t Accuracy: 62.45%\n",
      "Epoch: 125 \t Loss: 1.89191 \t Accuracy: 79.91%\n",
      "Epoch: 150 \t Loss: 1.88528 \t Accuracy: 81.22%\n",
      "X_train size: torch.Size([310, 1, 768])\n",
      "Y_train size: torch.Size([310])\n",
      "-----------------------------------------Starting Training------------------------------------------\n",
      "Epoch: 0 \t Loss: 2.07276 \t Accuracy: 62.26%\n",
      "Epoch: 25 \t Loss: 1.95346 \t Accuracy: 73.87%\n",
      "Epoch: 50 \t Loss: 1.95097 \t Accuracy: 73.87%\n",
      "Epoch: 75 \t Loss: 1.93592 \t Accuracy: 75.48%\n",
      "Epoch: 100 \t Loss: 1.93264 \t Accuracy: 75.81%\n",
      "Epoch: 125 \t Loss: 1.93274 \t Accuracy: 75.81%\n",
      "Epoch: 150 \t Loss: 1.93250 \t Accuracy: 75.81%\n",
      "X_train size: torch.Size([139, 1, 768])\n",
      "Y_train size: torch.Size([139])\n",
      "-----------------------------------------Starting Training------------------------------------------\n",
      "Epoch: 0 \t Loss: 2.07019 \t Accuracy: 61.15%\n",
      "Epoch: 25 \t Loss: 1.98118 \t Accuracy: 71.22%\n",
      "Epoch: 50 \t Loss: 1.92975 \t Accuracy: 76.26%\n",
      "Epoch: 75 \t Loss: 1.92299 \t Accuracy: 76.26%\n",
      "Epoch: 100 \t Loss: 1.91944 \t Accuracy: 76.98%\n",
      "Epoch: 125 \t Loss: 1.92895 \t Accuracy: 76.26%\n",
      "Epoch: 150 \t Loss: 1.89226 \t Accuracy: 79.86%\n",
      "X_train size: torch.Size([278, 1, 768])\n",
      "Y_train size: torch.Size([278])\n",
      "-----------------------------------------Starting Training------------------------------------------\n",
      "Epoch: 0 \t Loss: 2.40822 \t Accuracy: 27.34%\n",
      "Epoch: 25 \t Loss: 2.15726 \t Accuracy: 53.96%\n",
      "Epoch: 50 \t Loss: 1.93257 \t Accuracy: 76.26%\n",
      "Epoch: 75 \t Loss: 1.80182 \t Accuracy: 89.93%\n",
      "Epoch: 100 \t Loss: 1.80299 \t Accuracy: 89.21%\n",
      "Epoch: 125 \t Loss: 1.78442 \t Accuracy: 91.37%\n",
      "Epoch: 150 \t Loss: 1.78384 \t Accuracy: 91.37%\n",
      "X_train size: torch.Size([393, 1, 768])\n",
      "Y_train size: torch.Size([393])\n",
      "-----------------------------------------Starting Training------------------------------------------\n",
      "Epoch: 0 \t Loss: 2.38941 \t Accuracy: 29.26%\n",
      "Epoch: 25 \t Loss: 1.82749 \t Accuracy: 86.51%\n",
      "Epoch: 50 \t Loss: 1.81153 \t Accuracy: 88.04%\n",
      "Epoch: 75 \t Loss: 1.80913 \t Accuracy: 88.30%\n",
      "Epoch: 100 \t Loss: 1.80129 \t Accuracy: 89.57%\n",
      "Epoch: 125 \t Loss: 1.79090 \t Accuracy: 90.08%\n",
      "Epoch: 150 \t Loss: 1.79210 \t Accuracy: 89.82%\n",
      "X_train size: torch.Size([337, 1, 768])\n",
      "Y_train size: torch.Size([337])\n",
      "-----------------------------------------Starting Training------------------------------------------\n",
      "Epoch: 0 \t Loss: 2.19271 \t Accuracy: 49.26%\n",
      "Epoch: 25 \t Loss: 1.98063 \t Accuracy: 70.92%\n",
      "Epoch: 50 \t Loss: 1.97994 \t Accuracy: 70.92%\n",
      "Epoch: 75 \t Loss: 1.97991 \t Accuracy: 70.92%\n",
      "Epoch: 100 \t Loss: 1.97739 \t Accuracy: 71.22%\n",
      "Epoch: 125 \t Loss: 1.96255 \t Accuracy: 72.70%\n",
      "Epoch: 150 \t Loss: 1.95654 \t Accuracy: 73.29%\n"
     ]
    },
    {
     "ename": "KeyError",
     "evalue": "69",
     "output_type": "error",
     "traceback": [
      "\u001b[0;31m---------------------------------------------------------------------------\u001b[0m",
      "\u001b[0;31mKeyError\u001b[0m                                  Traceback (most recent call last)",
      "\u001b[0;32m/tmp/ipykernel_4714/3010066278.py\u001b[0m in \u001b[0;36m<module>\u001b[0;34m\u001b[0m\n\u001b[1;32m      1\u001b[0m \u001b[0mbatch_loss\u001b[0m\u001b[0;34m,\u001b[0m \u001b[0mbatch_acc\u001b[0m \u001b[0;34m=\u001b[0m \u001b[0;34m[\u001b[0m\u001b[0;34m]\u001b[0m\u001b[0;34m,\u001b[0m \u001b[0;34m[\u001b[0m\u001b[0;34m]\u001b[0m\u001b[0;34m\u001b[0m\u001b[0;34m\u001b[0m\u001b[0m\n\u001b[1;32m      2\u001b[0m \u001b[0;32mfor\u001b[0m \u001b[0midxs\u001b[0m\u001b[0;34m,\u001b[0m \u001b[0mtexts\u001b[0m\u001b[0;34m,\u001b[0m \u001b[0mlabels\u001b[0m \u001b[0;32min\u001b[0m \u001b[0mzip\u001b[0m\u001b[0;34m(\u001b[0m\u001b[0mdoc_idxs\u001b[0m\u001b[0;34m,\u001b[0m\u001b[0mbatched_texts\u001b[0m\u001b[0;34m,\u001b[0m\u001b[0mbatched_labels\u001b[0m\u001b[0;34m)\u001b[0m\u001b[0;34m:\u001b[0m\u001b[0;34m\u001b[0m\u001b[0;34m\u001b[0m\u001b[0m\n\u001b[0;32m----> 3\u001b[0;31m     \u001b[0mTRAIN_emb\u001b[0m\u001b[0;34m,\u001b[0m \u001b[0mTRAIN_labels\u001b[0m \u001b[0;34m=\u001b[0m \u001b[0mget_model_data_batched\u001b[0m\u001b[0;34m(\u001b[0m\u001b[0midxs\u001b[0m\u001b[0;34m,\u001b[0m\u001b[0mtexts\u001b[0m\u001b[0;34m,\u001b[0m\u001b[0mlabels\u001b[0m\u001b[0;34m,\u001b[0m\u001b[0mlabel_encoder\u001b[0m\u001b[0;34m,\u001b[0m\u001b[0mmax_lens_train\u001b[0m\u001b[0;34m)\u001b[0m\u001b[0;34m\u001b[0m\u001b[0;34m\u001b[0m\u001b[0m\n\u001b[0m\u001b[1;32m      4\u001b[0m     \u001b[0mloss\u001b[0m\u001b[0;34m,\u001b[0m \u001b[0macc\u001b[0m \u001b[0;34m=\u001b[0m \u001b[0mtrain\u001b[0m\u001b[0;34m(\u001b[0m\u001b[0mTRAIN_emb\u001b[0m\u001b[0;34m,\u001b[0m\u001b[0mTRAIN_labels\u001b[0m\u001b[0;34m,\u001b[0m\u001b[0mmodel\u001b[0m\u001b[0;34m,\u001b[0m\u001b[0mmodel_opt\u001b[0m\u001b[0;34m,\u001b[0m\u001b[0mloss_function\u001b[0m\u001b[0;34m,\u001b[0m\u001b[0;36m150\u001b[0m\u001b[0;34m)\u001b[0m\u001b[0;34m\u001b[0m\u001b[0;34m\u001b[0m\u001b[0m\n\u001b[1;32m      5\u001b[0m     \u001b[0mbatch_loss\u001b[0m\u001b[0;34m.\u001b[0m\u001b[0mappend\u001b[0m\u001b[0;34m(\u001b[0m\u001b[0mloss\u001b[0m\u001b[0;34m)\u001b[0m\u001b[0;34m\u001b[0m\u001b[0;34m\u001b[0m\u001b[0m\n",
      "\u001b[0;32m/tmp/ipykernel_4714/934379050.py\u001b[0m in \u001b[0;36mget_model_data_batched\u001b[0;34m(indexes, texts, labels, encoder, max_len_dict, tokenizer, model)\u001b[0m\n\u001b[1;32m     55\u001b[0m     \u001b[0msent_emb\u001b[0m \u001b[0;34m=\u001b[0m \u001b[0;34m[\u001b[0m\u001b[0;34m]\u001b[0m\u001b[0;34m\u001b[0m\u001b[0;34m\u001b[0m\u001b[0m\n\u001b[1;32m     56\u001b[0m     \u001b[0;32mfor\u001b[0m \u001b[0midx\u001b[0m\u001b[0;34m,\u001b[0m \u001b[0msentence\u001b[0m \u001b[0;32min\u001b[0m \u001b[0menumerate\u001b[0m\u001b[0;34m(\u001b[0m\u001b[0mtexts\u001b[0m\u001b[0;34m)\u001b[0m\u001b[0;34m:\u001b[0m\u001b[0;34m\u001b[0m\u001b[0;34m\u001b[0m\u001b[0m\n\u001b[0;32m---> 57\u001b[0;31m         \u001b[0mmax_sent_length\u001b[0m \u001b[0;34m=\u001b[0m \u001b[0mmax\u001b[0m\u001b[0;34m(\u001b[0m\u001b[0;34m[\u001b[0m\u001b[0mmax_len_dict\u001b[0m\u001b[0;34m[\u001b[0m\u001b[0mi\u001b[0m\u001b[0;34m]\u001b[0m \u001b[0;32mfor\u001b[0m \u001b[0mi\u001b[0m \u001b[0;32min\u001b[0m \u001b[0mindexes\u001b[0m\u001b[0;34m]\u001b[0m\u001b[0;34m)\u001b[0m\u001b[0;34m\u001b[0m\u001b[0;34m\u001b[0m\u001b[0m\n\u001b[0m\u001b[1;32m     58\u001b[0m         inputs = tokenizer(sentence.lower(),  return_tensors=\"pt\", truncation= True,\n\u001b[1;32m     59\u001b[0m                             \u001b[0mpadding\u001b[0m\u001b[0;34m=\u001b[0m\u001b[0;34m'max_length'\u001b[0m\u001b[0;34m,\u001b[0m \u001b[0mmax_length\u001b[0m \u001b[0;34m=\u001b[0m \u001b[0mmax_sent_length\u001b[0m\u001b[0;34m,\u001b[0m\u001b[0;34m\u001b[0m\u001b[0;34m\u001b[0m\u001b[0m\n",
      "\u001b[0;32m/tmp/ipykernel_4714/934379050.py\u001b[0m in \u001b[0;36m<listcomp>\u001b[0;34m(.0)\u001b[0m\n\u001b[1;32m     55\u001b[0m     \u001b[0msent_emb\u001b[0m \u001b[0;34m=\u001b[0m \u001b[0;34m[\u001b[0m\u001b[0;34m]\u001b[0m\u001b[0;34m\u001b[0m\u001b[0;34m\u001b[0m\u001b[0m\n\u001b[1;32m     56\u001b[0m     \u001b[0;32mfor\u001b[0m \u001b[0midx\u001b[0m\u001b[0;34m,\u001b[0m \u001b[0msentence\u001b[0m \u001b[0;32min\u001b[0m \u001b[0menumerate\u001b[0m\u001b[0;34m(\u001b[0m\u001b[0mtexts\u001b[0m\u001b[0;34m)\u001b[0m\u001b[0;34m:\u001b[0m\u001b[0;34m\u001b[0m\u001b[0;34m\u001b[0m\u001b[0m\n\u001b[0;32m---> 57\u001b[0;31m         \u001b[0mmax_sent_length\u001b[0m \u001b[0;34m=\u001b[0m \u001b[0mmax\u001b[0m\u001b[0;34m(\u001b[0m\u001b[0;34m[\u001b[0m\u001b[0mmax_len_dict\u001b[0m\u001b[0;34m[\u001b[0m\u001b[0mi\u001b[0m\u001b[0;34m]\u001b[0m \u001b[0;32mfor\u001b[0m \u001b[0mi\u001b[0m \u001b[0;32min\u001b[0m \u001b[0mindexes\u001b[0m\u001b[0;34m]\u001b[0m\u001b[0;34m)\u001b[0m\u001b[0;34m\u001b[0m\u001b[0;34m\u001b[0m\u001b[0m\n\u001b[0m\u001b[1;32m     58\u001b[0m         inputs = tokenizer(sentence.lower(),  return_tensors=\"pt\", truncation= True,\n\u001b[1;32m     59\u001b[0m                             \u001b[0mpadding\u001b[0m\u001b[0;34m=\u001b[0m\u001b[0;34m'max_length'\u001b[0m\u001b[0;34m,\u001b[0m \u001b[0mmax_length\u001b[0m \u001b[0;34m=\u001b[0m \u001b[0mmax_sent_length\u001b[0m\u001b[0;34m,\u001b[0m\u001b[0;34m\u001b[0m\u001b[0;34m\u001b[0m\u001b[0m\n",
      "\u001b[0;31mKeyError\u001b[0m: 69"
     ]
    }
   ],
   "source": [
    "batch_loss, batch_acc = [], []\n",
    "batch_counter = 0\n",
    "for idxs, texts, labels in zip(doc_idxs,batched_texts,batched_labels):\n",
    "    batch_counter += 1\n",
    "    print(f\"{f'BATCH NUMBER {batch_counter}':-^100}\")\n",
    "    TRAIN_emb, TRAIN_labels = get_model_data_batched(idxs,texts,labels,label_encoder,max_lens_train)\n",
    "    loss, acc = train(TRAIN_emb,TRAIN_labels,model,model_opt,loss_function,150)\n",
    "    batch_loss.append(loss)\n",
    "    batch_acc.append(acc)"
   ]
  },
  {
   "cell_type": "code",
   "execution_count": 3,
   "metadata": {},
   "outputs": [
    {
     "ename": "NameError",
     "evalue": "name 'batch_acc' is not defined",
     "output_type": "error",
     "traceback": [
      "\u001b[0;31m---------------------------------------------------------------------------\u001b[0m",
      "\u001b[0;31mNameError\u001b[0m                                 Traceback (most recent call last)",
      "\u001b[0;32m/tmp/ipykernel_10493/1569588245.py\u001b[0m in \u001b[0;36m<module>\u001b[0;34m\u001b[0m\n\u001b[0;32m----> 1\u001b[0;31m \u001b[0;34m[\u001b[0m\u001b[0;34m[\u001b[0m\u001b[0macc\u001b[0m\u001b[0;34m.\u001b[0m\u001b[0mitem\u001b[0m\u001b[0;34m(\u001b[0m\u001b[0;34m)\u001b[0m \u001b[0;32mfor\u001b[0m \u001b[0macc\u001b[0m \u001b[0;32min\u001b[0m \u001b[0mbatch\u001b[0m\u001b[0;34m]\u001b[0m \u001b[0;32mfor\u001b[0m \u001b[0mbatch\u001b[0m \u001b[0;32min\u001b[0m \u001b[0mbatch_acc\u001b[0m\u001b[0;34m]\u001b[0m\u001b[0;34m\u001b[0m\u001b[0;34m\u001b[0m\u001b[0m\n\u001b[0m",
      "\u001b[0;31mNameError\u001b[0m: name 'batch_acc' is not defined"
     ]
    }
   ],
   "source": [
    "[[acc.item() for acc in batch] for batch in batch_acc]"
   ]
  },
  {
   "cell_type": "code",
   "execution_count": 4,
   "metadata": {},
   "outputs": [
    {
     "ename": "NameError",
     "evalue": "name 'batch_acc' is not defined",
     "output_type": "error",
     "traceback": [
      "\u001b[0;31m---------------------------------------------------------------------------\u001b[0m",
      "\u001b[0;31mNameError\u001b[0m                                 Traceback (most recent call last)",
      "\u001b[0;32m/tmp/ipykernel_10493/1991203152.py\u001b[0m in \u001b[0;36m<module>\u001b[0;34m\u001b[0m\n\u001b[0;32m----> 1\u001b[0;31m \u001b[0mbatch_acc\u001b[0m\u001b[0;34m\u001b[0m\u001b[0;34m\u001b[0m\u001b[0m\n\u001b[0m",
      "\u001b[0;31mNameError\u001b[0m: name 'batch_acc' is not defined"
     ]
    }
   ],
   "source": [
    "batch_acc"
   ]
  },
  {
   "cell_type": "code",
   "execution_count": 5,
   "metadata": {},
   "outputs": [
    {
     "ename": "NameError",
     "evalue": "name 'batch_loss' is not defined",
     "output_type": "error",
     "traceback": [
      "\u001b[0;31m---------------------------------------------------------------------------\u001b[0m",
      "\u001b[0;31mNameError\u001b[0m                                 Traceback (most recent call last)",
      "\u001b[0;32m/tmp/ipykernel_10493/3934724140.py\u001b[0m in \u001b[0;36m<module>\u001b[0;34m\u001b[0m\n\u001b[0;32m----> 1\u001b[0;31m \u001b[0mlen\u001b[0m\u001b[0;34m(\u001b[0m\u001b[0mbatch_loss\u001b[0m\u001b[0;34m)\u001b[0m\u001b[0;34m\u001b[0m\u001b[0;34m\u001b[0m\u001b[0m\n\u001b[0m",
      "\u001b[0;31mNameError\u001b[0m: name 'batch_loss' is not defined"
     ]
    }
   ],
   "source": [
    "len(batch_loss)"
   ]
  },
  {
   "cell_type": "markdown",
   "metadata": {},
   "source": [
    "# -------------------------------------------------"
   ]
  },
  {
   "cell_type": "code",
   "execution_count": 3,
   "metadata": {},
   "outputs": [],
   "source": [
    "# def sent2inp(sentence:str, name:str = 'distilbert',max_len:int = 128) -> dict:\n",
    "#     if name.lower() == 'distilbert':\n",
    "#         tokenizer = DistilBertTokenizer.from_pretrained('distilbert-base-uncased', do_lower_case= True)\n",
    "        \n",
    "#         model_inputs = tokenizer(sentence.lower(), return_tensors=\"pt\", truncation= True,\n",
    "#                                 padding='max_length', max_length = max_len, add_special_tokens= True)\n",
    "            \n",
    "#         return model_inputs\n",
    "    \n",
    "# def label_encode(target_variables : list) -> LabelEncoder:\n",
    "#     \"\"\"\n",
    "#     Encode target variables.\n",
    "    \n",
    "#     Args:\n",
    "#     - target_variables (list or array-like): List of target variable strings.\n",
    "    \n",
    "#     Returns:\n",
    "#     - lb (object): class object used to tranform and inverse transform.\n",
    "#     \"\"\"\n",
    "#     le = LabelEncoder()\n",
    "#     le = le.fit(target_variables)\n",
    "    \n",
    "#     return le\n",
    "\n",
    "# def get_test_data(num_of_samples: int = 30, label_encoder: LabelEncoder= None) -> Tuple[dict,torch.TensorType]:\n",
    "#     if label_encoder == None:\n",
    "#         print(\"Enter a label encoder\")\n",
    "#         return\n",
    "#     else:\n",
    "#         test_sentences = []\n",
    "#         test_label_enc = torch.Tensor()\n",
    "#         i = 0\n",
    "#         while i < 30:\n",
    "#             doc_num = random.randint(0,len(test_data)-1)\n",
    "#             file_num = random.randint(0,len(data[doc_num]['annotations'][0]['result'])-1)\n",
    "#             sentence = data[doc_num]['annotations'][0]['result'][file_num]['value']['text']\n",
    "#             label = data[doc_num]['annotations'][0]['result'][file_num]['value']['labels']\n",
    "#             test_sentences.append(sentence)\n",
    "#             label_encoded = torch.from_numpy(label_encoder.transform(label)).long()\n",
    "#             # create batch tensors for sentences and labels\n",
    "#             test_label_enc = torch.cat((test_label_enc, label_encoded),dim=0).long()\n",
    "#             i += 1\n",
    "#         test_input = {}\n",
    "#         test_input['input_ids'] = torch.cat([sent2inp(sentence)['input_ids'] for sentence in test_sentences],dim=0)\n",
    "#         test_input['attention_mask'] = torch.cat([sent2inp(sentence)['attention_mask'] for sentence in test_sentences],dim=0)\n",
    "        \n",
    "#         return test_input, test_label_enc\n",
    "\n",
    "# def accuracy(test_input:dict, test_label: torch.TensorType, model: object) -> float:\n",
    "#     model.eval()\n",
    "#     with torch.no_grad():\n",
    "#         predictions = model(test_input)\n",
    "#     hits = sum(predictions.argmax(dim=1) == test_label).item()\n",
    "            \n",
    "#     return hits/test_label.size(0)"
   ]
  },
  {
   "cell_type": "markdown",
   "metadata": {},
   "source": [
    "# Single-Learning"
   ]
  },
  {
   "cell_type": "code",
   "execution_count": 99,
   "metadata": {},
   "outputs": [
    {
     "name": "stdout",
     "output_type": "stream",
     "text": [
      "Doc: 15, Sentence: 119\n",
      "Sentence: On careful perusal of this evidence, it can be said that the property dispute is the motive for the accused to assault Shivamma.\n",
      "Label: ['ANALYSIS'], Label-Encoded: tensor([0])\n"
     ]
    }
   ],
   "source": [
    "doc_num = random.randint(0,len(data)-1)\n",
    "file_num = random.randint(0,len(data[doc_num]['annotations'][0]['result'])-1)\n",
    "sentence = data[doc_num]['annotations'][0]['result'][file_num]['value']['text']\n",
    "label = data[doc_num]['annotations'][0]['result'][file_num]['value']['labels']\n",
    "label_encoded = torch.from_numpy(label_encoder.transform(label)).long()\n",
    "print(f\"Doc: {doc_num}, Sentence: {file_num}\")\n",
    "print(f\"Sentence: {sentence}\\nLabel: {label}, Label-Encoded: {label_encoded}\")"
   ]
  },
  {
   "cell_type": "code",
   "execution_count": 100,
   "metadata": {},
   "outputs": [],
   "source": [
    "sent_inp = sent2inp(sentence)\n",
    "# sent_inp"
   ]
  },
  {
   "cell_type": "code",
   "execution_count": 101,
   "metadata": {},
   "outputs": [],
   "source": [
    "output = model(sent_inp)"
   ]
  },
  {
   "cell_type": "code",
   "execution_count": 109,
   "metadata": {},
   "outputs": [
    {
     "data": {
      "text/plain": [
       "'ARG_PETITIONER'"
      ]
     },
     "execution_count": 109,
     "metadata": {},
     "output_type": "execute_result"
    }
   ],
   "source": [
    "label_encoder.inverse_transform([torch.argmax(output)]).item()"
   ]
  },
  {
   "cell_type": "code",
   "execution_count": 37,
   "metadata": {},
   "outputs": [],
   "source": [
    "loss = loss_function(output,label_encoded)"
   ]
  },
  {
   "cell_type": "code",
   "execution_count": 38,
   "metadata": {},
   "outputs": [
    {
     "data": {
      "text/plain": [
       "tensor(2.5611, grad_fn=<NllLossBackward0>)"
      ]
     },
     "execution_count": 38,
     "metadata": {},
     "output_type": "execute_result"
    }
   ],
   "source": [
    "loss"
   ]
  },
  {
   "cell_type": "code",
   "execution_count": 39,
   "metadata": {},
   "outputs": [],
   "source": [
    "loss.backward()"
   ]
  },
  {
   "cell_type": "code",
   "execution_count": 40,
   "metadata": {},
   "outputs": [],
   "source": [
    "model_opt.step()"
   ]
  },
  {
   "cell_type": "code",
   "execution_count": 41,
   "metadata": {},
   "outputs": [],
   "source": [
    "model_opt.zero_grad()"
   ]
  },
  {
   "cell_type": "markdown",
   "metadata": {},
   "source": [
    "# Batch-Learning"
   ]
  },
  {
   "cell_type": "code",
   "execution_count": 68,
   "metadata": {},
   "outputs": [],
   "source": [
    "i = 0\n",
    "sentences = []\n",
    "labels = []\n",
    "batch_label_enc = torch.Tensor()\n",
    "model.train()\n",
    "while i < 16:\n",
    "    doc_num = random.randint(0,len(data)-1)\n",
    "    if len(data[doc_num]['annotations'][0]['result']) != 0:\n",
    "        file_num = random.randint(0,len(data[doc_num]['annotations'][0]['result'])-1)\n",
    "        i += 1\n",
    "    else:\n",
    "        continue\n",
    "    # get a random training instance and label from training set\n",
    "    sentence = data[doc_num]['annotations'][0]['result'][file_num]['value']['text']\n",
    "    label = data[doc_num]['annotations'][0]['result'][file_num]['value']['labels']\n",
    "    sentences.append(sentence)\n",
    "    label_encoded = torch.from_numpy(label_encoder.transform(label)).long()\n",
    "    # create batch tensors for sentences and labels\n",
    "    batch_label_enc = torch.cat((batch_label_enc, label_encoded),dim=0).long()\n",
    "input = {}\n",
    "input['input_ids'] = torch.cat([sent2inp(sentence)['input_ids'] for sentence in sentences],dim=0)\n",
    "input['attention_mask'] = torch.cat([sent2inp(sentence)['attention_mask'] for sentence in sentences],dim=0)"
   ]
  },
  {
   "cell_type": "code",
   "execution_count": 7,
   "metadata": {},
   "outputs": [],
   "source": [
    "# i = 0\n",
    "# batch_tensor = torch.Tensor()\n",
    "# batch_label_enc = torch.Tensor()\n",
    "# model.train()\n",
    "\n",
    "# while i < 16:\n",
    "#     doc_num = random.randint(0,len(data)-1)\n",
    "#     if len(data[doc_num]['annotations'][0]['result']) != 0:\n",
    "#         file_num = random.randint(0,len(data[doc_num]['annotations'][0]['result'])-1)\n",
    "#         i += 1\n",
    "#     else:\n",
    "#         continue\n",
    "#     # get a random training instance and label from training set\n",
    "#     sentence = data[doc_num]['annotations'][0]['result'][file_num]['value']['text']\n",
    "#     label = data[doc_num]['annotations'][0]['result'][file_num]['value']['labels']\n",
    "#     # get sentence embedding and encode the label using LabelEncoder class\n",
    "#     sent_emb = sent2wordemb(sentence)\n",
    "#     label_encoded = torch.from_numpy(label_encoder.transform(label)).long()\n",
    "#     # create batch tensors for sentences and labels\n",
    "#     batch_tensor = torch.cat((batch_tensor,sent_emb),dim=0)\n",
    "#     batch_label_enc = torch.cat((batch_label_enc, label_encoded),dim=0).long()"
   ]
  },
  {
   "cell_type": "code",
   "execution_count": 69,
   "metadata": {},
   "outputs": [],
   "source": [
    "output = model(input)"
   ]
  },
  {
   "cell_type": "code",
   "execution_count": 70,
   "metadata": {},
   "outputs": [
    {
     "data": {
      "text/plain": [
       "torch.Size([16, 13])"
      ]
     },
     "execution_count": 70,
     "metadata": {},
     "output_type": "execute_result"
    }
   ],
   "source": [
    "output.size()"
   ]
  },
  {
   "cell_type": "code",
   "execution_count": 71,
   "metadata": {},
   "outputs": [
    {
     "data": {
      "text/plain": [
       "tensor(2.5638, grad_fn=<NllLossBackward0>)"
      ]
     },
     "execution_count": 71,
     "metadata": {},
     "output_type": "execute_result"
    }
   ],
   "source": [
    "loss = loss_function(output, batch_label_enc)\n",
    "loss"
   ]
  },
  {
   "cell_type": "code",
   "execution_count": 72,
   "metadata": {},
   "outputs": [],
   "source": [
    "loss.backward()"
   ]
  },
  {
   "cell_type": "code",
   "execution_count": 73,
   "metadata": {},
   "outputs": [],
   "source": [
    "model_opt.step()"
   ]
  },
  {
   "cell_type": "code",
   "execution_count": 74,
   "metadata": {},
   "outputs": [],
   "source": [
    "model_opt.zero_grad()"
   ]
  },
  {
   "cell_type": "markdown",
   "metadata": {},
   "source": [
    "# Training with batch-learning"
   ]
  },
  {
   "cell_type": "code",
   "execution_count": 12,
   "metadata": {},
   "outputs": [],
   "source": [
    "model = BiLSTM()\n",
    "model_opt = torch.optim.RMSprop(model.parameters(), lr= 0.00)\n",
    "loss_function = nn.CrossEntropyLoss()"
   ]
  },
  {
   "cell_type": "code",
   "execution_count": 13,
   "metadata": {},
   "outputs": [
    {
     "name": "stdout",
     "output_type": "stream",
     "text": [
      "---------------------Epoch 1----------------------\n",
      "Loss: 2.56515 Accuracy: 50.00\n",
      "---------------------Epoch 2----------------------\n",
      "Loss: 2.52010 Accuracy: 50.00\n",
      "---------------------Epoch 3----------------------\n",
      "Loss: 2.43526 Accuracy: 50.00\n",
      "---------------------Epoch 4----------------------\n",
      "Loss: 2.54317 Accuracy: 26.67\n",
      "---------------------Epoch 5----------------------\n",
      "Loss: 2.20016 Accuracy: 26.67\n",
      "---------------------Epoch 6----------------------\n",
      "Loss: 2.56347 Accuracy: 26.67\n",
      "---------------------Epoch 7----------------------\n",
      "Loss: 2.31730 Accuracy: 26.67\n",
      "---------------------Epoch 8----------------------\n",
      "Loss: 2.43872 Accuracy: 26.67\n",
      "---------------------Epoch 9----------------------\n",
      "Loss: 2.31522 Accuracy: 26.67\n",
      "---------------------Epoch 10---------------------\n",
      "Loss: 2.56374 Accuracy: 26.67\n",
      "---------------------Epoch 11---------------------\n",
      "Loss: 2.43920 Accuracy: 26.67\n",
      "---------------------Epoch 12---------------------\n",
      "Loss: 2.31512 Accuracy: 26.67\n",
      "---------------------Epoch 13---------------------\n",
      "Loss: 2.31506 Accuracy: 26.67\n",
      "---------------------Epoch 14---------------------\n",
      "Loss: 2.31449 Accuracy: 26.67\n",
      "---------------------Epoch 15---------------------\n",
      "Loss: 2.19040 Accuracy: 26.67\n",
      "---------------------Epoch 16---------------------\n",
      "Loss: 2.31472 Accuracy: 26.67\n",
      "---------------------Epoch 17---------------------\n",
      "Loss: 2.31508 Accuracy: 26.67\n",
      "---------------------Epoch 18---------------------\n",
      "Loss: 2.06614 Accuracy: 26.67\n",
      "---------------------Epoch 19---------------------\n",
      "Loss: 2.43934 Accuracy: 26.67\n",
      "---------------------Epoch 20---------------------\n",
      "Loss: 2.18967 Accuracy: 26.67\n",
      "---------------------Epoch 21---------------------\n",
      "Loss: 2.31432 Accuracy: 26.67\n",
      "---------------------Epoch 22---------------------\n",
      "Loss: 2.18967 Accuracy: 26.67\n",
      "---------------------Epoch 23---------------------\n",
      "Loss: 2.06470 Accuracy: 26.67\n",
      "---------------------Epoch 24---------------------\n",
      "Loss: 2.43926 Accuracy: 26.67\n",
      "---------------------Epoch 25---------------------\n",
      "Loss: 2.43897 Accuracy: 26.67\n",
      "---------------------Epoch 26---------------------\n",
      "Loss: 2.43925 Accuracy: 26.67\n",
      "---------------------Epoch 27---------------------\n",
      "Loss: 2.31421 Accuracy: 26.67\n",
      "---------------------Epoch 28---------------------\n",
      "Loss: 2.43915 Accuracy: 26.67\n",
      "---------------------Epoch 29---------------------\n",
      "Loss: 2.68871 Accuracy: 26.67\n",
      "---------------------Epoch 30---------------------\n",
      "Loss: 2.56400 Accuracy: 26.67\n",
      "---------------------Epoch 31---------------------\n",
      "Loss: 2.31413 Accuracy: 26.67\n",
      "---------------------Epoch 32---------------------\n",
      "Loss: 2.31412 Accuracy: 26.67\n",
      "---------------------Epoch 33---------------------\n",
      "Loss: 2.43919 Accuracy: 26.67\n",
      "---------------------Epoch 34---------------------\n",
      "Loss: 2.43906 Accuracy: 26.67\n",
      "---------------------Epoch 35---------------------\n",
      "Loss: 2.31461 Accuracy: 26.67\n",
      "---------------------Epoch 36---------------------\n",
      "Loss: 2.56396 Accuracy: 26.67\n",
      "---------------------Epoch 37---------------------\n",
      "Loss: 2.06499 Accuracy: 26.67\n",
      "---------------------Epoch 38---------------------\n",
      "Loss: 2.56375 Accuracy: 26.67\n",
      "---------------------Epoch 39---------------------\n",
      "Loss: 2.31431 Accuracy: 26.67\n",
      "---------------------Epoch 40---------------------\n",
      "Loss: 2.31434 Accuracy: 26.67\n",
      "---------------------Epoch 41---------------------\n",
      "Loss: 2.31432 Accuracy: 26.67\n",
      "---------------------Epoch 42---------------------\n",
      "Loss: 2.31449 Accuracy: 26.67\n",
      "---------------------Epoch 43---------------------\n",
      "Loss: 2.31434 Accuracy: 26.67\n",
      "---------------------Epoch 44---------------------\n",
      "Loss: 2.56394 Accuracy: 26.67\n",
      "---------------------Epoch 45---------------------\n",
      "Loss: 2.31437 Accuracy: 26.67\n",
      "---------------------Epoch 46---------------------\n",
      "Loss: 2.56390 Accuracy: 26.67\n",
      "---------------------Epoch 47---------------------\n",
      "Loss: 2.18931 Accuracy: 26.67\n",
      "---------------------Epoch 48---------------------\n",
      "Loss: 2.31412 Accuracy: 26.67\n",
      "---------------------Epoch 49---------------------\n",
      "Loss: 2.43912 Accuracy: 26.67\n",
      "---------------------Epoch 50---------------------\n",
      "Loss: 2.43906 Accuracy: 26.67\n",
      "---------------------Epoch 51---------------------\n",
      "Loss: 2.31418 Accuracy: 26.67\n",
      "---------------------Epoch 52---------------------\n",
      "Loss: 2.18931 Accuracy: 26.67\n",
      "---------------------Epoch 53---------------------\n",
      "Loss: 2.31423 Accuracy: 26.67\n",
      "---------------------Epoch 54---------------------\n",
      "Loss: 2.18922 Accuracy: 26.67\n",
      "---------------------Epoch 55---------------------\n",
      "Loss: 2.43908 Accuracy: 26.67\n",
      "---------------------Epoch 56---------------------\n",
      "Loss: 2.56391 Accuracy: 26.67\n",
      "---------------------Epoch 57---------------------\n",
      "Loss: 2.56384 Accuracy: 26.67\n",
      "---------------------Epoch 58---------------------\n",
      "Loss: 2.43889 Accuracy: 26.67\n",
      "---------------------Epoch 59---------------------\n",
      "Loss: 2.18921 Accuracy: 26.67\n",
      "---------------------Epoch 60---------------------\n",
      "Loss: 2.56405 Accuracy: 26.67\n",
      "---------------------Epoch 61---------------------\n",
      "Loss: 2.43907 Accuracy: 26.67\n",
      "---------------------Epoch 62---------------------\n",
      "Loss: 2.31432 Accuracy: 26.67\n",
      "---------------------Epoch 63---------------------\n",
      "Loss: 2.56401 Accuracy: 26.67\n"
     ]
    },
    {
     "ename": "KeyboardInterrupt",
     "evalue": "",
     "output_type": "error",
     "traceback": [
      "\u001b[0;31m---------------------------------------------------------------------------\u001b[0m",
      "\u001b[0;31mKeyboardInterrupt\u001b[0m                         Traceback (most recent call last)",
      "\u001b[0;32m/tmp/ipykernel_19649/3555736866.py\u001b[0m in \u001b[0;36m<module>\u001b[0;34m\u001b[0m\n\u001b[1;32m     34\u001b[0m     \u001b[0mmodel_opt\u001b[0m\u001b[0;34m.\u001b[0m\u001b[0mstep\u001b[0m\u001b[0;34m(\u001b[0m\u001b[0;34m)\u001b[0m\u001b[0;34m\u001b[0m\u001b[0;34m\u001b[0m\u001b[0m\n\u001b[1;32m     35\u001b[0m \u001b[0;34m\u001b[0m\u001b[0m\n\u001b[0;32m---> 36\u001b[0;31m     \u001b[0macc\u001b[0m \u001b[0;34m=\u001b[0m \u001b[0maccuracy\u001b[0m\u001b[0;34m(\u001b[0m\u001b[0mtest_inputs\u001b[0m\u001b[0;34m,\u001b[0m \u001b[0mtest_labels\u001b[0m\u001b[0;34m,\u001b[0m \u001b[0mmodel\u001b[0m\u001b[0;34m)\u001b[0m \u001b[0;34m*\u001b[0m \u001b[0;36m100\u001b[0m\u001b[0;34m\u001b[0m\u001b[0;34m\u001b[0m\u001b[0m\n\u001b[0m\u001b[1;32m     37\u001b[0m     \u001b[0macc_list\u001b[0m\u001b[0;34m.\u001b[0m\u001b[0mappend\u001b[0m\u001b[0;34m(\u001b[0m\u001b[0macc\u001b[0m\u001b[0;34m)\u001b[0m\u001b[0;34m\u001b[0m\u001b[0;34m\u001b[0m\u001b[0m\n\u001b[1;32m     38\u001b[0m \u001b[0;34m\u001b[0m\u001b[0m\n",
      "\u001b[0;32m/tmp/ipykernel_19649/1447135854.py\u001b[0m in \u001b[0;36maccuracy\u001b[0;34m(test_input, test_label, model)\u001b[0m\n\u001b[1;32m     50\u001b[0m     \u001b[0mmodel\u001b[0m\u001b[0;34m.\u001b[0m\u001b[0meval\u001b[0m\u001b[0;34m(\u001b[0m\u001b[0;34m)\u001b[0m\u001b[0;34m\u001b[0m\u001b[0;34m\u001b[0m\u001b[0m\n\u001b[1;32m     51\u001b[0m     \u001b[0;32mwith\u001b[0m \u001b[0mtorch\u001b[0m\u001b[0;34m.\u001b[0m\u001b[0mno_grad\u001b[0m\u001b[0;34m(\u001b[0m\u001b[0;34m)\u001b[0m\u001b[0;34m:\u001b[0m\u001b[0;34m\u001b[0m\u001b[0;34m\u001b[0m\u001b[0m\n\u001b[0;32m---> 52\u001b[0;31m         \u001b[0mpredictions\u001b[0m \u001b[0;34m=\u001b[0m \u001b[0mmodel\u001b[0m\u001b[0;34m(\u001b[0m\u001b[0mtest_input\u001b[0m\u001b[0;34m)\u001b[0m\u001b[0;34m\u001b[0m\u001b[0;34m\u001b[0m\u001b[0m\n\u001b[0m\u001b[1;32m     53\u001b[0m     \u001b[0mhits\u001b[0m \u001b[0;34m=\u001b[0m \u001b[0msum\u001b[0m\u001b[0;34m(\u001b[0m\u001b[0mpredictions\u001b[0m\u001b[0;34m.\u001b[0m\u001b[0margmax\u001b[0m\u001b[0;34m(\u001b[0m\u001b[0mdim\u001b[0m\u001b[0;34m=\u001b[0m\u001b[0;36m1\u001b[0m\u001b[0;34m)\u001b[0m \u001b[0;34m==\u001b[0m \u001b[0mtest_label\u001b[0m\u001b[0;34m)\u001b[0m\u001b[0;34m.\u001b[0m\u001b[0mitem\u001b[0m\u001b[0;34m(\u001b[0m\u001b[0;34m)\u001b[0m\u001b[0;34m\u001b[0m\u001b[0;34m\u001b[0m\u001b[0m\n\u001b[1;32m     54\u001b[0m \u001b[0;34m\u001b[0m\u001b[0m\n",
      "\u001b[0;32m~/.local/lib/python3.8/site-packages/torch/nn/modules/module.py\u001b[0m in \u001b[0;36m_wrapped_call_impl\u001b[0;34m(self, *args, **kwargs)\u001b[0m\n\u001b[1;32m   1516\u001b[0m             \u001b[0;32mreturn\u001b[0m \u001b[0mself\u001b[0m\u001b[0;34m.\u001b[0m\u001b[0m_compiled_call_impl\u001b[0m\u001b[0;34m(\u001b[0m\u001b[0;34m*\u001b[0m\u001b[0margs\u001b[0m\u001b[0;34m,\u001b[0m \u001b[0;34m**\u001b[0m\u001b[0mkwargs\u001b[0m\u001b[0;34m)\u001b[0m  \u001b[0;31m# type: ignore[misc]\u001b[0m\u001b[0;34m\u001b[0m\u001b[0;34m\u001b[0m\u001b[0m\n\u001b[1;32m   1517\u001b[0m         \u001b[0;32melse\u001b[0m\u001b[0;34m:\u001b[0m\u001b[0;34m\u001b[0m\u001b[0;34m\u001b[0m\u001b[0m\n\u001b[0;32m-> 1518\u001b[0;31m             \u001b[0;32mreturn\u001b[0m \u001b[0mself\u001b[0m\u001b[0;34m.\u001b[0m\u001b[0m_call_impl\u001b[0m\u001b[0;34m(\u001b[0m\u001b[0;34m*\u001b[0m\u001b[0margs\u001b[0m\u001b[0;34m,\u001b[0m \u001b[0;34m**\u001b[0m\u001b[0mkwargs\u001b[0m\u001b[0;34m)\u001b[0m\u001b[0;34m\u001b[0m\u001b[0;34m\u001b[0m\u001b[0m\n\u001b[0m\u001b[1;32m   1519\u001b[0m \u001b[0;34m\u001b[0m\u001b[0m\n\u001b[1;32m   1520\u001b[0m     \u001b[0;32mdef\u001b[0m \u001b[0m_call_impl\u001b[0m\u001b[0;34m(\u001b[0m\u001b[0mself\u001b[0m\u001b[0;34m,\u001b[0m \u001b[0;34m*\u001b[0m\u001b[0margs\u001b[0m\u001b[0;34m,\u001b[0m \u001b[0;34m**\u001b[0m\u001b[0mkwargs\u001b[0m\u001b[0;34m)\u001b[0m\u001b[0;34m:\u001b[0m\u001b[0;34m\u001b[0m\u001b[0;34m\u001b[0m\u001b[0m\n",
      "\u001b[0;32m~/.local/lib/python3.8/site-packages/torch/nn/modules/module.py\u001b[0m in \u001b[0;36m_call_impl\u001b[0;34m(self, *args, **kwargs)\u001b[0m\n\u001b[1;32m   1525\u001b[0m                 \u001b[0;32mor\u001b[0m \u001b[0m_global_backward_pre_hooks\u001b[0m \u001b[0;32mor\u001b[0m \u001b[0m_global_backward_hooks\u001b[0m\u001b[0;34m\u001b[0m\u001b[0;34m\u001b[0m\u001b[0m\n\u001b[1;32m   1526\u001b[0m                 or _global_forward_hooks or _global_forward_pre_hooks):\n\u001b[0;32m-> 1527\u001b[0;31m             \u001b[0;32mreturn\u001b[0m \u001b[0mforward_call\u001b[0m\u001b[0;34m(\u001b[0m\u001b[0;34m*\u001b[0m\u001b[0margs\u001b[0m\u001b[0;34m,\u001b[0m \u001b[0;34m**\u001b[0m\u001b[0mkwargs\u001b[0m\u001b[0;34m)\u001b[0m\u001b[0;34m\u001b[0m\u001b[0;34m\u001b[0m\u001b[0m\n\u001b[0m\u001b[1;32m   1528\u001b[0m \u001b[0;34m\u001b[0m\u001b[0m\n\u001b[1;32m   1529\u001b[0m         \u001b[0;32mtry\u001b[0m\u001b[0;34m:\u001b[0m\u001b[0;34m\u001b[0m\u001b[0;34m\u001b[0m\u001b[0m\n",
      "\u001b[0;32m/tmp/ipykernel_19649/2407009674.py\u001b[0m in \u001b[0;36mforward\u001b[0;34m(self, x)\u001b[0m\n\u001b[1;32m     38\u001b[0m                 \u001b[0mout\u001b[0m\u001b[0;34m,\u001b[0m \u001b[0;34m(\u001b[0m\u001b[0mhidden\u001b[0m\u001b[0;34m,\u001b[0m\u001b[0mcell\u001b[0m\u001b[0;34m)\u001b[0m \u001b[0;34m=\u001b[0m \u001b[0mself\u001b[0m\u001b[0;34m.\u001b[0m\u001b[0mbilstm\u001b[0m\u001b[0;34m(\u001b[0m\u001b[0moutput\u001b[0m\u001b[0;34m[\u001b[0m\u001b[0;34m:\u001b[0m\u001b[0;34m,\u001b[0m\u001b[0mi\u001b[0m\u001b[0;34m,\u001b[0m\u001b[0;34m:\u001b[0m\u001b[0;34m]\u001b[0m\u001b[0;34m)\u001b[0m\u001b[0;34m\u001b[0m\u001b[0;34m\u001b[0m\u001b[0m\n\u001b[1;32m     39\u001b[0m             \u001b[0;32melse\u001b[0m\u001b[0;34m:\u001b[0m\u001b[0;34m\u001b[0m\u001b[0;34m\u001b[0m\u001b[0m\n\u001b[0;32m---> 40\u001b[0;31m                 \u001b[0mout\u001b[0m\u001b[0;34m,\u001b[0m \u001b[0;34m(\u001b[0m\u001b[0mhidden\u001b[0m\u001b[0;34m,\u001b[0m\u001b[0mcell\u001b[0m\u001b[0;34m)\u001b[0m \u001b[0;34m=\u001b[0m \u001b[0mself\u001b[0m\u001b[0;34m.\u001b[0m\u001b[0mbilstm\u001b[0m\u001b[0;34m(\u001b[0m\u001b[0moutput\u001b[0m\u001b[0;34m[\u001b[0m\u001b[0;34m:\u001b[0m\u001b[0;34m,\u001b[0m\u001b[0mi\u001b[0m\u001b[0;34m,\u001b[0m\u001b[0;34m:\u001b[0m\u001b[0;34m]\u001b[0m\u001b[0;34m,\u001b[0m\u001b[0;34m(\u001b[0m\u001b[0mhidden\u001b[0m\u001b[0;34m,\u001b[0m\u001b[0mcell\u001b[0m\u001b[0;34m)\u001b[0m\u001b[0;34m)\u001b[0m\u001b[0;34m\u001b[0m\u001b[0;34m\u001b[0m\u001b[0m\n\u001b[0m\u001b[1;32m     41\u001b[0m \u001b[0;34m\u001b[0m\u001b[0m\n\u001b[1;32m     42\u001b[0m         \u001b[0;31m# # Fully connected layers\u001b[0m\u001b[0;34m\u001b[0m\u001b[0;34m\u001b[0m\u001b[0;34m\u001b[0m\u001b[0m\n",
      "\u001b[0;32m~/.local/lib/python3.8/site-packages/torch/nn/modules/module.py\u001b[0m in \u001b[0;36m_wrapped_call_impl\u001b[0;34m(self, *args, **kwargs)\u001b[0m\n\u001b[1;32m   1516\u001b[0m             \u001b[0;32mreturn\u001b[0m \u001b[0mself\u001b[0m\u001b[0;34m.\u001b[0m\u001b[0m_compiled_call_impl\u001b[0m\u001b[0;34m(\u001b[0m\u001b[0;34m*\u001b[0m\u001b[0margs\u001b[0m\u001b[0;34m,\u001b[0m \u001b[0;34m**\u001b[0m\u001b[0mkwargs\u001b[0m\u001b[0;34m)\u001b[0m  \u001b[0;31m# type: ignore[misc]\u001b[0m\u001b[0;34m\u001b[0m\u001b[0;34m\u001b[0m\u001b[0m\n\u001b[1;32m   1517\u001b[0m         \u001b[0;32melse\u001b[0m\u001b[0;34m:\u001b[0m\u001b[0;34m\u001b[0m\u001b[0;34m\u001b[0m\u001b[0m\n\u001b[0;32m-> 1518\u001b[0;31m             \u001b[0;32mreturn\u001b[0m \u001b[0mself\u001b[0m\u001b[0;34m.\u001b[0m\u001b[0m_call_impl\u001b[0m\u001b[0;34m(\u001b[0m\u001b[0;34m*\u001b[0m\u001b[0margs\u001b[0m\u001b[0;34m,\u001b[0m \u001b[0;34m**\u001b[0m\u001b[0mkwargs\u001b[0m\u001b[0;34m)\u001b[0m\u001b[0;34m\u001b[0m\u001b[0;34m\u001b[0m\u001b[0m\n\u001b[0m\u001b[1;32m   1519\u001b[0m \u001b[0;34m\u001b[0m\u001b[0m\n\u001b[1;32m   1520\u001b[0m     \u001b[0;32mdef\u001b[0m \u001b[0m_call_impl\u001b[0m\u001b[0;34m(\u001b[0m\u001b[0mself\u001b[0m\u001b[0;34m,\u001b[0m \u001b[0;34m*\u001b[0m\u001b[0margs\u001b[0m\u001b[0;34m,\u001b[0m \u001b[0;34m**\u001b[0m\u001b[0mkwargs\u001b[0m\u001b[0;34m)\u001b[0m\u001b[0;34m:\u001b[0m\u001b[0;34m\u001b[0m\u001b[0;34m\u001b[0m\u001b[0m\n",
      "\u001b[0;32m~/.local/lib/python3.8/site-packages/torch/nn/modules/module.py\u001b[0m in \u001b[0;36m_call_impl\u001b[0;34m(self, *args, **kwargs)\u001b[0m\n\u001b[1;32m   1525\u001b[0m                 \u001b[0;32mor\u001b[0m \u001b[0m_global_backward_pre_hooks\u001b[0m \u001b[0;32mor\u001b[0m \u001b[0m_global_backward_hooks\u001b[0m\u001b[0;34m\u001b[0m\u001b[0;34m\u001b[0m\u001b[0m\n\u001b[1;32m   1526\u001b[0m                 or _global_forward_hooks or _global_forward_pre_hooks):\n\u001b[0;32m-> 1527\u001b[0;31m             \u001b[0;32mreturn\u001b[0m \u001b[0mforward_call\u001b[0m\u001b[0;34m(\u001b[0m\u001b[0;34m*\u001b[0m\u001b[0margs\u001b[0m\u001b[0;34m,\u001b[0m \u001b[0;34m**\u001b[0m\u001b[0mkwargs\u001b[0m\u001b[0;34m)\u001b[0m\u001b[0;34m\u001b[0m\u001b[0;34m\u001b[0m\u001b[0m\n\u001b[0m\u001b[1;32m   1528\u001b[0m \u001b[0;34m\u001b[0m\u001b[0m\n\u001b[1;32m   1529\u001b[0m         \u001b[0;32mtry\u001b[0m\u001b[0;34m:\u001b[0m\u001b[0;34m\u001b[0m\u001b[0;34m\u001b[0m\u001b[0m\n",
      "\u001b[0;32m~/.local/lib/python3.8/site-packages/torch/nn/modules/rnn.py\u001b[0m in \u001b[0;36mforward\u001b[0;34m(self, input, hx)\u001b[0m\n\u001b[1;32m    877\u001b[0m \u001b[0;34m\u001b[0m\u001b[0m\n\u001b[1;32m    878\u001b[0m         \u001b[0;32mif\u001b[0m \u001b[0mbatch_sizes\u001b[0m \u001b[0;32mis\u001b[0m \u001b[0;32mNone\u001b[0m\u001b[0;34m:\u001b[0m\u001b[0;34m\u001b[0m\u001b[0;34m\u001b[0m\u001b[0m\n\u001b[0;32m--> 879\u001b[0;31m             result = _VF.lstm(input, hx, self._flat_weights, self.bias, self.num_layers,\n\u001b[0m\u001b[1;32m    880\u001b[0m                               self.dropout, self.training, self.bidirectional, self.batch_first)\n\u001b[1;32m    881\u001b[0m         \u001b[0;32melse\u001b[0m\u001b[0;34m:\u001b[0m\u001b[0;34m\u001b[0m\u001b[0;34m\u001b[0m\u001b[0m\n",
      "\u001b[0;31mKeyboardInterrupt\u001b[0m: "
     ]
    }
   ],
   "source": [
    "epoch = 0\n",
    "loss_list = []\n",
    "acc_list = []\n",
    "\n",
    "while epoch < 100:\n",
    "    i = 0\n",
    "    sentences = []\n",
    "    labels = []\n",
    "    batch_label_enc = torch.Tensor()\n",
    "    model.train()\n",
    "    while i < 8:\n",
    "        doc_num = random.randint(0,len(data)-1)\n",
    "        if len(data[doc_num]['annotations'][0]['result']) != 0:\n",
    "            file_num = random.randint(0,len(data[doc_num]['annotations'][0]['result'])-1)\n",
    "            i += 1\n",
    "        else:\n",
    "            continue\n",
    "        # get a random training instance and label from training set\n",
    "        sentence = data[doc_num]['annotations'][0]['result'][file_num]['value']['text']\n",
    "        label = data[doc_num]['annotations'][0]['result'][file_num]['value']['labels']\n",
    "        sentences.append(sentence)\n",
    "        label_encoded = torch.from_numpy(label_encoder.transform(label)).long()\n",
    "        # create batch tensors for labels\n",
    "        batch_label_enc = torch.cat((batch_label_enc, label_encoded),dim=0).long()\n",
    "    input = {}\n",
    "    input['input_ids'] = torch.cat([sent2inp(sentence)['input_ids'] for sentence in sentences],dim=0)\n",
    "    input['attention_mask'] = torch.cat([sent2inp(sentence)['attention_mask'] for sentence in sentences],dim=0)\n",
    "    \n",
    "    model_opt.zero_grad()\n",
    "    output = model(input)\n",
    "    loss = loss_function(output,batch_label_enc)\n",
    "    loss_list.append(loss.item())\n",
    "    loss.backward()\n",
    "    model_opt.step()\n",
    "    \n",
    "    acc = accuracy(test_inputs, test_labels, model) * 100\n",
    "    acc_list.append(acc)\n",
    "    \n",
    "    epoch += 1\n",
    "    print(f\"{f'Epoch {epoch}':-^50}\\nLoss: {loss.item():.5f} Accuracy: {acc:.2f}\")\n",
    "    "
   ]
  },
  {
   "cell_type": "code",
   "execution_count": 14,
   "metadata": {},
   "outputs": [
    {
     "data": {
      "text/plain": [
       "<AxesSubplot:>"
      ]
     },
     "execution_count": 14,
     "metadata": {},
     "output_type": "execute_result"
    },
    {
     "data": {
      "image/png": "[encoded data removed]",
      "text/plain": [
       "<Figure size 432x288 with 1 Axes>"
      ]
     },
     "metadata": {
      "needs_background": "light"
     },
     "output_type": "display_data"
    }
   ],
   "source": [
    "import seaborn as sns\n",
    "\n",
    "sns.lineplot(x=range(len(loss_list)),y=loss_list)"
   ]
  },
  {
   "cell_type": "code",
   "execution_count": 78,
   "metadata": {},
   "outputs": [],
   "source": [
    "a = 2e-5"
   ]
  },
  {
   "cell_type": "code",
   "execution_count": null,
   "metadata": {},
   "outputs": [],
   "source": []
  }
 ],
 "metadata": {
  "kernelspec": {
   "display_name": "Python 3",
   "language": "python",
   "name": "python3"
  },
  "language_info": {
   "codemirror_mode": {
    "name": "ipython",
    "version": 3
   },
   "file_extension": ".py",
   "mimetype": "text/x-python",
   "name": "python",
   "nbconvert_exporter": "python",
   "pygments_lexer": "ipython3",
   "version": "3.8.10"
  }
 },
 "nbformat": 4,
 "nbformat_minor": 2
}
