{
 "cells": [
  {
   "cell_type": "code",
   "execution_count": 1,
   "metadata": {},
   "outputs": [],
   "source": [
    "import json\n",
    "\n",
    "with open('../data/train.json', 'r') as file:\n",
    "    train_data = json.load(file)\n",
    "\n",
    "with open('../data/dev.json', 'r') as file:\n",
    "    test_data = json.load(file)"
   ]
  },
  {
   "cell_type": "code",
   "execution_count": 2,
   "metadata": {},
   "outputs": [],
   "source": [
    "import torch\n",
    "import torch.nn as nn\n",
    "from torch.utils.data import Dataset, DataLoader"
   ]
  },
  {
   "cell_type": "code",
   "execution_count": 3,
   "metadata": {},
   "outputs": [],
   "source": [
    "class Dataset_Reader(Dataset):\n",
    "    def __init__(self, data):\n",
    "        self.data = data\n",
    "\n",
    "        self.texts = []\n",
    "        self.labels = []\n",
    "        for idx, document in enumerate(data):\n",
    "            current_id = document['id']\n",
    "            # current_meta = document['meta']['group']\n",
    "            for annotation in document['annotations']:\n",
    "                for sentence in annotation['result']:\n",
    "                    text = sentence['value']['text'].lower().replace('\\n', '')\n",
    "                    label = sentence['value']['labels'][0]\n",
    "\n",
    "                    self.texts.append(text)\n",
    "                    self.labels.append(label)\n",
    "\n",
    "    def __len__(self):\n",
    "        return len(self.texts)\n",
    "\n",
    "    def __getitem__(self, idx):\n",
    "        return {\n",
    "            'text': self.texts[idx],\n",
    "            'label': self.labels[idx],\n",
    "        }"
   ]
  },
  {
   "cell_type": "code",
   "execution_count": 4,
   "metadata": {},
   "outputs": [],
   "source": [
    "data_train = Dataset_Reader(train_data)\n",
    "data_test = Dataset_Reader(test_data)"
   ]
  },
  {
   "cell_type": "code",
   "execution_count": 5,
   "metadata": {},
   "outputs": [
    {
     "name": "stdout",
     "output_type": "stream",
     "text": [
      "Number of documents for training : 247\n",
      "Number of documents for testing : 30\n",
      "Number of sentences for training : 28986\n",
      "Number of sentences for testing : 2890\n"
     ]
    }
   ],
   "source": [
    "print(f\"Number of documents for training : {len(train_data)}\")\n",
    "print(f\"Number of documents for testing : {len(test_data)}\")\n",
    "print(f\"Number of sentences for training : {len(data_train)}\")\n",
    "print(f\"Number of sentences for testing : {len(data_test)}\")"
   ]
  },
  {
   "cell_type": "code",
   "execution_count": 7,
   "metadata": {},
   "outputs": [],
   "source": [
    "from collections import Counter"
   ]
  },
  {
   "cell_type": "code",
   "execution_count": 8,
   "metadata": {},
   "outputs": [
    {
     "data": {
      "text/plain": [
       "Counter({'PREAMBLE': 4167,\n",
       "         'NONE': 1423,\n",
       "         'FAC': 5744,\n",
       "         'ARG_RESPONDENT': 698,\n",
       "         'RLC': 752,\n",
       "         'ARG_PETITIONER': 1315,\n",
       "         'ANALYSIS': 10695,\n",
       "         'PRE_RELIED': 1431,\n",
       "         'RATIO': 674,\n",
       "         'RPC': 1081,\n",
       "         'ISSUE': 367,\n",
       "         'STA': 481,\n",
       "         'PRE_NOT_RELIED': 158})"
      ]
     },
     "execution_count": 8,
     "metadata": {},
     "output_type": "execute_result"
    }
   ],
   "source": [
    "Counter(data_train.labels)"
   ]
  },
  {
   "cell_type": "code",
   "execution_count": 20,
   "metadata": {},
   "outputs": [
    {
     "data": {
      "text/plain": [
       "['ANALYSIS',\n",
       " 'ARG_PETITIONER',\n",
       " 'ARG_RESPONDENT',\n",
       " 'FAC',\n",
       " 'ISSUE',\n",
       " 'NONE',\n",
       " 'PREAMBLE',\n",
       " 'PRE_NOT_RELIED',\n",
       " 'PRE_RELIED',\n",
       " 'RATIO',\n",
       " 'RLC',\n",
       " 'RPC',\n",
       " 'STA']"
      ]
     },
     "execution_count": 20,
     "metadata": {},
     "output_type": "execute_result"
    }
   ],
   "source": [
    "Counter(data_test.labels)"
   ]
  },
  {
   "cell_type": "code",
   "execution_count": 44,
   "metadata": {},
   "outputs": [],
   "source": [
    "import seaborn as sns\n",
    "import matplotlib\n",
    "import matplotlib.pyplot as plt"
   ]
  },
  {
   "cell_type": "code",
   "execution_count": 45,
   "metadata": {},
   "outputs": [],
   "source": [
    "plot_data = Counter(data_train.labels)\n",
    "plot_data = dict(sorted(plot_data.items(), key=lambda item: item[1], reverse= True))"
   ]
  },
  {
   "cell_type": "code",
   "execution_count": 58,
   "metadata": {},
   "outputs": [
    {
     "data": {
      "image/png": "[encoded data removed]",
      "text/plain": [
       "<Figure size 432x288 with 1 Axes>"
      ]
     },
     "metadata": {},
     "output_type": "display_data"
    }
   ],
   "source": [
    "sns.set_theme('notebook')\n",
    "fig, ax = plt.subplots()\n",
    "sns.barplot(ax= ax, x= list(plot_data.values()), y= list(plot_data.keys()))\n",
    "# ax.set_yticks(ticks= range(len(plot_data)), labels= ['PREAMBLE', 'NONE', 'FACT', 'ARGUMENT RESPONDENT', 'RULING BY LOWER COURT', \n",
    "            #   'ARGUMENT PETITIONER', 'ANALYSIS', 'PRECEDENT RELIED UPON', 'RATIO', \n",
    "            #   'RULING BY PRESENT COURT', 'ISSUE', 'STATUTE', 'PRECEDENT NOT RELIED UPON'], rotation=45);\n",
    "ax.get_xaxis().set_major_formatter(\n",
    "    matplotlib.ticker.FuncFormatter(lambda x, p: format(int(x), ',')));\n",
    "ax.set_xlabel(\"Count\",fontdict= {'fontsize':14});\n",
    "ax.set_ylabel(\"Rhetorical Role\",fontdict= {'fontsize':14});\n",
    "fig.tight_layout()\n",
    "fig.savefig(\"../output/LabelDistribution.png\", dpi=300)"
   ]
  },
  {
   "cell_type": "code",
   "execution_count": 67,
   "metadata": {},
   "outputs": [],
   "source": [
    "from operator import itemgetter"
   ]
  },
  {
   "cell_type": "code",
   "execution_count": 70,
   "metadata": {},
   "outputs": [
    {
     "name": "stdout",
     "output_type": "stream",
     "text": [
      "Percentage of data by top 3: 0.7108949147864486\n"
     ]
    }
   ],
   "source": [
    "print(f\"Percentage of data by top 3: {sum(itemgetter('ANALYSIS','FAC','PREAMBLE')(plot_data)) / len(data_train)}\")"
   ]
  },
  {
   "cell_type": "code",
   "execution_count": 71,
   "metadata": {},
   "outputs": [
    {
     "name": "stdout",
     "output_type": "stream",
     "text": [
      "Percentage of data by bottom 3: 0.034706409991030154\n"
     ]
    }
   ],
   "source": [
    "print(f\"Percentage of data by bottom 3: {sum(itemgetter('STA','ISSUE','PRE_NOT_RELIED')(plot_data)) / len(data_train)}\")"
   ]
  },
  {
   "cell_type": "code",
   "execution_count": 76,
   "metadata": {},
   "outputs": [
    {
     "data": {
      "text/html": [
       "<div>\n",
       "<style scoped>\n",
       "    .dataframe tbody tr th:only-of-type {\n",
       "        vertical-align: middle;\n",
       "    }\n",
       "\n",
       "    .dataframe tbody tr th {\n",
       "        vertical-align: top;\n",
       "    }\n",
       "\n",
       "    .dataframe thead th {\n",
       "        text-align: right;\n",
       "    }\n",
       "</style>\n",
       "<table border=\"1\" class=\"dataframe\">\n",
       "  <thead>\n",
       "    <tr style=\"text-align: right;\">\n",
       "      <th></th>\n",
       "      <th>texts</th>\n",
       "      <th>labels</th>\n",
       "    </tr>\n",
       "  </thead>\n",
       "  <tbody>\n",
       "    <tr>\n",
       "      <th>9156</th>\n",
       "      <td>in a criminal case, the veiledobject behind a ...</td>\n",
       "      <td>PREAMBLE</td>\n",
       "    </tr>\n",
       "    <tr>\n",
       "      <th>22816</th>\n",
       "      <td>this expediency will normally be judged by the...</td>\n",
       "      <td>ANALYSIS</td>\n",
       "    </tr>\n",
       "    <tr>\n",
       "      <th>7489</th>\n",
       "      <td>still he has executed the sale deed on 4.9.200...</td>\n",
       "      <td>ARG_RESPONDENT</td>\n",
       "    </tr>\n",
       "    <tr>\n",
       "      <th>20633</th>\n",
       "      <td>dictated and corrected by me.</td>\n",
       "      <td>NONE</td>\n",
       "    </tr>\n",
       "    <tr>\n",
       "      <th>24894</th>\n",
       "      <td>2. briefly stated, the case of the prosecution...</td>\n",
       "      <td>FAC</td>\n",
       "    </tr>\n",
       "    <tr>\n",
       "      <th>22156</th>\n",
       "      <td>p.w.1 and p.w.2 both are residents of village ...</td>\n",
       "      <td>FAC</td>\n",
       "    </tr>\n",
       "    <tr>\n",
       "      <th>4216</th>\n",
       "      <td>according to the high court the entire approac...</td>\n",
       "      <td>FAC</td>\n",
       "    </tr>\n",
       "    <tr>\n",
       "      <th>28444</th>\n",
       "      <td>ultimately it was decided by the supreme court...</td>\n",
       "      <td>FAC</td>\n",
       "    </tr>\n",
       "    <tr>\n",
       "      <th>3884</th>\n",
       "      <td>concurrent auditor of the bank also pointed ou...</td>\n",
       "      <td>FAC</td>\n",
       "    </tr>\n",
       "    <tr>\n",
       "      <th>14002</th>\n",
       "      <td>since, in our view, there is no evidence to co...</td>\n",
       "      <td>ANALYSIS</td>\n",
       "    </tr>\n",
       "  </tbody>\n",
       "</table>\n",
       "</div>"
      ],
      "text/plain": [
       "                                                   texts          labels\n",
       "9156   in a criminal case, the veiledobject behind a ...        PREAMBLE\n",
       "22816  this expediency will normally be judged by the...        ANALYSIS\n",
       "7489   still he has executed the sale deed on 4.9.200...  ARG_RESPONDENT\n",
       "20633                      dictated and corrected by me.            NONE\n",
       "24894  2. briefly stated, the case of the prosecution...             FAC\n",
       "22156  p.w.1 and p.w.2 both are residents of village ...             FAC\n",
       "4216   according to the high court the entire approac...             FAC\n",
       "28444  ultimately it was decided by the supreme court...             FAC\n",
       "3884   concurrent auditor of the bank also pointed ou...             FAC\n",
       "14002  since, in our view, there is no evidence to co...        ANALYSIS"
      ]
     },
     "execution_count": 76,
     "metadata": {},
     "output_type": "execute_result"
    }
   ],
   "source": [
    "import pandas as pd\n",
    "import numpy as np\n",
    "\n",
    "df = pd.DataFrame({'texts': data_train.texts, 'labels': data_train.labels})\n",
    "df.sample(10)"
   ]
  },
  {
   "cell_type": "code",
   "execution_count": 79,
   "metadata": {},
   "outputs": [],
   "source": [
    "avg_len_dict = {}\n",
    "for i in plot_data.keys():\n",
    "    avg_len_dict[i] = int(np.mean(df[df.labels == i]['texts'].apply(len)))"
   ]
  },
  {
   "cell_type": "code",
   "execution_count": 86,
   "metadata": {},
   "outputs": [
    {
     "data": {
      "text/plain": [
       "184.3846153846154"
      ]
     },
     "execution_count": 86,
     "metadata": {},
     "output_type": "execute_result"
    }
   ],
   "source": [
    "np.mean(list(avg_len_dict.values()))"
   ]
  },
  {
   "cell_type": "code",
   "execution_count": 87,
   "metadata": {},
   "outputs": [
    {
     "data": {
      "text/plain": [
       "58.53537846930161"
      ]
     },
     "execution_count": 87,
     "metadata": {},
     "output_type": "execute_result"
    }
   ],
   "source": [
    "np.std(list(avg_len_dict.values()))"
   ]
  },
  {
   "cell_type": "code",
   "execution_count": 88,
   "metadata": {},
   "outputs": [
    {
     "data": {
      "text/plain": [
       "{'ANALYSIS': 170,\n",
       " 'FAC': 153,\n",
       " 'PREAMBLE': 124,\n",
       " 'PRE_RELIED': 214,\n",
       " 'NONE': 78,\n",
       " 'ARG_PETITIONER': 195,\n",
       " 'RPC': 120,\n",
       " 'RLC': 194,\n",
       " 'ARG_RESPONDENT': 192,\n",
       " 'RATIO': 187,\n",
       " 'STA': 327,\n",
       " 'ISSUE': 221,\n",
       " 'PRE_NOT_RELIED': 222}"
      ]
     },
     "execution_count": 88,
     "metadata": {},
     "output_type": "execute_result"
    }
   ],
   "source": [
    "avg_len_dict"
   ]
  },
  {
   "cell_type": "code",
   "execution_count": 81,
   "metadata": {},
   "outputs": [],
   "source": [
    "sorted_avg_len_dict = dict(sorted(avg_len_dict.items(), key=lambda item: item[1], reverse= True))"
   ]
  },
  {
   "cell_type": "code",
   "execution_count": 84,
   "metadata": {},
   "outputs": [
    {
     "data": {
      "image/png": "[encoded data removed]",
      "text/plain": [
       "<Figure size 432x288 with 1 Axes>"
      ]
     },
     "metadata": {},
     "output_type": "display_data"
    }
   ],
   "source": [
    "sns.set_theme('notebook')\n",
    "fig, ax = plt.subplots()\n",
    "sns.barplot(ax= ax, x= list(sorted_avg_len_dict.values()), y= list(sorted_avg_len_dict.keys()))\n",
    "# ax.set_yticks(ticks= range(len(plot_data)), labels= ['PREAMBLE', 'NONE', 'FACT', 'ARGUMENT RESPONDENT', 'RULING BY LOWER COURT', \n",
    "            #   'ARGUMENT PETITIONER', 'ANALYSIS', 'PRECEDENT RELIED UPON', 'RATIO', \n",
    "            #   'RULING BY PRESENT COURT', 'ISSUE', 'STATUTE', 'PRECEDENT NOT RELIED UPON'], rotation=45);\n",
    "ax.get_xaxis().set_major_formatter(\n",
    "    matplotlib.ticker.FuncFormatter(lambda x, p: format(int(x), ',')));\n",
    "ax.set_xlabel(\"Average Length\",fontdict= {'fontsize':14});\n",
    "ax.set_ylabel(\"Rhetorical Role\",fontdict= {'fontsize':14});\n",
    "fig.tight_layout()\n",
    "fig.savefig(\"../output/CharacterLen.png\", dpi=300)"
   ]
  },
  {
   "cell_type": "code",
   "execution_count": null,
   "metadata": {},
   "outputs": [],
   "source": []
  }
 ],
 "metadata": {
  "kernelspec": {
   "display_name": "Python 3",
   "language": "python",
   "name": "python3"
  },
  "language_info": {
   "codemirror_mode": {
    "name": "ipython",
    "version": 3
   },
   "file_extension": ".py",
   "mimetype": "text/x-python",
   "name": "python",
   "nbconvert_exporter": "python",
   "pygments_lexer": "ipython3",
   "version": "3.8.10"
  }
 },
 "nbformat": 4,
 "nbformat_minor": 2
}
