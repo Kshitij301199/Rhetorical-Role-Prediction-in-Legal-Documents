{
 "cells": [
  {
   "cell_type": "code",
   "execution_count": 1,
   "metadata": {},
   "outputs": [],
   "source": [
    "import json\n",
    "\n",
    "with open('../data/train.json', 'r') as file:\n",
    "    train_data = json.load(file)\n",
    "\n",
    "with open('../data/dev.json', 'r') as file:\n",
    "    test_data = json.load(file)"
   ]
  },
  {
   "cell_type": "code",
   "execution_count": 2,
   "metadata": {},
   "outputs": [],
   "source": [
    "import torch\n",
    "import torch.nn as nn\n",
    "from torch.utils.data import Dataset, DataLoader"
   ]
  },
  {
   "cell_type": "code",
   "execution_count": 3,
   "metadata": {},
   "outputs": [],
   "source": [
    "class Dataset_Reader(Dataset):\n",
    "    def __init__(self, data):\n",
    "        self.data = data\n",
    "\n",
    "        self.texts = []\n",
    "        self.labels = []\n",
    "        for idx, document in enumerate(data):\n",
    "            current_id = document['id']\n",
    "            # current_meta = document['meta']['group']\n",
    "            for annotation in document['annotations']:\n",
    "                for sentence in annotation['result']:\n",
    "                    text = sentence['value']['text'].lower().replace('\\n', '')\n",
    "                    label = sentence['value']['labels'][0]\n",
    "\n",
    "                    self.texts.append(text)\n",
    "                    self.labels.append(label)\n",
    "\n",
    "    def __len__(self):\n",
    "        return len(self.texts)\n",
    "\n",
    "    def __getitem__(self, idx):\n",
    "        return {\n",
    "            'text': self.texts[idx],\n",
    "            'label': self.labels[idx],\n",
    "        }"
   ]
  },
  {
   "cell_type": "code",
   "execution_count": 4,
   "metadata": {},
   "outputs": [],
   "source": [
    "data_train = Dataset_Reader(train_data)\n",
    "data_test = Dataset_Reader(test_data)"
   ]
  },
  {
   "cell_type": "code",
   "execution_count": 5,
   "metadata": {},
   "outputs": [
    {
     "name": "stdout",
     "output_type": "stream",
     "text": [
      "Number of documents for training : 247\n",
      "Number of documents for testing : 30\n",
      "Number of sentences for training : 28986\n",
      "Number of sentences for testing : 2890\n"
     ]
    }
   ],
   "source": [
    "print(f\"Number of documents for training : {len(train_data)}\")\n",
    "print(f\"Number of documents for testing : {len(test_data)}\")\n",
    "print(f\"Number of sentences for training : {len(data_train)}\")\n",
    "print(f\"Number of sentences for testing : {len(data_test)}\")"
   ]
  },
  {
   "cell_type": "code",
   "execution_count": 6,
   "metadata": {},
   "outputs": [],
   "source": [
    "from collections import Counter"
   ]
  },
  {
   "cell_type": "code",
   "execution_count": 7,
   "metadata": {},
   "outputs": [
    {
     "data": {
      "text/plain": [
       "Counter({'PREAMBLE': 4167,\n",
       "         'NONE': 1423,\n",
       "         'FAC': 5744,\n",
       "         'ARG_RESPONDENT': 698,\n",
       "         'RLC': 752,\n",
       "         'ARG_PETITIONER': 1315,\n",
       "         'ANALYSIS': 10695,\n",
       "         'PRE_RELIED': 1431,\n",
       "         'RATIO': 674,\n",
       "         'RPC': 1081,\n",
       "         'ISSUE': 367,\n",
       "         'STA': 481,\n",
       "         'PRE_NOT_RELIED': 158})"
      ]
     },
     "execution_count": 7,
     "metadata": {},
     "output_type": "execute_result"
    }
   ],
   "source": [
    "Counter(data_train.labels)"
   ]
  },
  {
   "cell_type": "code",
   "execution_count": 8,
   "metadata": {},
   "outputs": [
    {
     "data": {
      "text/plain": [
       "Counter({'PREAMBLE': 509,\n",
       "         'ANALYSIS': 986,\n",
       "         'NONE': 192,\n",
       "         'FAC': 581,\n",
       "         'RLC': 116,\n",
       "         'ARG_PETITIONER': 70,\n",
       "         'STA': 29,\n",
       "         'PRE_RELIED': 142,\n",
       "         'RPC': 92,\n",
       "         'ISSUE': 51,\n",
       "         'RATIO': 72,\n",
       "         'ARG_RESPONDENT': 38,\n",
       "         'PRE_NOT_RELIED': 12})"
      ]
     },
     "execution_count": 8,
     "metadata": {},
     "output_type": "execute_result"
    }
   ],
   "source": [
    "Counter(data_test.labels)"
   ]
  },
  {
   "cell_type": "code",
   "execution_count": 9,
   "metadata": {},
   "outputs": [
    {
     "name": "stderr",
     "output_type": "stream",
     "text": [
      "/home/kshitij/.local/lib/python3.8/site-packages/scipy/__init__.py:146: UserWarning: A NumPy version >=1.16.5 and <1.23.0 is required for this version of SciPy (detected version 1.24.4\n",
      "  warnings.warn(f\"A NumPy version >={np_minversion} and <{np_maxversion}\"\n"
     ]
    }
   ],
   "source": [
    "import seaborn as sns\n",
    "import matplotlib\n",
    "import matplotlib.pyplot as plt"
   ]
  },
  {
   "cell_type": "code",
   "execution_count": 10,
   "metadata": {},
   "outputs": [],
   "source": [
    "plot_data = Counter(data_train.labels)\n",
    "plot_data = dict(sorted(plot_data.items(), key=lambda item: item[1], reverse= True))"
   ]
  },
  {
   "cell_type": "code",
   "execution_count": 13,
   "metadata": {},
   "outputs": [
    {
     "data": {
      "image/png": "[encoded data removed]",
      "text/plain": [
       "<Figure size 432x288 with 1 Axes>"
      ]
     },
     "metadata": {},
     "output_type": "display_data"
    }
   ],
   "source": [
    "sns.set_theme('notebook')\n",
    "fig, ax = plt.subplots()\n",
    "sns.barplot(ax= ax, x= list(plot_data.values()), y= list(plot_data.keys()))\n",
    "# ax.set_yticks(ticks= range(len(plot_data)), labels= ['PREAMBLE', 'NONE', 'FACT', 'ARGUMENT RESPONDENT', 'RULING BY LOWER COURT', \n",
    "            #   'ARGUMENT PETITIONER', 'ANALYSIS', 'PRECEDENT RELIED UPON', 'RATIO', \n",
    "            #   'RULING BY PRESENT COURT', 'ISSUE', 'STATUTE', 'PRECEDENT NOT RELIED UPON'], rotation=45);\n",
    "ax.get_xaxis().set_major_formatter(\n",
    "    matplotlib.ticker.FuncFormatter(lambda x, p: format(int(x), ',')));\n",
    "ax.set_xlabel(\"Count\",fontdict= {'fontsize':14});\n",
    "ax.set_ylabel(\"Rhetorical Role\",fontdict= {'fontsize':14});\n",
    "fig.tight_layout()\n",
    "fig.savefig(\"../output/LabelDistribution.png\", dpi=300)"
   ]
  },
  {
   "cell_type": "code",
   "execution_count": 14,
   "metadata": {},
   "outputs": [],
   "source": [
    "from operator import itemgetter"
   ]
  },
  {
   "cell_type": "code",
   "execution_count": 15,
   "metadata": {},
   "outputs": [
    {
     "name": "stdout",
     "output_type": "stream",
     "text": [
      "Percentage of data by top 3: 0.7108949147864486\n"
     ]
    }
   ],
   "source": [
    "print(f\"Percentage of data by top 3: {sum(itemgetter('ANALYSIS','FAC','PREAMBLE')(plot_data)) / len(data_train)}\")"
   ]
  },
  {
   "cell_type": "code",
   "execution_count": 16,
   "metadata": {},
   "outputs": [
    {
     "name": "stdout",
     "output_type": "stream",
     "text": [
      "Percentage of data by bottom 3: 0.034706409991030154\n"
     ]
    }
   ],
   "source": [
    "print(f\"Percentage of data by bottom 3: {sum(itemgetter('STA','ISSUE','PRE_NOT_RELIED')(plot_data)) / len(data_train)}\")"
   ]
  },
  {
   "cell_type": "code",
   "execution_count": 11,
   "metadata": {},
   "outputs": [
    {
     "data": {
      "text/html": [
       "<div>\n",
       "<style scoped>\n",
       "    .dataframe tbody tr th:only-of-type {\n",
       "        vertical-align: middle;\n",
       "    }\n",
       "\n",
       "    .dataframe tbody tr th {\n",
       "        vertical-align: top;\n",
       "    }\n",
       "\n",
       "    .dataframe thead th {\n",
       "        text-align: right;\n",
       "    }\n",
       "</style>\n",
       "<table border=\"1\" class=\"dataframe\">\n",
       "  <thead>\n",
       "    <tr style=\"text-align: right;\">\n",
       "      <th></th>\n",
       "      <th>texts</th>\n",
       "      <th>labels</th>\n",
       "    </tr>\n",
       "  </thead>\n",
       "  <tbody>\n",
       "    <tr>\n",
       "      <th>154</th>\n",
       "      <td>10/11 question of law and the suggested substa...</td>\n",
       "      <td>RATIO</td>\n",
       "    </tr>\n",
       "    <tr>\n",
       "      <th>11734</th>\n",
       "      <td>through:     mr. satish aggarwala, advocate.</td>\n",
       "      <td>PREAMBLE</td>\n",
       "    </tr>\n",
       "    <tr>\n",
       "      <th>14929</th>\n",
       "      <td>the person of each one of accused nos. 5, 6 an...</td>\n",
       "      <td>FAC</td>\n",
       "    </tr>\n",
       "    <tr>\n",
       "      <th>6121</th>\n",
       "      <td>f. s. nariman, additional solicitor-general of...</td>\n",
       "      <td>PREAMBLE</td>\n",
       "    </tr>\n",
       "    <tr>\n",
       "      <th>22518</th>\n",
       "      <td>6. the averments made in para no.2 of the plai...</td>\n",
       "      <td>FAC</td>\n",
       "    </tr>\n",
       "    <tr>\n",
       "      <th>6566</th>\n",
       "      <td>partial penetration within the labia majora of...</td>\n",
       "      <td>PRE_RELIED</td>\n",
       "    </tr>\n",
       "    <tr>\n",
       "      <th>15392</th>\n",
       "      <td>the onus of showing this is clearly on the rev...</td>\n",
       "      <td>FAC</td>\n",
       "    </tr>\n",
       "    <tr>\n",
       "      <th>19999</th>\n",
       "      <td>in this backdrop, it is relevant to note that ...</td>\n",
       "      <td>ANALYSIS</td>\n",
       "    </tr>\n",
       "    <tr>\n",
       "      <th>21929</th>\n",
       "      <td>two questions therefore arise for consideratio...</td>\n",
       "      <td>ISSUE</td>\n",
       "    </tr>\n",
       "    <tr>\n",
       "      <th>27102</th>\n",
       "      <td>after the marriage, he is staying in b.r.kaval...</td>\n",
       "      <td>ARG_PETITIONER</td>\n",
       "    </tr>\n",
       "  </tbody>\n",
       "</table>\n",
       "</div>"
      ],
      "text/plain": [
       "                                                   texts          labels\n",
       "154    10/11 question of law and the suggested substa...           RATIO\n",
       "11734       through:     mr. satish aggarwala, advocate.        PREAMBLE\n",
       "14929  the person of each one of accused nos. 5, 6 an...             FAC\n",
       "6121   f. s. nariman, additional solicitor-general of...        PREAMBLE\n",
       "22518  6. the averments made in para no.2 of the plai...             FAC\n",
       "6566   partial penetration within the labia majora of...      PRE_RELIED\n",
       "15392  the onus of showing this is clearly on the rev...             FAC\n",
       "19999  in this backdrop, it is relevant to note that ...        ANALYSIS\n",
       "21929  two questions therefore arise for consideratio...           ISSUE\n",
       "27102  after the marriage, he is staying in b.r.kaval...  ARG_PETITIONER"
      ]
     },
     "execution_count": 11,
     "metadata": {},
     "output_type": "execute_result"
    }
   ],
   "source": [
    "import pandas as pd\n",
    "import numpy as np\n",
    "\n",
    "df = pd.DataFrame({'texts': data_train.texts, 'labels': data_train.labels})\n",
    "df.sample(10)"
   ]
  },
  {
   "cell_type": "code",
   "execution_count": 27,
   "metadata": {},
   "outputs": [
    {
     "name": "stdout",
     "output_type": "stream",
     "text": [
      "ANALYSIS & (6) in all rape trials anonymity of the victims must be maintained, as far as necessary.(7) it is necessary, having regard to the directive principles contained under article 38(1) of the constitution of india to set up criminal injuries compensation board.\n",
      "FAC & it is that which is under challenge in the present petition.\n",
      "PREAMBLE & the payment ofrs.3 lakhs was not made by the assessee for the grant ofpermission to carry on mining operations within the railwayarea, instead the payment was made towards the cost ofremoving the construction which obstructed the mining opera-tions.\n",
      "PRE_RELIED &  in begu v. the king emperor (1) the privy council had to deal with a case where certain persons were charged under section 302 of the penal code, but were convicted under section 201 for causing the disappearance of evidence.\n",
      "NONE & 4. heard the arguments of both the sides. 5.\n",
      "ARG_PETITIONER & it conveniently forgot that by the attempt attributable to the defendant in alienating the suit `a' schedule properties grave injury would be occasioned to the interest of the appellant.\n",
      "RPC &  2. they shall not tamper or threaten the witnesses in any manner.\n",
      "RLC & the appellate 'tribunal accordingly reduced the enhancement to rs. 1,55,000.\n",
      "ARG_RESPONDENT & the lack of consistent evidence would go to the root of the matter and since the burden was on the prosecution to establish its case beyond all reasonable doubt, it could not be said that the trial court was in error in acquitting the accused on the basis of the infirmities, which the trial court has painstakingly analysed in a detailed judgment, which cannot be faulted.\n",
      "RATIO & there was, there- fore, no acquisition of any capital asset.\n",
      "STA &  (2) all offences under any other law shall be investigated, inquired into, tried, and otherwise dealt with according to the same provisions, but subject to any enactment for the time being in force regulating the manner or place of investigating, inquiring into, trying or otherwise dealing with such offences.\"\n",
      "ISSUE & \"whether the prosecution proves that on 23.2.2005 at about 10.30 p.m., near nagasamudra shikharanya high school situated at b.h.road of bendekere village the accused persons had formed themselves into an unlawful assembly in order to commit the offences in prosecution of common object of such unlawful assembly and thereby committed the offence punishable under section 143 read with section 149 of indian penal code?\n",
      "PRE_NOT_RELIED & particularly, there is substance in the contention of the learned counsel for the petitioner that the chief judicial magistrate's interpretation of the observations made in the case of popatbhai panchambhai bhutani v/s state of maharashtra ( 2010 all m.r.(cri.) 244) is not correct.\n"
     ]
    }
   ],
   "source": [
    "for i in plot_data.keys():\n",
    "    t = df[df['labels'] == i].sample().reset_index()\n",
    "    print(f\"{t['labels'][0]} & {t['texts'][0]}\")"
   ]
  },
  {
   "cell_type": "code",
   "execution_count": 22,
   "metadata": {},
   "outputs": [
    {
     "data": {
      "text/plain": [
       "3304    ANALYSIS\n",
       "Name: labels, dtype: object"
      ]
     },
     "execution_count": 22,
     "metadata": {},
     "output_type": "execute_result"
    }
   ],
   "source": [
    "t['labels']"
   ]
  },
  {
   "cell_type": "code",
   "execution_count": 18,
   "metadata": {},
   "outputs": [],
   "source": [
    "avg_len_dict = {}\n",
    "for i in plot_data.keys():\n",
    "    avg_len_dict[i] = int(np.mean(df[df.labels == i]['texts'].apply(len)))"
   ]
  },
  {
   "cell_type": "code",
   "execution_count": 19,
   "metadata": {},
   "outputs": [
    {
     "data": {
      "text/plain": [
       "184.3846153846154"
      ]
     },
     "execution_count": 19,
     "metadata": {},
     "output_type": "execute_result"
    }
   ],
   "source": [
    "np.mean(list(avg_len_dict.values()))"
   ]
  },
  {
   "cell_type": "code",
   "execution_count": 20,
   "metadata": {},
   "outputs": [
    {
     "data": {
      "text/plain": [
       "58.53537846930161"
      ]
     },
     "execution_count": 20,
     "metadata": {},
     "output_type": "execute_result"
    }
   ],
   "source": [
    "np.std(list(avg_len_dict.values()))"
   ]
  },
  {
   "cell_type": "code",
   "execution_count": 21,
   "metadata": {},
   "outputs": [
    {
     "data": {
      "text/plain": [
       "{'ANALYSIS': 170,\n",
       " 'FAC': 153,\n",
       " 'PREAMBLE': 124,\n",
       " 'PRE_RELIED': 214,\n",
       " 'NONE': 78,\n",
       " 'ARG_PETITIONER': 195,\n",
       " 'RPC': 120,\n",
       " 'RLC': 194,\n",
       " 'ARG_RESPONDENT': 192,\n",
       " 'RATIO': 187,\n",
       " 'STA': 327,\n",
       " 'ISSUE': 221,\n",
       " 'PRE_NOT_RELIED': 222}"
      ]
     },
     "execution_count": 21,
     "metadata": {},
     "output_type": "execute_result"
    }
   ],
   "source": [
    "avg_len_dict"
   ]
  },
  {
   "cell_type": "code",
   "execution_count": 22,
   "metadata": {},
   "outputs": [],
   "source": [
    "sorted_avg_len_dict = dict(sorted(avg_len_dict.items(), key=lambda item: item[1], reverse= True))"
   ]
  },
  {
   "cell_type": "code",
   "execution_count": 23,
   "metadata": {},
   "outputs": [
    {
     "data": {
      "image/png": "[encoded data removed]",
      "text/plain": [
       "<Figure size 432x288 with 1 Axes>"
      ]
     },
     "metadata": {},
     "output_type": "display_data"
    }
   ],
   "source": [
    "sns.set_theme('notebook')\n",
    "fig, ax = plt.subplots()\n",
    "sns.barplot(ax= ax, x= list(sorted_avg_len_dict.values()), y= list(sorted_avg_len_dict.keys()))\n",
    "# ax.set_yticks(ticks= range(len(plot_data)), labels= ['PREAMBLE', 'NONE', 'FACT', 'ARGUMENT RESPONDENT', 'RULING BY LOWER COURT', \n",
    "            #   'ARGUMENT PETITIONER', 'ANALYSIS', 'PRECEDENT RELIED UPON', 'RATIO', \n",
    "            #   'RULING BY PRESENT COURT', 'ISSUE', 'STATUTE', 'PRECEDENT NOT RELIED UPON'], rotation=45);\n",
    "ax.get_xaxis().set_major_formatter(\n",
    "    matplotlib.ticker.FuncFormatter(lambda x, p: format(int(x), ',')));\n",
    "ax.set_xlabel(\"Average Length\",fontdict= {'fontsize':14});\n",
    "ax.set_ylabel(\"Rhetorical Role\",fontdict= {'fontsize':14});\n",
    "fig.tight_layout()\n",
    "fig.savefig(\"../output/CharacterLen.png\", dpi=300)"
   ]
  },
  {
   "cell_type": "markdown",
   "metadata": {},
   "source": [
    "# 11 Classes"
   ]
  },
  {
   "cell_type": "code",
   "execution_count": 2,
   "metadata": {},
   "outputs": [
    {
     "name": "stderr",
     "output_type": "stream",
     "text": [
      "/home/kshitij/.local/lib/python3.8/site-packages/scipy/__init__.py:146: UserWarning: A NumPy version >=1.16.5 and <1.23.0 is required for this version of SciPy (detected version 1.24.4\n",
      "  warnings.warn(f\"A NumPy version >={np_minversion} and <{np_maxversion}\"\n"
     ]
    }
   ],
   "source": [
    "from sklearn.preprocessing import LabelEncoder\n",
    "\n",
    "list_of_targets_old = ['ISSUE', 'FAC', 'NONE', 'ARG_PETITIONER', 'PRE_NOT_RELIED', 'STA', 'RPC', 'ARG_RESPONDENT', 'PREAMBLE', 'ANALYSIS', 'RLC', 'PRE_RELIED', 'RATIO']\n",
    "label_encoder_old = LabelEncoder().fit(list_of_targets_old)\n",
    "list_of_targets_new = ['ISSUE', 'FAC', 'NONE', 'ARG', 'PRE', 'STA', 'RPC', 'PREAMBLE', 'ANALYSIS', 'RLC', 'RATIO']\n",
    "label_encoder_new = LabelEncoder().fit(list_of_targets_new)\n"
   ]
  },
  {
   "cell_type": "code",
   "execution_count": 29,
   "metadata": {},
   "outputs": [],
   "source": [
    "def remaplabels(labels):\n",
    "    for idx, label in enumerate(labels):\n",
    "        if label == 'ARG_RESPONDENT' or label == 'ARG_PETITIONER':\n",
    "            labels[idx] = \"ARG\"\n",
    "        elif label == 'PRE_NOT_RELIED' or label == 'PRE_RELIED':\n",
    "            labels[idx] = 'PRE'\n",
    "            \n",
    "    return labels"
   ]
  },
  {
   "cell_type": "code",
   "execution_count": 31,
   "metadata": {},
   "outputs": [],
   "source": [
    "data_train_new = remaplabels(data_train.labels)"
   ]
  },
  {
   "cell_type": "code",
   "execution_count": 33,
   "metadata": {},
   "outputs": [],
   "source": [
    "plot_data1 = Counter(data_train_new)\n",
    "plot_data1 = dict(sorted(plot_data1.items(), key=lambda item: item[1], reverse= True))"
   ]
  },
  {
   "cell_type": "code",
   "execution_count": 34,
   "metadata": {},
   "outputs": [
    {
     "data": {
      "image/png": "[encoded data removed]",
      "text/plain": [
       "<Figure size 432x288 with 1 Axes>"
      ]
     },
     "metadata": {},
     "output_type": "display_data"
    }
   ],
   "source": [
    "sns.set_theme('notebook')\n",
    "fig, ax = plt.subplots()\n",
    "sns.barplot(ax= ax, x= list(plot_data1.values()), y= list(plot_data1.keys()))\n",
    "# ax.set_yticks(ticks= range(len(plot_data)), labels= ['PREAMBLE', 'NONE', 'FACT', 'ARGUMENT RESPONDENT', 'RULING BY LOWER COURT', \n",
    "            #   'ARGUMENT PETITIONER', 'ANALYSIS', 'PRECEDENT RELIED UPON', 'RATIO', \n",
    "            #   'RULING BY PRESENT COURT', 'ISSUE', 'STATUTE', 'PRECEDENT NOT RELIED UPON'], rotation=45);\n",
    "ax.get_xaxis().set_major_formatter(\n",
    "    matplotlib.ticker.FuncFormatter(lambda x, p: format(int(x), ',')));\n",
    "ax.set_xlabel(\"Count\",fontdict= {'fontsize':14});\n",
    "ax.set_ylabel(\"Rhetorical Role\",fontdict= {'fontsize':14});\n",
    "fig.tight_layout()\n",
    "fig.savefig(\"../output/LabelDistribution2.png\", dpi=300)"
   ]
  },
  {
   "cell_type": "code",
   "execution_count": 35,
   "metadata": {},
   "outputs": [
    {
     "data": {
      "text/html": [
       "<div>\n",
       "<style scoped>\n",
       "    .dataframe tbody tr th:only-of-type {\n",
       "        vertical-align: middle;\n",
       "    }\n",
       "\n",
       "    .dataframe tbody tr th {\n",
       "        vertical-align: top;\n",
       "    }\n",
       "\n",
       "    .dataframe thead th {\n",
       "        text-align: right;\n",
       "    }\n",
       "</style>\n",
       "<table border=\"1\" class=\"dataframe\">\n",
       "  <thead>\n",
       "    <tr style=\"text-align: right;\">\n",
       "      <th></th>\n",
       "      <th>texts</th>\n",
       "      <th>labels</th>\n",
       "    </tr>\n",
       "  </thead>\n",
       "  <tbody>\n",
       "    <tr>\n",
       "      <th>5960</th>\n",
       "      <td>the complainant being an innocent lady failed ...</td>\n",
       "      <td>FAC</td>\n",
       "    </tr>\n",
       "    <tr>\n",
       "      <th>8743</th>\n",
       "      <td>they only mean that if a considerable portion ...</td>\n",
       "      <td>ANALYSIS</td>\n",
       "    </tr>\n",
       "    <tr>\n",
       "      <th>20744</th>\n",
       "      <td>the hon'ble mr. justice anand byrareddy ...</td>\n",
       "      <td>PREAMBLE</td>\n",
       "    </tr>\n",
       "    <tr>\n",
       "      <th>9482</th>\n",
       "      <td>5. after filing charge sheet this court has i...</td>\n",
       "      <td>ANALYSIS</td>\n",
       "    </tr>\n",
       "    <tr>\n",
       "      <th>19597</th>\n",
       "      <td>the accused has admitted that he and his wife ...</td>\n",
       "      <td>FAC</td>\n",
       "    </tr>\n",
       "    <tr>\n",
       "      <th>6450</th>\n",
       "      <td>there is enough contradiction in the evidence ...</td>\n",
       "      <td>ANALYSIS</td>\n",
       "    </tr>\n",
       "    <tr>\n",
       "      <th>23466</th>\n",
       "      <td>6. contusion 3/4 in.x1/2 in.</td>\n",
       "      <td>FAC</td>\n",
       "    </tr>\n",
       "    <tr>\n",
       "      <th>21149</th>\n",
       "      <td>9. in evidence pw 8 the investigating officer...</td>\n",
       "      <td>ANALYSIS</td>\n",
       "    </tr>\n",
       "    <tr>\n",
       "      <th>22207</th>\n",
       "      <td>however, he did not make any enquiry from the ...</td>\n",
       "      <td>FAC</td>\n",
       "    </tr>\n",
       "    <tr>\n",
       "      <th>12726</th>\n",
       "      <td>the special commissioners decided against the ...</td>\n",
       "      <td>PRE</td>\n",
       "    </tr>\n",
       "  </tbody>\n",
       "</table>\n",
       "</div>"
      ],
      "text/plain": [
       "                                                   texts    labels\n",
       "5960   the complainant being an innocent lady failed ...       FAC\n",
       "8743   they only mean that if a considerable portion ...  ANALYSIS\n",
       "20744        the hon'ble mr. justice anand byrareddy ...  PREAMBLE\n",
       "9482    5. after filing charge sheet this court has i...  ANALYSIS\n",
       "19597  the accused has admitted that he and his wife ...       FAC\n",
       "6450   there is enough contradiction in the evidence ...  ANALYSIS\n",
       "23466                       6. contusion 3/4 in.x1/2 in.       FAC\n",
       "21149   9. in evidence pw 8 the investigating officer...  ANALYSIS\n",
       "22207  however, he did not make any enquiry from the ...       FAC\n",
       "12726  the special commissioners decided against the ...       PRE"
      ]
     },
     "execution_count": 35,
     "metadata": {},
     "output_type": "execute_result"
    }
   ],
   "source": [
    "df = pd.DataFrame({'texts': data_train.texts, 'labels': data_train_new})\n",
    "df.sample(10)"
   ]
  },
  {
   "cell_type": "code",
   "execution_count": 37,
   "metadata": {},
   "outputs": [],
   "source": [
    "avg_len_dict = {}\n",
    "for i in plot_data1.keys():\n",
    "    avg_len_dict[i] = int(np.mean(df[df.labels == i]['texts'].apply(len)))"
   ]
  },
  {
   "cell_type": "code",
   "execution_count": 38,
   "metadata": {},
   "outputs": [
    {
     "data": {
      "text/plain": [
       "{'ANALYSIS': 170,\n",
       " 'FAC': 153,\n",
       " 'PREAMBLE': 124,\n",
       " 'ARG': 194,\n",
       " 'PRE': 215,\n",
       " 'NONE': 78,\n",
       " 'RPC': 120,\n",
       " 'RLC': 194,\n",
       " 'RATIO': 187,\n",
       " 'STA': 327,\n",
       " 'ISSUE': 221}"
      ]
     },
     "execution_count": 38,
     "metadata": {},
     "output_type": "execute_result"
    }
   ],
   "source": [
    "avg_len_dict"
   ]
  },
  {
   "cell_type": "code",
   "execution_count": 39,
   "metadata": {},
   "outputs": [
    {
     "data": {
      "text/plain": [
       "{'STA': 327,\n",
       " 'ISSUE': 221,\n",
       " 'PRE': 215,\n",
       " 'ARG': 194,\n",
       " 'RLC': 194,\n",
       " 'RATIO': 187,\n",
       " 'ANALYSIS': 170,\n",
       " 'FAC': 153,\n",
       " 'PREAMBLE': 124,\n",
       " 'RPC': 120,\n",
       " 'NONE': 78}"
      ]
     },
     "execution_count": 39,
     "metadata": {},
     "output_type": "execute_result"
    }
   ],
   "source": [
    "sorted_avg_len_dict = dict(sorted(avg_len_dict.items(), key=lambda item: item[1], reverse= True))\n",
    "sorted_avg_len_dict"
   ]
  },
  {
   "cell_type": "code",
   "execution_count": 40,
   "metadata": {},
   "outputs": [
    {
     "data": {
      "image/png": "[encoded data removed]",
      "text/plain": [
       "<Figure size 432x288 with 1 Axes>"
      ]
     },
     "metadata": {},
     "output_type": "display_data"
    }
   ],
   "source": [
    "sns.set_theme('notebook')\n",
    "fig, ax = plt.subplots()\n",
    "sns.barplot(ax= ax, x= list(sorted_avg_len_dict.values()), y= list(sorted_avg_len_dict.keys()))\n",
    "# ax.set_yticks(ticks= range(len(plot_data)), labels= ['PREAMBLE', 'NONE', 'FACT', 'ARGUMENT RESPONDENT', 'RULING BY LOWER COURT', \n",
    "            #   'ARGUMENT PETITIONER', 'ANALYSIS', 'PRECEDENT RELIED UPON', 'RATIO', \n",
    "            #   'RULING BY PRESENT COURT', 'ISSUE', 'STATUTE', 'PRECEDENT NOT RELIED UPON'], rotation=45);\n",
    "ax.get_xaxis().set_major_formatter(\n",
    "    matplotlib.ticker.FuncFormatter(lambda x, p: format(int(x), ',')));\n",
    "ax.set_xlabel(\"Average Length\",fontdict= {'fontsize':14});\n",
    "ax.set_ylabel(\"Rhetorical Role\",fontdict= {'fontsize':14});\n",
    "fig.tight_layout()\n",
    "fig.savefig(\"../output/CharacterLen2.png\", dpi=300)"
   ]
  },
  {
   "cell_type": "code",
   "execution_count": null,
   "metadata": {},
   "outputs": [],
   "source": []
  }
 ],
 "metadata": {
  "kernelspec": {
   "display_name": "Python 3",
   "language": "python",
   "name": "python3"
  },
  "language_info": {
   "codemirror_mode": {
    "name": "ipython",
    "version": 3
   },
   "file_extension": ".py",
   "mimetype": "text/x-python",
   "name": "python",
   "nbconvert_exporter": "python",
   "pygments_lexer": "ipython3",
   "version": "3.8.10"
  }
 },
 "nbformat": 4,
 "nbformat_minor": 2
}
