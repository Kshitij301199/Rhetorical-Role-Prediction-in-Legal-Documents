{
 "cells": [
  {
   "cell_type": "code",
   "execution_count": 1,
   "metadata": {},
   "outputs": [
    {
     "name": "stderr",
     "output_type": "stream",
     "text": [
      "/home/tom/anaconda3/envs/pytorch/lib/python3.8/site-packages/tqdm/auto.py:21: TqdmWarning: IProgress not found. Please update jupyter and ipywidgets. See https://ipywidgets.readthedocs.io/en/stable/user_install.html\n",
      "  from .autonotebook import tqdm as notebook_tqdm\n"
     ]
    }
   ],
   "source": [
    "import os, sys\n",
    "import json\n",
    "import random\n",
    "import pickle\n",
    "from typing import List, Tuple, Dict\n",
    "\n",
    "from itertools import product\n",
    "import torch\n",
    "import torch.nn as nn\n",
    "import numpy as np\n",
    "from transformers import BertTokenizer, BertModel\n",
    "# from transformers import DistilBertTokenizer, DistilBertModel\n",
    "from torch.utils.data import Dataset\n",
    "from sklearn.preprocessing import LabelEncoder\n",
    "\n",
    "sys.path.append(os.path.abspath(os.path.join(os.getcwd(),'..')))\n",
    "from utils import Dataset_Reader\n",
    "from tqdm import tqdm"
   ]
  },
  {
   "cell_type": "code",
   "execution_count": 2,
   "metadata": {},
   "outputs": [],
   "source": [
    "def save_model(model, filepath):\n",
    "    \"\"\"\n",
    "    Save PyTorch model parameters to a file.\n",
    "\n",
    "    Args:\n",
    "    - model (torch.nn.Module): PyTorch model to save.\n",
    "    - filepath (str): Filepath to save the model parameters.\n",
    "    \"\"\"\n",
    "    torch.save(model.state_dict(), filepath)\n",
    "    print(f\"Model parameters saved to '{filepath}'\")\n",
    "\n",
    "def load_model(model, filepath):\n",
    "    \"\"\"\n",
    "    Load PyTorch model parameters from a file.\n",
    "\n",
    "    Args:\n",
    "    - model (torch.nn.Module): PyTorch model to load parameters into.\n",
    "    - filepath (str): Filepath to the saved model parameters.\n",
    "    \"\"\"\n",
    "    model.load_state_dict(torch.load(filepath))\n",
    "    print(f\"Model parameters loaded from '{filepath}'\")\n",
    "    \n",
    "def save_tensor(tensor, dir, filename):\n",
    "    \"\"\"\n",
    "    Save PyTorch tensor to a file.\n",
    "\n",
    "    Args:\n",
    "    - tensor (torch.Tensor): PyTorch tensor to save.\n",
    "    - dir (str): Directory to save the tensor.\n",
    "    - filename (str): Filename to save the tensor.\n",
    "    \"\"\"\n",
    "    \n",
    "    if not os.path.exists(os.path.join(dir)):\n",
    "        os.makedirs(os.path.join(dir))\n",
    "        \n",
    "    filepath = os.path.join(dir, filename)\n",
    "    torch.save(tensor, filepath)\n",
    "    print(f\"Tensor saved to '{filepath}'\")\n",
    "\n",
    "def load_tensor(filepath):\n",
    "    \"\"\"\n",
    "    Load PyTorch tensor from a file.\n",
    "\n",
    "    Args:\n",
    "    - filepath (str): Filepath to the saved tensor.\n",
    "\n",
    "    Returns:\n",
    "    - tensor (torch.Tensor): Loaded PyTorch tensor.\n",
    "    \"\"\"\n",
    "    tensor = torch.load(filepath)\n",
    "    # print(f\"Tensor loaded from '{filepath}'\")\n",
    "    return tensor"
   ]
  },
  {
   "cell_type": "code",
   "execution_count": 3,
   "metadata": {},
   "outputs": [],
   "source": [
    "with open('../data/train.json', 'r') as file:\n",
    "    train_data = json.load(file)\n",
    "\n",
    "with open('../data/dev.json', 'r') as file:\n",
    "    test_data = json.load(file)"
   ]
  },
  {
   "cell_type": "code",
   "execution_count": 4,
   "metadata": {},
   "outputs": [
    {
     "name": "stdout",
     "output_type": "stream",
     "text": [
      "247\n"
     ]
    }
   ],
   "source": [
    "TRAIN_data = Dataset_Reader(train_data)\n",
    "TEST_data = Dataset_Reader(test_data)\n",
    "print(len(TRAIN_data))\n",
    "# TRAIN_data_batched = DataLoader(TRAIN_data, batch_size = 5, shuffle= True)"
   ]
  },
  {
   "cell_type": "code",
   "execution_count": 5,
   "metadata": {},
   "outputs": [],
   "source": [
    "def max_length(documents, tokenizer = BertTokenizer.from_pretrained('bert-base-uncased')):\n",
    "    \"\"\"\n",
    "    Generate the maximum length of each sentence in each document. This is necessary to make sure there is a fixed sentence-length \n",
    "    for each document before we pass the sentence embeddings through the model.\n",
    "\n",
    "    Returns: {document index: length of longest sentence}\n",
    "\n",
    "    \"\"\"\n",
    "    max_l_dict = {}\n",
    "    \n",
    "    for sentence in documents.texts:\n",
    "        size = []\n",
    "\n",
    "        inputs = tokenizer(sentence[2], return_tensors=\"pt\", truncation=True, padding=True, add_special_tokens= True)\n",
    "\n",
    "        size.append(inputs['input_ids'].size(1))\n",
    "        \n",
    "        max_l_dict[sentence[0]] = max(size)\n",
    "    \n",
    "    dict_keys = list(max_l_dict.keys())\n",
    "    reference_keys = list(range(len(documents)))  \n",
    "    for key in reference_keys:\n",
    "        if key not in dict_keys:\n",
    "            max_l_dict[key] = 0\n",
    "            \n",
    "    return max_l_dict"
   ]
  },
  {
   "cell_type": "code",
   "execution_count": 6,
   "metadata": {},
   "outputs": [],
   "source": [
    "def get_batched_data(data: Dataset, batch_size:int = 1) ->  Tuple[List,List,List]:\n",
    "    doc_idx = []\n",
    "    batched_texts = []\n",
    "    batched_labels = []\n",
    "    for start, stop in zip(range(0,len(data)-batch_size,batch_size), range(batch_size,len(data),batch_size)):\n",
    "        idxs = []\n",
    "        texts = []\n",
    "        labels = []\n",
    "        for idx in range(start,stop):\n",
    "            idxs.append(idx) \n",
    "            [texts.append(text) for text in data[idx]['text']]\n",
    "            [labels.append(label) for label in data[idx]['label']]\n",
    "        \n",
    "        doc_idx.append(idxs)\n",
    "        batched_texts.append(texts)\n",
    "        batched_labels.append(labels)\n",
    "    return doc_idx, batched_texts, batched_labels"
   ]
  },
  {
   "cell_type": "code",
   "execution_count": 7,
   "metadata": {},
   "outputs": [],
   "source": [
    "max_lens_train = max_length(TRAIN_data)"
   ]
  },
  {
   "cell_type": "code",
   "execution_count": 8,
   "metadata": {},
   "outputs": [],
   "source": [
    "doc_idxs, batched_texts, batched_labels = get_batched_data(TRAIN_data, batch_size= 1)"
   ]
  },
  {
   "cell_type": "code",
   "execution_count": 9,
   "metadata": {},
   "outputs": [],
   "source": [
    "def label_encode(target_variables : list) -> LabelEncoder:\n",
    "    \"\"\"\n",
    "    Encode target variables.\n",
    "    \n",
    "    Args:\n",
    "    - target_variables (list or array-like): List of target variable strings.\n",
    "    \n",
    "    Returns:\n",
    "    - lb (object): class object used to tranform and inverse transform.\n",
    "    \"\"\"\n",
    "    le = LabelEncoder()\n",
    "    le = le.fit(target_variables)\n",
    "    \n",
    "    return le\n",
    "\n",
    "def get_model_data(data:torch.utils.data.Dataset, encoder: LabelEncoder,\n",
    "                   tokenizer= BertTokenizer.from_pretrained('bert-base-uncased'),\n",
    "                   model= BertModel.from_pretrained('bert-base-uncased'),\n",
    "                   num_of_docs:int = None,\n",
    "                   ) -> Tuple[torch.TensorType, torch.TensorType]:\n",
    "    numerical_labels = encoder.transform(data.labels)\n",
    "    sent_emb = []\n",
    "    max_sent_length = 128\n",
    "    if num_of_docs is None:\n",
    "        for idx, sentence in enumerate(data.texts):\n",
    "            inputs = tokenizer(sentence[2].lower(),  return_tensors=\"pt\", truncation= True,\n",
    "                                padding='max_length', max_length = max_sent_length,\n",
    "                                add_special_tokens= True)\n",
    "            with torch.no_grad():\n",
    "                output = model(**inputs)\n",
    "            sent_emb.append(output.last_hidden_state[:,0,:])\n",
    "    else:\n",
    "        for idx, sentence in enumerate(data.texts):\n",
    "            if sentence[0] < num_of_docs:\n",
    "                inputs = tokenizer(sentence[2].lower(),  return_tensors=\"pt\", truncation= True,\n",
    "                                    padding='max_length', max_length = max_sent_length,\n",
    "                                    add_special_tokens= True)\n",
    "                with torch.no_grad():\n",
    "                    output = model(**inputs)\n",
    "                sent_emb.append(output.last_hidden_state[:,0,:]) \n",
    "        numerical_labels = numerical_labels[:len(sent_emb)]\n",
    "    x_train = np.zeros((len(sent_emb), 1, 768), dtype=float)\n",
    "    y_train = torch.from_numpy(numerical_labels)\n",
    "    for idx, sentence in enumerate(sent_emb):\n",
    "        x_train[idx] = sent_emb[idx]\n",
    "    x_train = torch.from_numpy(x_train).float()\n",
    "    print(f\"X_train size: {x_train.size()}\\tY_train size: {y_train.size()}\")\n",
    "    return x_train, y_train\n",
    "\n",
    "def get_model_data_batched(indexes:List, texts:List, labels:List, encoder:LabelEncoder,max_len_dict:Dict,\n",
    "                           tokenizer= BertTokenizer.from_pretrained('bert-base-uncased'),\n",
    "                           model= BertModel.from_pretrained('bert-base-uncased'),\n",
    "                           ) -> Tuple[torch.TensorType, torch.TensorType]:\n",
    "    numerical_labels = encoder.transform(labels)\n",
    "    sent_emb = []\n",
    "    for idx, sentence in enumerate(texts):\n",
    "        try:\n",
    "            max_sent_length = max([max_len_dict[i] for i in indexes])\n",
    "        except KeyError:\n",
    "            continue\n",
    "        inputs = tokenizer(sentence.lower(),  return_tensors=\"pt\", truncation= True,\n",
    "                            padding='max_length', max_length = max_sent_length,\n",
    "                            add_special_tokens= True)\n",
    "        with torch.no_grad():\n",
    "            output = model(**inputs)\n",
    "        sent_emb.append(output.last_hidden_state[:,0,:])\n",
    "    x_train = np.zeros((len(sent_emb), 1, 768), dtype=float)\n",
    "    y_train = torch.from_numpy(numerical_labels)\n",
    "    for idx, sentence in enumerate(sent_emb):\n",
    "        x_train[idx] = sent_emb[idx]\n",
    "    x_train = torch.from_numpy(x_train).float()\n",
    "    print(f\"X_train size: {x_train.size()}\\tY_train size: {y_train.size()}\")\n",
    "    return x_train, y_train    \n",
    "    \n",
    "\n",
    "list_of_targets = ['ISSUE', 'FAC', 'NONE', 'ARG_PETITIONER', 'PRE_NOT_RELIED', 'STA', 'RPC', 'ARG_RESPONDENT', 'PREAMBLE', 'ANALYSIS', 'RLC', 'PRE_RELIED', 'RATIO']\n",
    "label_encoder = label_encode(list_of_targets)"
   ]
  },
  {
   "cell_type": "code",
   "execution_count": 10,
   "metadata": {},
   "outputs": [],
   "source": [
    "def init_weights(m):\n",
    "    if isinstance(m, nn.Linear):\n",
    "        torch.nn.init.xavier_uniform_(m.weight)\n",
    "        m.bias.data.fill_(0.01)\n",
    "        \n",
    "class BiLSTM(nn.Module):\n",
    "    def __init__(self,\n",
    "                input_size:int = 768,\n",
    "                hidden_size:int = 256,\n",
    "                num_layers:int = 2,\n",
    "                output_size:int = 13,\n",
    "                dropout:float = 0.1\n",
    "                ) -> None:\n",
    "        super().__init__()\n",
    "        self.hidden_size = hidden_size\n",
    "        self.num_layers = num_layers\n",
    "        \n",
    "        self.bilstm = nn.LSTM(input_size = input_size,\n",
    "                              hidden_size = hidden_size,\n",
    "                              num_layers = num_layers,\n",
    "                              bidirectional=True)\n",
    "        \n",
    "        self.dense = nn.Sequential(nn.Dropout(p=dropout),\n",
    "                                   nn.Linear(hidden_size*2, 128),\n",
    "                                   nn.ReLU(),\n",
    "                                   nn.Linear(128, output_size),\n",
    "                                   nn.Softmax(dim=1),\n",
    "        )\n",
    "        \n",
    "        self.apply(init_weights)\n",
    "        \n",
    "    def forward(self, x):\n",
    "        lstm_out, _ = self.bilstm(x)\n",
    "        lstm_out = lstm_out[:, -1, :]\n",
    "\n",
    "        # Fully connected layers\n",
    "        out = self.dense(lstm_out)\n",
    "\n",
    "        return out"
   ]
  },
  {
   "cell_type": "code",
   "execution_count": 11,
   "metadata": {},
   "outputs": [],
   "source": [
    "# TRAIN_emb, TRAIN_labels = get_model_data(data= TRAIN_data, encoder= label_encoder, num_of_docs= 10)\n",
    "# TEST_emb, TEST_labels = get_model_data(data= TEST_data, encoder= label_encoder,num_of_docs= 5)"
   ]
  },
  {
   "cell_type": "code",
   "execution_count": 12,
   "metadata": {},
   "outputs": [],
   "source": [
    "def train(x_train, y_train, model, optimizer, loss_fc, num_epochs):\n",
    "    model.train()\n",
    "    loss_list = []\n",
    "    acc_list = []\n",
    "    model.train()\n",
    "    # print(f'{\"Starting Training\":-^100}')\n",
    "    for epoch in range(num_epochs+1):\n",
    "        output = model(x_train)\n",
    "        loss = loss_fc(output,y_train)\n",
    "        \n",
    "        optimizer.zero_grad()\n",
    "        loss.backward()\n",
    "        optimizer.step()\n",
    "        loss_list.append(loss.item())\n",
    "        \n",
    "        if epoch%50 == 0:\n",
    "            acc = sum(output.argmax(dim=1) == y_train)/ output.size(0)\n",
    "            acc_list.append(acc)\n",
    "            print(f\"Epoch: {epoch} \\t Loss: {loss.item():.5f} \\t Accuracy: {acc*100:.2f}%\")\n",
    "            \n",
    "    return loss_list, acc_list\n",
    "            \n",
    "def test_accuracy(x_test, y_test, model):\n",
    "    model.eval()\n",
    "    output = model(x_test)\n",
    "    acc = sum(output.argmax(dim=1) == y_test)/ output.size(0)\n",
    "    print(f\"Test Accuracy {acc*100:.2f}%\")\n",
    "    return acc*100"
   ]
  },
  {
   "cell_type": "code",
   "execution_count": 13,
   "metadata": {},
   "outputs": [],
   "source": [
    "def set_highest_to_one(tensor):\n",
    "    max_val, max_idx = tensor.max(dim=1, keepdim=True)\n",
    "    result = torch.zeros_like(tensor)\n",
    "    result.scatter_(1, max_idx, 1)\n",
    "    return result"
   ]
  },
  {
   "cell_type": "code",
   "execution_count": 14,
   "metadata": {},
   "outputs": [],
   "source": [
    "def class_accuracy(conf_matrix):\n",
    "    \"\"\"\n",
    "    Calculate accuracy for each class based on a confusion matrix.\n",
    "\n",
    "    Parameters:\n",
    "    conf_matrix (numpy.ndarray): Confusion matrix.\n",
    "\n",
    "    Returns:\n",
    "    list: List of accuracies for each class.\n",
    "    \"\"\"\n",
    "    diagonal = np.diag(conf_matrix)\n",
    "\n",
    "    row_sums = conf_matrix.sum(axis=1)\n",
    "\n",
    "    accuracies = diagonal / row_sums.astype(float)\n",
    "\n",
    "    return accuracies"
   ]
  },
  {
   "cell_type": "code",
   "execution_count": 15,
   "metadata": {},
   "outputs": [],
   "source": [
    "def class_f1_score(conf_matrix, epsilon=1e-7):\n",
    "    \"\"\"\n",
    "    Calculate F1 score for each class based on a confusion matrix.\n",
    "\n",
    "    Parameters:\n",
    "    conf_matrix (numpy.ndarray): Confusion matrix.\n",
    "    epsilon (float): Smoothing term to avoid division by zero.\n",
    "\n",
    "    Returns:\n",
    "    list: List of F1 scores for each class.\n",
    "    \"\"\"\n",
    "    \n",
    "    tp = np.diag(conf_matrix)\n",
    "    fp = conf_matrix.sum(axis=0) - tp\n",
    "    fn = conf_matrix.sum(axis=1) - tp\n",
    "\n",
    "    precision = tp / (tp + fp + epsilon)\n",
    "    recall = tp / (tp + fn + epsilon)\n",
    "\n",
    "    f1_scores = 2 * (precision * recall) / (precision + recall + epsilon)\n",
    "\n",
    "    return f1_scores"
   ]
  },
  {
   "cell_type": "code",
   "execution_count": 27,
   "metadata": {},
   "outputs": [],
   "source": [
    "def confusion_matrix(y_pred, y_true, num_classes):\n",
    "    \"\"\"\n",
    "    Create a confusion matrix for label encodings in PyTorch.\n",
    "\n",
    "    Parameters:\n",
    "    y_pred (torch.Tensor): Predicted labels tensor.\n",
    "    y_true (torch.Tensor): True labels tensor.\n",
    "    num_classes (int): Number of classes.\n",
    "\n",
    "    Returns:\n",
    "    numpy.ndarray: Confusion matrix.\n",
    "    \"\"\"\n",
    "    \n",
    "    #y_pred = set_highest_to_one(y_pred)\n",
    "    \n",
    "    \n",
    "    \n",
    "    if y_pred.shape != y_true.shape:\n",
    "        raise ValueError(\"Shapes of predictions and true labels must match. y_pred shape: {} y_true shape: {}\".format(y_pred.shape, y_true.shape))\n",
    "\n",
    "    conf_matrix = np.zeros((num_classes, num_classes), dtype=np.int64)\n",
    "\n",
    "    y_pred_np = y_pred.cpu().numpy()\n",
    "    y_true_np = y_true.cpu().numpy()\n",
    "\n",
    "    for pred, true in zip(y_pred_np, y_true_np):\n",
    "        conf_matrix[pred, true] += 1\n",
    "\n",
    "    return conf_matrix"
   ]
  },
  {
   "cell_type": "code",
   "execution_count": 17,
   "metadata": {},
   "outputs": [],
   "source": [
    "def grid_search(parameters):\n",
    "    keys = parameters.keys()\n",
    "    values = parameters.values()\n",
    "    \n",
    "    combinations = list(product(*values))\n",
    "    \n",
    "    parameter_configurations = [{k: v for k, v in zip(keys, combination)} for combination in combinations]\n",
    "    \n",
    "    return parameter_configurations"
   ]
  },
  {
   "cell_type": "code",
   "execution_count": 18,
   "metadata": {},
   "outputs": [],
   "source": [
    "def random_train_test_split(size, training_data_size):\n",
    "    indices = np.arange(size)\n",
    "    np.random.shuffle(indices)\n",
    "    training_data_length = int(size * training_data_size)\n",
    "    training_data_indices = indices[:training_data_length]\n",
    "    test_data_indices = indices[training_data_length:]\n",
    "    return training_data_indices, test_data_indices"
   ]
  },
  {
   "cell_type": "code",
   "execution_count": 19,
   "metadata": {},
   "outputs": [],
   "source": [
    "def get_accuracy_value(item):\n",
    "    return item[1][0]"
   ]
  },
  {
   "cell_type": "code",
   "execution_count": 20,
   "metadata": {},
   "outputs": [],
   "source": [
    "def calculate_confusion_matrix(test_emb, test_labels, model):\n",
    "    model.eval()\n",
    "    output = model(test_emb)\n",
    "    return confusion_matrix(output, test_labels, len(test_labels))\n",
    "    "
   ]
  },
  {
   "cell_type": "code",
   "execution_count": 25,
   "metadata": {},
   "outputs": [],
   "source": [
    "def grid_search_train_test(parameters):\n",
    "    result = []\n",
    "    parameter_configs = grid_search(parameters)\n",
    "    \n",
    "    for config in parameter_configs:\n",
    "        batch_loss, batch_acc = [], []\n",
    "        model = BiLSTM(hidden_size=config['hidden_size'], num_layers=config['num_layers'], dropout=config['dropout'])\n",
    "        model_opt = torch.optim.Adam(model.parameters(), lr= config['learning_rate'])\n",
    "        loss_function = nn.CrossEntropyLoss()\n",
    "        print(\"Working with: \")\n",
    "        print(config)\n",
    "        print(\"\\n\")\n",
    "        \n",
    "        \n",
    "        print(f'{\"Starting Training\":-^100}')\n",
    "        model.train()\n",
    "        for epoch in range(config['epochs']):\n",
    "            # print(f\"Epoch {epoch}\")\n",
    "            for idx in tqdm(range(246)):\n",
    "                TRAIN_emb = load_tensor(filepath=f\"../train_document/doc_{idx}/embedding\")\n",
    "                TRAIN_labels = load_tensor(filepath=f\"../train_document/doc_{idx}/label\")\n",
    "                if TRAIN_emb.size(0) == 0:\n",
    "                    continue\n",
    "                output = model(TRAIN_emb)\n",
    "                loss = loss_function(output,TRAIN_labels)\n",
    "                \n",
    "                model_opt.zero_grad()\n",
    "                loss.backward()\n",
    "                model_opt.step()\n",
    "                \n",
    "            print(f\"Epoch: {epoch+1} \\t Loss: {loss.item():.5f}\")\n",
    "            batch_loss.append(loss.item())\n",
    "        \n",
    "        confusion_matrix = None\n",
    "        for i in range(29):\n",
    "            TEST_emb = load_tensor(filepath=f\"../test_document/doc_{i}/embedding\")\n",
    "            TEST_labels = load_tensor(filepath=f\"../test_document/doc_{i}/label\")\n",
    "            conf_matrix_helper = calculate_confusion_matrix(TEST_emb, TEST_labels, model)\n",
    "            if confusion_matrix:\n",
    "                confusion_matrix = np.add(confusion_matrix, conf_matrix_helper)\n",
    "            else:\n",
    "                confusion_matrix = conf_matrix_helper\n",
    "                \n",
    "        accuracies = class_accuracy(confusion_matrix)\n",
    "        f1_scores = class_f1_score(confusion_matrix)\n",
    "        average_accuracy = np.mean(accuracies)\n",
    "        average_f1 = np.mean(f1_scores)\n",
    "        \n",
    "        print(\"Accuracies: {accuracies} \\n Average acccuracy: {average_accuracy}\")\n",
    "        print(\"F1 Scores: {f1_scores} \\n Average F1: {average_f1}\")\n",
    "        \n",
    "        result.append((config, (average_accuracy, average_f1)))\n",
    "        \n",
    "    return result"
   ]
  },
  {
   "cell_type": "code",
   "execution_count": 28,
   "metadata": {},
   "outputs": [
    {
     "name": "stdout",
     "output_type": "stream",
     "text": [
      "Working with: \n",
      "{'epochs': 10, 'learning_rate': 0.0001, 'dropout': 0.0, 'hidden_size': 128, 'num_layers': 1}\n",
      "\n",
      "\n",
      "-----------------------------------------Starting Training------------------------------------------\n"
     ]
    },
    {
     "name": "stderr",
     "output_type": "stream",
     "text": [
      "  0%|          | 0/246 [00:00<?, ?it/s]"
     ]
    },
    {
     "name": "stderr",
     "output_type": "stream",
     "text": [
      "100%|██████████| 246/246 [00:06<00:00, 39.24it/s]\n"
     ]
    },
    {
     "name": "stdout",
     "output_type": "stream",
     "text": [
      "Epoch: 1 \t Loss: 2.32586\n"
     ]
    },
    {
     "name": "stderr",
     "output_type": "stream",
     "text": [
      "100%|██████████| 246/246 [00:05<00:00, 41.54it/s]\n"
     ]
    },
    {
     "name": "stdout",
     "output_type": "stream",
     "text": [
      "Epoch: 2 \t Loss: 2.32443\n"
     ]
    },
    {
     "name": "stderr",
     "output_type": "stream",
     "text": [
      "100%|██████████| 246/246 [00:05<00:00, 45.08it/s]\n"
     ]
    },
    {
     "name": "stdout",
     "output_type": "stream",
     "text": [
      "Epoch: 3 \t Loss: 2.30299\n"
     ]
    },
    {
     "name": "stderr",
     "output_type": "stream",
     "text": [
      "100%|██████████| 246/246 [00:05<00:00, 45.41it/s]\n"
     ]
    },
    {
     "name": "stdout",
     "output_type": "stream",
     "text": [
      "Epoch: 4 \t Loss: 2.25840\n"
     ]
    },
    {
     "name": "stderr",
     "output_type": "stream",
     "text": [
      "100%|██████████| 246/246 [00:05<00:00, 43.61it/s]\n"
     ]
    },
    {
     "name": "stdout",
     "output_type": "stream",
     "text": [
      "Epoch: 5 \t Loss: 2.25411\n"
     ]
    },
    {
     "name": "stderr",
     "output_type": "stream",
     "text": [
      "100%|██████████| 246/246 [00:05<00:00, 46.27it/s]\n"
     ]
    },
    {
     "name": "stdout",
     "output_type": "stream",
     "text": [
      "Epoch: 6 \t Loss: 2.25018\n"
     ]
    },
    {
     "name": "stderr",
     "output_type": "stream",
     "text": [
      "100%|██████████| 246/246 [00:06<00:00, 40.25it/s]\n"
     ]
    },
    {
     "name": "stdout",
     "output_type": "stream",
     "text": [
      "Epoch: 7 \t Loss: 2.23882\n"
     ]
    },
    {
     "name": "stderr",
     "output_type": "stream",
     "text": [
      "100%|██████████| 246/246 [00:05<00:00, 41.21it/s]\n"
     ]
    },
    {
     "name": "stdout",
     "output_type": "stream",
     "text": [
      "Epoch: 8 \t Loss: 2.22097\n"
     ]
    },
    {
     "name": "stderr",
     "output_type": "stream",
     "text": [
      "100%|██████████| 246/246 [00:05<00:00, 43.38it/s]\n"
     ]
    },
    {
     "name": "stdout",
     "output_type": "stream",
     "text": [
      "Epoch: 9 \t Loss: 1.95283\n"
     ]
    },
    {
     "name": "stderr",
     "output_type": "stream",
     "text": [
      "100%|██████████| 246/246 [00:05<00:00, 42.47it/s]\n"
     ]
    },
    {
     "name": "stdout",
     "output_type": "stream",
     "text": [
      "Epoch: 10 \t Loss: 2.01258\n"
     ]
    },
    {
     "ename": "ValueError",
     "evalue": "Shapes of predictions and true labels must match. y_pred shape: torch.Size([96, 13]) y_true shape: torch.Size([96])",
     "output_type": "error",
     "traceback": [
      "\u001b[0;31m---------------------------------------------------------------------------\u001b[0m",
      "\u001b[0;31mValueError\u001b[0m                                Traceback (most recent call last)",
      "Cell \u001b[0;32mIn[28], line 9\u001b[0m\n\u001b[1;32m      1\u001b[0m parameter_configs \u001b[38;5;241m=\u001b[39m {\n\u001b[1;32m      2\u001b[0m     \u001b[38;5;124m'\u001b[39m\u001b[38;5;124mepochs\u001b[39m\u001b[38;5;124m'\u001b[39m: [\u001b[38;5;241m10\u001b[39m, \u001b[38;5;241m20\u001b[39m, \u001b[38;5;241m30\u001b[39m],\n\u001b[1;32m      3\u001b[0m     \u001b[38;5;124m'\u001b[39m\u001b[38;5;124mlearning_rate\u001b[39m\u001b[38;5;124m'\u001b[39m: [\u001b[38;5;241m0.0001\u001b[39m, \u001b[38;5;241m0.001\u001b[39m, \u001b[38;5;241m0.01\u001b[39m],\n\u001b[0;32m   (...)\u001b[0m\n\u001b[1;32m      6\u001b[0m     \u001b[38;5;124m'\u001b[39m\u001b[38;5;124mnum_layers\u001b[39m\u001b[38;5;124m'\u001b[39m: [\u001b[38;5;241m1\u001b[39m, \u001b[38;5;241m2\u001b[39m, \u001b[38;5;241m3\u001b[39m]\n\u001b[1;32m      7\u001b[0m     }\n\u001b[0;32m----> 9\u001b[0m result \u001b[38;5;241m=\u001b[39m \u001b[43mgrid_search_train_test\u001b[49m\u001b[43m(\u001b[49m\u001b[43mparameter_configs\u001b[49m\u001b[43m)\u001b[49m\n\u001b[1;32m     11\u001b[0m max_accuracy_config \u001b[38;5;241m=\u001b[39m \u001b[38;5;28mmax\u001b[39m(result, key\u001b[38;5;241m=\u001b[39mget_accuracy_value)\n\u001b[1;32m     13\u001b[0m \u001b[38;5;28mprint\u001b[39m(max_accuracy_config)\n",
      "Cell \u001b[0;32mIn[25], line 38\u001b[0m, in \u001b[0;36mgrid_search_train_test\u001b[0;34m(parameters)\u001b[0m\n\u001b[1;32m     36\u001b[0m TEST_emb \u001b[38;5;241m=\u001b[39m load_tensor(filepath\u001b[38;5;241m=\u001b[39m\u001b[38;5;124mf\u001b[39m\u001b[38;5;124m\"\u001b[39m\u001b[38;5;124m../test_document/doc_\u001b[39m\u001b[38;5;132;01m{\u001b[39;00mi\u001b[38;5;132;01m}\u001b[39;00m\u001b[38;5;124m/embedding\u001b[39m\u001b[38;5;124m\"\u001b[39m)\n\u001b[1;32m     37\u001b[0m TEST_labels \u001b[38;5;241m=\u001b[39m load_tensor(filepath\u001b[38;5;241m=\u001b[39m\u001b[38;5;124mf\u001b[39m\u001b[38;5;124m\"\u001b[39m\u001b[38;5;124m../test_document/doc_\u001b[39m\u001b[38;5;132;01m{\u001b[39;00mi\u001b[38;5;132;01m}\u001b[39;00m\u001b[38;5;124m/label\u001b[39m\u001b[38;5;124m\"\u001b[39m)\n\u001b[0;32m---> 38\u001b[0m conf_matrix_helper \u001b[38;5;241m=\u001b[39m \u001b[43mcalculate_confusion_matrix\u001b[49m\u001b[43m(\u001b[49m\u001b[43mTEST_emb\u001b[49m\u001b[43m,\u001b[49m\u001b[43m \u001b[49m\u001b[43mTEST_labels\u001b[49m\u001b[43m,\u001b[49m\u001b[43m \u001b[49m\u001b[43mmodel\u001b[49m\u001b[43m)\u001b[49m\n\u001b[1;32m     39\u001b[0m \u001b[38;5;28;01mif\u001b[39;00m confusion_matrix:\n\u001b[1;32m     40\u001b[0m     confusion_matrix \u001b[38;5;241m=\u001b[39m np\u001b[38;5;241m.\u001b[39madd(confusion_matrix, conf_matrix_helper)\n",
      "Cell \u001b[0;32mIn[20], line 4\u001b[0m, in \u001b[0;36mcalculate_confusion_matrix\u001b[0;34m(test_emb, test_labels, model)\u001b[0m\n\u001b[1;32m      2\u001b[0m model\u001b[38;5;241m.\u001b[39meval()\n\u001b[1;32m      3\u001b[0m output \u001b[38;5;241m=\u001b[39m model(test_emb)\n\u001b[0;32m----> 4\u001b[0m \u001b[38;5;28;01mreturn\u001b[39;00m \u001b[43mconfusion_matrix\u001b[49m\u001b[43m(\u001b[49m\u001b[43moutput\u001b[49m\u001b[43m,\u001b[49m\u001b[43m \u001b[49m\u001b[43mtest_labels\u001b[49m\u001b[43m,\u001b[49m\u001b[43m \u001b[49m\u001b[38;5;28;43mlen\u001b[39;49m\u001b[43m(\u001b[49m\u001b[43mtest_labels\u001b[49m\u001b[43m)\u001b[49m\u001b[43m)\u001b[49m\n",
      "Cell \u001b[0;32mIn[27], line 18\u001b[0m, in \u001b[0;36mconfusion_matrix\u001b[0;34m(y_pred, y_true, num_classes)\u001b[0m\n\u001b[1;32m     14\u001b[0m y_pred \u001b[38;5;241m=\u001b[39m set_highest_to_one(y_pred)\n\u001b[1;32m     17\u001b[0m \u001b[38;5;28;01mif\u001b[39;00m y_pred\u001b[38;5;241m.\u001b[39mshape \u001b[38;5;241m!=\u001b[39m y_true\u001b[38;5;241m.\u001b[39mshape:\n\u001b[0;32m---> 18\u001b[0m     \u001b[38;5;28;01mraise\u001b[39;00m \u001b[38;5;167;01mValueError\u001b[39;00m(\u001b[38;5;124m\"\u001b[39m\u001b[38;5;124mShapes of predictions and true labels must match. y_pred shape: \u001b[39m\u001b[38;5;132;01m{}\u001b[39;00m\u001b[38;5;124m y_true shape: \u001b[39m\u001b[38;5;132;01m{}\u001b[39;00m\u001b[38;5;124m\"\u001b[39m\u001b[38;5;241m.\u001b[39mformat(y_pred\u001b[38;5;241m.\u001b[39mshape, y_true\u001b[38;5;241m.\u001b[39mshape))\n\u001b[1;32m     20\u001b[0m conf_matrix \u001b[38;5;241m=\u001b[39m np\u001b[38;5;241m.\u001b[39mzeros((num_classes, num_classes), dtype\u001b[38;5;241m=\u001b[39mnp\u001b[38;5;241m.\u001b[39mint64)\n\u001b[1;32m     22\u001b[0m y_pred_np \u001b[38;5;241m=\u001b[39m y_pred\u001b[38;5;241m.\u001b[39mcpu()\u001b[38;5;241m.\u001b[39mnumpy()\n",
      "\u001b[0;31mValueError\u001b[0m: Shapes of predictions and true labels must match. y_pred shape: torch.Size([96, 13]) y_true shape: torch.Size([96])"
     ]
    }
   ],
   "source": [
    "parameter_configs = {\n",
    "    'epochs': [10, 20, 30],\n",
    "    'learning_rate': [0.0001, 0.001, 0.01],\n",
    "    'dropout': [0.0, 0.1, 0.2, 0.3],\n",
    "    'hidden_size': [128, 256, 512],\n",
    "    'num_layers': [1, 2, 3]\n",
    "    }\n",
    "\n",
    "result = grid_search_train_test(parameter_configs)\n",
    "\n",
    "max_accuracy_config = max(result, key=get_accuracy_value)\n",
    "\n",
    "print(max_accuracy_config)"
   ]
  },
  {
   "cell_type": "code",
   "execution_count": null,
   "metadata": {},
   "outputs": [],
   "source": [
    "# losses, accs = train(TRAIN_emb,TRAIN_labels,model,model_opt,loss_function,300)"
   ]
  },
  {
   "cell_type": "code",
   "execution_count": null,
   "metadata": {},
   "outputs": [],
   "source": [
    "# TEST_emb, TEST_labels = get_model_data(data= TEST_data, encoder= label_encoder,num_of_docs= 5)\n",
    "# test_accuracy(TEST_emb, TEST_labels, model)"
   ]
  },
  {
   "cell_type": "code",
   "execution_count": null,
   "metadata": {},
   "outputs": [],
   "source": [
    "model = BiLSTM(dropout=0.0, num_layers=1)\n",
    "model_opt = torch.optim.Adam(model.parameters(), lr= 5e-5)\n",
    "loss_function = nn.CrossEntropyLoss()"
   ]
  },
  {
   "cell_type": "code",
   "execution_count": null,
   "metadata": {},
   "outputs": [
    {
     "name": "stdout",
     "output_type": "stream",
     "text": [
      "-----------------------------------------Starting Training------------------------------------------\n"
     ]
    },
    {
     "name": "stderr",
     "output_type": "stream",
     "text": [
      "100%|██████████| 246/246 [00:09<00:00, 24.67it/s]\n"
     ]
    },
    {
     "name": "stdout",
     "output_type": "stream",
     "text": [
      "Epoch: 1 \t Loss: 2.41102\n"
     ]
    },
    {
     "name": "stderr",
     "output_type": "stream",
     "text": [
      "100%|██████████| 246/246 [00:07<00:00, 31.41it/s]\n"
     ]
    },
    {
     "name": "stdout",
     "output_type": "stream",
     "text": [
      "Epoch: 2 \t Loss: 2.32699\n"
     ]
    },
    {
     "name": "stderr",
     "output_type": "stream",
     "text": [
      "100%|██████████| 246/246 [00:07<00:00, 31.27it/s]\n"
     ]
    },
    {
     "name": "stdout",
     "output_type": "stream",
     "text": [
      "Epoch: 3 \t Loss: 2.14745\n"
     ]
    },
    {
     "name": "stderr",
     "output_type": "stream",
     "text": [
      "100%|██████████| 246/246 [00:08<00:00, 30.49it/s]\n"
     ]
    },
    {
     "name": "stdout",
     "output_type": "stream",
     "text": [
      "Epoch: 4 \t Loss: 2.04829\n"
     ]
    },
    {
     "name": "stderr",
     "output_type": "stream",
     "text": [
      "100%|██████████| 246/246 [00:08<00:00, 29.74it/s]\n"
     ]
    },
    {
     "name": "stdout",
     "output_type": "stream",
     "text": [
      "Epoch: 5 \t Loss: 2.06316\n"
     ]
    },
    {
     "name": "stderr",
     "output_type": "stream",
     "text": [
      "100%|██████████| 246/246 [00:07<00:00, 30.76it/s]\n"
     ]
    },
    {
     "name": "stdout",
     "output_type": "stream",
     "text": [
      "Epoch: 6 \t Loss: 2.05664\n"
     ]
    },
    {
     "name": "stderr",
     "output_type": "stream",
     "text": [
      "100%|██████████| 246/246 [00:07<00:00, 30.86it/s]\n"
     ]
    },
    {
     "name": "stdout",
     "output_type": "stream",
     "text": [
      "Epoch: 7 \t Loss: 2.08549\n"
     ]
    },
    {
     "name": "stderr",
     "output_type": "stream",
     "text": [
      "100%|██████████| 246/246 [00:08<00:00, 29.40it/s]\n"
     ]
    },
    {
     "name": "stdout",
     "output_type": "stream",
     "text": [
      "Epoch: 8 \t Loss: 2.03122\n"
     ]
    },
    {
     "name": "stderr",
     "output_type": "stream",
     "text": [
      "100%|██████████| 246/246 [00:07<00:00, 31.87it/s]\n"
     ]
    },
    {
     "name": "stdout",
     "output_type": "stream",
     "text": [
      "Epoch: 9 \t Loss: 2.02196\n"
     ]
    },
    {
     "name": "stderr",
     "output_type": "stream",
     "text": [
      "100%|██████████| 246/246 [00:07<00:00, 31.45it/s]\n"
     ]
    },
    {
     "name": "stdout",
     "output_type": "stream",
     "text": [
      "Epoch: 10 \t Loss: 2.01100\n"
     ]
    },
    {
     "name": "stderr",
     "output_type": "stream",
     "text": [
      "100%|██████████| 246/246 [00:07<00:00, 32.76it/s]\n"
     ]
    },
    {
     "name": "stdout",
     "output_type": "stream",
     "text": [
      "Epoch: 11 \t Loss: 2.01911\n"
     ]
    },
    {
     "name": "stderr",
     "output_type": "stream",
     "text": [
      "100%|██████████| 246/246 [00:07<00:00, 31.89it/s]\n"
     ]
    },
    {
     "name": "stdout",
     "output_type": "stream",
     "text": [
      "Epoch: 12 \t Loss: 2.03949\n"
     ]
    },
    {
     "name": "stderr",
     "output_type": "stream",
     "text": [
      "100%|██████████| 246/246 [00:07<00:00, 31.38it/s]\n"
     ]
    },
    {
     "name": "stdout",
     "output_type": "stream",
     "text": [
      "Epoch: 13 \t Loss: 2.00497\n"
     ]
    },
    {
     "name": "stderr",
     "output_type": "stream",
     "text": [
      "100%|██████████| 246/246 [00:07<00:00, 31.37it/s]\n"
     ]
    },
    {
     "name": "stdout",
     "output_type": "stream",
     "text": [
      "Epoch: 14 \t Loss: 1.93509\n"
     ]
    },
    {
     "name": "stderr",
     "output_type": "stream",
     "text": [
      "100%|██████████| 246/246 [00:07<00:00, 32.01it/s]\n"
     ]
    },
    {
     "name": "stdout",
     "output_type": "stream",
     "text": [
      "Epoch: 15 \t Loss: 1.93260\n"
     ]
    },
    {
     "name": "stderr",
     "output_type": "stream",
     "text": [
      "100%|██████████| 246/246 [00:07<00:00, 32.31it/s]\n"
     ]
    },
    {
     "name": "stdout",
     "output_type": "stream",
     "text": [
      "Epoch: 16 \t Loss: 1.92965\n"
     ]
    },
    {
     "name": "stderr",
     "output_type": "stream",
     "text": [
      "100%|██████████| 246/246 [00:07<00:00, 33.36it/s]\n"
     ]
    },
    {
     "name": "stdout",
     "output_type": "stream",
     "text": [
      "Epoch: 17 \t Loss: 1.93059\n"
     ]
    },
    {
     "name": "stderr",
     "output_type": "stream",
     "text": [
      "100%|██████████| 246/246 [00:07<00:00, 31.99it/s]\n"
     ]
    },
    {
     "name": "stdout",
     "output_type": "stream",
     "text": [
      "Epoch: 18 \t Loss: 1.90713\n"
     ]
    },
    {
     "name": "stderr",
     "output_type": "stream",
     "text": [
      "100%|██████████| 246/246 [00:07<00:00, 32.45it/s]\n"
     ]
    },
    {
     "name": "stdout",
     "output_type": "stream",
     "text": [
      "Epoch: 19 \t Loss: 1.93041\n"
     ]
    },
    {
     "name": "stderr",
     "output_type": "stream",
     "text": [
      "100%|██████████| 246/246 [00:07<00:00, 31.13it/s]"
     ]
    },
    {
     "name": "stdout",
     "output_type": "stream",
     "text": [
      "Epoch: 20 \t Loss: 2.05209\n"
     ]
    },
    {
     "name": "stderr",
     "output_type": "stream",
     "text": [
      "\n"
     ]
    }
   ],
   "source": [
    "batch_loss, batch_acc = [], []\n",
    "# batch_counter = 0\n",
    "# random_doc_indexes = random.sample([i for i in range(len(batched_texts))],k=10)\n",
    "# print(random_doc_indexes)\n",
    "print(f'{\"Starting Training\":-^100}')\n",
    "model.train()\n",
    "for epoch in range(20):\n",
    "    # print(f\"Epoch {epoch}\")\n",
    "    for idx in tqdm(range(246)):\n",
    "        TRAIN_emb = load_tensor(filepath=f\"../train_document/doc_{idx}/embedding\")\n",
    "        TRAIN_labels = load_tensor(filepath=f\"../train_document/doc_{idx}/label\")\n",
    "        if TRAIN_emb.size(0) == 0:\n",
    "            continue\n",
    "        output = model(TRAIN_emb)\n",
    "        loss = loss_function(output,TRAIN_labels)\n",
    "        \n",
    "        model_opt.zero_grad()\n",
    "        loss.backward()\n",
    "        model_opt.step()\n",
    "        \n",
    "    print(f\"Epoch: {epoch+1} \\t Loss: {loss.item():.5f}\")\n",
    "    batch_loss.append(loss.item())\n",
    "\n",
    "    # # batch_counter += 1\n",
    "    # # print(f\"{f'BATCH NUMBER {batch_counter}':-^100}\")\n",
    "    #     TRAIN_emb = load_tensor(filepath=f\"../train_document/doc_{idx}/embedding\")\n",
    "    #     TRAIN_labels = load_tensor(filepath=f\"../train_document/doc_{idx}/label\")\n",
    "    #     if TRAIN_emb.size(0) == 0:\n",
    "    #         continue\n",
    "    #     # TRAIN_emb, TRAIN_labels = get_model_data_batched(doc_idxs[idx],batched_texts[idx],batched_labels[idx],label_encoder,max_lens_train)\n",
    "    #     loss, acc = train(TRAIN_emb,TRAIN_labels,model,model_opt,loss_function,1)\n",
    "    #     batch_loss.append(loss)\n",
    "    #     batch_acc.append(acc)\n",
    "    #     del TRAIN_emb, TRAIN_labels"
   ]
  },
  {
   "cell_type": "code",
   "execution_count": null,
   "metadata": {},
   "outputs": [
    {
     "name": "stdout",
     "output_type": "stream",
     "text": [
      "Model parameters saved to '../models/BiLSTM.pth'\n"
     ]
    }
   ],
   "source": [
    "save_model(model, \"../models/BiLSTM.pth\")"
   ]
  },
  {
   "cell_type": "code",
   "execution_count": null,
   "metadata": {},
   "outputs": [
    {
     "name": "stdout",
     "output_type": "stream",
     "text": [
      "Test Accuracy 81.25%\n",
      "Test Accuracy 33.81%\n",
      "Test Accuracy 68.00%\n",
      "Test Accuracy 68.52%\n",
      "Test Accuracy 77.32%\n",
      "Test Accuracy 85.96%\n",
      "Test Accuracy 66.18%\n",
      "Test Accuracy 73.45%\n",
      "Test Accuracy 83.92%\n",
      "Test Accuracy 89.21%\n",
      "Test Accuracy 61.84%\n",
      "Test Accuracy 72.12%\n",
      "Test Accuracy 93.30%\n",
      "Test Accuracy 87.41%\n",
      "Test Accuracy 85.94%\n",
      "Test Accuracy 83.87%\n",
      "Test Accuracy 67.35%\n",
      "Test Accuracy 67.57%\n",
      "Test Accuracy 77.42%\n",
      "Test Accuracy 70.00%\n",
      "Test Accuracy 45.65%\n",
      "Test Accuracy 87.88%\n",
      "Test Accuracy 89.61%\n",
      "Test Accuracy 64.15%\n",
      "Test Accuracy 69.64%\n",
      "Test Accuracy 58.06%\n",
      "Test Accuracy 70.37%\n",
      "Test Accuracy 48.84%\n",
      "Test Accuracy 62.71%\n",
      "tensor(72.1155)\n"
     ]
    }
   ],
   "source": [
    "# TEST_emb, TEST_labels = get_model_data(data= TEST_data, encoder= label_encoder,num_of_docs= 5)\n",
    "acc = 0\n",
    "for i in range(29):\n",
    "    TEST_emb = load_tensor(filepath=f\"../test_document/doc_{i}/embedding\")\n",
    "    TEST_labels = load_tensor(filepath=f\"../test_document/doc_{i}/label\")\n",
    "    acc += test_accuracy(TEST_emb, TEST_labels, model)\n",
    "    \n",
    "print(acc/29)"
   ]
  },
  {
   "cell_type": "code",
   "execution_count": null,
   "metadata": {},
   "outputs": [
    {
     "name": "stdout",
     "output_type": "stream",
     "text": [
      "Test Accuracy 62.71%\n"
     ]
    },
    {
     "data": {
      "text/plain": [
       "tensor(62.7119)"
      ]
     },
     "execution_count": 19,
     "metadata": {},
     "output_type": "execute_result"
    }
   ],
   "source": [
    "test_accuracy(TEST_emb, TEST_labels, model)"
   ]
  },
  {
   "cell_type": "code",
   "execution_count": null,
   "metadata": {},
   "outputs": [],
   "source": [
    "# accs_plot = [acc[-1].item() for acc in batch_acc]\n",
    "# loss_plot = [np.mean(loss[-5:]) for loss in batch_loss]"
   ]
  },
  {
   "cell_type": "code",
   "execution_count": null,
   "metadata": {},
   "outputs": [],
   "source": [
    "import seaborn as sns"
   ]
  },
  {
   "cell_type": "code",
   "execution_count": null,
   "metadata": {},
   "outputs": [
    {
     "ename": "NameError",
     "evalue": "name 'accs_plot' is not defined",
     "output_type": "error",
     "traceback": [
      "\u001b[0;31m---------------------------------------------------------------------------\u001b[0m",
      "\u001b[0;31mNameError\u001b[0m                                 Traceback (most recent call last)",
      "Cell \u001b[0;32mIn[22], line 1\u001b[0m\n\u001b[0;32m----> 1\u001b[0m sns\u001b[38;5;241m.\u001b[39mlineplot(x\u001b[38;5;241m=\u001b[39m \u001b[38;5;28mrange\u001b[39m(\u001b[38;5;28mlen\u001b[39m(\u001b[43maccs_plot\u001b[49m)), y\u001b[38;5;241m=\u001b[39m accs_plot)\n",
      "\u001b[0;31mNameError\u001b[0m: name 'accs_plot' is not defined"
     ]
    }
   ],
   "source": [
    "sns.lineplot(x= range(len(accs_plot)), y= accs_plot);"
   ]
  },
  {
   "cell_type": "code",
   "execution_count": null,
   "metadata": {},
   "outputs": [
    {
     "data": {
      "image/png": "[encoded data removed]",
      "text/plain": [
       "<Figure size 432x288 with 1 Axes>"
      ]
     },
     "metadata": {
      "needs_background": "light"
     },
     "output_type": "display_data"
    }
   ],
   "source": [
    "sns.lineplot(x= range(len(batch_loss)), y= batch_loss);"
   ]
  },
  {
   "cell_type": "markdown",
   "metadata": {},
   "source": [
    "# -------------------------------------------------"
   ]
  },
  {
   "cell_type": "markdown",
   "metadata": {},
   "source": [
    "# Saving document embeddings"
   ]
  },
  {
   "cell_type": "code",
   "execution_count": null,
   "metadata": {},
   "outputs": [],
   "source": [
    "doc_idxs, batched_texts, batched_labels = get_batched_data(TRAIN_data, batch_size= 1)"
   ]
  },
  {
   "cell_type": "code",
   "execution_count": null,
   "metadata": {},
   "outputs": [
    {
     "name": "stdout",
     "output_type": "stream",
     "text": [
      "X_train size: torch.Size([91, 1, 768])\tY_train size: torch.Size([91])\n",
      "Tensor saved to '../train_document/doc_0/embedding'\n",
      "Tensor saved to '../train_document/doc_0/label'\n",
      "X_train size: torch.Size([72, 1, 768])\tY_train size: torch.Size([72])\n",
      "Tensor saved to '../train_document/doc_1/embedding'\n",
      "Tensor saved to '../train_document/doc_1/label'\n",
      "X_train size: torch.Size([200, 1, 768])\tY_train size: torch.Size([200])\n",
      "Tensor saved to '../train_document/doc_2/embedding'\n",
      "Tensor saved to '../train_document/doc_2/label'\n",
      "X_train size: torch.Size([119, 1, 768])\tY_train size: torch.Size([119])\n",
      "Tensor saved to '../train_document/doc_3/embedding'\n",
      "Tensor saved to '../train_document/doc_3/label'\n",
      "X_train size: torch.Size([184, 1, 768])\tY_train size: torch.Size([184])\n",
      "Tensor saved to '../train_document/doc_4/embedding'\n",
      "Tensor saved to '../train_document/doc_4/label'\n",
      "X_train size: torch.Size([211, 1, 768])\tY_train size: torch.Size([211])\n",
      "Tensor saved to '../train_document/doc_5/embedding'\n",
      "Tensor saved to '../train_document/doc_5/label'\n",
      "X_train size: torch.Size([140, 1, 768])\tY_train size: torch.Size([140])\n",
      "Tensor saved to '../train_document/doc_6/embedding'\n",
      "Tensor saved to '../train_document/doc_6/label'\n",
      "X_train size: torch.Size([87, 1, 768])\tY_train size: torch.Size([87])\n",
      "Tensor saved to '../train_document/doc_7/embedding'\n",
      "Tensor saved to '../train_document/doc_7/label'\n",
      "X_train size: torch.Size([228, 1, 768])\tY_train size: torch.Size([228])\n",
      "Tensor saved to '../train_document/doc_8/embedding'\n",
      "Tensor saved to '../train_document/doc_8/label'\n",
      "X_train size: torch.Size([99, 1, 768])\tY_train size: torch.Size([99])\n",
      "Tensor saved to '../train_document/doc_9/embedding'\n",
      "Tensor saved to '../train_document/doc_9/label'\n",
      "X_train size: torch.Size([62, 1, 768])\tY_train size: torch.Size([62])\n",
      "Tensor saved to '../train_document/doc_10/embedding'\n",
      "Tensor saved to '../train_document/doc_10/label'\n",
      "X_train size: torch.Size([213, 1, 768])\tY_train size: torch.Size([213])\n",
      "Tensor saved to '../train_document/doc_11/embedding'\n",
      "Tensor saved to '../train_document/doc_11/label'\n",
      "X_train size: torch.Size([111, 1, 768])\tY_train size: torch.Size([111])\n",
      "Tensor saved to '../train_document/doc_12/embedding'\n",
      "Tensor saved to '../train_document/doc_12/label'\n",
      "X_train size: torch.Size([199, 1, 768])\tY_train size: torch.Size([199])\n",
      "Tensor saved to '../train_document/doc_13/embedding'\n",
      "Tensor saved to '../train_document/doc_13/label'\n",
      "X_train size: torch.Size([188, 1, 768])\tY_train size: torch.Size([188])\n",
      "Tensor saved to '../train_document/doc_14/embedding'\n",
      "Tensor saved to '../train_document/doc_14/label'\n",
      "X_train size: torch.Size([271, 1, 768])\tY_train size: torch.Size([271])\n",
      "Tensor saved to '../train_document/doc_15/embedding'\n",
      "Tensor saved to '../train_document/doc_15/label'\n",
      "X_train size: torch.Size([43, 1, 768])\tY_train size: torch.Size([43])\n",
      "Tensor saved to '../train_document/doc_16/embedding'\n",
      "Tensor saved to '../train_document/doc_16/label'\n",
      "X_train size: torch.Size([82, 1, 768])\tY_train size: torch.Size([82])\n",
      "Tensor saved to '../train_document/doc_17/embedding'\n",
      "Tensor saved to '../train_document/doc_17/label'\n",
      "X_train size: torch.Size([171, 1, 768])\tY_train size: torch.Size([171])\n",
      "Tensor saved to '../train_document/doc_18/embedding'\n",
      "Tensor saved to '../train_document/doc_18/label'\n",
      "X_train size: torch.Size([149, 1, 768])\tY_train size: torch.Size([149])\n",
      "Tensor saved to '../train_document/doc_19/embedding'\n",
      "Tensor saved to '../train_document/doc_19/label'\n",
      "X_train size: torch.Size([95, 1, 768])\tY_train size: torch.Size([95])\n",
      "Tensor saved to '../train_document/doc_20/embedding'\n",
      "Tensor saved to '../train_document/doc_20/label'\n",
      "X_train size: torch.Size([56, 1, 768])\tY_train size: torch.Size([56])\n",
      "Tensor saved to '../train_document/doc_21/embedding'\n",
      "Tensor saved to '../train_document/doc_21/label'\n",
      "X_train size: torch.Size([47, 1, 768])\tY_train size: torch.Size([47])\n",
      "Tensor saved to '../train_document/doc_22/embedding'\n",
      "Tensor saved to '../train_document/doc_22/label'\n",
      "X_train size: torch.Size([116, 1, 768])\tY_train size: torch.Size([116])\n",
      "Tensor saved to '../train_document/doc_23/embedding'\n",
      "Tensor saved to '../train_document/doc_23/label'\n",
      "X_train size: torch.Size([111, 1, 768])\tY_train size: torch.Size([111])\n",
      "Tensor saved to '../train_document/doc_24/embedding'\n",
      "Tensor saved to '../train_document/doc_24/label'\n",
      "X_train size: torch.Size([45, 1, 768])\tY_train size: torch.Size([45])\n",
      "Tensor saved to '../train_document/doc_25/embedding'\n",
      "Tensor saved to '../train_document/doc_25/label'\n",
      "X_train size: torch.Size([109, 1, 768])\tY_train size: torch.Size([109])\n",
      "Tensor saved to '../train_document/doc_26/embedding'\n",
      "Tensor saved to '../train_document/doc_26/label'\n",
      "X_train size: torch.Size([155, 1, 768])\tY_train size: torch.Size([155])\n",
      "Tensor saved to '../train_document/doc_27/embedding'\n",
      "Tensor saved to '../train_document/doc_27/label'\n",
      "X_train size: torch.Size([198, 1, 768])\tY_train size: torch.Size([198])\n",
      "Tensor saved to '../train_document/doc_28/embedding'\n",
      "Tensor saved to '../train_document/doc_28/label'\n",
      "X_train size: torch.Size([153, 1, 768])\tY_train size: torch.Size([153])\n",
      "Tensor saved to '../train_document/doc_29/embedding'\n",
      "Tensor saved to '../train_document/doc_29/label'\n",
      "X_train size: torch.Size([50, 1, 768])\tY_train size: torch.Size([50])\n",
      "Tensor saved to '../train_document/doc_30/embedding'\n",
      "Tensor saved to '../train_document/doc_30/label'\n",
      "X_train size: torch.Size([44, 1, 768])\tY_train size: torch.Size([44])\n",
      "Tensor saved to '../train_document/doc_31/embedding'\n",
      "Tensor saved to '../train_document/doc_31/label'\n",
      "X_train size: torch.Size([264, 1, 768])\tY_train size: torch.Size([264])\n",
      "Tensor saved to '../train_document/doc_32/embedding'\n",
      "Tensor saved to '../train_document/doc_32/label'\n",
      "X_train size: torch.Size([114, 1, 768])\tY_train size: torch.Size([114])\n",
      "Tensor saved to '../train_document/doc_33/embedding'\n",
      "Tensor saved to '../train_document/doc_33/label'\n",
      "X_train size: torch.Size([54, 1, 768])\tY_train size: torch.Size([54])\n",
      "Tensor saved to '../train_document/doc_34/embedding'\n",
      "Tensor saved to '../train_document/doc_34/label'\n",
      "X_train size: torch.Size([243, 1, 768])\tY_train size: torch.Size([243])\n",
      "Tensor saved to '../train_document/doc_35/embedding'\n",
      "Tensor saved to '../train_document/doc_35/label'\n",
      "X_train size: torch.Size([107, 1, 768])\tY_train size: torch.Size([107])\n",
      "Tensor saved to '../train_document/doc_36/embedding'\n",
      "Tensor saved to '../train_document/doc_36/label'\n",
      "X_train size: torch.Size([127, 1, 768])\tY_train size: torch.Size([127])\n",
      "Tensor saved to '../train_document/doc_37/embedding'\n",
      "Tensor saved to '../train_document/doc_37/label'\n",
      "X_train size: torch.Size([188, 1, 768])\tY_train size: torch.Size([188])\n",
      "Tensor saved to '../train_document/doc_38/embedding'\n",
      "Tensor saved to '../train_document/doc_38/label'\n",
      "X_train size: torch.Size([189, 1, 768])\tY_train size: torch.Size([189])\n",
      "Tensor saved to '../train_document/doc_39/embedding'\n",
      "Tensor saved to '../train_document/doc_39/label'\n",
      "X_train size: torch.Size([157, 1, 768])\tY_train size: torch.Size([157])\n",
      "Tensor saved to '../train_document/doc_40/embedding'\n",
      "Tensor saved to '../train_document/doc_40/label'\n",
      "X_train size: torch.Size([62, 1, 768])\tY_train size: torch.Size([62])\n",
      "Tensor saved to '../train_document/doc_41/embedding'\n",
      "Tensor saved to '../train_document/doc_41/label'\n",
      "X_train size: torch.Size([120, 1, 768])\tY_train size: torch.Size([120])\n",
      "Tensor saved to '../train_document/doc_42/embedding'\n",
      "Tensor saved to '../train_document/doc_42/label'\n",
      "X_train size: torch.Size([142, 1, 768])\tY_train size: torch.Size([142])\n",
      "Tensor saved to '../train_document/doc_43/embedding'\n",
      "Tensor saved to '../train_document/doc_43/label'\n",
      "X_train size: torch.Size([75, 1, 768])\tY_train size: torch.Size([75])\n",
      "Tensor saved to '../train_document/doc_44/embedding'\n",
      "Tensor saved to '../train_document/doc_44/label'\n",
      "X_train size: torch.Size([146, 1, 768])\tY_train size: torch.Size([146])\n",
      "Tensor saved to '../train_document/doc_45/embedding'\n",
      "Tensor saved to '../train_document/doc_45/label'\n",
      "X_train size: torch.Size([185, 1, 768])\tY_train size: torch.Size([185])\n",
      "Tensor saved to '../train_document/doc_46/embedding'\n",
      "Tensor saved to '../train_document/doc_46/label'\n",
      "X_train size: torch.Size([53, 1, 768])\tY_train size: torch.Size([53])\n",
      "Tensor saved to '../train_document/doc_47/embedding'\n",
      "Tensor saved to '../train_document/doc_47/label'\n",
      "X_train size: torch.Size([73, 1, 768])\tY_train size: torch.Size([73])\n",
      "Tensor saved to '../train_document/doc_48/embedding'\n",
      "Tensor saved to '../train_document/doc_48/label'\n",
      "X_train size: torch.Size([79, 1, 768])\tY_train size: torch.Size([79])\n",
      "Tensor saved to '../train_document/doc_49/embedding'\n",
      "Tensor saved to '../train_document/doc_49/label'\n",
      "X_train size: torch.Size([187, 1, 768])\tY_train size: torch.Size([187])\n",
      "Tensor saved to '../train_document/doc_50/embedding'\n",
      "Tensor saved to '../train_document/doc_50/label'\n",
      "X_train size: torch.Size([82, 1, 768])\tY_train size: torch.Size([82])\n",
      "Tensor saved to '../train_document/doc_51/embedding'\n",
      "Tensor saved to '../train_document/doc_51/label'\n",
      "X_train size: torch.Size([88, 1, 768])\tY_train size: torch.Size([88])\n",
      "Tensor saved to '../train_document/doc_52/embedding'\n",
      "Tensor saved to '../train_document/doc_52/label'\n",
      "X_train size: torch.Size([59, 1, 768])\tY_train size: torch.Size([59])\n",
      "Tensor saved to '../train_document/doc_53/embedding'\n",
      "Tensor saved to '../train_document/doc_53/label'\n",
      "X_train size: torch.Size([59, 1, 768])\tY_train size: torch.Size([59])\n",
      "Tensor saved to '../train_document/doc_54/embedding'\n",
      "Tensor saved to '../train_document/doc_54/label'\n",
      "X_train size: torch.Size([110, 1, 768])\tY_train size: torch.Size([110])\n",
      "Tensor saved to '../train_document/doc_55/embedding'\n",
      "Tensor saved to '../train_document/doc_55/label'\n",
      "X_train size: torch.Size([141, 1, 768])\tY_train size: torch.Size([141])\n",
      "Tensor saved to '../train_document/doc_56/embedding'\n",
      "Tensor saved to '../train_document/doc_56/label'\n",
      "X_train size: torch.Size([31, 1, 768])\tY_train size: torch.Size([31])\n",
      "Tensor saved to '../train_document/doc_57/embedding'\n",
      "Tensor saved to '../train_document/doc_57/label'\n",
      "X_train size: torch.Size([54, 1, 768])\tY_train size: torch.Size([54])\n",
      "Tensor saved to '../train_document/doc_58/embedding'\n",
      "Tensor saved to '../train_document/doc_58/label'\n",
      "X_train size: torch.Size([54, 1, 768])\tY_train size: torch.Size([54])\n",
      "Tensor saved to '../train_document/doc_59/embedding'\n",
      "Tensor saved to '../train_document/doc_59/label'\n",
      "X_train size: torch.Size([31, 1, 768])\tY_train size: torch.Size([31])\n",
      "Tensor saved to '../train_document/doc_60/embedding'\n",
      "Tensor saved to '../train_document/doc_60/label'\n",
      "X_train size: torch.Size([39, 1, 768])\tY_train size: torch.Size([39])\n",
      "Tensor saved to '../train_document/doc_61/embedding'\n",
      "Tensor saved to '../train_document/doc_61/label'\n",
      "X_train size: torch.Size([208, 1, 768])\tY_train size: torch.Size([208])\n",
      "Tensor saved to '../train_document/doc_62/embedding'\n",
      "Tensor saved to '../train_document/doc_62/label'\n",
      "X_train size: torch.Size([115, 1, 768])\tY_train size: torch.Size([115])\n",
      "Tensor saved to '../train_document/doc_63/embedding'\n",
      "Tensor saved to '../train_document/doc_63/label'\n",
      "X_train size: torch.Size([155, 1, 768])\tY_train size: torch.Size([155])\n",
      "Tensor saved to '../train_document/doc_64/embedding'\n",
      "Tensor saved to '../train_document/doc_64/label'\n",
      "X_train size: torch.Size([123, 1, 768])\tY_train size: torch.Size([123])\n",
      "Tensor saved to '../train_document/doc_65/embedding'\n",
      "Tensor saved to '../train_document/doc_65/label'\n",
      "X_train size: torch.Size([52, 1, 768])\tY_train size: torch.Size([52])\n",
      "Tensor saved to '../train_document/doc_66/embedding'\n",
      "Tensor saved to '../train_document/doc_66/label'\n",
      "X_train size: torch.Size([143, 1, 768])\tY_train size: torch.Size([143])\n",
      "Tensor saved to '../train_document/doc_67/embedding'\n",
      "Tensor saved to '../train_document/doc_67/label'\n",
      "X_train size: torch.Size([142, 1, 768])\tY_train size: torch.Size([142])\n",
      "Tensor saved to '../train_document/doc_68/embedding'\n",
      "Tensor saved to '../train_document/doc_68/label'\n",
      "X_train size: torch.Size([0, 1, 768])\tY_train size: torch.Size([0])\n",
      "Tensor saved to '../train_document/doc_69/embedding'\n",
      "Tensor saved to '../train_document/doc_69/label'\n",
      "X_train size: torch.Size([77, 1, 768])\tY_train size: torch.Size([77])\n",
      "Tensor saved to '../train_document/doc_70/embedding'\n",
      "Tensor saved to '../train_document/doc_70/label'\n",
      "X_train size: torch.Size([116, 1, 768])\tY_train size: torch.Size([116])\n",
      "Tensor saved to '../train_document/doc_71/embedding'\n",
      "Tensor saved to '../train_document/doc_71/label'\n",
      "X_train size: torch.Size([87, 1, 768])\tY_train size: torch.Size([87])\n",
      "Tensor saved to '../train_document/doc_72/embedding'\n",
      "Tensor saved to '../train_document/doc_72/label'\n",
      "X_train size: torch.Size([122, 1, 768])\tY_train size: torch.Size([122])\n",
      "Tensor saved to '../train_document/doc_73/embedding'\n",
      "Tensor saved to '../train_document/doc_73/label'\n",
      "X_train size: torch.Size([111, 1, 768])\tY_train size: torch.Size([111])\n",
      "Tensor saved to '../train_document/doc_74/embedding'\n",
      "Tensor saved to '../train_document/doc_74/label'\n",
      "X_train size: torch.Size([95, 1, 768])\tY_train size: torch.Size([95])\n",
      "Tensor saved to '../train_document/doc_75/embedding'\n",
      "Tensor saved to '../train_document/doc_75/label'\n",
      "X_train size: torch.Size([184, 1, 768])\tY_train size: torch.Size([184])\n",
      "Tensor saved to '../train_document/doc_76/embedding'\n",
      "Tensor saved to '../train_document/doc_76/label'\n",
      "X_train size: torch.Size([144, 1, 768])\tY_train size: torch.Size([144])\n",
      "Tensor saved to '../train_document/doc_77/embedding'\n",
      "Tensor saved to '../train_document/doc_77/label'\n",
      "X_train size: torch.Size([35, 1, 768])\tY_train size: torch.Size([35])\n",
      "Tensor saved to '../train_document/doc_78/embedding'\n",
      "Tensor saved to '../train_document/doc_78/label'\n",
      "X_train size: torch.Size([140, 1, 768])\tY_train size: torch.Size([140])\n",
      "Tensor saved to '../train_document/doc_79/embedding'\n",
      "Tensor saved to '../train_document/doc_79/label'\n",
      "X_train size: torch.Size([73, 1, 768])\tY_train size: torch.Size([73])\n",
      "Tensor saved to '../train_document/doc_80/embedding'\n",
      "Tensor saved to '../train_document/doc_80/label'\n",
      "X_train size: torch.Size([137, 1, 768])\tY_train size: torch.Size([137])\n",
      "Tensor saved to '../train_document/doc_81/embedding'\n",
      "Tensor saved to '../train_document/doc_81/label'\n",
      "X_train size: torch.Size([24, 1, 768])\tY_train size: torch.Size([24])\n",
      "Tensor saved to '../train_document/doc_82/embedding'\n",
      "Tensor saved to '../train_document/doc_82/label'\n",
      "X_train size: torch.Size([113, 1, 768])\tY_train size: torch.Size([113])\n",
      "Tensor saved to '../train_document/doc_83/embedding'\n",
      "Tensor saved to '../train_document/doc_83/label'\n",
      "X_train size: torch.Size([105, 1, 768])\tY_train size: torch.Size([105])\n",
      "Tensor saved to '../train_document/doc_84/embedding'\n",
      "Tensor saved to '../train_document/doc_84/label'\n",
      "X_train size: torch.Size([80, 1, 768])\tY_train size: torch.Size([80])\n",
      "Tensor saved to '../train_document/doc_85/embedding'\n",
      "Tensor saved to '../train_document/doc_85/label'\n",
      "X_train size: torch.Size([106, 1, 768])\tY_train size: torch.Size([106])\n",
      "Tensor saved to '../train_document/doc_86/embedding'\n",
      "Tensor saved to '../train_document/doc_86/label'\n",
      "X_train size: torch.Size([44, 1, 768])\tY_train size: torch.Size([44])\n",
      "Tensor saved to '../train_document/doc_87/embedding'\n",
      "Tensor saved to '../train_document/doc_87/label'\n",
      "X_train size: torch.Size([105, 1, 768])\tY_train size: torch.Size([105])\n",
      "Tensor saved to '../train_document/doc_88/embedding'\n",
      "Tensor saved to '../train_document/doc_88/label'\n",
      "X_train size: torch.Size([53, 1, 768])\tY_train size: torch.Size([53])\n",
      "Tensor saved to '../train_document/doc_89/embedding'\n",
      "Tensor saved to '../train_document/doc_89/label'\n",
      "X_train size: torch.Size([136, 1, 768])\tY_train size: torch.Size([136])\n",
      "Tensor saved to '../train_document/doc_90/embedding'\n",
      "Tensor saved to '../train_document/doc_90/label'\n",
      "X_train size: torch.Size([83, 1, 768])\tY_train size: torch.Size([83])\n",
      "Tensor saved to '../train_document/doc_91/embedding'\n",
      "Tensor saved to '../train_document/doc_91/label'\n",
      "X_train size: torch.Size([221, 1, 768])\tY_train size: torch.Size([221])\n",
      "Tensor saved to '../train_document/doc_92/embedding'\n",
      "Tensor saved to '../train_document/doc_92/label'\n",
      "X_train size: torch.Size([150, 1, 768])\tY_train size: torch.Size([150])\n",
      "Tensor saved to '../train_document/doc_93/embedding'\n",
      "Tensor saved to '../train_document/doc_93/label'\n",
      "X_train size: torch.Size([114, 1, 768])\tY_train size: torch.Size([114])\n",
      "Tensor saved to '../train_document/doc_94/embedding'\n",
      "Tensor saved to '../train_document/doc_94/label'\n",
      "X_train size: torch.Size([57, 1, 768])\tY_train size: torch.Size([57])\n",
      "Tensor saved to '../train_document/doc_95/embedding'\n",
      "Tensor saved to '../train_document/doc_95/label'\n",
      "X_train size: torch.Size([57, 1, 768])\tY_train size: torch.Size([57])\n",
      "Tensor saved to '../train_document/doc_96/embedding'\n",
      "Tensor saved to '../train_document/doc_96/label'\n",
      "X_train size: torch.Size([70, 1, 768])\tY_train size: torch.Size([70])\n",
      "Tensor saved to '../train_document/doc_97/embedding'\n",
      "Tensor saved to '../train_document/doc_97/label'\n",
      "X_train size: torch.Size([264, 1, 768])\tY_train size: torch.Size([264])\n",
      "Tensor saved to '../train_document/doc_98/embedding'\n",
      "Tensor saved to '../train_document/doc_98/label'\n",
      "X_train size: torch.Size([167, 1, 768])\tY_train size: torch.Size([167])\n",
      "Tensor saved to '../train_document/doc_99/embedding'\n",
      "Tensor saved to '../train_document/doc_99/label'\n",
      "X_train size: torch.Size([49, 1, 768])\tY_train size: torch.Size([49])\n",
      "Tensor saved to '../train_document/doc_100/embedding'\n",
      "Tensor saved to '../train_document/doc_100/label'\n",
      "X_train size: torch.Size([63, 1, 768])\tY_train size: torch.Size([63])\n",
      "Tensor saved to '../train_document/doc_101/embedding'\n",
      "Tensor saved to '../train_document/doc_101/label'\n",
      "X_train size: torch.Size([74, 1, 768])\tY_train size: torch.Size([74])\n",
      "Tensor saved to '../train_document/doc_102/embedding'\n",
      "Tensor saved to '../train_document/doc_102/label'\n",
      "X_train size: torch.Size([123, 1, 768])\tY_train size: torch.Size([123])\n",
      "Tensor saved to '../train_document/doc_103/embedding'\n",
      "Tensor saved to '../train_document/doc_103/label'\n",
      "X_train size: torch.Size([147, 1, 768])\tY_train size: torch.Size([147])\n",
      "Tensor saved to '../train_document/doc_104/embedding'\n",
      "Tensor saved to '../train_document/doc_104/label'\n",
      "X_train size: torch.Size([180, 1, 768])\tY_train size: torch.Size([180])\n",
      "Tensor saved to '../train_document/doc_105/embedding'\n",
      "Tensor saved to '../train_document/doc_105/label'\n",
      "X_train size: torch.Size([71, 1, 768])\tY_train size: torch.Size([71])\n",
      "Tensor saved to '../train_document/doc_106/embedding'\n",
      "Tensor saved to '../train_document/doc_106/label'\n",
      "X_train size: torch.Size([174, 1, 768])\tY_train size: torch.Size([174])\n",
      "Tensor saved to '../train_document/doc_107/embedding'\n",
      "Tensor saved to '../train_document/doc_107/label'\n",
      "X_train size: torch.Size([126, 1, 768])\tY_train size: torch.Size([126])\n",
      "Tensor saved to '../train_document/doc_108/embedding'\n",
      "Tensor saved to '../train_document/doc_108/label'\n",
      "X_train size: torch.Size([129, 1, 768])\tY_train size: torch.Size([129])\n",
      "Tensor saved to '../train_document/doc_109/embedding'\n",
      "Tensor saved to '../train_document/doc_109/label'\n",
      "X_train size: torch.Size([32, 1, 768])\tY_train size: torch.Size([32])\n",
      "Tensor saved to '../train_document/doc_110/embedding'\n",
      "Tensor saved to '../train_document/doc_110/label'\n",
      "X_train size: torch.Size([121, 1, 768])\tY_train size: torch.Size([121])\n",
      "Tensor saved to '../train_document/doc_111/embedding'\n",
      "Tensor saved to '../train_document/doc_111/label'\n",
      "X_train size: torch.Size([60, 1, 768])\tY_train size: torch.Size([60])\n",
      "Tensor saved to '../train_document/doc_112/embedding'\n",
      "Tensor saved to '../train_document/doc_112/label'\n",
      "X_train size: torch.Size([94, 1, 768])\tY_train size: torch.Size([94])\n",
      "Tensor saved to '../train_document/doc_113/embedding'\n",
      "Tensor saved to '../train_document/doc_113/label'\n",
      "X_train size: torch.Size([121, 1, 768])\tY_train size: torch.Size([121])\n",
      "Tensor saved to '../train_document/doc_114/embedding'\n",
      "Tensor saved to '../train_document/doc_114/label'\n",
      "X_train size: torch.Size([115, 1, 768])\tY_train size: torch.Size([115])\n",
      "Tensor saved to '../train_document/doc_115/embedding'\n",
      "Tensor saved to '../train_document/doc_115/label'\n",
      "X_train size: torch.Size([153, 1, 768])\tY_train size: torch.Size([153])\n",
      "Tensor saved to '../train_document/doc_116/embedding'\n",
      "Tensor saved to '../train_document/doc_116/label'\n",
      "X_train size: torch.Size([308, 1, 768])\tY_train size: torch.Size([308])\n",
      "Tensor saved to '../train_document/doc_117/embedding'\n",
      "Tensor saved to '../train_document/doc_117/label'\n",
      "X_train size: torch.Size([44, 1, 768])\tY_train size: torch.Size([44])\n",
      "Tensor saved to '../train_document/doc_118/embedding'\n",
      "Tensor saved to '../train_document/doc_118/label'\n",
      "X_train size: torch.Size([139, 1, 768])\tY_train size: torch.Size([139])\n",
      "Tensor saved to '../train_document/doc_119/embedding'\n",
      "Tensor saved to '../train_document/doc_119/label'\n",
      "X_train size: torch.Size([71, 1, 768])\tY_train size: torch.Size([71])\n",
      "Tensor saved to '../train_document/doc_120/embedding'\n",
      "Tensor saved to '../train_document/doc_120/label'\n",
      "X_train size: torch.Size([63, 1, 768])\tY_train size: torch.Size([63])\n",
      "Tensor saved to '../train_document/doc_121/embedding'\n",
      "Tensor saved to '../train_document/doc_121/label'\n",
      "X_train size: torch.Size([201, 1, 768])\tY_train size: torch.Size([201])\n",
      "Tensor saved to '../train_document/doc_122/embedding'\n",
      "Tensor saved to '../train_document/doc_122/label'\n",
      "X_train size: torch.Size([31, 1, 768])\tY_train size: torch.Size([31])\n",
      "Tensor saved to '../train_document/doc_123/embedding'\n",
      "Tensor saved to '../train_document/doc_123/label'\n",
      "X_train size: torch.Size([168, 1, 768])\tY_train size: torch.Size([168])\n",
      "Tensor saved to '../train_document/doc_124/embedding'\n",
      "Tensor saved to '../train_document/doc_124/label'\n",
      "X_train size: torch.Size([213, 1, 768])\tY_train size: torch.Size([213])\n",
      "Tensor saved to '../train_document/doc_125/embedding'\n",
      "Tensor saved to '../train_document/doc_125/label'\n",
      "X_train size: torch.Size([96, 1, 768])\tY_train size: torch.Size([96])\n",
      "Tensor saved to '../train_document/doc_126/embedding'\n",
      "Tensor saved to '../train_document/doc_126/label'\n",
      "X_train size: torch.Size([85, 1, 768])\tY_train size: torch.Size([85])\n",
      "Tensor saved to '../train_document/doc_127/embedding'\n",
      "Tensor saved to '../train_document/doc_127/label'\n",
      "X_train size: torch.Size([174, 1, 768])\tY_train size: torch.Size([174])\n",
      "Tensor saved to '../train_document/doc_128/embedding'\n",
      "Tensor saved to '../train_document/doc_128/label'\n",
      "X_train size: torch.Size([53, 1, 768])\tY_train size: torch.Size([53])\n",
      "Tensor saved to '../train_document/doc_129/embedding'\n",
      "Tensor saved to '../train_document/doc_129/label'\n",
      "X_train size: torch.Size([111, 1, 768])\tY_train size: torch.Size([111])\n",
      "Tensor saved to '../train_document/doc_130/embedding'\n",
      "Tensor saved to '../train_document/doc_130/label'\n",
      "X_train size: torch.Size([130, 1, 768])\tY_train size: torch.Size([130])\n",
      "Tensor saved to '../train_document/doc_131/embedding'\n",
      "Tensor saved to '../train_document/doc_131/label'\n",
      "X_train size: torch.Size([126, 1, 768])\tY_train size: torch.Size([126])\n",
      "Tensor saved to '../train_document/doc_132/embedding'\n",
      "Tensor saved to '../train_document/doc_132/label'\n",
      "X_train size: torch.Size([158, 1, 768])\tY_train size: torch.Size([158])\n",
      "Tensor saved to '../train_document/doc_133/embedding'\n",
      "Tensor saved to '../train_document/doc_133/label'\n",
      "X_train size: torch.Size([103, 1, 768])\tY_train size: torch.Size([103])\n",
      "Tensor saved to '../train_document/doc_134/embedding'\n",
      "Tensor saved to '../train_document/doc_134/label'\n",
      "X_train size: torch.Size([130, 1, 768])\tY_train size: torch.Size([130])\n",
      "Tensor saved to '../train_document/doc_135/embedding'\n",
      "Tensor saved to '../train_document/doc_135/label'\n",
      "X_train size: torch.Size([65, 1, 768])\tY_train size: torch.Size([65])\n",
      "Tensor saved to '../train_document/doc_136/embedding'\n",
      "Tensor saved to '../train_document/doc_136/label'\n",
      "X_train size: torch.Size([98, 1, 768])\tY_train size: torch.Size([98])\n",
      "Tensor saved to '../train_document/doc_137/embedding'\n",
      "Tensor saved to '../train_document/doc_137/label'\n",
      "X_train size: torch.Size([161, 1, 768])\tY_train size: torch.Size([161])\n",
      "Tensor saved to '../train_document/doc_138/embedding'\n",
      "Tensor saved to '../train_document/doc_138/label'\n",
      "X_train size: torch.Size([93, 1, 768])\tY_train size: torch.Size([93])\n",
      "Tensor saved to '../train_document/doc_139/embedding'\n",
      "Tensor saved to '../train_document/doc_139/label'\n",
      "X_train size: torch.Size([67, 1, 768])\tY_train size: torch.Size([67])\n",
      "Tensor saved to '../train_document/doc_140/embedding'\n",
      "Tensor saved to '../train_document/doc_140/label'\n",
      "X_train size: torch.Size([173, 1, 768])\tY_train size: torch.Size([173])\n",
      "Tensor saved to '../train_document/doc_141/embedding'\n",
      "Tensor saved to '../train_document/doc_141/label'\n",
      "X_train size: torch.Size([234, 1, 768])\tY_train size: torch.Size([234])\n",
      "Tensor saved to '../train_document/doc_142/embedding'\n",
      "Tensor saved to '../train_document/doc_142/label'\n",
      "X_train size: torch.Size([153, 1, 768])\tY_train size: torch.Size([153])\n",
      "Tensor saved to '../train_document/doc_143/embedding'\n",
      "Tensor saved to '../train_document/doc_143/label'\n",
      "X_train size: torch.Size([103, 1, 768])\tY_train size: torch.Size([103])\n",
      "Tensor saved to '../train_document/doc_144/embedding'\n",
      "Tensor saved to '../train_document/doc_144/label'\n",
      "X_train size: torch.Size([42, 1, 768])\tY_train size: torch.Size([42])\n",
      "Tensor saved to '../train_document/doc_145/embedding'\n",
      "Tensor saved to '../train_document/doc_145/label'\n",
      "X_train size: torch.Size([164, 1, 768])\tY_train size: torch.Size([164])\n",
      "Tensor saved to '../train_document/doc_146/embedding'\n",
      "Tensor saved to '../train_document/doc_146/label'\n",
      "X_train size: torch.Size([36, 1, 768])\tY_train size: torch.Size([36])\n",
      "Tensor saved to '../train_document/doc_147/embedding'\n",
      "Tensor saved to '../train_document/doc_147/label'\n",
      "X_train size: torch.Size([66, 1, 768])\tY_train size: torch.Size([66])\n",
      "Tensor saved to '../train_document/doc_148/embedding'\n",
      "Tensor saved to '../train_document/doc_148/label'\n",
      "X_train size: torch.Size([386, 1, 768])\tY_train size: torch.Size([386])\n",
      "Tensor saved to '../train_document/doc_149/embedding'\n",
      "Tensor saved to '../train_document/doc_149/label'\n",
      "X_train size: torch.Size([119, 1, 768])\tY_train size: torch.Size([119])\n",
      "Tensor saved to '../train_document/doc_150/embedding'\n",
      "Tensor saved to '../train_document/doc_150/label'\n",
      "X_train size: torch.Size([83, 1, 768])\tY_train size: torch.Size([83])\n",
      "Tensor saved to '../train_document/doc_151/embedding'\n",
      "Tensor saved to '../train_document/doc_151/label'\n",
      "X_train size: torch.Size([200, 1, 768])\tY_train size: torch.Size([200])\n",
      "Tensor saved to '../train_document/doc_152/embedding'\n",
      "Tensor saved to '../train_document/doc_152/label'\n",
      "X_train size: torch.Size([159, 1, 768])\tY_train size: torch.Size([159])\n",
      "Tensor saved to '../train_document/doc_153/embedding'\n",
      "Tensor saved to '../train_document/doc_153/label'\n",
      "X_train size: torch.Size([75, 1, 768])\tY_train size: torch.Size([75])\n",
      "Tensor saved to '../train_document/doc_154/embedding'\n",
      "Tensor saved to '../train_document/doc_154/label'\n",
      "X_train size: torch.Size([75, 1, 768])\tY_train size: torch.Size([75])\n",
      "Tensor saved to '../train_document/doc_155/embedding'\n",
      "Tensor saved to '../train_document/doc_155/label'\n",
      "X_train size: torch.Size([63, 1, 768])\tY_train size: torch.Size([63])\n",
      "Tensor saved to '../train_document/doc_156/embedding'\n",
      "Tensor saved to '../train_document/doc_156/label'\n",
      "X_train size: torch.Size([65, 1, 768])\tY_train size: torch.Size([65])\n",
      "Tensor saved to '../train_document/doc_157/embedding'\n",
      "Tensor saved to '../train_document/doc_157/label'\n",
      "X_train size: torch.Size([97, 1, 768])\tY_train size: torch.Size([97])\n",
      "Tensor saved to '../train_document/doc_158/embedding'\n",
      "Tensor saved to '../train_document/doc_158/label'\n",
      "X_train size: torch.Size([75, 1, 768])\tY_train size: torch.Size([75])\n",
      "Tensor saved to '../train_document/doc_159/embedding'\n",
      "Tensor saved to '../train_document/doc_159/label'\n",
      "X_train size: torch.Size([104, 1, 768])\tY_train size: torch.Size([104])\n",
      "Tensor saved to '../train_document/doc_160/embedding'\n",
      "Tensor saved to '../train_document/doc_160/label'\n",
      "X_train size: torch.Size([44, 1, 768])\tY_train size: torch.Size([44])\n",
      "Tensor saved to '../train_document/doc_161/embedding'\n",
      "Tensor saved to '../train_document/doc_161/label'\n",
      "X_train size: torch.Size([63, 1, 768])\tY_train size: torch.Size([63])\n",
      "Tensor saved to '../train_document/doc_162/embedding'\n",
      "Tensor saved to '../train_document/doc_162/label'\n",
      "X_train size: torch.Size([79, 1, 768])\tY_train size: torch.Size([79])\n",
      "Tensor saved to '../train_document/doc_163/embedding'\n",
      "Tensor saved to '../train_document/doc_163/label'\n",
      "X_train size: torch.Size([190, 1, 768])\tY_train size: torch.Size([190])\n",
      "Tensor saved to '../train_document/doc_164/embedding'\n",
      "Tensor saved to '../train_document/doc_164/label'\n",
      "X_train size: torch.Size([33, 1, 768])\tY_train size: torch.Size([33])\n",
      "Tensor saved to '../train_document/doc_165/embedding'\n",
      "Tensor saved to '../train_document/doc_165/label'\n",
      "X_train size: torch.Size([91, 1, 768])\tY_train size: torch.Size([91])\n",
      "Tensor saved to '../train_document/doc_166/embedding'\n",
      "Tensor saved to '../train_document/doc_166/label'\n",
      "X_train size: torch.Size([96, 1, 768])\tY_train size: torch.Size([96])\n",
      "Tensor saved to '../train_document/doc_167/embedding'\n",
      "Tensor saved to '../train_document/doc_167/label'\n",
      "X_train size: torch.Size([52, 1, 768])\tY_train size: torch.Size([52])\n",
      "Tensor saved to '../train_document/doc_168/embedding'\n",
      "Tensor saved to '../train_document/doc_168/label'\n",
      "X_train size: torch.Size([91, 1, 768])\tY_train size: torch.Size([91])\n",
      "Tensor saved to '../train_document/doc_169/embedding'\n",
      "Tensor saved to '../train_document/doc_169/label'\n",
      "X_train size: torch.Size([251, 1, 768])\tY_train size: torch.Size([251])\n",
      "Tensor saved to '../train_document/doc_170/embedding'\n",
      "Tensor saved to '../train_document/doc_170/label'\n",
      "X_train size: torch.Size([117, 1, 768])\tY_train size: torch.Size([117])\n",
      "Tensor saved to '../train_document/doc_171/embedding'\n",
      "Tensor saved to '../train_document/doc_171/label'\n",
      "X_train size: torch.Size([146, 1, 768])\tY_train size: torch.Size([146])\n",
      "Tensor saved to '../train_document/doc_172/embedding'\n",
      "Tensor saved to '../train_document/doc_172/label'\n",
      "X_train size: torch.Size([84, 1, 768])\tY_train size: torch.Size([84])\n",
      "Tensor saved to '../train_document/doc_173/embedding'\n",
      "Tensor saved to '../train_document/doc_173/label'\n",
      "X_train size: torch.Size([223, 1, 768])\tY_train size: torch.Size([223])\n",
      "Tensor saved to '../train_document/doc_174/embedding'\n",
      "Tensor saved to '../train_document/doc_174/label'\n",
      "X_train size: torch.Size([54, 1, 768])\tY_train size: torch.Size([54])\n",
      "Tensor saved to '../train_document/doc_175/embedding'\n",
      "Tensor saved to '../train_document/doc_175/label'\n",
      "X_train size: torch.Size([248, 1, 768])\tY_train size: torch.Size([248])\n",
      "Tensor saved to '../train_document/doc_176/embedding'\n",
      "Tensor saved to '../train_document/doc_176/label'\n",
      "X_train size: torch.Size([69, 1, 768])\tY_train size: torch.Size([69])\n",
      "Tensor saved to '../train_document/doc_177/embedding'\n",
      "Tensor saved to '../train_document/doc_177/label'\n",
      "X_train size: torch.Size([89, 1, 768])\tY_train size: torch.Size([89])\n",
      "Tensor saved to '../train_document/doc_178/embedding'\n",
      "Tensor saved to '../train_document/doc_178/label'\n",
      "X_train size: torch.Size([124, 1, 768])\tY_train size: torch.Size([124])\n",
      "Tensor saved to '../train_document/doc_179/embedding'\n",
      "Tensor saved to '../train_document/doc_179/label'\n",
      "X_train size: torch.Size([45, 1, 768])\tY_train size: torch.Size([45])\n",
      "Tensor saved to '../train_document/doc_180/embedding'\n",
      "Tensor saved to '../train_document/doc_180/label'\n",
      "X_train size: torch.Size([95, 1, 768])\tY_train size: torch.Size([95])\n",
      "Tensor saved to '../train_document/doc_181/embedding'\n",
      "Tensor saved to '../train_document/doc_181/label'\n",
      "X_train size: torch.Size([131, 1, 768])\tY_train size: torch.Size([131])\n",
      "Tensor saved to '../train_document/doc_182/embedding'\n",
      "Tensor saved to '../train_document/doc_182/label'\n",
      "X_train size: torch.Size([117, 1, 768])\tY_train size: torch.Size([117])\n",
      "Tensor saved to '../train_document/doc_183/embedding'\n",
      "Tensor saved to '../train_document/doc_183/label'\n",
      "X_train size: torch.Size([27, 1, 768])\tY_train size: torch.Size([27])\n",
      "Tensor saved to '../train_document/doc_184/embedding'\n",
      "Tensor saved to '../train_document/doc_184/label'\n",
      "X_train size: torch.Size([106, 1, 768])\tY_train size: torch.Size([106])\n",
      "Tensor saved to '../train_document/doc_185/embedding'\n",
      "Tensor saved to '../train_document/doc_185/label'\n",
      "X_train size: torch.Size([244, 1, 768])\tY_train size: torch.Size([244])\n",
      "Tensor saved to '../train_document/doc_186/embedding'\n",
      "Tensor saved to '../train_document/doc_186/label'\n",
      "X_train size: torch.Size([87, 1, 768])\tY_train size: torch.Size([87])\n",
      "Tensor saved to '../train_document/doc_187/embedding'\n",
      "Tensor saved to '../train_document/doc_187/label'\n",
      "X_train size: torch.Size([78, 1, 768])\tY_train size: torch.Size([78])\n",
      "Tensor saved to '../train_document/doc_188/embedding'\n",
      "Tensor saved to '../train_document/doc_188/label'\n",
      "X_train size: torch.Size([97, 1, 768])\tY_train size: torch.Size([97])\n",
      "Tensor saved to '../train_document/doc_189/embedding'\n",
      "Tensor saved to '../train_document/doc_189/label'\n",
      "X_train size: torch.Size([36, 1, 768])\tY_train size: torch.Size([36])\n",
      "Tensor saved to '../train_document/doc_190/embedding'\n",
      "Tensor saved to '../train_document/doc_190/label'\n",
      "X_train size: torch.Size([128, 1, 768])\tY_train size: torch.Size([128])\n",
      "Tensor saved to '../train_document/doc_191/embedding'\n",
      "Tensor saved to '../train_document/doc_191/label'\n",
      "X_train size: torch.Size([154, 1, 768])\tY_train size: torch.Size([154])\n",
      "Tensor saved to '../train_document/doc_192/embedding'\n",
      "Tensor saved to '../train_document/doc_192/label'\n",
      "X_train size: torch.Size([115, 1, 768])\tY_train size: torch.Size([115])\n",
      "Tensor saved to '../train_document/doc_193/embedding'\n",
      "Tensor saved to '../train_document/doc_193/label'\n",
      "X_train size: torch.Size([61, 1, 768])\tY_train size: torch.Size([61])\n",
      "Tensor saved to '../train_document/doc_194/embedding'\n",
      "Tensor saved to '../train_document/doc_194/label'\n",
      "X_train size: torch.Size([245, 1, 768])\tY_train size: torch.Size([245])\n",
      "Tensor saved to '../train_document/doc_195/embedding'\n",
      "Tensor saved to '../train_document/doc_195/label'\n",
      "X_train size: torch.Size([104, 1, 768])\tY_train size: torch.Size([104])\n",
      "Tensor saved to '../train_document/doc_196/embedding'\n",
      "Tensor saved to '../train_document/doc_196/label'\n",
      "X_train size: torch.Size([91, 1, 768])\tY_train size: torch.Size([91])\n",
      "Tensor saved to '../train_document/doc_197/embedding'\n",
      "Tensor saved to '../train_document/doc_197/label'\n",
      "X_train size: torch.Size([120, 1, 768])\tY_train size: torch.Size([120])\n",
      "Tensor saved to '../train_document/doc_198/embedding'\n",
      "Tensor saved to '../train_document/doc_198/label'\n",
      "X_train size: torch.Size([89, 1, 768])\tY_train size: torch.Size([89])\n",
      "Tensor saved to '../train_document/doc_199/embedding'\n",
      "Tensor saved to '../train_document/doc_199/label'\n",
      "X_train size: torch.Size([65, 1, 768])\tY_train size: torch.Size([65])\n",
      "Tensor saved to '../train_document/doc_200/embedding'\n",
      "Tensor saved to '../train_document/doc_200/label'\n",
      "X_train size: torch.Size([74, 1, 768])\tY_train size: torch.Size([74])\n",
      "Tensor saved to '../train_document/doc_201/embedding'\n",
      "Tensor saved to '../train_document/doc_201/label'\n",
      "X_train size: torch.Size([92, 1, 768])\tY_train size: torch.Size([92])\n",
      "Tensor saved to '../train_document/doc_202/embedding'\n",
      "Tensor saved to '../train_document/doc_202/label'\n",
      "X_train size: torch.Size([240, 1, 768])\tY_train size: torch.Size([240])\n",
      "Tensor saved to '../train_document/doc_203/embedding'\n",
      "Tensor saved to '../train_document/doc_203/label'\n",
      "X_train size: torch.Size([102, 1, 768])\tY_train size: torch.Size([102])\n",
      "Tensor saved to '../train_document/doc_204/embedding'\n",
      "Tensor saved to '../train_document/doc_204/label'\n",
      "X_train size: torch.Size([107, 1, 768])\tY_train size: torch.Size([107])\n",
      "Tensor saved to '../train_document/doc_205/embedding'\n",
      "Tensor saved to '../train_document/doc_205/label'\n",
      "X_train size: torch.Size([79, 1, 768])\tY_train size: torch.Size([79])\n",
      "Tensor saved to '../train_document/doc_206/embedding'\n",
      "Tensor saved to '../train_document/doc_206/label'\n",
      "X_train size: torch.Size([168, 1, 768])\tY_train size: torch.Size([168])\n",
      "Tensor saved to '../train_document/doc_207/embedding'\n",
      "Tensor saved to '../train_document/doc_207/label'\n",
      "X_train size: torch.Size([181, 1, 768])\tY_train size: torch.Size([181])\n",
      "Tensor saved to '../train_document/doc_208/embedding'\n",
      "Tensor saved to '../train_document/doc_208/label'\n",
      "X_train size: torch.Size([53, 1, 768])\tY_train size: torch.Size([53])\n",
      "Tensor saved to '../train_document/doc_209/embedding'\n",
      "Tensor saved to '../train_document/doc_209/label'\n",
      "X_train size: torch.Size([248, 1, 768])\tY_train size: torch.Size([248])\n",
      "Tensor saved to '../train_document/doc_210/embedding'\n",
      "Tensor saved to '../train_document/doc_210/label'\n",
      "X_train size: torch.Size([141, 1, 768])\tY_train size: torch.Size([141])\n",
      "Tensor saved to '../train_document/doc_211/embedding'\n",
      "Tensor saved to '../train_document/doc_211/label'\n",
      "X_train size: torch.Size([47, 1, 768])\tY_train size: torch.Size([47])\n",
      "Tensor saved to '../train_document/doc_212/embedding'\n",
      "Tensor saved to '../train_document/doc_212/label'\n",
      "X_train size: torch.Size([81, 1, 768])\tY_train size: torch.Size([81])\n",
      "Tensor saved to '../train_document/doc_213/embedding'\n",
      "Tensor saved to '../train_document/doc_213/label'\n",
      "X_train size: torch.Size([82, 1, 768])\tY_train size: torch.Size([82])\n",
      "Tensor saved to '../train_document/doc_214/embedding'\n",
      "Tensor saved to '../train_document/doc_214/label'\n",
      "X_train size: torch.Size([60, 1, 768])\tY_train size: torch.Size([60])\n",
      "Tensor saved to '../train_document/doc_215/embedding'\n",
      "Tensor saved to '../train_document/doc_215/label'\n",
      "X_train size: torch.Size([179, 1, 768])\tY_train size: torch.Size([179])\n",
      "Tensor saved to '../train_document/doc_216/embedding'\n",
      "Tensor saved to '../train_document/doc_216/label'\n",
      "X_train size: torch.Size([65, 1, 768])\tY_train size: torch.Size([65])\n",
      "Tensor saved to '../train_document/doc_217/embedding'\n",
      "Tensor saved to '../train_document/doc_217/label'\n",
      "X_train size: torch.Size([176, 1, 768])\tY_train size: torch.Size([176])\n",
      "Tensor saved to '../train_document/doc_218/embedding'\n",
      "Tensor saved to '../train_document/doc_218/label'\n",
      "X_train size: torch.Size([283, 1, 768])\tY_train size: torch.Size([283])\n",
      "Tensor saved to '../train_document/doc_219/embedding'\n",
      "Tensor saved to '../train_document/doc_219/label'\n",
      "X_train size: torch.Size([123, 1, 768])\tY_train size: torch.Size([123])\n",
      "Tensor saved to '../train_document/doc_220/embedding'\n",
      "Tensor saved to '../train_document/doc_220/label'\n",
      "X_train size: torch.Size([263, 1, 768])\tY_train size: torch.Size([263])\n",
      "Tensor saved to '../train_document/doc_221/embedding'\n",
      "Tensor saved to '../train_document/doc_221/label'\n",
      "X_train size: torch.Size([58, 1, 768])\tY_train size: torch.Size([58])\n",
      "Tensor saved to '../train_document/doc_222/embedding'\n",
      "Tensor saved to '../train_document/doc_222/label'\n",
      "X_train size: torch.Size([193, 1, 768])\tY_train size: torch.Size([193])\n",
      "Tensor saved to '../train_document/doc_223/embedding'\n",
      "Tensor saved to '../train_document/doc_223/label'\n",
      "X_train size: torch.Size([150, 1, 768])\tY_train size: torch.Size([150])\n",
      "Tensor saved to '../train_document/doc_224/embedding'\n",
      "Tensor saved to '../train_document/doc_224/label'\n",
      "X_train size: torch.Size([0, 1, 768])\tY_train size: torch.Size([0])\n",
      "Tensor saved to '../train_document/doc_225/embedding'\n",
      "Tensor saved to '../train_document/doc_225/label'\n",
      "X_train size: torch.Size([148, 1, 768])\tY_train size: torch.Size([148])\n",
      "Tensor saved to '../train_document/doc_226/embedding'\n",
      "Tensor saved to '../train_document/doc_226/label'\n",
      "X_train size: torch.Size([45, 1, 768])\tY_train size: torch.Size([45])\n",
      "Tensor saved to '../train_document/doc_227/embedding'\n",
      "Tensor saved to '../train_document/doc_227/label'\n",
      "X_train size: torch.Size([255, 1, 768])\tY_train size: torch.Size([255])\n",
      "Tensor saved to '../train_document/doc_228/embedding'\n",
      "Tensor saved to '../train_document/doc_228/label'\n",
      "X_train size: torch.Size([66, 1, 768])\tY_train size: torch.Size([66])\n",
      "Tensor saved to '../train_document/doc_229/embedding'\n",
      "Tensor saved to '../train_document/doc_229/label'\n",
      "X_train size: torch.Size([62, 1, 768])\tY_train size: torch.Size([62])\n",
      "Tensor saved to '../train_document/doc_230/embedding'\n",
      "Tensor saved to '../train_document/doc_230/label'\n",
      "X_train size: torch.Size([214, 1, 768])\tY_train size: torch.Size([214])\n",
      "Tensor saved to '../train_document/doc_231/embedding'\n",
      "Tensor saved to '../train_document/doc_231/label'\n",
      "X_train size: torch.Size([246, 1, 768])\tY_train size: torch.Size([246])\n",
      "Tensor saved to '../train_document/doc_232/embedding'\n",
      "Tensor saved to '../train_document/doc_232/label'\n",
      "X_train size: torch.Size([110, 1, 768])\tY_train size: torch.Size([110])\n",
      "Tensor saved to '../train_document/doc_233/embedding'\n",
      "Tensor saved to '../train_document/doc_233/label'\n",
      "X_train size: torch.Size([110, 1, 768])\tY_train size: torch.Size([110])\n",
      "Tensor saved to '../train_document/doc_234/embedding'\n",
      "Tensor saved to '../train_document/doc_234/label'\n",
      "X_train size: torch.Size([67, 1, 768])\tY_train size: torch.Size([67])\n",
      "Tensor saved to '../train_document/doc_235/embedding'\n",
      "Tensor saved to '../train_document/doc_235/label'\n",
      "X_train size: torch.Size([73, 1, 768])\tY_train size: torch.Size([73])\n",
      "Tensor saved to '../train_document/doc_236/embedding'\n",
      "Tensor saved to '../train_document/doc_236/label'\n",
      "X_train size: torch.Size([56, 1, 768])\tY_train size: torch.Size([56])\n",
      "Tensor saved to '../train_document/doc_237/embedding'\n",
      "Tensor saved to '../train_document/doc_237/label'\n",
      "X_train size: torch.Size([212, 1, 768])\tY_train size: torch.Size([212])\n",
      "Tensor saved to '../train_document/doc_238/embedding'\n",
      "Tensor saved to '../train_document/doc_238/label'\n",
      "X_train size: torch.Size([215, 1, 768])\tY_train size: torch.Size([215])\n",
      "Tensor saved to '../train_document/doc_239/embedding'\n",
      "Tensor saved to '../train_document/doc_239/label'\n",
      "X_train size: torch.Size([103, 1, 768])\tY_train size: torch.Size([103])\n",
      "Tensor saved to '../train_document/doc_240/embedding'\n",
      "Tensor saved to '../train_document/doc_240/label'\n",
      "X_train size: torch.Size([45, 1, 768])\tY_train size: torch.Size([45])\n",
      "Tensor saved to '../train_document/doc_241/embedding'\n",
      "Tensor saved to '../train_document/doc_241/label'\n",
      "X_train size: torch.Size([112, 1, 768])\tY_train size: torch.Size([112])\n",
      "Tensor saved to '../train_document/doc_242/embedding'\n",
      "Tensor saved to '../train_document/doc_242/label'\n",
      "X_train size: torch.Size([77, 1, 768])\tY_train size: torch.Size([77])\n",
      "Tensor saved to '../train_document/doc_243/embedding'\n",
      "Tensor saved to '../train_document/doc_243/label'\n",
      "X_train size: torch.Size([90, 1, 768])\tY_train size: torch.Size([90])\n",
      "Tensor saved to '../train_document/doc_244/embedding'\n",
      "Tensor saved to '../train_document/doc_244/label'\n",
      "X_train size: torch.Size([122, 1, 768])\tY_train size: torch.Size([122])\n",
      "Tensor saved to '../train_document/doc_245/embedding'\n",
      "Tensor saved to '../train_document/doc_245/label'\n"
     ]
    }
   ],
   "source": [
    "for idx in range(len(doc_idxs)):\n",
    "    TRAIN_emb, TRAIN_labels = get_model_data_batched(doc_idxs[idx], batched_texts[idx], batched_labels[idx],label_encoder,max_lens_train)\n",
    "    save_tensor(TRAIN_emb, '../train_document/doc_'+str(idx),\"embedding\")\n",
    "    save_tensor(TRAIN_labels, '../train_document/doc_'+str(idx),\"label\")"
   ]
  },
  {
   "cell_type": "code",
   "execution_count": null,
   "metadata": {},
   "outputs": [],
   "source": [
    "doc_idxs, batched_texts, batched_labels = get_batched_data(TEST_data, batch_size= 1)\n",
    "max_lens_test = max_length(TEST_data)"
   ]
  },
  {
   "cell_type": "code",
   "execution_count": null,
   "metadata": {},
   "outputs": [
    {
     "name": "stdout",
     "output_type": "stream",
     "text": [
      "X_train size: torch.Size([96, 1, 768])\tY_train size: torch.Size([96])\n",
      "Tensor saved to '../test_document/doc_0/embedding'\n",
      "Tensor saved to '../test_document/doc_0/label'\n",
      "X_train size: torch.Size([139, 1, 768])\tY_train size: torch.Size([139])\n",
      "Tensor saved to '../test_document/doc_1/embedding'\n",
      "Tensor saved to '../test_document/doc_1/label'\n",
      "X_train size: torch.Size([150, 1, 768])\tY_train size: torch.Size([150])\n",
      "Tensor saved to '../test_document/doc_2/embedding'\n",
      "Tensor saved to '../test_document/doc_2/label'\n",
      "X_train size: torch.Size([54, 1, 768])\tY_train size: torch.Size([54])\n",
      "Tensor saved to '../test_document/doc_3/embedding'\n",
      "Tensor saved to '../test_document/doc_3/label'\n",
      "X_train size: torch.Size([97, 1, 768])\tY_train size: torch.Size([97])\n",
      "Tensor saved to '../test_document/doc_4/embedding'\n",
      "Tensor saved to '../test_document/doc_4/label'\n",
      "X_train size: torch.Size([57, 1, 768])\tY_train size: torch.Size([57])\n",
      "Tensor saved to '../test_document/doc_5/embedding'\n",
      "Tensor saved to '../test_document/doc_5/label'\n",
      "X_train size: torch.Size([68, 1, 768])\tY_train size: torch.Size([68])\n",
      "Tensor saved to '../test_document/doc_6/embedding'\n",
      "Tensor saved to '../test_document/doc_6/label'\n",
      "X_train size: torch.Size([113, 1, 768])\tY_train size: torch.Size([113])\n",
      "Tensor saved to '../test_document/doc_7/embedding'\n",
      "Tensor saved to '../test_document/doc_7/label'\n",
      "X_train size: torch.Size([199, 1, 768])\tY_train size: torch.Size([199])\n",
      "Tensor saved to '../test_document/doc_8/embedding'\n",
      "Tensor saved to '../test_document/doc_8/label'\n",
      "X_train size: torch.Size([139, 1, 768])\tY_train size: torch.Size([139])\n",
      "Tensor saved to '../test_document/doc_9/embedding'\n",
      "Tensor saved to '../test_document/doc_9/label'\n",
      "X_train size: torch.Size([76, 1, 768])\tY_train size: torch.Size([76])\n",
      "Tensor saved to '../test_document/doc_10/embedding'\n",
      "Tensor saved to '../test_document/doc_10/label'\n",
      "X_train size: torch.Size([104, 1, 768])\tY_train size: torch.Size([104])\n",
      "Tensor saved to '../test_document/doc_11/embedding'\n",
      "Tensor saved to '../test_document/doc_11/label'\n",
      "X_train size: torch.Size([209, 1, 768])\tY_train size: torch.Size([209])\n",
      "Tensor saved to '../test_document/doc_12/embedding'\n",
      "Tensor saved to '../test_document/doc_12/label'\n",
      "X_train size: torch.Size([135, 1, 768])\tY_train size: torch.Size([135])\n",
      "Tensor saved to '../test_document/doc_13/embedding'\n",
      "Tensor saved to '../test_document/doc_13/label'\n",
      "X_train size: torch.Size([64, 1, 768])\tY_train size: torch.Size([64])\n",
      "Tensor saved to '../test_document/doc_14/embedding'\n",
      "Tensor saved to '../test_document/doc_14/label'\n",
      "X_train size: torch.Size([62, 1, 768])\tY_train size: torch.Size([62])\n",
      "Tensor saved to '../test_document/doc_15/embedding'\n",
      "Tensor saved to '../test_document/doc_15/label'\n",
      "X_train size: torch.Size([98, 1, 768])\tY_train size: torch.Size([98])\n",
      "Tensor saved to '../test_document/doc_16/embedding'\n",
      "Tensor saved to '../test_document/doc_16/label'\n",
      "X_train size: torch.Size([111, 1, 768])\tY_train size: torch.Size([111])\n",
      "Tensor saved to '../test_document/doc_17/embedding'\n",
      "Tensor saved to '../test_document/doc_17/label'\n",
      "X_train size: torch.Size([62, 1, 768])\tY_train size: torch.Size([62])\n",
      "Tensor saved to '../test_document/doc_18/embedding'\n",
      "Tensor saved to '../test_document/doc_18/label'\n",
      "X_train size: torch.Size([130, 1, 768])\tY_train size: torch.Size([130])\n",
      "Tensor saved to '../test_document/doc_19/embedding'\n",
      "Tensor saved to '../test_document/doc_19/label'\n",
      "X_train size: torch.Size([46, 1, 768])\tY_train size: torch.Size([46])\n",
      "Tensor saved to '../test_document/doc_20/embedding'\n",
      "Tensor saved to '../test_document/doc_20/label'\n",
      "X_train size: torch.Size([66, 1, 768])\tY_train size: torch.Size([66])\n",
      "Tensor saved to '../test_document/doc_21/embedding'\n",
      "Tensor saved to '../test_document/doc_21/label'\n",
      "X_train size: torch.Size([77, 1, 768])\tY_train size: torch.Size([77])\n",
      "Tensor saved to '../test_document/doc_22/embedding'\n",
      "Tensor saved to '../test_document/doc_22/label'\n",
      "X_train size: torch.Size([53, 1, 768])\tY_train size: torch.Size([53])\n",
      "Tensor saved to '../test_document/doc_23/embedding'\n",
      "Tensor saved to '../test_document/doc_23/label'\n",
      "X_train size: torch.Size([112, 1, 768])\tY_train size: torch.Size([112])\n",
      "Tensor saved to '../test_document/doc_24/embedding'\n",
      "Tensor saved to '../test_document/doc_24/label'\n",
      "X_train size: torch.Size([186, 1, 768])\tY_train size: torch.Size([186])\n",
      "Tensor saved to '../test_document/doc_25/embedding'\n",
      "Tensor saved to '../test_document/doc_25/label'\n",
      "X_train size: torch.Size([54, 1, 768])\tY_train size: torch.Size([54])\n",
      "Tensor saved to '../test_document/doc_26/embedding'\n",
      "Tensor saved to '../test_document/doc_26/label'\n",
      "X_train size: torch.Size([43, 1, 768])\tY_train size: torch.Size([43])\n",
      "Tensor saved to '../test_document/doc_27/embedding'\n",
      "Tensor saved to '../test_document/doc_27/label'\n",
      "X_train size: torch.Size([59, 1, 768])\tY_train size: torch.Size([59])\n",
      "Tensor saved to '../test_document/doc_28/embedding'\n",
      "Tensor saved to '../test_document/doc_28/label'\n"
     ]
    }
   ],
   "source": [
    "for idx in range(len(doc_idxs)):\n",
    "    TEST_emb, TEST_labels = get_model_data_batched(doc_idxs[idx], batched_texts[idx], batched_labels[idx],label_encoder,max_lens_test)\n",
    "    save_tensor(TEST_emb, '../test_document/doc_'+str(idx),\"embedding\")\n",
    "    save_tensor(TEST_labels, '../test_document/doc_'+str(idx),\"label\")"
   ]
  },
  {
   "cell_type": "code",
   "execution_count": null,
   "metadata": {},
   "outputs": [
    {
     "data": {
      "text/plain": [
       "torch.Size([0, 1, 768])"
      ]
     },
     "execution_count": 24,
     "metadata": {},
     "output_type": "execute_result"
    }
   ],
   "source": [
    "load_tensor(f\"../train_document/doc_{69}/embedding\").size()"
   ]
  },
  {
   "cell_type": "code",
   "execution_count": null,
   "metadata": {},
   "outputs": [],
   "source": []
  }
 ],
 "metadata": {
  "kernelspec": {
   "display_name": "Python 3",
   "language": "python",
   "name": "python3"
  },
  "language_info": {
   "codemirror_mode": {
    "name": "ipython",
    "version": 3
   },
   "file_extension": ".py",
   "mimetype": "text/x-python",
   "name": "python",
   "nbconvert_exporter": "python",
   "pygments_lexer": "ipython3",
   "version": "3.8.18"
  }
 },
 "nbformat": 4,
 "nbformat_minor": 2
}
