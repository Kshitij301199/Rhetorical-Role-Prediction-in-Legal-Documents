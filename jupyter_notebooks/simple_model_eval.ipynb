{
 "cells": [
  {
   "cell_type": "code",
   "execution_count": 26,
   "metadata": {},
   "outputs": [],
   "source": [
    "import os, sys\n",
    "import json\n",
    "import random\n",
    "import pickle\n",
    "from typing import List, Tuple, Dict\n",
    "\n",
    "from itertools import product\n",
    "import torch\n",
    "import torch.nn as nn\n",
    "import numpy as np\n",
    "from transformers import BertTokenizer, BertModel\n",
    "# from transformers import DistilBertTokenizer, DistilBertModel\n",
    "from torch.utils.data import Dataset\n",
    "from sklearn.preprocessing import LabelEncoder\n",
    "\n",
    "sys.path.append(os.path.abspath(os.path.join(os.getcwd(),'..')))\n",
    "from utils import Dataset_Reader, label_encode\n",
    "from tqdm import tqdm"
   ]
  },
  {
   "cell_type": "code",
   "execution_count": 27,
   "metadata": {},
   "outputs": [],
   "source": [
    "def save_model(model, filepath):\n",
    "    \"\"\"\n",
    "    Save PyTorch model parameters to a file.\n",
    "\n",
    "    Args:\n",
    "    - model (torch.nn.Module): PyTorch model to save.\n",
    "    - filepath (str): Filepath to save the model parameters.\n",
    "    \"\"\"\n",
    "    torch.save(model.state_dict(), filepath)\n",
    "    print(f\"Model parameters saved to '{filepath}'\")\n",
    "\n",
    "def load_model(model, filepath):\n",
    "    \"\"\"\n",
    "    Load PyTorch model parameters from a file.\n",
    "\n",
    "    Args:\n",
    "    - model (torch.nn.Module): PyTorch model to load parameters into.\n",
    "    - filepath (str): Filepath to the saved model parameters.\n",
    "    \"\"\"\n",
    "    model.load_state_dict(torch.load(filepath))\n",
    "    print(f\"Model parameters loaded from '{filepath}'\")\n",
    "    \n",
    "def save_tensor(tensor, dir, filename):\n",
    "    \"\"\"\n",
    "    Save PyTorch tensor to a file.\n",
    "\n",
    "    Args:\n",
    "    - tensor (torch.Tensor): PyTorch tensor to save.\n",
    "    - dir (str): Directory to save the tensor.\n",
    "    - filename (str): Filename to save the tensor.\n",
    "    \"\"\"\n",
    "    \n",
    "    if not os.path.exists(os.path.join(dir)):\n",
    "        os.makedirs(os.path.join(dir))\n",
    "        \n",
    "    filepath = os.path.join(dir, filename)\n",
    "    torch.save(tensor, filepath)\n",
    "    print(f\"Tensor saved to '{filepath}'\")\n",
    "\n",
    "def load_tensor(filepath):\n",
    "    \"\"\"\n",
    "    Load PyTorch tensor from a file.\n",
    "\n",
    "    Args:\n",
    "    - filepath (str): Filepath to the saved tensor.\n",
    "\n",
    "    Returns:\n",
    "    - tensor (torch.Tensor): Loaded PyTorch tensor.\n",
    "    \"\"\"\n",
    "    tensor = torch.load(filepath)\n",
    "    # print(f\"Tensor loaded from '{filepath}'\")\n",
    "    return tensor"
   ]
  },
  {
   "cell_type": "code",
   "execution_count": 28,
   "metadata": {},
   "outputs": [],
   "source": [
    "with open('../data/train.json', 'r') as file:\n",
    "    train_data = json.load(file)\n",
    "\n",
    "with open('../data/dev.json', 'r') as file:\n",
    "    test_data = json.load(file)"
   ]
  },
  {
   "cell_type": "code",
   "execution_count": 4,
   "metadata": {},
   "outputs": [
    {
     "name": "stdout",
     "output_type": "stream",
     "text": [
      "247\n"
     ]
    }
   ],
   "source": [
    "TRAIN_data = Dataset_Reader(train_data)\n",
    "TEST_data = Dataset_Reader(test_data)\n",
    "print(len(TRAIN_data))\n",
    "# TRAIN_data_batched = DataLoader(TRAIN_data, batch_size = 5, shuffle= True)"
   ]
  },
  {
   "cell_type": "code",
   "execution_count": 8,
   "metadata": {},
   "outputs": [],
   "source": [
    "def max_length(documents, tokenizer = BertTokenizer.from_pretrained('bert-base-uncased')):\n",
    "    \"\"\"\n",
    "    Generate the maximum length of each sentence in each document. This is necessary to make sure there is a fixed sentence-length \n",
    "    for each document before we pass the sentence embeddings through the model.\n",
    "\n",
    "    Returns: {document index: length of longest sentence}\n",
    "\n",
    "    \"\"\"\n",
    "    max_l_dict = {}\n",
    "    \n",
    "    for sentence in documents.texts:\n",
    "        size = []\n",
    "\n",
    "        inputs = tokenizer(sentence[2], return_tensors=\"pt\", truncation=True, padding=True, add_special_tokens= True)\n",
    "\n",
    "        size.append(inputs['input_ids'].size(1))\n",
    "        \n",
    "        max_l_dict[sentence[0]] = max(size)\n",
    "    \n",
    "    dict_keys = list(max_l_dict.keys())\n",
    "    reference_keys = list(range(len(documents)))  \n",
    "    for key in reference_keys:\n",
    "        if key not in dict_keys:\n",
    "            max_l_dict[key] = 0\n",
    "            \n",
    "    return max_l_dict"
   ]
  },
  {
   "cell_type": "code",
   "execution_count": 9,
   "metadata": {},
   "outputs": [],
   "source": [
    "def get_batched_data(data: Dataset, batch_size:int = 1) ->  Tuple[List,List,List]:\n",
    "    doc_idx = []\n",
    "    batched_texts = []\n",
    "    batched_labels = []\n",
    "    for start, stop in zip(range(0,len(data)-batch_size,batch_size), range(batch_size,len(data),batch_size)):\n",
    "        idxs = []\n",
    "        texts = []\n",
    "        labels = []\n",
    "        for idx in range(start,stop):\n",
    "            idxs.append(idx) \n",
    "            [texts.append(text) for text in data[idx]['text']]\n",
    "            [labels.append(label) for label in data[idx]['label']]\n",
    "        \n",
    "        doc_idx.append(idxs)\n",
    "        batched_texts.append(texts)\n",
    "        batched_labels.append(labels)\n",
    "    return doc_idx, batched_texts, batched_labels"
   ]
  },
  {
   "cell_type": "code",
   "execution_count": 10,
   "metadata": {},
   "outputs": [],
   "source": [
    "max_lens_train = max_length(TRAIN_data)"
   ]
  },
  {
   "cell_type": "code",
   "execution_count": 11,
   "metadata": {},
   "outputs": [],
   "source": [
    "doc_idxs, batched_texts, batched_labels = get_batched_data(TRAIN_data, batch_size= 1)"
   ]
  },
  {
   "cell_type": "code",
   "execution_count": 12,
   "metadata": {},
   "outputs": [],
   "source": [
    "def label_encode(target_variables : list) -> LabelEncoder:\n",
    "    \"\"\"\n",
    "    Encode target variables.\n",
    "    \n",
    "    Args:\n",
    "    - target_variables (list or array-like): List of target variable strings.\n",
    "    \n",
    "    Returns:\n",
    "    - lb (object): class object used to tranform and inverse transform.\n",
    "    \"\"\"\n",
    "    le = LabelEncoder()\n",
    "    le = le.fit(target_variables)\n",
    "    \n",
    "    return le\n",
    "\n",
    "def get_model_data(data:torch.utils.data.Dataset, encoder: LabelEncoder,\n",
    "                   tokenizer= BertTokenizer.from_pretrained('bert-base-uncased'),\n",
    "                   model= BertModel.from_pretrained('bert-base-uncased'),\n",
    "                   num_of_docs:int = None,\n",
    "                   ) -> Tuple[torch.TensorType, torch.TensorType]:\n",
    "    numerical_labels = encoder.transform(data.labels)\n",
    "    sent_emb = []\n",
    "    max_sent_length = 128\n",
    "    if num_of_docs is None:\n",
    "        for idx, sentence in enumerate(data.texts):\n",
    "            inputs = tokenizer(sentence[2].lower(),  return_tensors=\"pt\", truncation= True,\n",
    "                                padding='max_length', max_length = max_sent_length,\n",
    "                                add_special_tokens= True)\n",
    "            with torch.no_grad():\n",
    "                output = model(**inputs)\n",
    "            sent_emb.append(output.last_hidden_state[:,0,:])\n",
    "    else:\n",
    "        for idx, sentence in enumerate(data.texts):\n",
    "            if sentence[0] < num_of_docs:\n",
    "                inputs = tokenizer(sentence[2].lower(),  return_tensors=\"pt\", truncation= True,\n",
    "                                    padding='max_length', max_length = max_sent_length,\n",
    "                                    add_special_tokens= True)\n",
    "                with torch.no_grad():\n",
    "                    output = model(**inputs)\n",
    "                sent_emb.append(output.last_hidden_state[:,0,:]) \n",
    "        numerical_labels = numerical_labels[:len(sent_emb)]\n",
    "    x_train = np.zeros((len(sent_emb), 1, 768), dtype=float)\n",
    "    y_train = torch.from_numpy(numerical_labels)\n",
    "    for idx, sentence in enumerate(sent_emb):\n",
    "        x_train[idx] = sent_emb[idx]\n",
    "    x_train = torch.from_numpy(x_train).float()\n",
    "    print(f\"X_train size: {x_train.size()}\\tY_train size: {y_train.size()}\")\n",
    "    return x_train, y_train\n",
    "\n",
    "def get_model_data_batched(indexes:List, texts:List, labels:List, encoder:LabelEncoder,max_len_dict:Dict,\n",
    "                           tokenizer= BertTokenizer.from_pretrained('bert-base-uncased'),\n",
    "                           model= BertModel.from_pretrained('bert-base-uncased'),\n",
    "                           ) -> Tuple[torch.TensorType, torch.TensorType]:\n",
    "    numerical_labels = encoder.transform(labels)\n",
    "    sent_emb = []\n",
    "    for idx, sentence in enumerate(texts):\n",
    "        try:\n",
    "            max_sent_length = max([max_len_dict[i] for i in indexes])\n",
    "        except KeyError:\n",
    "            continue\n",
    "        inputs = tokenizer(sentence.lower(),  return_tensors=\"pt\", truncation= True,\n",
    "                            padding='max_length', max_length = max_sent_length,\n",
    "                            add_special_tokens= True)\n",
    "        with torch.no_grad():\n",
    "            output = model(**inputs)\n",
    "        sent_emb.append(output.last_hidden_state[:,0,:])\n",
    "    x_train = np.zeros((len(sent_emb), 1, 768), dtype=float)\n",
    "    y_train = torch.from_numpy(numerical_labels)\n",
    "    for idx, sentence in enumerate(sent_emb):\n",
    "        x_train[idx] = sent_emb[idx]\n",
    "    x_train = torch.from_numpy(x_train).float()\n",
    "    print(f\"X_train size: {x_train.size()}\\tY_train size: {y_train.size()}\")\n",
    "    return x_train, y_train    \n",
    "    \n"
   ]
  },
  {
   "cell_type": "code",
   "execution_count": 6,
   "metadata": {},
   "outputs": [
    {
     "ename": "NameError",
     "evalue": "name 'label_encode' is not defined",
     "output_type": "error",
     "traceback": [
      "\u001b[0;31m---------------------------------------------------------------------------\u001b[0m",
      "\u001b[0;31mNameError\u001b[0m                                 Traceback (most recent call last)",
      "\u001b[0;32m/tmp/ipykernel_742/3656736429.py\u001b[0m in \u001b[0;36m<module>\u001b[0;34m\u001b[0m\n\u001b[1;32m      1\u001b[0m \u001b[0mlist_of_targets\u001b[0m \u001b[0;34m=\u001b[0m \u001b[0;34m[\u001b[0m\u001b[0;34m'ISSUE'\u001b[0m\u001b[0;34m,\u001b[0m \u001b[0;34m'FAC'\u001b[0m\u001b[0;34m,\u001b[0m \u001b[0;34m'NONE'\u001b[0m\u001b[0;34m,\u001b[0m \u001b[0;34m'ARG_PETITIONER'\u001b[0m\u001b[0;34m,\u001b[0m \u001b[0;34m'PRE_NOT_RELIED'\u001b[0m\u001b[0;34m,\u001b[0m \u001b[0;34m'STA'\u001b[0m\u001b[0;34m,\u001b[0m \u001b[0;34m'RPC'\u001b[0m\u001b[0;34m,\u001b[0m \u001b[0;34m'ARG_RESPONDENT'\u001b[0m\u001b[0;34m,\u001b[0m \u001b[0;34m'PREAMBLE'\u001b[0m\u001b[0;34m,\u001b[0m \u001b[0;34m'ANALYSIS'\u001b[0m\u001b[0;34m,\u001b[0m \u001b[0;34m'RLC'\u001b[0m\u001b[0;34m,\u001b[0m \u001b[0;34m'PRE_RELIED'\u001b[0m\u001b[0;34m,\u001b[0m \u001b[0;34m'RATIO'\u001b[0m\u001b[0;34m]\u001b[0m\u001b[0;34m\u001b[0m\u001b[0;34m\u001b[0m\u001b[0m\n\u001b[0;32m----> 2\u001b[0;31m \u001b[0mlabel_encoder\u001b[0m \u001b[0;34m=\u001b[0m \u001b[0mlabel_encode\u001b[0m\u001b[0;34m(\u001b[0m\u001b[0mlist_of_targets\u001b[0m\u001b[0;34m)\u001b[0m\u001b[0;34m\u001b[0m\u001b[0;34m\u001b[0m\u001b[0m\n\u001b[0m",
      "\u001b[0;31mNameError\u001b[0m: name 'label_encode' is not defined"
     ]
    }
   ],
   "source": [
    "list_of_targets = ['ISSUE', 'FAC', 'NONE', 'ARG_PETITIONER', 'PRE_NOT_RELIED', 'STA', 'RPC', 'ARG_RESPONDENT', 'PREAMBLE', 'ANALYSIS', 'RLC', 'PRE_RELIED', 'RATIO']\n",
    "label_encoder = label_encode(list_of_targets)"
   ]
  },
  {
   "cell_type": "code",
   "execution_count": 115,
   "metadata": {},
   "outputs": [],
   "source": [
    "def init_weights(m):\n",
    "    if isinstance(m, nn.Linear):\n",
    "        torch.nn.init.xavier_uniform_(m.weight)\n",
    "        m.bias.data.fill_(0.01)\n",
    "        \n",
    "class BiLSTM(nn.Module):\n",
    "    def __init__(self,\n",
    "                input_size:int = 768,\n",
    "                hidden_size:int = 256,\n",
    "                num_layers:int = 2,\n",
    "                output_size:int = 13,\n",
    "                dropout:float = 0.1\n",
    "                ) -> None:\n",
    "        super().__init__()\n",
    "        self.hidden_size = hidden_size\n",
    "        self.num_layers = num_layers\n",
    "        \n",
    "        self.bilstm = nn.LSTM(input_size = input_size,\n",
    "                              hidden_size = hidden_size,\n",
    "                              num_layers = num_layers,\n",
    "                              bidirectional=True)\n",
    "        \n",
    "        self.dense = nn.Sequential(nn.Dropout(p=dropout),\n",
    "                                   nn.Linear(hidden_size*2, 128),\n",
    "                                   nn.ReLU(),\n",
    "                                   nn.Linear(128, output_size),\n",
    "                                   nn.Softmax(dim=1))\n",
    "        \n",
    "        self.apply(init_weights)\n",
    "        \n",
    "    def forward(self, x):\n",
    "        x = x.permute(1,0,2)\n",
    "        lstm_out, _ = self.bilstm(x.squeeze(0))\n",
    "\n",
    "        # Fully connected layers\n",
    "        out = self.dense(lstm_out)\n",
    "\n",
    "        return out"
   ]
  },
  {
   "cell_type": "code",
   "execution_count": 14,
   "metadata": {},
   "outputs": [],
   "source": [
    "# TRAIN_emb, TRAIN_labels = get_model_data(data= TRAIN_data, encoder= label_encoder, num_of_docs= 10)\n",
    "# TEST_emb, TEST_labels = get_model_data(data= TEST_data, encoder= label_encoder,num_of_docs= 5)"
   ]
  },
  {
   "cell_type": "code",
   "execution_count": 15,
   "metadata": {},
   "outputs": [],
   "source": [
    "def train(x_train, y_train, model, optimizer, loss_fc, num_epochs):\n",
    "    model.train()\n",
    "    loss_list = []\n",
    "    acc_list = []\n",
    "    model.train()\n",
    "    # print(f'{\"Starting Training\":-^100}')\n",
    "    for epoch in range(num_epochs+1):\n",
    "        output = model(x_train)\n",
    "        loss = loss_fc(output,y_train)\n",
    "        \n",
    "        optimizer.zero_grad()\n",
    "        loss.backward()\n",
    "        optimizer.step()\n",
    "        loss_list.append(loss.item())\n",
    "        \n",
    "        if epoch%50 == 0:\n",
    "            acc = sum(output.argmax(dim=1) == y_train)/ output.size(0)\n",
    "            acc_list.append(acc)\n",
    "            print(f\"Epoch: {epoch} \\t Loss: {loss.item():.5f} \\t Accuracy: {acc*100:.2f}%\")\n",
    "            \n",
    "    return loss_list, acc_list\n",
    "            \n",
    "def test_accuracy(x_test, y_test, model):\n",
    "    model.eval()\n",
    "    output = model(x_test)\n",
    "    acc = sum(output.argmax(dim=1) == y_test)/ output.size(0)\n",
    "    print(f\"Test Accuracy {acc*100:.2f}%\")\n",
    "    return acc*100"
   ]
  },
  {
   "cell_type": "code",
   "execution_count": 8,
   "metadata": {},
   "outputs": [],
   "source": [
    "def set_highest_to_one(tensor):\n",
    "    max_val, max_idx = tensor.max(dim=1, keepdim=True)\n",
    "    result = torch.zeros_like(tensor)\n",
    "    result.scatter_(1, max_idx, 1)\n",
    "    return result"
   ]
  },
  {
   "cell_type": "code",
   "execution_count": 119,
   "metadata": {},
   "outputs": [],
   "source": [
    "def class_accuracy(conf_matrix):\n",
    "    \"\"\"\n",
    "    Calculate accuracy for each class based on a confusion matrix.\n",
    "\n",
    "    Parameters:\n",
    "    conf_matrix (numpy.ndarray): Confusion matrix.\n",
    "\n",
    "    Returns:\n",
    "    list: List of accuracies for each class.\n",
    "    \"\"\"\n",
    "    # diagonal = np.diag(conf_matrix)\n",
    "\n",
    "    # row_sums = conf_matrix.sum(axis=1)\n",
    "\n",
    "    # accuracies = diagonal / row_sums.astype(float)\n",
    "\n",
    "    # return accuracies\n",
    "    \n",
    "    diagonal = np.diag(conf_matrix)\n",
    "    row_sums = conf_matrix.sum(axis=1)\n",
    "\n",
    "    with np.errstate(divide='ignore', invalid='ignore'):\n",
    "        accuracies = np.where(row_sums != 0, diagonal / row_sums.astype(float), 0.0)\n",
    "\n",
    "    return accuracies"
   ]
  },
  {
   "cell_type": "code",
   "execution_count": 120,
   "metadata": {},
   "outputs": [],
   "source": [
    "def class_f1_score(conf_matrix, epsilon=1e-7):\n",
    "    \"\"\"\n",
    "    Calculate F1 score for each class based on a confusion matrix.\n",
    "\n",
    "    Parameters:\n",
    "    conf_matrix (numpy.ndarray): Confusion matrix.\n",
    "    epsilon (float): Smoothing term to avoid division by zero.\n",
    "\n",
    "    Returns:\n",
    "    list: List of F1 scores for each class.\n",
    "    \"\"\"\n",
    "    \n",
    "    tp = np.diag(conf_matrix)\n",
    "    fp = conf_matrix.sum(axis=0) - tp\n",
    "    fn = conf_matrix.sum(axis=1) - tp\n",
    "\n",
    "    precision = tp / (tp + fp + epsilon)\n",
    "    recall = tp / (tp + fn + epsilon)\n",
    "\n",
    "    f1_scores = 2 * (precision * recall) / (precision + recall + epsilon)\n",
    "\n",
    "    return f1_scores"
   ]
  },
  {
   "cell_type": "code",
   "execution_count": 126,
   "metadata": {},
   "outputs": [],
   "source": [
    "def confusion_matrix(y_pred, y_true, num_classes):\n",
    "    \"\"\"\n",
    "    Create a confusion matrix for label encodings in PyTorch.\n",
    "\n",
    "    Parameters:\n",
    "    y_pred (torch.Tensor): Predicted labels tensor.\n",
    "    y_true (torch.Tensor): True labels tensor.\n",
    "    num_classes (int): Number of classes.\n",
    "\n",
    "    Returns:\n",
    "    numpy.ndarray: Confusion matrix.\n",
    "    \"\"\" \n",
    "    # if len(y_pred) != len(y_true):\n",
    "    #     raise ValueError(\"Shapes of predictions and true labels must match. y_pred shape: {} y_true shape: {}\".format(y_pred.shape, y_true.shape))\n",
    "\n",
    "    conf_matrix = np.zeros((num_classes, num_classes), dtype=np.int64)\n",
    "\n",
    "    y_pred_np = y_pred.argmax(dim=1).cpu().numpy()\n",
    "    y_true_np = y_true.cpu().numpy()\n",
    "\n",
    "    for pred, true in zip(y_pred_np, y_true_np):\n",
    "        conf_matrix[pred, true] += 1\n",
    "\n",
    "    return conf_matrix"
   ]
  },
  {
   "cell_type": "code",
   "execution_count": 12,
   "metadata": {},
   "outputs": [],
   "source": [
    "def grid_search(parameters):\n",
    "    keys = parameters.keys()\n",
    "    values = parameters.values()\n",
    "    \n",
    "    combinations = list(product(*values))\n",
    "    \n",
    "    parameter_configurations = [{k: v for k, v in zip(keys, combination)} for combination in combinations]\n",
    "    \n",
    "    return parameter_configurations"
   ]
  },
  {
   "cell_type": "code",
   "execution_count": 13,
   "metadata": {},
   "outputs": [],
   "source": [
    "def random_train_test_split(size, training_data_size):\n",
    "    indices = np.arange(size)\n",
    "    np.random.shuffle(indices)\n",
    "    training_data_length = int(size * training_data_size)\n",
    "    training_data_indices = indices[:training_data_length]\n",
    "    test_data_indices = indices[training_data_length:]\n",
    "    return training_data_indices, test_data_indices"
   ]
  },
  {
   "cell_type": "code",
   "execution_count": 14,
   "metadata": {},
   "outputs": [],
   "source": [
    "def get_accuracy_value(item):\n",
    "    return item[1][0]"
   ]
  },
  {
   "cell_type": "code",
   "execution_count": 15,
   "metadata": {},
   "outputs": [],
   "source": [
    "def calculate_confusion_matrix(test_emb, test_labels, model):\n",
    "    model.eval()\n",
    "    output = model(test_emb)\n",
    "    return confusion_matrix(output, test_labels, 13)"
   ]
  },
  {
   "cell_type": "code",
   "execution_count": 22,
   "metadata": {},
   "outputs": [],
   "source": [
    "def grid_search_train_test(parameters):\n",
    "    result = []\n",
    "    parameter_configs = grid_search(parameters)\n",
    "    \n",
    "    for config in parameter_configs:\n",
    "        # batch_loss, batch_acc = [], []\n",
    "        model = BiLSTM(hidden_size=config['hidden_size'], num_layers=config['num_layers'], dropout=config['dropout'])\n",
    "        model_opt = torch.optim.Adam(model.parameters(), lr= config['learning_rate'])\n",
    "        loss_function = nn.CrossEntropyLoss()\n",
    "        print(\"Working with: \")\n",
    "        print(config)\n",
    "        print(\"\\n\")\n",
    "        \n",
    "        \n",
    "        print(f'{\"Starting Training\":-^100}')\n",
    "        model.train()\n",
    "        for epoch in tqdm(range(config['epochs'])):\n",
    "            # print(f\"Epoch {epoch}\")\n",
    "            for idx in range(246):\n",
    "                TRAIN_emb = load_tensor(filepath=f\"../train_document/doc_{idx}/embedding\")\n",
    "                TRAIN_labels = load_tensor(filepath=f\"../train_document/doc_{idx}/label\")\n",
    "                if TRAIN_emb.size(0) == 0:\n",
    "                    continue\n",
    "                output = model(TRAIN_emb)\n",
    "                loss = loss_function(output,TRAIN_labels)\n",
    "                \n",
    "                model_opt.zero_grad()\n",
    "                loss.backward()\n",
    "                model_opt.step()\n",
    "                \n",
    "            # print(f\"Epoch: {epoch+1} \\t Loss: {loss.item():.5f}\")\n",
    "            # batch_loss.append(loss.item())\n",
    "        \n",
    "        confusion_matrix = None\n",
    "        for i in range(29):\n",
    "            TEST_emb = load_tensor(filepath=f\"../test_document/doc_{i}/embedding\")\n",
    "            TEST_labels = load_tensor(filepath=f\"../test_document/doc_{i}/label\")\n",
    "            conf_matrix_helper = calculate_confusion_matrix(TEST_emb, TEST_labels, model)\n",
    "            if confusion_matrix is None:\n",
    "                confusion_matrix = conf_matrix_helper\n",
    "            else:\n",
    "                confusion_matrix = np.add(confusion_matrix, conf_matrix_helper)\n",
    "                \n",
    "        accuracies = class_accuracy(confusion_matrix)\n",
    "        f1_scores = class_f1_score(confusion_matrix)\n",
    "        average_accuracy = np.mean(accuracies)\n",
    "        average_f1 = np.mean(f1_scores)\n",
    "        \n",
    "        print(\"Accuracies: {} \\n Average acccuracy: {}\".format(accuracies, average_accuracy))\n",
    "        print(\"F1 Scores: {} \\n Average F1: {}\".format(f1_scores, average_f1))\n",
    "        \n",
    "        result.append((config, (average_accuracy, average_f1)))\n",
    "        \n",
    "    return result"
   ]
  },
  {
   "cell_type": "code",
   "execution_count": 25,
   "metadata": {},
   "outputs": [
    {
     "name": "stdout",
     "output_type": "stream",
     "text": [
      "Working with: \n",
      "{'epochs': 10, 'learning_rate': 0.0002, 'dropout': 0.0, 'hidden_size': 64, 'num_layers': 1}\n",
      "\n",
      "\n",
      "-----------------------------------------Starting Training------------------------------------------\n"
     ]
    },
    {
     "name": "stderr",
     "output_type": "stream",
     "text": [
      "100%|██████████| 10/10 [02:52<00:00, 17.22s/it]\n"
     ]
    },
    {
     "name": "stdout",
     "output_type": "stream",
     "text": [
      "Accuracies: [0.67148014 0.         0.         0.74926686 0.         0.90410959\n",
      " 0.86724138 0.         0.         0.         0.         0.56834532\n",
      " 0.        ] \n",
      " Average acccuracy: 0.28926486912822064\n",
      "F1 Scores: [0.78813554 0.         0.         0.81046783 0.         0.5019011\n",
      " 0.92804423 0.         0.         0.         0.         0.69603519\n",
      " 0.        ] \n",
      " Average F1: 0.2865064540320977\n",
      "Working with: \n",
      "{'epochs': 10, 'learning_rate': 0.0002, 'dropout': 0.0, 'hidden_size': 128, 'num_layers': 1}\n",
      "\n",
      "\n",
      "-----------------------------------------Starting Training------------------------------------------\n"
     ]
    },
    {
     "name": "stderr",
     "output_type": "stream",
     "text": [
      "100%|██████████| 10/10 [02:17<00:00, 13.73s/it]\n"
     ]
    },
    {
     "name": "stdout",
     "output_type": "stream",
     "text": [
      "Accuracies: [0.62704115 0.         0.         0.79963899 0.         0.94117647\n",
      " 0.98616601 0.         0.         0.         0.         0.59848485\n",
      " 0.        ] \n",
      " Average acccuracy: 0.3040390358248722\n",
      "F1 Scores: [0.76616117 0.         0.         0.78199465 0.         0.78527602\n",
      " 0.98811876 0.         0.         0.         0.         0.71818177\n",
      " 0.        ] \n",
      " Average F1: 0.3107486442634024\n",
      "Working with: \n",
      "{'epochs': 10, 'learning_rate': 0.0002, 'dropout': 0.0, 'hidden_size': 256, 'num_layers': 1}\n",
      "\n",
      "\n",
      "-----------------------------------------Starting Training------------------------------------------\n"
     ]
    },
    {
     "name": "stderr",
     "output_type": "stream",
     "text": [
      "100%|██████████| 10/10 [03:56<00:00, 23.63s/it]\n"
     ]
    },
    {
     "name": "stdout",
     "output_type": "stream",
     "text": [
      "Accuracies: [0.6        0.         0.         0.7804878  0.         0.9609375\n",
      " 0.96855346 0.         0.         0.         0.         0.64655172\n",
      " 0.        ] \n",
      " Average acccuracy: 0.30434849908734435\n",
      "F1 Scores: [0.74651158 0.         0.         0.74820139 0.         0.77358486\n",
      " 0.94189597 0.         0.         0.         0.         0.73529407\n",
      " 0.        ] \n",
      " Average F1: 0.3034990668372052\n",
      "Working with: \n",
      "{'epochs': 10, 'learning_rate': 0.0002, 'dropout': 0.1, 'hidden_size': 64, 'num_layers': 1}\n",
      "\n",
      "\n",
      "-----------------------------------------Starting Training------------------------------------------\n"
     ]
    },
    {
     "name": "stderr",
     "output_type": "stream",
     "text": [
      "100%|██████████| 10/10 [01:20<00:00,  8.07s/it]\n"
     ]
    },
    {
     "name": "stdout",
     "output_type": "stream",
     "text": [
      "Accuracies: [0.64280891 0.         0.         0.75671406 0.         0.96124031\n",
      " 0.96660118 0.         0.         0.         0.         0.71028037\n",
      " 0.        ] \n",
      " Average acccuracy: 0.3105880642784236\n",
      "F1 Scores: [0.77524425 0.         0.         0.79042899 0.         0.77742942\n",
      " 0.97137211 0.         0.         0.         0.         0.77948713\n",
      " 0.        ] \n",
      " Average F1: 0.31492014645379357\n",
      "Working with: \n",
      "{'epochs': 10, 'learning_rate': 0.0002, 'dropout': 0.1, 'hidden_size': 128, 'num_layers': 1}\n",
      "\n",
      "\n",
      "-----------------------------------------Starting Training------------------------------------------\n"
     ]
    },
    {
     "name": "stderr",
     "output_type": "stream",
     "text": [
      "100%|██████████| 10/10 [01:17<00:00,  7.78s/it]\n"
     ]
    },
    {
     "name": "stdout",
     "output_type": "stream",
     "text": [
      "Accuracies: [0.67171717 0.         0.         0.74011299 0.         0.94202899\n",
      " 0.88536155 0.         0.         0.         0.         0.60465116\n",
      " 0.        ] \n",
      " Average acccuracy: 0.2956824512610474\n",
      "F1 Scores: [0.78864883 0.         0.         0.81429676 0.         0.50193046\n",
      " 0.93744159 0.         0.         0.         0.         0.71889396\n",
      " 0.        ] \n",
      " Average F1: 0.2893239699870725\n",
      "Working with: \n",
      "{'epochs': 10, 'learning_rate': 0.0002, 'dropout': 0.1, 'hidden_size': 256, 'num_layers': 1}\n",
      "\n",
      "\n",
      "-----------------------------------------Starting Training------------------------------------------\n"
     ]
    },
    {
     "name": "stderr",
     "output_type": "stream",
     "text": [
      "100%|██████████| 10/10 [02:30<00:00, 15.05s/it]\n"
     ]
    },
    {
     "name": "stdout",
     "output_type": "stream",
     "text": [
      "Accuracies: [0.65282505 0.         0.         0.80666667 0.         0.95862069\n",
      " 0.96360153 0.         0.         0.         0.         0.65853659\n",
      " 0.        ] \n",
      " Average acccuracy: 0.310788501946914\n",
      "F1 Scores: [0.784779   0.         0.         0.82103473 0.         0.8298507\n",
      " 0.98050677 0.         0.         0.         0.         0.76777246\n",
      " 0.        ] \n",
      " Average F1: 0.3218418199563867\n",
      "Working with: \n",
      "{'epochs': 10, 'learning_rate': 0.0002, 'dropout': 0.2, 'hidden_size': 64, 'num_layers': 1}\n",
      "\n",
      "\n",
      "-----------------------------------------Starting Training------------------------------------------\n"
     ]
    },
    {
     "name": "stderr",
     "output_type": "stream",
     "text": [
      "100%|██████████| 10/10 [00:48<00:00,  4.82s/it]\n"
     ]
    },
    {
     "name": "stdout",
     "output_type": "stream",
     "text": [
      "Accuracies: [0.62249515 0.         0.         0.76655052 0.         0.94285714\n",
      " 0.9027027  0.         0.         0.         0.         0.67256637\n",
      " 0.        ] \n",
      " Average acccuracy: 0.3005516839843278\n",
      "F1 Scores: [0.76367957 0.         0.         0.76322632 0.         0.50769227\n",
      " 0.94617559 0.         0.         0.         0.         0.75621886\n",
      " 0.        ] \n",
      " Average F1: 0.2874609691160649\n",
      "Working with: \n",
      "{'epochs': 10, 'learning_rate': 0.0002, 'dropout': 0.2, 'hidden_size': 128, 'num_layers': 1}\n",
      "\n",
      "\n",
      "-----------------------------------------Starting Training------------------------------------------\n"
     ]
    },
    {
     "name": "stderr",
     "output_type": "stream",
     "text": [
      "100%|██████████| 10/10 [01:15<00:00,  7.53s/it]\n"
     ]
    },
    {
     "name": "stdout",
     "output_type": "stream",
     "text": [
      "Accuracies: [0.63881215 0.         0.         0.70473538 0.         0.77486911\n",
      " 0.98406375 0.         0.         0.         0.         0.\n",
      " 0.        ] \n",
      " Average acccuracy: 0.23865233736217425\n",
      "F1 Scores: [0.76351625 0.         0.         0.78026209 0.         0.77690284\n",
      " 0.98210731 0.         0.         0.         0.         0.\n",
      " 0.        ] \n",
      " Average F1: 0.25406065309310955\n",
      "Working with: \n",
      "{'epochs': 10, 'learning_rate': 0.0002, 'dropout': 0.2, 'hidden_size': 256, 'num_layers': 1}\n",
      "\n",
      "\n",
      "-----------------------------------------Starting Training------------------------------------------\n"
     ]
    },
    {
     "name": "stderr",
     "output_type": "stream",
     "text": [
      "100%|██████████| 10/10 [02:28<00:00, 14.81s/it]\n"
     ]
    },
    {
     "name": "stdout",
     "output_type": "stream",
     "text": [
      "Accuracies: [0.57354686 0.         0.         0.80539499 0.         0.65217391\n",
      " 0.87198516 0.         0.         0.         0.         0.\n",
      " 0.        ] \n",
      " Average acccuracy: 0.22331545519800125\n",
      "F1 Scores: [0.72679439 0.         0.         0.76138429 0.         0.49180323\n",
      " 0.90124635 0.         0.         0.         0.         0.\n",
      " 0.        ] \n",
      " Average F1: 0.22163294328742864\n",
      "Working with: \n",
      "{'epochs': 10, 'learning_rate': 2e-05, 'dropout': 0.0, 'hidden_size': 64, 'num_layers': 1}\n",
      "\n",
      "\n",
      "-----------------------------------------Starting Training------------------------------------------\n"
     ]
    },
    {
     "name": "stderr",
     "output_type": "stream",
     "text": [
      "100%|██████████| 10/10 [00:47<00:00,  4.71s/it]\n"
     ]
    },
    {
     "name": "stdout",
     "output_type": "stream",
     "text": [
      "Accuracies: [0.55804361 0.         0.         0.65868263 0.         0.\n",
      " 0.87854251 0.         0.         0.         0.         0.\n",
      " 0.        ] \n",
      " Average acccuracy: 0.16117451932432064\n",
      "F1 Scores: [0.70883229 0.         0.         0.70569361 0.         0.\n",
      " 0.86973943 0.         0.         0.         0.         0.\n",
      " 0.        ] \n",
      " Average F1: 0.17571271789635495\n",
      "Working with: \n",
      "{'epochs': 10, 'learning_rate': 2e-05, 'dropout': 0.0, 'hidden_size': 128, 'num_layers': 1}\n",
      "\n",
      "\n",
      "-----------------------------------------Starting Training------------------------------------------\n"
     ]
    },
    {
     "name": "stderr",
     "output_type": "stream",
     "text": [
      "100%|██████████| 10/10 [01:16<00:00,  7.67s/it]\n"
     ]
    },
    {
     "name": "stdout",
     "output_type": "stream",
     "text": [
      "Accuracies: [0.57382134 0.         0.         0.42421812 0.         0.\n",
      " 0.         0.         0.         0.         0.         0.\n",
      " 0.        ] \n",
      " Average acccuracy: 0.07677226641898181\n",
      "F1 Scores: [0.71511398 0.         0.         0.5794085  0.         0.\n",
      " 0.         0.         0.         0.         0.         0.\n",
      " 0.        ] \n",
      " Average F1: 0.09957865265885593\n",
      "Working with: \n",
      "{'epochs': 10, 'learning_rate': 2e-05, 'dropout': 0.0, 'hidden_size': 256, 'num_layers': 1}\n",
      "\n",
      "\n",
      "-----------------------------------------Starting Training------------------------------------------\n"
     ]
    },
    {
     "name": "stderr",
     "output_type": "stream",
     "text": [
      "100%|██████████| 10/10 [02:26<00:00, 14.68s/it]\n"
     ]
    },
    {
     "name": "stdout",
     "output_type": "stream",
     "text": [
      "Accuracies: [0.59231722 0.         0.         0.41755319 0.         0.51282051\n",
      " 0.         0.         0.         0.         0.         0.\n",
      " 0.        ] \n",
      " Average acccuracy: 0.11713007143056607\n",
      "F1 Scores: [0.73850903 0.         0.         0.5518453  0.         0.39087943\n",
      " 0.         0.         0.         0.         0.         0.\n",
      " 0.        ] \n",
      " Average F1: 0.1293256737743061\n",
      "Working with: \n",
      "{'epochs': 10, 'learning_rate': 2e-05, 'dropout': 0.1, 'hidden_size': 64, 'num_layers': 1}\n",
      "\n",
      "\n",
      "-----------------------------------------Starting Training------------------------------------------\n"
     ]
    },
    {
     "name": "stderr",
     "output_type": "stream",
     "text": [
      "100%|██████████| 10/10 [00:46<00:00,  4.64s/it]\n"
     ]
    },
    {
     "name": "stdout",
     "output_type": "stream",
     "text": [
      "Accuracies: [0.45813735 0.         0.         0.         0.         0.\n",
      " 0.63983629 0.         0.         0.         0.         0.\n",
      " 0.        ] \n",
      " Average acccuracy: 0.08445951048870276\n",
      "F1 Scores: [0.62818441 0.         0.         0.         0.         0.\n",
      " 0.75828613 0.         0.         0.         0.         0.\n",
      " 0.        ] \n",
      " Average F1: 0.10665158009988887\n",
      "Working with: \n",
      "{'epochs': 10, 'learning_rate': 2e-05, 'dropout': 0.1, 'hidden_size': 128, 'num_layers': 1}\n",
      "\n",
      "\n",
      "-----------------------------------------Starting Training------------------------------------------\n"
     ]
    },
    {
     "name": "stderr",
     "output_type": "stream",
     "text": [
      "100%|██████████| 10/10 [01:15<00:00,  7.52s/it]\n"
     ]
    },
    {
     "name": "stdout",
     "output_type": "stream",
     "text": [
      "Accuracies: [0.57713583 0.         0.         0.66534392 0.         0.\n",
      " 0.91596639 0.         0.         0.         0.         0.\n",
      " 0.        ] \n",
      " Average acccuracy: 0.16603431805536004\n",
      "F1 Scores: [0.72175245 0.         0.         0.753558   0.         0.\n",
      " 0.88979587 0.         0.         0.         0.         0.\n",
      " 0.        ] \n",
      " Average F1: 0.18193125558380216\n",
      "Working with: \n",
      "{'epochs': 10, 'learning_rate': 2e-05, 'dropout': 0.1, 'hidden_size': 256, 'num_layers': 1}\n",
      "\n",
      "\n",
      "-----------------------------------------Starting Training------------------------------------------\n"
     ]
    },
    {
     "name": "stderr",
     "output_type": "stream",
     "text": [
      "100%|██████████| 10/10 [02:27<00:00, 14.76s/it]\n"
     ]
    },
    {
     "name": "stdout",
     "output_type": "stream",
     "text": [
      "Accuracies: [0.58838226 0.         0.         0.7184466  0.         0.\n",
      " 0.90875233 0.         0.         0.         0.         0.\n",
      " 0.        ] \n",
      " Average acccuracy: 0.1704293223673315\n",
      "F1 Scores: [0.73136641 0.         0.         0.79692303 0.         0.\n",
      " 0.93755999 0.         0.         0.         0.         0.\n",
      " 0.        ] \n",
      " Average F1: 0.1896807252473122\n",
      "Working with: \n",
      "{'epochs': 10, 'learning_rate': 2e-05, 'dropout': 0.2, 'hidden_size': 64, 'num_layers': 1}\n",
      "\n",
      "\n",
      "-----------------------------------------Starting Training------------------------------------------\n"
     ]
    },
    {
     "name": "stderr",
     "output_type": "stream",
     "text": [
      "100%|██████████| 10/10 [00:46<00:00,  4.67s/it]\n"
     ]
    },
    {
     "name": "stdout",
     "output_type": "stream",
     "text": [
      "Accuracies: [0.44012653 0.         0.         0.         0.         0.\n",
      " 0.66408669 0.         0.         0.         0.         0.\n",
      " 0.        ] \n",
      " Average acccuracy: 0.08493947787581382\n",
      "F1 Scores: [0.61104136 0.         0.         0.         0.         0.\n",
      " 0.74608691 0.         0.         0.         0.         0.\n",
      " 0.        ] \n",
      " Average F1: 0.1043944823019862\n",
      "Working with: \n",
      "{'epochs': 10, 'learning_rate': 2e-05, 'dropout': 0.2, 'hidden_size': 128, 'num_layers': 1}\n",
      "\n",
      "\n",
      "-----------------------------------------Starting Training------------------------------------------\n"
     ]
    },
    {
     "name": "stderr",
     "output_type": "stream",
     "text": [
      "100%|██████████| 10/10 [01:15<00:00,  7.56s/it]\n"
     ]
    },
    {
     "name": "stdout",
     "output_type": "stream",
     "text": [
      "Accuracies: [0.56703567 0.         0.         0.67634855 0.         0.\n",
      " 0.89411765 0.         0.         0.         0.         0.\n",
      " 0.        ] \n",
      " Average acccuracy: 0.16442322039487456\n",
      "F1 Scores: [0.70895805 0.         0.         0.75115202 0.         0.\n",
      " 0.89940823 0.         0.         0.         0.         0.\n",
      " 0.        ] \n",
      " Average F1: 0.18150140801506226\n",
      "Working with: \n",
      "{'epochs': 10, 'learning_rate': 2e-05, 'dropout': 0.2, 'hidden_size': 256, 'num_layers': 1}\n",
      "\n",
      "\n",
      "-----------------------------------------Starting Training------------------------------------------\n"
     ]
    },
    {
     "name": "stderr",
     "output_type": "stream",
     "text": [
      "100%|██████████| 10/10 [02:28<00:00, 14.82s/it]\n"
     ]
    },
    {
     "name": "stdout",
     "output_type": "stream",
     "text": [
      "Accuracies: [0.58838072 0.         0.         0.75726744 0.         0.\n",
      " 0.9005425  0.         0.         0.         0.         0.\n",
      " 0.        ] \n",
      " Average acccuracy: 0.1727838964826274\n",
      "F1 Scores: [0.73428457 0.         0.         0.8224151  0.         0.\n",
      " 0.94228945 0.         0.         0.         0.         0.\n",
      " 0.        ] \n",
      " Average F1: 0.1922299321610122\n",
      "Working with: \n",
      "{'epochs': 10, 'learning_rate': 2e-06, 'dropout': 0.0, 'hidden_size': 64, 'num_layers': 1}\n",
      "\n",
      "\n",
      "-----------------------------------------Starting Training------------------------------------------\n"
     ]
    },
    {
     "name": "stderr",
     "output_type": "stream",
     "text": [
      "100%|██████████| 10/10 [00:45<00:00,  4.57s/it]\n"
     ]
    },
    {
     "name": "stdout",
     "output_type": "stream",
     "text": [
      "Accuracies: [0.34102833 0.         0.         0.         0.         0.\n",
      " 0.         0.         0.         0.         0.         0.\n",
      " 0.        ] \n",
      " Average acccuracy: 0.026232948583420776\n",
      "F1 Scores: [0.50860716 0.         0.         0.         0.         0.\n",
      " 0.         0.         0.         0.         0.         0.\n",
      " 0.        ] \n",
      " Average F1: 0.039123627753450727\n",
      "Working with: \n",
      "{'epochs': 10, 'learning_rate': 2e-06, 'dropout': 0.0, 'hidden_size': 128, 'num_layers': 1}\n",
      "\n",
      "\n",
      "-----------------------------------------Starting Training------------------------------------------\n"
     ]
    },
    {
     "name": "stderr",
     "output_type": "stream",
     "text": [
      "100%|██████████| 10/10 [01:13<00:00,  7.39s/it]\n"
     ]
    },
    {
     "name": "stdout",
     "output_type": "stream",
     "text": [
      "Accuracies: [0.34102833 0.         0.         0.         0.         0.\n",
      " 0.         0.         0.         0.         0.         0.\n",
      " 0.        ] \n",
      " Average acccuracy: 0.026232948583420776\n",
      "F1 Scores: [0.50860716 0.         0.         0.         0.         0.\n",
      " 0.         0.         0.         0.         0.         0.\n",
      " 0.        ] \n",
      " Average F1: 0.039123627753450727\n",
      "Working with: \n",
      "{'epochs': 10, 'learning_rate': 2e-06, 'dropout': 0.0, 'hidden_size': 256, 'num_layers': 1}\n",
      "\n",
      "\n",
      "-----------------------------------------Starting Training------------------------------------------\n"
     ]
    },
    {
     "name": "stderr",
     "output_type": "stream",
     "text": [
      "100%|██████████| 10/10 [02:30<00:00, 15.03s/it]\n"
     ]
    },
    {
     "name": "stdout",
     "output_type": "stream",
     "text": [
      "Accuracies: [0.38882236 0.         0.         0.         0.         0.\n",
      " 0.78531073 0.         0.         0.         0.         0.\n",
      " 0.        ] \n",
      " Average acccuracy: 0.09031792998097678\n",
      "F1 Scores: [0.55977007 0.         0.         0.         0.         0.\n",
      " 0.6480186  0.         0.         0.         0.         0.\n",
      " 0.        ] \n",
      " Average F1: 0.09290682107469114\n",
      "Working with: \n",
      "{'epochs': 10, 'learning_rate': 2e-06, 'dropout': 0.1, 'hidden_size': 64, 'num_layers': 1}\n",
      "\n",
      "\n",
      "-----------------------------------------Starting Training------------------------------------------\n"
     ]
    },
    {
     "name": "stderr",
     "output_type": "stream",
     "text": [
      "100%|██████████| 10/10 [00:46<00:00,  4.63s/it]\n"
     ]
    },
    {
     "name": "stdout",
     "output_type": "stream",
     "text": [
      "Accuracies: [0.34102833 0.         0.         0.         0.         0.\n",
      " 0.         0.         0.         0.         0.         0.\n",
      " 0.        ] \n",
      " Average acccuracy: 0.026232948583420776\n",
      "F1 Scores: [0.50860716 0.         0.         0.         0.         0.\n",
      " 0.         0.         0.         0.         0.         0.\n",
      " 0.        ] \n",
      " Average F1: 0.039123627753450727\n",
      "Working with: \n",
      "{'epochs': 10, 'learning_rate': 2e-06, 'dropout': 0.1, 'hidden_size': 128, 'num_layers': 1}\n",
      "\n",
      "\n",
      "-----------------------------------------Starting Training------------------------------------------\n"
     ]
    },
    {
     "name": "stderr",
     "output_type": "stream",
     "text": [
      "100%|██████████| 10/10 [01:15<00:00,  7.60s/it]\n"
     ]
    },
    {
     "name": "stdout",
     "output_type": "stream",
     "text": [
      "Accuracies: [0.34102833 0.         0.         0.         0.         0.\n",
      " 0.         0.         0.         0.         0.         0.\n",
      " 0.        ] \n",
      " Average acccuracy: 0.026232948583420776\n",
      "F1 Scores: [0.50860716 0.         0.         0.         0.         0.\n",
      " 0.         0.         0.         0.         0.         0.\n",
      " 0.        ] \n",
      " Average F1: 0.039123627753450727\n",
      "Working with: \n",
      "{'epochs': 10, 'learning_rate': 2e-06, 'dropout': 0.1, 'hidden_size': 256, 'num_layers': 1}\n",
      "\n",
      "\n",
      "-----------------------------------------Starting Training------------------------------------------\n"
     ]
    },
    {
     "name": "stderr",
     "output_type": "stream",
     "text": [
      "100%|██████████| 10/10 [02:27<00:00, 14.75s/it]\n"
     ]
    },
    {
     "name": "stdout",
     "output_type": "stream",
     "text": [
      "Accuracies: [0.34102833 0.         0.         0.         0.         0.\n",
      " 0.         0.         0.         0.         0.         0.\n",
      " 0.        ] \n",
      " Average acccuracy: 0.026232948583420776\n",
      "F1 Scores: [0.50860716 0.         0.         0.         0.         0.\n",
      " 0.         0.         0.         0.         0.         0.\n",
      " 0.        ] \n",
      " Average F1: 0.039123627753450727\n",
      "Working with: \n",
      "{'epochs': 10, 'learning_rate': 2e-06, 'dropout': 0.2, 'hidden_size': 64, 'num_layers': 1}\n",
      "\n",
      "\n",
      "-----------------------------------------Starting Training------------------------------------------\n"
     ]
    },
    {
     "name": "stderr",
     "output_type": "stream",
     "text": [
      "100%|██████████| 10/10 [00:47<00:00,  4.72s/it]\n"
     ]
    },
    {
     "name": "stdout",
     "output_type": "stream",
     "text": [
      "Accuracies: [0.34102833 0.         0.         0.         0.         0.\n",
      " 0.         0.         0.         0.         0.         0.\n",
      " 0.        ] \n",
      " Average acccuracy: 0.026232948583420776\n",
      "F1 Scores: [0.50860716 0.         0.         0.         0.         0.\n",
      " 0.         0.         0.         0.         0.         0.\n",
      " 0.        ] \n",
      " Average F1: 0.039123627753450727\n",
      "Working with: \n",
      "{'epochs': 10, 'learning_rate': 2e-06, 'dropout': 0.2, 'hidden_size': 128, 'num_layers': 1}\n",
      "\n",
      "\n",
      "-----------------------------------------Starting Training------------------------------------------\n"
     ]
    },
    {
     "name": "stderr",
     "output_type": "stream",
     "text": [
      "100%|██████████| 10/10 [01:14<00:00,  7.44s/it]\n"
     ]
    },
    {
     "name": "stdout",
     "output_type": "stream",
     "text": [
      "Accuracies: [0.34102833 0.         0.         0.         0.         0.\n",
      " 0.         0.         0.         0.         0.         0.\n",
      " 0.        ] \n",
      " Average acccuracy: 0.026232948583420776\n",
      "F1 Scores: [0.50860716 0.         0.         0.         0.         0.\n",
      " 0.         0.         0.         0.         0.         0.\n",
      " 0.        ] \n",
      " Average F1: 0.039123627753450727\n",
      "Working with: \n",
      "{'epochs': 10, 'learning_rate': 2e-06, 'dropout': 0.2, 'hidden_size': 256, 'num_layers': 1}\n",
      "\n",
      "\n",
      "-----------------------------------------Starting Training------------------------------------------\n"
     ]
    },
    {
     "name": "stderr",
     "output_type": "stream",
     "text": [
      "100%|██████████| 10/10 [02:28<00:00, 14.88s/it]\n"
     ]
    },
    {
     "name": "stdout",
     "output_type": "stream",
     "text": [
      "Accuracies: [0.39186468 0.         0.         0.         0.         0.\n",
      " 0.81117021 0.         0.         0.         0.         0.\n",
      " 0.        ] \n",
      " Average acccuracy: 0.09254114558375018\n",
      "F1 Scores: [0.562753   0.         0.         0.         0.         0.\n",
      " 0.69318177 0.         0.         0.         0.         0.\n",
      " 0.        ] \n",
      " Average F1: 0.09661036653812059\n",
      "Working with: \n",
      "{'epochs': 30, 'learning_rate': 0.0002, 'dropout': 0.0, 'hidden_size': 64, 'num_layers': 1}\n",
      "\n",
      "\n",
      "-----------------------------------------Starting Training------------------------------------------\n"
     ]
    },
    {
     "name": "stderr",
     "output_type": "stream",
     "text": [
      "100%|██████████| 30/30 [02:16<00:00,  4.53s/it]\n"
     ]
    },
    {
     "name": "stdout",
     "output_type": "stream",
     "text": [
      "Accuracies: [0.65502793 0.         0.         0.75535168 0.         0.98648649\n",
      " 0.97647059 0.         0.         0.         0.         0.68695652\n",
      " 0.        ] \n",
      " Average acccuracy: 0.3123302470291532\n",
      "F1 Scores: [0.77939339 0.         0.         0.8012976  0.         0.86390528\n",
      " 0.98224847 0.         0.         0.         0.         0.77832507\n",
      " 0.        ] \n",
      " Average F1: 0.32347460039315157\n",
      "Working with: \n",
      "{'epochs': 30, 'learning_rate': 0.0002, 'dropout': 0.0, 'hidden_size': 128, 'num_layers': 1}\n",
      "\n",
      "\n",
      "-----------------------------------------Starting Training------------------------------------------\n"
     ]
    },
    {
     "name": "stderr",
     "output_type": "stream",
     "text": [
      "100%|██████████| 30/30 [03:39<00:00,  7.33s/it]\n"
     ]
    },
    {
     "name": "stdout",
     "output_type": "stream",
     "text": [
      "Accuracies: [0.6643694  0.         0.         0.80898876 0.         0.96527778\n",
      " 0.96531792 0.         0.         0.         0.         0.67213115\n",
      " 0.        ] \n",
      " Average acccuracy: 0.31354500068095054\n",
      "F1 Scores: [0.79472378 0.         0.         0.83860228 0.         0.83233528\n",
      " 0.97947209 0.         0.         0.         0.         0.78095233\n",
      " 0.        ] \n",
      " Average F1: 0.325083519873598\n",
      "Working with: \n",
      "{'epochs': 30, 'learning_rate': 0.0002, 'dropout': 0.0, 'hidden_size': 256, 'num_layers': 1}\n",
      "\n",
      "\n",
      "-----------------------------------------Starting Training------------------------------------------\n"
     ]
    },
    {
     "name": "stderr",
     "output_type": "stream",
     "text": [
      "100%|██████████| 30/30 [07:19<00:00, 14.65s/it]\n"
     ]
    },
    {
     "name": "stdout",
     "output_type": "stream",
     "text": [
      "Accuracies: [0.6751269  0.         0.         0.76710335 0.         0.98125\n",
      " 0.98434442 0.         0.         0.         0.         0.69421488\n",
      " 0.        ] \n",
      " Average acccuracy: 0.31554150385971685\n",
      "F1 Scores: [0.790994   0.         0.         0.83254339 0.         0.89714281\n",
      " 0.99113295 0.         0.         0.         0.         0.8038277\n",
      " 0.        ] \n",
      " Average F1: 0.33197237397202023\n",
      "Working with: \n",
      "{'epochs': 30, 'learning_rate': 0.0002, 'dropout': 0.1, 'hidden_size': 64, 'num_layers': 1}\n",
      "\n",
      "\n",
      "-----------------------------------------Starting Training------------------------------------------\n"
     ]
    },
    {
     "name": "stderr",
     "output_type": "stream",
     "text": [
      "100%|██████████| 30/30 [02:21<00:00,  4.71s/it]\n"
     ]
    },
    {
     "name": "stdout",
     "output_type": "stream",
     "text": [
      "Accuracies: [0.65648855 0.         0.         0.75262369 0.         0.98639456\n",
      " 0.98003992 0.         0.         0.         0.         0.78640777\n",
      " 0.        ] \n",
      " Average acccuracy: 0.3201503448267188\n",
      "F1 Scores: [0.78311253 0.         0.         0.80577844 0.         0.86053407\n",
      " 0.97711438 0.         0.         0.         0.         0.84816749\n",
      " 0.        ] \n",
      " Average F1: 0.3288236090119216\n",
      "Working with: \n",
      "{'epochs': 30, 'learning_rate': 0.0002, 'dropout': 0.1, 'hidden_size': 128, 'num_layers': 1}\n",
      "\n",
      "\n",
      "-----------------------------------------Starting Training------------------------------------------\n"
     ]
    },
    {
     "name": "stderr",
     "output_type": "stream",
     "text": [
      "100%|██████████| 30/30 [03:42<00:00,  7.43s/it]\n"
     ]
    },
    {
     "name": "stdout",
     "output_type": "stream",
     "text": [
      "Accuracies: [0.67857143 0.         0.         0.75817923 0.         0.97350993\n",
      " 0.98235294 0.         0.         0.         0.         0.66666667\n",
      " 0.        ] \n",
      " Average acccuracy: 0.3122523232348341\n",
      "F1 Scores: [0.79335317 0.         0.         0.83151321 0.         0.86217004\n",
      " 0.98816563 0.         0.         0.         0.         0.77725114\n",
      " 0.        ] \n",
      " Average F1: 0.3271117833063355\n",
      "Working with: \n",
      "{'epochs': 30, 'learning_rate': 0.0002, 'dropout': 0.1, 'hidden_size': 256, 'num_layers': 1}\n",
      "\n",
      "\n",
      "-----------------------------------------Starting Training------------------------------------------\n"
     ]
    },
    {
     "name": "stderr",
     "output_type": "stream",
     "text": [
      "100%|██████████| 30/30 [07:20<00:00, 14.68s/it]\n"
     ]
    },
    {
     "name": "stdout",
     "output_type": "stream",
     "text": [
      "Accuracies: [0.61658031 0.         0.         0.76559546 0.         0.97402597\n",
      " 0.98231827 0.         0.         0.         0.         0.66666667\n",
      " 0.        ] \n",
      " Average acccuracy: 0.3080912835254853\n",
      "F1 Scores: [0.75585545 0.         0.         0.73104688 0.         0.87209297\n",
      " 0.98716678 0.         0.         0.         0.         0.77725114\n",
      " 0.        ] \n",
      " Average F1: 0.31718563245021997\n",
      "Working with: \n",
      "{'epochs': 30, 'learning_rate': 0.0002, 'dropout': 0.2, 'hidden_size': 64, 'num_layers': 1}\n",
      "\n",
      "\n",
      "-----------------------------------------Starting Training------------------------------------------\n"
     ]
    },
    {
     "name": "stderr",
     "output_type": "stream",
     "text": [
      "100%|██████████| 30/30 [02:18<00:00,  4.61s/it]\n"
     ]
    },
    {
     "name": "stdout",
     "output_type": "stream",
     "text": [
      "Accuracies: [0.63478261 0.         0.         0.76947536 0.         0.96710526\n",
      " 0.98547718 0.         0.         0.         0.         0.72277228\n",
      " 0.        ] \n",
      " Average acccuracy: 0.31381636040116595\n",
      "F1 Scores: [0.768421   0.         0.         0.80132445 0.         0.85964907\n",
      " 0.96348879 0.         0.         0.         0.         0.77248672\n",
      " 0.        ] \n",
      " Average F1: 0.3204130805015384\n",
      "Working with: \n",
      "{'epochs': 30, 'learning_rate': 0.0002, 'dropout': 0.2, 'hidden_size': 128, 'num_layers': 1}\n",
      "\n",
      "\n",
      "-----------------------------------------Starting Training------------------------------------------\n"
     ]
    },
    {
     "name": "stderr",
     "output_type": "stream",
     "text": [
      "100%|██████████| 30/30 [03:41<00:00,  7.39s/it]\n"
     ]
    },
    {
     "name": "stdout",
     "output_type": "stream",
     "text": [
      "Accuracies: [0.6582365  0.         0.         0.7971246  0.         0.97887324\n",
      " 0.97475728 0.         0.         0.         0.         0.71681416\n",
      " 0.        ] \n",
      " Average acccuracy: 0.31736967548175343\n",
      "F1 Scores: [0.78999175 0.         0.         0.82821572 0.         0.83734935\n",
      " 0.98527964 0.         0.         0.         0.         0.8059701\n",
      " 0.        ] \n",
      " Average F1: 0.3266774268616866\n",
      "Working with: \n",
      "{'epochs': 30, 'learning_rate': 0.0002, 'dropout': 0.2, 'hidden_size': 256, 'num_layers': 1}\n",
      "\n",
      "\n",
      "-----------------------------------------Starting Training------------------------------------------\n"
     ]
    },
    {
     "name": "stderr",
     "output_type": "stream",
     "text": [
      "100%|██████████| 30/30 [07:19<00:00, 14.65s/it]\n"
     ]
    },
    {
     "name": "stdout",
     "output_type": "stream",
     "text": [
      "Accuracies: [0.61993569 0.         0.         0.81939163 0.         0.98\n",
      " 0.97475728 0.         0.         0.         0.         0.73451327\n",
      " 0.        ] \n",
      " Average acccuracy: 0.31758445247607675\n",
      "F1 Scores: [0.76205529 0.         0.         0.78009045 0.         0.86470583\n",
      " 0.98527964 0.         0.         0.         0.         0.8258706\n",
      " 0.        ] \n",
      " Average F1: 0.3244616770215855\n",
      "Working with: \n",
      "{'epochs': 30, 'learning_rate': 2e-05, 'dropout': 0.0, 'hidden_size': 64, 'num_layers': 1}\n",
      "\n",
      "\n",
      "-----------------------------------------Starting Training------------------------------------------\n"
     ]
    },
    {
     "name": "stderr",
     "output_type": "stream",
     "text": [
      "100%|██████████| 30/30 [02:16<00:00,  4.56s/it]\n"
     ]
    },
    {
     "name": "stdout",
     "output_type": "stream",
     "text": [
      "Accuracies: [0.58678756 0.         0.         0.67457181 0.         0.\n",
      " 0.88489209 0.         0.         0.         0.         0.\n",
      " 0.        ] \n",
      " Average acccuracy: 0.16509626585418175\n",
      "F1 Scores: [0.71933302 0.         0.         0.76532133 0.         0.\n",
      " 0.92830184 0.         0.         0.         0.         0.\n",
      " 0.        ] \n",
      " Average F1: 0.18561201414516063\n",
      "Working with: \n",
      "{'epochs': 30, 'learning_rate': 2e-05, 'dropout': 0.0, 'hidden_size': 128, 'num_layers': 1}\n",
      "\n",
      "\n",
      "-----------------------------------------Starting Training------------------------------------------\n"
     ]
    },
    {
     "name": "stderr",
     "output_type": "stream",
     "text": [
      "100%|██████████| 30/30 [03:39<00:00,  7.33s/it]\n"
     ]
    },
    {
     "name": "stdout",
     "output_type": "stream",
     "text": [
      "Accuracies: [0.60013578 0.         0.         0.66176471 0.         0.\n",
      " 0.87894737 0.         0.         0.         0.         0.\n",
      " 0.        ] \n",
      " Average acccuracy: 0.16468060397143017\n",
      "F1 Scores: [0.72222217 0.         0.         0.7741935  0.         0.\n",
      " 0.93296084 0.         0.         0.         0.         0.\n",
      " 0.        ] \n",
      " Average F1: 0.1868751167555038\n",
      "Working with: \n",
      "{'epochs': 30, 'learning_rate': 2e-05, 'dropout': 0.0, 'hidden_size': 256, 'num_layers': 1}\n",
      "\n",
      "\n",
      "-----------------------------------------Starting Training------------------------------------------\n"
     ]
    },
    {
     "name": "stderr",
     "output_type": "stream",
     "text": [
      "100%|██████████| 30/30 [07:15<00:00, 14.53s/it]\n"
     ]
    },
    {
     "name": "stdout",
     "output_type": "stream",
     "text": [
      "Accuracies: [0.59333333 0.         0.         0.67766497 0.         0.\n",
      " 0.87915937 0.         0.         0.         0.         0.\n",
      " 0.        ] \n",
      " Average acccuracy: 0.1653967444215206\n",
      "F1 Scores: [0.71919187 0.         0.         0.78127281 0.         0.\n",
      " 0.93395344 0.         0.         0.         0.         0.\n",
      " 0.        ] \n",
      " Average F1: 0.18726293239296746\n",
      "Working with: \n",
      "{'epochs': 30, 'learning_rate': 2e-05, 'dropout': 0.1, 'hidden_size': 64, 'num_layers': 1}\n",
      "\n",
      "\n",
      "-----------------------------------------Starting Training------------------------------------------\n"
     ]
    },
    {
     "name": "stderr",
     "output_type": "stream",
     "text": [
      "100%|██████████| 30/30 [02:16<00:00,  4.57s/it]\n"
     ]
    },
    {
     "name": "stdout",
     "output_type": "stream",
     "text": [
      "Accuracies: [0.57418112 0.         0.         0.66757866 0.         0.\n",
      " 0.87390543 0.         0.         0.         0.         0.\n",
      " 0.        ] \n",
      " Average acccuracy: 0.16274347738278827\n",
      "F1 Scores: [0.70616109 0.         0.         0.74503812 0.         0.\n",
      " 0.92837204 0.         0.         0.         0.         0.\n",
      " 0.        ] \n",
      " Average F1: 0.18304394242844751\n",
      "Working with: \n",
      "{'epochs': 30, 'learning_rate': 2e-05, 'dropout': 0.1, 'hidden_size': 128, 'num_layers': 1}\n",
      "\n",
      "\n",
      "-----------------------------------------Starting Training------------------------------------------\n"
     ]
    },
    {
     "name": "stderr",
     "output_type": "stream",
     "text": [
      "100%|██████████| 30/30 [03:41<00:00,  7.38s/it]\n"
     ]
    },
    {
     "name": "stdout",
     "output_type": "stream",
     "text": [
      "Accuracies: [0.66666667 0.         0.         0.65096618 0.         0.54966887\n",
      " 0.89766607 0.         0.         0.         0.         0.\n",
      " 0.        ] \n",
      " Average acccuracy: 0.21268983020279636\n",
      "F1 Scores: [0.76762397 0.         0.         0.76616911 0.         0.48680347\n",
      " 0.94250702 0.         0.         0.         0.         0.\n",
      " 0.        ] \n",
      " Average F1: 0.22793104352566834\n",
      "Working with: \n",
      "{'epochs': 30, 'learning_rate': 2e-05, 'dropout': 0.1, 'hidden_size': 256, 'num_layers': 1}\n",
      "\n",
      "\n",
      "-----------------------------------------Starting Training------------------------------------------\n"
     ]
    },
    {
     "name": "stderr",
     "output_type": "stream",
     "text": [
      "100%|██████████| 30/30 [07:25<00:00, 14.85s/it]\n"
     ]
    },
    {
     "name": "stdout",
     "output_type": "stream",
     "text": [
      "Accuracies: [0.671875   0.         0.         0.67581047 0.         0.56\n",
      " 0.89165187 0.         0.         0.         0.         0.\n",
      " 0.        ] \n",
      " Average acccuracy: 0.21533364144802633\n",
      "F1 Scores: [0.77878391 0.         0.         0.7849384  0.         0.4941176\n",
      " 0.9409559  0.         0.         0.         0.         0.\n",
      " 0.        ] \n",
      " Average F1: 0.23067660077630217\n",
      "Working with: \n",
      "{'epochs': 30, 'learning_rate': 2e-05, 'dropout': 0.2, 'hidden_size': 64, 'num_layers': 1}\n",
      "\n",
      "\n",
      "-----------------------------------------Starting Training------------------------------------------\n"
     ]
    },
    {
     "name": "stderr",
     "output_type": "stream",
     "text": [
      "100%|██████████| 30/30 [02:19<00:00,  4.67s/it]\n"
     ]
    },
    {
     "name": "stdout",
     "output_type": "stream",
     "text": [
      "Accuracies: [0.56553398 0.         0.         0.70116618 0.         0.\n",
      " 0.88952381 0.         0.         0.         0.         0.\n",
      " 0.        ] \n",
      " Average acccuracy: 0.16586338237418088\n",
      "F1 Scores: [0.71063663 0.         0.         0.76047426 0.         0.\n",
      " 0.90767731 0.         0.         0.         0.         0.\n",
      " 0.        ] \n",
      " Average F1: 0.18298370721838292\n",
      "Working with: \n",
      "{'epochs': 30, 'learning_rate': 2e-05, 'dropout': 0.2, 'hidden_size': 128, 'num_layers': 1}\n",
      "\n",
      "\n",
      "-----------------------------------------Starting Training------------------------------------------\n"
     ]
    },
    {
     "name": "stderr",
     "output_type": "stream",
     "text": [
      "100%|██████████| 30/30 [03:43<00:00,  7.45s/it]\n"
     ]
    },
    {
     "name": "stdout",
     "output_type": "stream",
     "text": [
      "Accuracies: [0.65803109 0.         0.         0.69598965 0.         0.54605263\n",
      " 0.85763293 0.         0.         0.         0.         0.\n",
      " 0.        ] \n",
      " Average acccuracy: 0.21213125411369183\n",
      "F1 Scores: [0.76440236 0.         0.         0.79585794 0.         0.48538007\n",
      " 0.91996315 0.         0.         0.         0.         0.\n",
      " 0.        ] \n",
      " Average F1: 0.22812334744186027\n",
      "Working with: \n",
      "{'epochs': 30, 'learning_rate': 2e-05, 'dropout': 0.2, 'hidden_size': 256, 'num_layers': 1}\n",
      "\n",
      "\n",
      "-----------------------------------------Starting Training------------------------------------------\n"
     ]
    },
    {
     "name": "stderr",
     "output_type": "stream",
     "text": [
      "100%|██████████| 30/30 [07:35<00:00, 15.17s/it]\n"
     ]
    },
    {
     "name": "stdout",
     "output_type": "stream",
     "text": [
      "Accuracies: [0.59325271 0.         0.         0.73991655 0.         0.\n",
      " 0.88049209 0.         0.         0.         0.         0.\n",
      " 0.        ] \n",
      " Average acccuracy: 0.17028164211050856\n",
      "F1 Scores: [0.73212878 0.         0.         0.8197226  0.         0.\n",
      " 0.93383033 0.         0.         0.         0.         0.\n",
      " 0.        ] \n",
      " Average F1: 0.1912062857708578\n",
      "Working with: \n",
      "{'epochs': 30, 'learning_rate': 2e-06, 'dropout': 0.0, 'hidden_size': 64, 'num_layers': 1}\n",
      "\n",
      "\n",
      "-----------------------------------------Starting Training------------------------------------------\n"
     ]
    },
    {
     "name": "stderr",
     "output_type": "stream",
     "text": [
      "100%|██████████| 30/30 [02:16<00:00,  4.54s/it]\n"
     ]
    },
    {
     "name": "stdout",
     "output_type": "stream",
     "text": [
      "Accuracies: [0.37586739 0.         0.         1.         0.         0.\n",
      " 0.8365019  0.         0.         0.         0.         0.\n",
      " 0.        ] \n",
      " Average acccuracy: 0.17018225287820818\n",
      "F1 Scores: [0.54637149 0.         0.         0.00688468 0.         0.\n",
      " 0.57366358 0.         0.         0.         0.         0.\n",
      " 0.        ] \n",
      " Average F1: 0.08668613485334334\n",
      "Working with: \n",
      "{'epochs': 30, 'learning_rate': 2e-06, 'dropout': 0.0, 'hidden_size': 128, 'num_layers': 1}\n",
      "\n",
      "\n",
      "-----------------------------------------Starting Training------------------------------------------\n"
     ]
    },
    {
     "name": "stderr",
     "output_type": "stream",
     "text": [
      "100%|██████████| 30/30 [03:40<00:00,  7.37s/it]\n"
     ]
    },
    {
     "name": "stdout",
     "output_type": "stream",
     "text": [
      "Accuracies: [0.44092349 0.         0.         0.         0.         0.\n",
      " 0.60923077 0.         0.         0.         0.         0.\n",
      " 0.        ] \n",
      " Average acccuracy: 0.08078109723267643\n",
      "F1 Scores: [0.611809   0.         0.         0.         0.         0.\n",
      " 0.68630844 0.         0.         0.         0.         0.\n",
      " 0.        ] \n",
      " Average F1: 0.09985518812156692\n",
      "Working with: \n",
      "{'epochs': 30, 'learning_rate': 2e-06, 'dropout': 0.0, 'hidden_size': 256, 'num_layers': 1}\n",
      "\n",
      "\n",
      "-----------------------------------------Starting Training------------------------------------------\n"
     ]
    },
    {
     "name": "stderr",
     "output_type": "stream",
     "text": [
      "100%|██████████| 30/30 [07:19<00:00, 14.64s/it]\n"
     ]
    },
    {
     "name": "stdout",
     "output_type": "stream",
     "text": [
      "Accuracies: [0.56150677 0.         0.         0.65822785 0.         0.\n",
      " 0.89309577 0.         0.         0.         0.         0.\n",
      " 0.        ] \n",
      " Average acccuracy: 0.16252541424329953\n",
      "F1 Scores: [0.71353772 0.         0.         0.72558135 0.         0.\n",
      " 0.84155294 0.         0.         0.         0.         0.\n",
      " 0.        ] \n",
      " Average F1: 0.1754363085421072\n",
      "Working with: \n",
      "{'epochs': 30, 'learning_rate': 2e-06, 'dropout': 0.1, 'hidden_size': 64, 'num_layers': 1}\n",
      "\n",
      "\n",
      "-----------------------------------------Starting Training------------------------------------------\n"
     ]
    },
    {
     "name": "stderr",
     "output_type": "stream",
     "text": [
      "100%|██████████| 30/30 [02:30<00:00,  5.03s/it]\n"
     ]
    },
    {
     "name": "stdout",
     "output_type": "stream",
     "text": [
      "Accuracies: [0.37250384 0.         0.         0.42352941 0.         0.\n",
      " 0.         0.         0.         0.         0.         0.\n",
      " 0.        ] \n",
      " Average acccuracy: 0.061233327077729355\n",
      "F1 Scores: [0.54205081 0.         0.         0.25899276 0.         0.\n",
      " 0.         0.         0.         0.         0.         0.\n",
      " 0.        ] \n",
      " Average F1: 0.06161873659698898\n",
      "Working with: \n",
      "{'epochs': 30, 'learning_rate': 2e-06, 'dropout': 0.1, 'hidden_size': 128, 'num_layers': 1}\n",
      "\n",
      "\n",
      "-----------------------------------------Starting Training------------------------------------------\n"
     ]
    },
    {
     "name": "stderr",
     "output_type": "stream",
     "text": [
      "100%|██████████| 30/30 [04:11<00:00,  8.39s/it]\n"
     ]
    },
    {
     "name": "stdout",
     "output_type": "stream",
     "text": [
      "Accuracies: [0.43913436 0.         0.         0.         0.         0.\n",
      " 0.64274571 0.         0.         0.         0.         0.\n",
      " 0.        ] \n",
      " Average acccuracy: 0.08322154346949352\n",
      "F1 Scores: [0.61008452 0.         0.         0.         0.         0.\n",
      " 0.71965061 0.         0.         0.         0.         0.\n",
      " 0.        ] \n",
      " Average F1: 0.10228731716353703\n",
      "Working with: \n",
      "{'epochs': 30, 'learning_rate': 2e-06, 'dropout': 0.1, 'hidden_size': 256, 'num_layers': 1}\n",
      "\n",
      "\n",
      "-----------------------------------------Starting Training------------------------------------------\n"
     ]
    },
    {
     "name": "stderr",
     "output_type": "stream",
     "text": [
      "100%|██████████| 30/30 [07:18<00:00, 14.63s/it]\n"
     ]
    },
    {
     "name": "stdout",
     "output_type": "stream",
     "text": [
      "Accuracies: [0.54808806 0.         0.         0.64573991 0.         0.\n",
      " 0.8987069  0.         0.         0.         0.         0.\n",
      " 0.        ] \n",
      " Average acccuracy: 0.16096422090427265\n",
      "F1 Scores: [0.70048126 0.         0.         0.69230764 0.         0.\n",
      " 0.8615702  0.         0.         0.         0.         0.\n",
      " 0.        ] \n",
      " Average F1: 0.173412238256358\n",
      "Working with: \n",
      "{'epochs': 30, 'learning_rate': 2e-06, 'dropout': 0.2, 'hidden_size': 64, 'num_layers': 1}\n",
      "\n",
      "\n",
      "-----------------------------------------Starting Training------------------------------------------\n"
     ]
    },
    {
     "name": "stderr",
     "output_type": "stream",
     "text": [
      "100%|██████████| 30/30 [02:17<00:00,  4.59s/it]\n"
     ]
    },
    {
     "name": "stdout",
     "output_type": "stream",
     "text": [
      "Accuracies: [0.35662034 0.         0.         0.74193548 0.         0.\n",
      " 0.9893617  0.         0.         0.         0.         0.\n",
      " 0.        ] \n",
      " Average acccuracy: 0.1606090401924553\n",
      "F1 Scores: [0.52574814 0.         0.         0.07540983 0.         0.\n",
      " 0.31103676 0.         0.         0.         0.         0.\n",
      " 0.        ] \n",
      " Average F1: 0.07016882541619826\n",
      "Working with: \n",
      "{'epochs': 30, 'learning_rate': 2e-06, 'dropout': 0.2, 'hidden_size': 128, 'num_layers': 1}\n",
      "\n",
      "\n",
      "-----------------------------------------Starting Training------------------------------------------\n"
     ]
    },
    {
     "name": "stderr",
     "output_type": "stream",
     "text": [
      "100%|██████████| 30/30 [03:42<00:00,  7.41s/it]\n"
     ]
    },
    {
     "name": "stdout",
     "output_type": "stream",
     "text": [
      "Accuracies: [0.45323406 0.         0.         0.         0.         0.\n",
      " 0.58732394 0.         0.         0.         0.         0.\n",
      " 0.        ] \n",
      " Average acccuracy: 0.08004292353973502\n",
      "F1 Scores: [0.6235595  0.         0.         0.         0.         0.\n",
      " 0.68698512 0.         0.         0.         0.         0.\n",
      " 0.        ] \n",
      " Average F1: 0.10081112464478915\n",
      "Working with: \n",
      "{'epochs': 30, 'learning_rate': 2e-06, 'dropout': 0.2, 'hidden_size': 256, 'num_layers': 1}\n",
      "\n",
      "\n",
      "-----------------------------------------Starting Training------------------------------------------\n"
     ]
    },
    {
     "name": "stderr",
     "output_type": "stream",
     "text": [
      "100%|██████████| 30/30 [07:13<00:00, 14.46s/it]\n"
     ]
    },
    {
     "name": "stdout",
     "output_type": "stream",
     "text": [
      "Accuracies: [0.45050879 0.         0.         0.         0.         0.\n",
      " 0.6527977  0.         0.         0.         0.         0.\n",
      " 0.        ] \n",
      " Average acccuracy: 0.08486973020051881\n",
      "F1 Scores: [0.62097541 0.         0.         0.         0.         0.\n",
      " 0.75770187 0.         0.         0.         0.         0.\n",
      " 0.        ] \n",
      " Average F1: 0.10605209827774775\n",
      "Working with: \n",
      "{'epochs': 50, 'learning_rate': 0.0002, 'dropout': 0.0, 'hidden_size': 64, 'num_layers': 1}\n",
      "\n",
      "\n",
      "-----------------------------------------Starting Training------------------------------------------\n"
     ]
    },
    {
     "name": "stderr",
     "output_type": "stream",
     "text": [
      "100%|██████████| 50/50 [03:45<00:00,  4.51s/it]\n"
     ]
    },
    {
     "name": "stdout",
     "output_type": "stream",
     "text": [
      "Accuracies: [0.67354458 0.         0.         0.70564516 0.         0.97857143\n",
      " 0.99193548 0.         0.         0.         0.         0.64754098\n",
      " 0.        ] \n",
      " Average acccuracy: 0.3074798185368969\n",
      "F1 Scores: [0.78387645 0.         0.         0.79365074 0.         0.83030298\n",
      " 0.98399995 0.         0.         0.         0.         0.7523809\n",
      " 0.        ] \n",
      " Average F1: 0.3187854638592087\n",
      "Working with: \n",
      "{'epochs': 50, 'learning_rate': 0.0002, 'dropout': 0.0, 'hidden_size': 128, 'num_layers': 1}\n",
      "\n",
      "\n",
      "-----------------------------------------Starting Training------------------------------------------\n"
     ]
    },
    {
     "name": "stderr",
     "output_type": "stream",
     "text": [
      "100%|██████████| 50/50 [06:01<00:00,  7.23s/it]\n"
     ]
    },
    {
     "name": "stdout",
     "output_type": "stream",
     "text": [
      "Accuracies: [0.6587246  0.         0.         0.7593985  0.         0.98561151\n",
      " 0.99601594 0.         0.         0.         0.         0.61904762\n",
      " 0.        ] \n",
      " Average acccuracy: 0.3091383199531793\n",
      "F1 Scores: [0.78268105 0.         0.         0.81189706 0.         0.8328267\n",
      " 0.99403574 0.         0.         0.         0.         0.72897191\n",
      " 0.        ] \n",
      " Average F1: 0.31926249646351795\n",
      "Working with: \n",
      "{'epochs': 50, 'learning_rate': 0.0002, 'dropout': 0.0, 'hidden_size': 256, 'num_layers': 1}\n",
      "\n",
      "\n",
      "-----------------------------------------Starting Training------------------------------------------\n"
     ]
    },
    {
     "name": "stderr",
     "output_type": "stream",
     "text": [
      "100%|██████████| 50/50 [12:08<00:00, 14.57s/it]\n"
     ]
    },
    {
     "name": "stdout",
     "output_type": "stream",
     "text": [
      "Accuracies: [0.67342505 0.         0.11111111 0.79120879 0.         0.98125\n",
      " 0.98238748 0.         0.         0.58974359 0.         0.7079646\n",
      " 0.        ] \n",
      " Average acccuracy: 0.3720838941292335\n",
      "F1 Scores: [0.78947364 0.         0.07407403 0.82894732 0.         0.89714281\n",
      " 0.98916251 0.         0.         0.41441437 0.         0.79601985\n",
      " 0.        ] \n",
      " Average F1: 0.3684026554099571\n",
      "Working with: \n",
      "{'epochs': 50, 'learning_rate': 0.0002, 'dropout': 0.1, 'hidden_size': 64, 'num_layers': 1}\n",
      "\n",
      "\n",
      "-----------------------------------------Starting Training------------------------------------------\n"
     ]
    },
    {
     "name": "stderr",
     "output_type": "stream",
     "text": [
      "100%|██████████| 50/50 [03:47<00:00,  4.55s/it]\n"
     ]
    },
    {
     "name": "stdout",
     "output_type": "stream",
     "text": [
      "Accuracies: [0.67849057 0.         0.         0.72824632 0.         0.98684211\n",
      " 0.98431373 0.         0.         0.         0.         0.672\n",
      " 0.        ] \n",
      " Average acccuracy: 0.3115302088768349\n",
      "F1 Scores: [0.78173908 0.         0.         0.82051277 0.         0.87719293\n",
      " 0.99013802 0.         0.         0.         0.         0.78873235\n",
      " 0.        ] \n",
      " Average F1: 0.3275627036368247\n",
      "Working with: \n",
      "{'epochs': 50, 'learning_rate': 0.0002, 'dropout': 0.1, 'hidden_size': 128, 'num_layers': 1}\n",
      "\n",
      "\n",
      "-----------------------------------------Starting Training------------------------------------------\n"
     ]
    },
    {
     "name": "stderr",
     "output_type": "stream",
     "text": [
      "100%|██████████| 50/50 [06:09<00:00,  7.39s/it]\n"
     ]
    },
    {
     "name": "stdout",
     "output_type": "stream",
     "text": [
      "Accuracies: [0.66024268 0.         0.         0.76775148 0.         0.97972973\n",
      " 0.99013807 0.         0.         0.         0.         0.63779528\n",
      " 0.        ] \n",
      " Average acccuracy: 0.3104351719591272\n",
      "F1 Scores: [0.77861948 0.         0.         0.82709158 0.         0.85798812\n",
      " 0.99307611 0.         0.         0.         0.         0.75348832\n",
      " 0.        ] \n",
      " Average F1: 0.3238664319073903\n",
      "Working with: \n",
      "{'epochs': 50, 'learning_rate': 0.0002, 'dropout': 0.1, 'hidden_size': 256, 'num_layers': 1}\n",
      "\n",
      "\n",
      "-----------------------------------------Starting Training------------------------------------------\n"
     ]
    },
    {
     "name": "stderr",
     "output_type": "stream",
     "text": [
      "100%|██████████| 50/50 [12:04<00:00, 14.49s/it]\n"
     ]
    },
    {
     "name": "stdout",
     "output_type": "stream",
     "text": [
      "Accuracies: [0.67291066 0.         0.         0.77452416 0.         0.98717949\n",
      " 0.98818898 0.         0.         0.         0.         0.67741935\n",
      " 0.        ] \n",
      " Average acccuracy: 0.3154017414881748\n",
      "F1 Scores: [0.79052048 0.         0.         0.83835177 0.         0.89017336\n",
      " 0.99209481 0.         0.         0.         0.         0.79245278\n",
      " 0.        ] \n",
      " Average F1: 0.33104563089602695\n",
      "Working with: \n",
      "{'epochs': 50, 'learning_rate': 0.0002, 'dropout': 0.2, 'hidden_size': 64, 'num_layers': 1}\n",
      "\n",
      "\n",
      "-----------------------------------------Starting Training------------------------------------------\n"
     ]
    },
    {
     "name": "stderr",
     "output_type": "stream",
     "text": [
      "100%|██████████| 50/50 [03:45<00:00,  4.52s/it]\n"
     ]
    },
    {
     "name": "stdout",
     "output_type": "stream",
     "text": [
      "Accuracies: [0.66812865 0.         0.         0.73593074 0.         0.96153846\n",
      " 0.99209486 0.         0.         0.         0.         0.61029412\n",
      " 0.        ] \n",
      " Average acccuracy: 0.3052297562882381\n",
      "F1 Scores: [0.78019628 0.         0.         0.80188674 0.         0.86705197\n",
      " 0.99405936 0.         0.         0.         0.         0.74107138\n",
      " 0.        ] \n",
      " Average F1: 0.3218665948164032\n",
      "Working with: \n",
      "{'epochs': 50, 'learning_rate': 0.0002, 'dropout': 0.2, 'hidden_size': 128, 'num_layers': 1}\n",
      "\n",
      "\n",
      "-----------------------------------------Starting Training------------------------------------------\n"
     ]
    },
    {
     "name": "stderr",
     "output_type": "stream",
     "text": [
      "100%|██████████| 50/50 [06:04<00:00,  7.28s/it]\n"
     ]
    },
    {
     "name": "stdout",
     "output_type": "stream",
     "text": [
      "Accuracies: [0.68219384 0.         0.         0.72983871 0.         0.97986577\n",
      " 0.99211045 0.         0.         0.         0.         0.640625\n",
      " 0.        ] \n",
      " Average acccuracy: 0.30958721341208056\n",
      "F1 Scores: [0.78751079 0.         0.         0.82086163 0.         0.86135688\n",
      " 0.99505435 0.         0.         0.         0.         0.75925921\n",
      " 0.        ] \n",
      " Average F1: 0.32492637423837134\n",
      "Working with: \n",
      "{'epochs': 50, 'learning_rate': 0.0002, 'dropout': 0.2, 'hidden_size': 256, 'num_layers': 1}\n",
      "\n",
      "\n",
      "-----------------------------------------Starting Training------------------------------------------\n"
     ]
    },
    {
     "name": "stderr",
     "output_type": "stream",
     "text": [
      "100%|██████████| 50/50 [12:04<00:00, 14.49s/it]\n"
     ]
    },
    {
     "name": "stdout",
     "output_type": "stream",
     "text": [
      "Accuracies: [0.66714083 0.         0.         0.78419453 0.         0.9760479\n",
      " 0.99013807 0.         0.         0.         0.         0.69421488\n",
      " 0.        ] \n",
      " Average acccuracy: 0.31628740009205847\n",
      "F1 Scores: [0.78790419 0.         0.         0.83427643 0.         0.91316522\n",
      " 0.99307611 0.         0.         0.         0.         0.8038277\n",
      " 0.        ] \n",
      " Average F1: 0.33324997295349756\n",
      "Working with: \n",
      "{'epochs': 50, 'learning_rate': 2e-05, 'dropout': 0.0, 'hidden_size': 64, 'num_layers': 1}\n",
      "\n",
      "\n",
      "-----------------------------------------Starting Training------------------------------------------\n"
     ]
    },
    {
     "name": "stderr",
     "output_type": "stream",
     "text": [
      "100%|██████████| 50/50 [03:44<00:00,  4.48s/it]\n"
     ]
    },
    {
     "name": "stdout",
     "output_type": "stream",
     "text": [
      "Accuracies: [0.64563107 0.         0.         0.71347518 0.         0.55479452\n",
      " 0.88515901 0.         0.         0.         0.         0.\n",
      " 0.        ] \n",
      " Average acccuracy: 0.21531229049344475\n",
      "F1 Scores: [0.77037645 0.         0.         0.78348905 0.         0.48214281\n",
      " 0.93644855 0.         0.         0.         0.         0.\n",
      " 0.        ] \n",
      " Average F1: 0.22865052725889393\n",
      "Working with: \n",
      "{'epochs': 50, 'learning_rate': 2e-05, 'dropout': 0.0, 'hidden_size': 128, 'num_layers': 1}\n",
      "\n",
      "\n",
      "-----------------------------------------Starting Training------------------------------------------\n"
     ]
    },
    {
     "name": "stderr",
     "output_type": "stream",
     "text": [
      "100%|██████████| 50/50 [06:09<00:00,  7.39s/it]\n"
     ]
    },
    {
     "name": "stdout",
     "output_type": "stream",
     "text": [
      "Accuracies: [0.6433121  0.         0.         0.71264368 0.         0.55704698\n",
      " 0.83361065 0.         0.         0.         0.         0.\n",
      " 0.        ] \n",
      " Average acccuracy: 0.21127795452738374\n",
      "F1 Scores: [0.76130648 0.         0.         0.77803917 0.         0.48967547\n",
      " 0.90678728 0.         0.         0.         0.         0.\n",
      " 0.        ] \n",
      " Average F1: 0.22583141519011565\n",
      "Working with: \n",
      "{'epochs': 50, 'learning_rate': 2e-05, 'dropout': 0.0, 'hidden_size': 256, 'num_layers': 1}\n",
      "\n",
      "\n",
      "-----------------------------------------Starting Training------------------------------------------\n"
     ]
    },
    {
     "name": "stderr",
     "output_type": "stream",
     "text": [
      "100%|██████████| 50/50 [12:00<00:00, 14.41s/it]\n"
     ]
    },
    {
     "name": "stdout",
     "output_type": "stream",
     "text": [
      "Accuracies: [0.64540466 0.         0.         0.7862969  0.         0.93506494\n",
      " 0.98613861 0.         0.         0.         0.         0.6124031\n",
      " 0.        ] \n",
      " Average acccuracy: 0.3050237087780072\n",
      "F1 Scores: [0.77353057 0.         0.         0.80872478 0.         0.83720925\n",
      " 0.98711591 0.         0.         0.         0.         0.72811055\n",
      " 0.        ] \n",
      " Average F1: 0.31805315872577916\n",
      "Working with: \n",
      "{'epochs': 50, 'learning_rate': 2e-05, 'dropout': 0.1, 'hidden_size': 64, 'num_layers': 1}\n",
      "\n",
      "\n",
      "-----------------------------------------Starting Training------------------------------------------\n"
     ]
    },
    {
     "name": "stderr",
     "output_type": "stream",
     "text": [
      "100%|██████████| 50/50 [03:49<00:00,  4.58s/it]\n"
     ]
    },
    {
     "name": "stdout",
     "output_type": "stream",
     "text": [
      "Accuracies: [0.57704304 0.         0.         0.71613833 0.         0.\n",
      " 0.89323843 0.         0.         0.         0.         0.\n",
      " 0.        ] \n",
      " Average acccuracy: 0.16818613899891638\n",
      "F1 Scores: [0.7176105  0.         0.         0.78083263 0.         0.\n",
      " 0.9418386  0.         0.         0.         0.         0.\n",
      " 0.        ] \n",
      " Average F1: 0.18771397937308237\n",
      "Working with: \n",
      "{'epochs': 50, 'learning_rate': 2e-05, 'dropout': 0.1, 'hidden_size': 128, 'num_layers': 1}\n",
      "\n",
      "\n",
      "-----------------------------------------Starting Training------------------------------------------\n"
     ]
    },
    {
     "name": "stderr",
     "output_type": "stream",
     "text": [
      "100%|██████████| 50/50 [06:08<00:00,  7.37s/it]\n"
     ]
    },
    {
     "name": "stdout",
     "output_type": "stream",
     "text": [
      "Accuracies: [0.67158672 0.         0.         0.70420624 0.         0.91358025\n",
      " 0.90433213 0.         0.         0.         0.         0.62121212\n",
      " 0.        ] \n",
      " Average acccuracy: 0.2934551888828026\n",
      "F1 Scores: [0.78111583 0.         0.         0.78875375 0.         0.54612542\n",
      " 0.94706989 0.         0.         0.         0.         0.7454545\n",
      " 0.        ] \n",
      " Average F1: 0.29296303000178975\n",
      "Working with: \n",
      "{'epochs': 50, 'learning_rate': 2e-05, 'dropout': 0.1, 'hidden_size': 256, 'num_layers': 1}\n",
      "\n",
      "\n",
      "-----------------------------------------Starting Training------------------------------------------\n"
     ]
    },
    {
     "name": "stderr",
     "output_type": "stream",
     "text": [
      "100%|██████████| 50/50 [12:03<00:00, 14.47s/it]\n"
     ]
    },
    {
     "name": "stdout",
     "output_type": "stream",
     "text": [
      "Accuracies: [0.66325037 0.         0.         0.71315789 0.         0.69811321\n",
      " 0.96353167 0.         0.         0.         0.         0.\n",
      " 0.        ] \n",
      " Average acccuracy: 0.23369639524475888\n",
      "F1 Scores: [0.77402814 0.         0.         0.80955932 0.         0.73631836\n",
      " 0.97951214 0.         0.         0.         0.         0.\n",
      " 0.        ] \n",
      " Average F1: 0.2538013823504356\n",
      "Working with: \n",
      "{'epochs': 50, 'learning_rate': 2e-05, 'dropout': 0.2, 'hidden_size': 64, 'num_layers': 1}\n",
      "\n",
      "\n",
      "-----------------------------------------Starting Training------------------------------------------\n"
     ]
    },
    {
     "name": "stderr",
     "output_type": "stream",
     "text": [
      "100%|██████████| 50/50 [03:47<00:00,  4.56s/it]\n"
     ]
    },
    {
     "name": "stdout",
     "output_type": "stream",
     "text": [
      "Accuracies: [0.64795565 0.         0.         0.70781893 0.         0.55405405\n",
      " 0.89239332 0.         0.         0.         0.         0.\n",
      " 0.        ] \n",
      " Average acccuracy: 0.21555553484735412\n",
      "F1 Scores: [0.77336637 0.         0.         0.78899078 0.         0.48520705\n",
      " 0.92233936 0.         0.         0.         0.         0.\n",
      " 0.        ] \n",
      " Average F1: 0.22845411946759733\n",
      "Working with: \n",
      "{'epochs': 50, 'learning_rate': 2e-05, 'dropout': 0.2, 'hidden_size': 128, 'num_layers': 1}\n",
      "\n",
      "\n",
      "-----------------------------------------Starting Training------------------------------------------\n"
     ]
    },
    {
     "name": "stderr",
     "output_type": "stream",
     "text": [
      "100%|██████████| 50/50 [06:05<00:00,  7.32s/it]\n"
     ]
    },
    {
     "name": "stdout",
     "output_type": "stream",
     "text": [
      "Accuracies: [0.67739576 0.         0.         0.71310345 0.         0.96385542\n",
      " 0.88632327 0.         0.         0.         0.         0.67768595\n",
      " 0.        ] \n",
      " Average acccuracy: 0.3014126035164829\n",
      "F1 Scores: [0.79077706 0.         0.         0.79294474 0.         0.58608054\n",
      " 0.93533266 0.         0.         0.         0.         0.78468895\n",
      " 0.        ] \n",
      " Average F1: 0.29921722678783536\n",
      "Working with: \n",
      "{'epochs': 50, 'learning_rate': 2e-05, 'dropout': 0.2, 'hidden_size': 256, 'num_layers': 1}\n",
      "\n",
      "\n",
      "-----------------------------------------Starting Training------------------------------------------\n"
     ]
    },
    {
     "name": "stderr",
     "output_type": "stream",
     "text": [
      "100%|██████████| 50/50 [11:59<00:00, 14.38s/it]\n"
     ]
    },
    {
     "name": "stdout",
     "output_type": "stream",
     "text": [
      "Accuracies: [0.60637606 0.         0.         0.7129506  0.         0.\n",
      " 0.87085515 0.         0.         0.         0.         0.\n",
      " 0.        ] \n",
      " Average acccuracy: 0.16847552356903991\n",
      "F1 Scores: [0.74203817 0.         0.         0.80421682 0.         0.\n",
      " 0.92664805 0.         0.         0.         0.         0.\n",
      " 0.        ] \n",
      " Average F1: 0.1902233102899926\n",
      "Working with: \n",
      "{'epochs': 50, 'learning_rate': 2e-06, 'dropout': 0.0, 'hidden_size': 64, 'num_layers': 1}\n",
      "\n",
      "\n",
      "-----------------------------------------Starting Training------------------------------------------\n"
     ]
    },
    {
     "name": "stderr",
     "output_type": "stream",
     "text": [
      "100%|██████████| 50/50 [03:49<00:00,  4.58s/it]\n"
     ]
    },
    {
     "name": "stdout",
     "output_type": "stream",
     "text": [
      "Accuracies: [0.46978558 0.         0.         0.69323671 0.         0.\n",
      " 0.7735369  0.         0.         0.         0.         0.\n",
      " 0.        ] \n",
      " Average acccuracy: 0.14896609120760604\n",
      "F1 Scores: [0.63693421 0.         0.         0.57804628 0.         0.\n",
      " 0.67781489 0.         0.         0.         0.         0.\n",
      " 0.        ] \n",
      " Average F1: 0.14559964457400956\n",
      "Working with: \n",
      "{'epochs': 50, 'learning_rate': 2e-06, 'dropout': 0.0, 'hidden_size': 128, 'num_layers': 1}\n",
      "\n",
      "\n",
      "-----------------------------------------Starting Training------------------------------------------\n"
     ]
    },
    {
     "name": "stderr",
     "output_type": "stream",
     "text": [
      "100%|██████████| 50/50 [06:01<00:00,  7.23s/it]\n"
     ]
    },
    {
     "name": "stdout",
     "output_type": "stream",
     "text": [
      "Accuracies: [0.54587156 0.         0.         0.67398119 0.         0.\n",
      " 0.86582809 0.         0.         0.         0.         0.\n",
      " 0.        ] \n",
      " Average acccuracy: 0.16043698793067573\n",
      "F1 Scores: [0.7002574  0.         0.         0.70665566 0.         0.\n",
      " 0.84199791 0.         0.         0.         0.         0.\n",
      " 0.        ] \n",
      " Average F1: 0.17299315180267716\n",
      "Working with: \n",
      "{'epochs': 50, 'learning_rate': 2e-06, 'dropout': 0.0, 'hidden_size': 256, 'num_layers': 1}\n",
      "\n",
      "\n",
      "-----------------------------------------Starting Training------------------------------------------\n"
     ]
    },
    {
     "name": "stderr",
     "output_type": "stream",
     "text": [
      "100%|██████████| 50/50 [11:57<00:00, 14.35s/it]\n"
     ]
    },
    {
     "name": "stdout",
     "output_type": "stream",
     "text": [
      "Accuracies: [0.57090909 0.         0.         0.69014085 0.         0.\n",
      " 0.88777555 0.         0.         0.         0.         0.\n",
      " 0.        ] \n",
      " Average acccuracy: 0.1652942682370552\n",
      "F1 Scores: [0.71771424 0.         0.         0.76027924 0.         0.\n",
      " 0.8833499  0.         0.         0.         0.         0.\n",
      " 0.        ] \n",
      " Average F1: 0.18164179812363632\n",
      "Working with: \n",
      "{'epochs': 50, 'learning_rate': 2e-06, 'dropout': 0.1, 'hidden_size': 64, 'num_layers': 1}\n",
      "\n",
      "\n",
      "-----------------------------------------Starting Training------------------------------------------\n"
     ]
    },
    {
     "name": "stderr",
     "output_type": "stream",
     "text": [
      "100%|██████████| 50/50 [03:46<00:00,  4.54s/it]\n"
     ]
    },
    {
     "name": "stdout",
     "output_type": "stream",
     "text": [
      "Accuracies: [0.43231247 0.         0.         0.         0.         0.\n",
      " 0.60561056 0.         0.         0.         0.         0.\n",
      " 0.        ] \n",
      " Average acccuracy: 0.07984023333194736\n",
      "F1 Scores: [0.6034696  0.         0.         0.         0.         0.\n",
      " 0.66126121 0.         0.         0.         0.         0.\n",
      " 0.        ] \n",
      " Average F1: 0.09728698538527439\n",
      "Working with: \n",
      "{'epochs': 50, 'learning_rate': 2e-06, 'dropout': 0.1, 'hidden_size': 128, 'num_layers': 1}\n",
      "\n",
      "\n",
      "-----------------------------------------Starting Training------------------------------------------\n"
     ]
    },
    {
     "name": "stderr",
     "output_type": "stream",
     "text": [
      "100%|██████████| 50/50 [06:09<00:00,  7.38s/it]\n"
     ]
    },
    {
     "name": "stdout",
     "output_type": "stream",
     "text": [
      "Accuracies: [0.49589322 0.         0.         0.65644172 0.         0.\n",
      " 0.75213675 0.         0.         0.         0.         0.\n",
      " 0.        ] \n",
      " Average acccuracy: 0.14649782259595884\n",
      "F1 Scores: [0.66096472 0.         0.         0.47292813 0.         0.\n",
      " 0.80808076 0.         0.         0.         0.         0.\n",
      " 0.        ] \n",
      " Average F1: 0.14938258511795782\n",
      "Working with: \n",
      "{'epochs': 50, 'learning_rate': 2e-06, 'dropout': 0.1, 'hidden_size': 256, 'num_layers': 1}\n",
      "\n",
      "\n",
      "-----------------------------------------Starting Training------------------------------------------\n"
     ]
    },
    {
     "name": "stderr",
     "output_type": "stream",
     "text": [
      "100%|██████████| 50/50 [12:03<00:00, 14.48s/it]\n"
     ]
    },
    {
     "name": "stdout",
     "output_type": "stream",
     "text": [
      "Accuracies: [0.57923833 0.         0.         0.68775791 0.         0.\n",
      " 0.87698413 0.         0.         0.         0.         0.\n",
      " 0.        ] \n",
      " Average acccuracy: 0.16492156657218554\n",
      "F1 Scores: [0.72454855 0.         0.         0.76569673 0.         0.\n",
      " 0.87698408 0.         0.         0.         0.         0.\n",
      " 0.        ] \n",
      " Average F1: 0.18209456632855886\n",
      "Working with: \n",
      "{'epochs': 50, 'learning_rate': 2e-06, 'dropout': 0.2, 'hidden_size': 64, 'num_layers': 1}\n",
      "\n",
      "\n",
      "-----------------------------------------Starting Training------------------------------------------\n"
     ]
    },
    {
     "name": "stderr",
     "output_type": "stream",
     "text": [
      "100%|██████████| 50/50 [03:45<00:00,  4.50s/it]\n"
     ]
    },
    {
     "name": "stdout",
     "output_type": "stream",
     "text": [
      "Accuracies: [0.43713384 0.         0.         0.68181818 0.         0.\n",
      " 0.76428571 0.         0.         0.         0.         0.\n",
      " 0.        ] \n",
      " Average acccuracy: 0.1448644415521387\n",
      "F1 Scores: [0.60738881 0.         0.         0.3754693  0.         0.\n",
      " 0.69480515 0.         0.         0.         0.         0.\n",
      " 0.        ] \n",
      " Average F1: 0.12905101949131464\n",
      "Working with: \n",
      "{'epochs': 50, 'learning_rate': 2e-06, 'dropout': 0.2, 'hidden_size': 128, 'num_layers': 1}\n",
      "\n",
      "\n",
      "-----------------------------------------Starting Training------------------------------------------\n"
     ]
    },
    {
     "name": "stderr",
     "output_type": "stream",
     "text": [
      "100%|██████████| 50/50 [06:03<00:00,  7.27s/it]\n"
     ]
    },
    {
     "name": "stdout",
     "output_type": "stream",
     "text": [
      "Accuracies: [0.54285714 0.         0.         0.62389381 0.         0.\n",
      " 0.84918794 0.         0.         0.         0.         0.\n",
      " 0.        ] \n",
      " Average acccuracy: 0.1550722217847446\n",
      "F1 Scores: [0.69724766 0.         0.         0.67303098 0.         0.\n",
      " 0.78288765 0.         0.         0.         0.         0.\n",
      " 0.        ] \n",
      " Average F1: 0.16562817596486568\n",
      "Working with: \n",
      "{'epochs': 50, 'learning_rate': 2e-06, 'dropout': 0.2, 'hidden_size': 256, 'num_layers': 1}\n",
      "\n",
      "\n",
      "-----------------------------------------Starting Training------------------------------------------\n"
     ]
    },
    {
     "name": "stderr",
     "output_type": "stream",
     "text": [
      "100%|██████████| 50/50 [12:15<00:00, 14.70s/it]\n"
     ]
    },
    {
     "name": "stdout",
     "output_type": "stream",
     "text": [
      "Accuracies: [0.46714628 0.         0.         0.         0.         0.\n",
      " 0.64470284 0.         0.         0.         0.         0.\n",
      " 0.        ] \n",
      " Average acccuracy: 0.08552685579622168\n",
      "F1 Scores: [0.63660126 0.         0.         0.         0.         0.\n",
      " 0.78090762 0.         0.         0.         0.         0.\n",
      " 0.        ] \n",
      " Average F1: 0.10903914492832653\n",
      "({'epochs': 50, 'learning_rate': 0.0002, 'dropout': 0.0, 'hidden_size': 256, 'num_layers': 1}, (0.3720838941292335, 0.3684026554099571))\n"
     ]
    }
   ],
   "source": [
    "parameter_configs = {\n",
    "    'epochs': [10, 30, 50],\n",
    "    'learning_rate': [2e-4, 2e-5, 2e-6],\n",
    "    'dropout': [0.0, 0.1, 0.2],\n",
    "    'hidden_size': [64, 128, 256],\n",
    "    'num_layers': [1]\n",
    "    }\n",
    "\n",
    "result = grid_search_train_test(parameter_configs)\n",
    "\n",
    "max_accuracy_config = max(result, key=get_accuracy_value)\n",
    "\n",
    "print(max_accuracy_config)"
   ]
  },
  {
   "cell_type": "code",
   "execution_count": 128,
   "metadata": {},
   "outputs": [],
   "source": [
    "model = BiLSTM(dropout=0.2, num_layers=1)\n",
    "model_opt = torch.optim.Adam(model.parameters(), lr= 2e-4)\n",
    "loss_function = nn.CrossEntropyLoss()"
   ]
  },
  {
   "cell_type": "code",
   "execution_count": 129,
   "metadata": {},
   "outputs": [
    {
     "name": "stdout",
     "output_type": "stream",
     "text": [
      "-----------------------------------------Starting Training------------------------------------------\n"
     ]
    },
    {
     "name": "stderr",
     "output_type": "stream",
     "text": [
      "  0%|          | 0/246 [00:00<?, ?it/s]"
     ]
    },
    {
     "name": "stderr",
     "output_type": "stream",
     "text": [
      "100%|██████████| 246/246 [00:21<00:00, 11.63it/s]\n"
     ]
    },
    {
     "name": "stdout",
     "output_type": "stream",
     "text": [
      "Epoch: 1 \t Loss: 2.21930\n"
     ]
    },
    {
     "name": "stderr",
     "output_type": "stream",
     "text": [
      "100%|██████████| 246/246 [00:14<00:00, 17.29it/s]\n"
     ]
    },
    {
     "name": "stdout",
     "output_type": "stream",
     "text": [
      "Epoch: 2 \t Loss: 2.18037\n"
     ]
    },
    {
     "name": "stderr",
     "output_type": "stream",
     "text": [
      "100%|██████████| 246/246 [00:17<00:00, 13.98it/s]\n"
     ]
    },
    {
     "name": "stdout",
     "output_type": "stream",
     "text": [
      "Epoch: 3 \t Loss: 2.03303\n"
     ]
    },
    {
     "name": "stderr",
     "output_type": "stream",
     "text": [
      "100%|██████████| 246/246 [00:12<00:00, 20.13it/s]\n"
     ]
    },
    {
     "name": "stdout",
     "output_type": "stream",
     "text": [
      "Epoch: 4 \t Loss: 2.06402\n"
     ]
    },
    {
     "name": "stderr",
     "output_type": "stream",
     "text": [
      "100%|██████████| 246/246 [00:13<00:00, 18.19it/s]\n"
     ]
    },
    {
     "name": "stdout",
     "output_type": "stream",
     "text": [
      "Epoch: 5 \t Loss: 2.08986\n"
     ]
    },
    {
     "name": "stderr",
     "output_type": "stream",
     "text": [
      "100%|██████████| 246/246 [00:12<00:00, 19.23it/s]\n"
     ]
    },
    {
     "name": "stdout",
     "output_type": "stream",
     "text": [
      "Epoch: 6 \t Loss: 2.06029\n"
     ]
    },
    {
     "name": "stderr",
     "output_type": "stream",
     "text": [
      "100%|██████████| 246/246 [00:12<00:00, 19.00it/s]\n"
     ]
    },
    {
     "name": "stdout",
     "output_type": "stream",
     "text": [
      "Epoch: 7 \t Loss: 1.91257\n"
     ]
    },
    {
     "name": "stderr",
     "output_type": "stream",
     "text": [
      "100%|██████████| 246/246 [00:12<00:00, 19.55it/s]\n"
     ]
    },
    {
     "name": "stdout",
     "output_type": "stream",
     "text": [
      "Epoch: 8 \t Loss: 2.04675\n"
     ]
    },
    {
     "name": "stderr",
     "output_type": "stream",
     "text": [
      "100%|██████████| 246/246 [00:12<00:00, 20.18it/s]\n"
     ]
    },
    {
     "name": "stdout",
     "output_type": "stream",
     "text": [
      "Epoch: 9 \t Loss: 2.02049\n"
     ]
    },
    {
     "name": "stderr",
     "output_type": "stream",
     "text": [
      "100%|██████████| 246/246 [00:12<00:00, 19.11it/s]\n"
     ]
    },
    {
     "name": "stdout",
     "output_type": "stream",
     "text": [
      "Epoch: 10 \t Loss: 1.92847\n"
     ]
    },
    {
     "name": "stderr",
     "output_type": "stream",
     "text": [
      "100%|██████████| 246/246 [00:12<00:00, 19.69it/s]\n"
     ]
    },
    {
     "name": "stdout",
     "output_type": "stream",
     "text": [
      "Epoch: 11 \t Loss: 1.97801\n"
     ]
    },
    {
     "name": "stderr",
     "output_type": "stream",
     "text": [
      "100%|██████████| 246/246 [00:12<00:00, 19.98it/s]\n"
     ]
    },
    {
     "name": "stdout",
     "output_type": "stream",
     "text": [
      "Epoch: 12 \t Loss: 2.02054\n"
     ]
    },
    {
     "name": "stderr",
     "output_type": "stream",
     "text": [
      "100%|██████████| 246/246 [00:13<00:00, 18.21it/s]\n"
     ]
    },
    {
     "name": "stdout",
     "output_type": "stream",
     "text": [
      "Epoch: 13 \t Loss: 1.98293\n"
     ]
    },
    {
     "name": "stderr",
     "output_type": "stream",
     "text": [
      "100%|██████████| 246/246 [00:12<00:00, 20.21it/s]\n"
     ]
    },
    {
     "name": "stdout",
     "output_type": "stream",
     "text": [
      "Epoch: 14 \t Loss: 1.96981\n"
     ]
    },
    {
     "name": "stderr",
     "output_type": "stream",
     "text": [
      "100%|██████████| 246/246 [00:14<00:00, 16.81it/s]\n"
     ]
    },
    {
     "name": "stdout",
     "output_type": "stream",
     "text": [
      "Epoch: 15 \t Loss: 1.98484\n"
     ]
    },
    {
     "name": "stderr",
     "output_type": "stream",
     "text": [
      "100%|██████████| 246/246 [00:11<00:00, 20.52it/s]\n"
     ]
    },
    {
     "name": "stdout",
     "output_type": "stream",
     "text": [
      "Epoch: 16 \t Loss: 1.95553\n"
     ]
    },
    {
     "name": "stderr",
     "output_type": "stream",
     "text": [
      "100%|██████████| 246/246 [00:13<00:00, 18.43it/s]\n"
     ]
    },
    {
     "name": "stdout",
     "output_type": "stream",
     "text": [
      "Epoch: 17 \t Loss: 1.88555\n"
     ]
    },
    {
     "name": "stderr",
     "output_type": "stream",
     "text": [
      "100%|██████████| 246/246 [00:15<00:00, 16.07it/s]\n"
     ]
    },
    {
     "name": "stdout",
     "output_type": "stream",
     "text": [
      "Epoch: 18 \t Loss: 1.90448\n"
     ]
    },
    {
     "name": "stderr",
     "output_type": "stream",
     "text": [
      "100%|██████████| 246/246 [00:15<00:00, 15.52it/s]\n"
     ]
    },
    {
     "name": "stdout",
     "output_type": "stream",
     "text": [
      "Epoch: 19 \t Loss: 2.03117\n"
     ]
    },
    {
     "name": "stderr",
     "output_type": "stream",
     "text": [
      "100%|██████████| 246/246 [00:14<00:00, 17.02it/s]\n"
     ]
    },
    {
     "name": "stdout",
     "output_type": "stream",
     "text": [
      "Epoch: 20 \t Loss: 1.88485\n"
     ]
    },
    {
     "name": "stderr",
     "output_type": "stream",
     "text": [
      " 34%|███▎      | 83/246 [00:06<00:12, 13.16it/s]\n"
     ]
    },
    {
     "ename": "KeyboardInterrupt",
     "evalue": "",
     "output_type": "error",
     "traceback": [
      "\u001b[0;31m---------------------------------------------------------------------------\u001b[0m",
      "\u001b[0;31mKeyboardInterrupt\u001b[0m                         Traceback (most recent call last)",
      "\u001b[0;32m/tmp/ipykernel_742/757120026.py\u001b[0m in \u001b[0;36m<module>\u001b[0;34m\u001b[0m\n\u001b[1;32m     17\u001b[0m         \u001b[0mmodel_opt\u001b[0m\u001b[0;34m.\u001b[0m\u001b[0mzero_grad\u001b[0m\u001b[0;34m(\u001b[0m\u001b[0;34m)\u001b[0m\u001b[0;34m\u001b[0m\u001b[0;34m\u001b[0m\u001b[0m\n\u001b[1;32m     18\u001b[0m         \u001b[0mloss\u001b[0m\u001b[0;34m.\u001b[0m\u001b[0mbackward\u001b[0m\u001b[0;34m(\u001b[0m\u001b[0;34m)\u001b[0m\u001b[0;34m\u001b[0m\u001b[0;34m\u001b[0m\u001b[0m\n\u001b[0;32m---> 19\u001b[0;31m         \u001b[0mmodel_opt\u001b[0m\u001b[0;34m.\u001b[0m\u001b[0mstep\u001b[0m\u001b[0;34m(\u001b[0m\u001b[0;34m)\u001b[0m\u001b[0;34m\u001b[0m\u001b[0;34m\u001b[0m\u001b[0m\n\u001b[0m\u001b[1;32m     20\u001b[0m \u001b[0;34m\u001b[0m\u001b[0m\n\u001b[1;32m     21\u001b[0m     \u001b[0mprint\u001b[0m\u001b[0;34m(\u001b[0m\u001b[0;34mf\"Epoch: {epoch+1} \\t Loss: {loss.item():.5f}\"\u001b[0m\u001b[0;34m)\u001b[0m\u001b[0;34m\u001b[0m\u001b[0;34m\u001b[0m\u001b[0m\n",
      "\u001b[0;32m~/.local/lib/python3.8/site-packages/torch/optim/optimizer.py\u001b[0m in \u001b[0;36mwrapper\u001b[0;34m(*args, **kwargs)\u001b[0m\n\u001b[1;32m    371\u001b[0m                             )\n\u001b[1;32m    372\u001b[0m \u001b[0;34m\u001b[0m\u001b[0m\n\u001b[0;32m--> 373\u001b[0;31m                 \u001b[0mout\u001b[0m \u001b[0;34m=\u001b[0m \u001b[0mfunc\u001b[0m\u001b[0;34m(\u001b[0m\u001b[0;34m*\u001b[0m\u001b[0margs\u001b[0m\u001b[0;34m,\u001b[0m \u001b[0;34m**\u001b[0m\u001b[0mkwargs\u001b[0m\u001b[0;34m)\u001b[0m\u001b[0;34m\u001b[0m\u001b[0;34m\u001b[0m\u001b[0m\n\u001b[0m\u001b[1;32m    374\u001b[0m                 \u001b[0mself\u001b[0m\u001b[0;34m.\u001b[0m\u001b[0m_optimizer_step_code\u001b[0m\u001b[0;34m(\u001b[0m\u001b[0;34m)\u001b[0m\u001b[0;34m\u001b[0m\u001b[0;34m\u001b[0m\u001b[0m\n\u001b[1;32m    375\u001b[0m \u001b[0;34m\u001b[0m\u001b[0m\n",
      "\u001b[0;32m~/.local/lib/python3.8/site-packages/torch/optim/optimizer.py\u001b[0m in \u001b[0;36m_use_grad\u001b[0;34m(self, *args, **kwargs)\u001b[0m\n\u001b[1;32m     74\u001b[0m             \u001b[0mtorch\u001b[0m\u001b[0;34m.\u001b[0m\u001b[0mset_grad_enabled\u001b[0m\u001b[0;34m(\u001b[0m\u001b[0mself\u001b[0m\u001b[0;34m.\u001b[0m\u001b[0mdefaults\u001b[0m\u001b[0;34m[\u001b[0m\u001b[0;34m'differentiable'\u001b[0m\u001b[0;34m]\u001b[0m\u001b[0;34m)\u001b[0m\u001b[0;34m\u001b[0m\u001b[0;34m\u001b[0m\u001b[0m\n\u001b[1;32m     75\u001b[0m             \u001b[0mtorch\u001b[0m\u001b[0;34m.\u001b[0m\u001b[0m_dynamo\u001b[0m\u001b[0;34m.\u001b[0m\u001b[0mgraph_break\u001b[0m\u001b[0;34m(\u001b[0m\u001b[0;34m)\u001b[0m\u001b[0;34m\u001b[0m\u001b[0;34m\u001b[0m\u001b[0m\n\u001b[0;32m---> 76\u001b[0;31m             \u001b[0mret\u001b[0m \u001b[0;34m=\u001b[0m \u001b[0mfunc\u001b[0m\u001b[0;34m(\u001b[0m\u001b[0mself\u001b[0m\u001b[0;34m,\u001b[0m \u001b[0;34m*\u001b[0m\u001b[0margs\u001b[0m\u001b[0;34m,\u001b[0m \u001b[0;34m**\u001b[0m\u001b[0mkwargs\u001b[0m\u001b[0;34m)\u001b[0m\u001b[0;34m\u001b[0m\u001b[0;34m\u001b[0m\u001b[0m\n\u001b[0m\u001b[1;32m     77\u001b[0m         \u001b[0;32mfinally\u001b[0m\u001b[0;34m:\u001b[0m\u001b[0;34m\u001b[0m\u001b[0;34m\u001b[0m\u001b[0m\n\u001b[1;32m     78\u001b[0m             \u001b[0mtorch\u001b[0m\u001b[0;34m.\u001b[0m\u001b[0m_dynamo\u001b[0m\u001b[0;34m.\u001b[0m\u001b[0mgraph_break\u001b[0m\u001b[0;34m(\u001b[0m\u001b[0;34m)\u001b[0m\u001b[0;34m\u001b[0m\u001b[0;34m\u001b[0m\u001b[0m\n",
      "\u001b[0;32m~/.local/lib/python3.8/site-packages/torch/optim/adam.py\u001b[0m in \u001b[0;36mstep\u001b[0;34m(self, closure)\u001b[0m\n\u001b[1;32m    161\u001b[0m                 state_steps)\n\u001b[1;32m    162\u001b[0m \u001b[0;34m\u001b[0m\u001b[0m\n\u001b[0;32m--> 163\u001b[0;31m             adam(\n\u001b[0m\u001b[1;32m    164\u001b[0m                 \u001b[0mparams_with_grad\u001b[0m\u001b[0;34m,\u001b[0m\u001b[0;34m\u001b[0m\u001b[0;34m\u001b[0m\u001b[0m\n\u001b[1;32m    165\u001b[0m                 \u001b[0mgrads\u001b[0m\u001b[0;34m,\u001b[0m\u001b[0;34m\u001b[0m\u001b[0;34m\u001b[0m\u001b[0m\n",
      "\u001b[0;32m~/.local/lib/python3.8/site-packages/torch/optim/adam.py\u001b[0m in \u001b[0;36madam\u001b[0;34m(params, grads, exp_avgs, exp_avg_sqs, max_exp_avg_sqs, state_steps, foreach, capturable, differentiable, fused, grad_scale, found_inf, amsgrad, beta1, beta2, lr, weight_decay, eps, maximize)\u001b[0m\n\u001b[1;32m    309\u001b[0m         \u001b[0mfunc\u001b[0m \u001b[0;34m=\u001b[0m \u001b[0m_single_tensor_adam\u001b[0m\u001b[0;34m\u001b[0m\u001b[0;34m\u001b[0m\u001b[0m\n\u001b[1;32m    310\u001b[0m \u001b[0;34m\u001b[0m\u001b[0m\n\u001b[0;32m--> 311\u001b[0;31m     func(params,\n\u001b[0m\u001b[1;32m    312\u001b[0m          \u001b[0mgrads\u001b[0m\u001b[0;34m,\u001b[0m\u001b[0;34m\u001b[0m\u001b[0;34m\u001b[0m\u001b[0m\n\u001b[1;32m    313\u001b[0m          \u001b[0mexp_avgs\u001b[0m\u001b[0;34m,\u001b[0m\u001b[0;34m\u001b[0m\u001b[0;34m\u001b[0m\u001b[0m\n",
      "\u001b[0;32m~/.local/lib/python3.8/site-packages/torch/optim/adam.py\u001b[0m in \u001b[0;36m_single_tensor_adam\u001b[0;34m(params, grads, exp_avgs, exp_avg_sqs, max_exp_avg_sqs, state_steps, grad_scale, found_inf, amsgrad, beta1, beta2, lr, weight_decay, eps, maximize, capturable, differentiable)\u001b[0m\n\u001b[1;32m    430\u001b[0m                 \u001b[0mdenom\u001b[0m \u001b[0;34m=\u001b[0m \u001b[0;34m(\u001b[0m\u001b[0mmax_exp_avg_sqs\u001b[0m\u001b[0;34m[\u001b[0m\u001b[0mi\u001b[0m\u001b[0;34m]\u001b[0m\u001b[0;34m.\u001b[0m\u001b[0msqrt\u001b[0m\u001b[0;34m(\u001b[0m\u001b[0;34m)\u001b[0m \u001b[0;34m/\u001b[0m \u001b[0mbias_correction2_sqrt\u001b[0m\u001b[0;34m)\u001b[0m\u001b[0;34m.\u001b[0m\u001b[0madd_\u001b[0m\u001b[0;34m(\u001b[0m\u001b[0meps\u001b[0m\u001b[0;34m)\u001b[0m\u001b[0;34m\u001b[0m\u001b[0;34m\u001b[0m\u001b[0m\n\u001b[1;32m    431\u001b[0m             \u001b[0;32melse\u001b[0m\u001b[0;34m:\u001b[0m\u001b[0;34m\u001b[0m\u001b[0;34m\u001b[0m\u001b[0m\n\u001b[0;32m--> 432\u001b[0;31m                 \u001b[0mdenom\u001b[0m \u001b[0;34m=\u001b[0m \u001b[0;34m(\u001b[0m\u001b[0mexp_avg_sq\u001b[0m\u001b[0;34m.\u001b[0m\u001b[0msqrt\u001b[0m\u001b[0;34m(\u001b[0m\u001b[0;34m)\u001b[0m \u001b[0;34m/\u001b[0m \u001b[0mbias_correction2_sqrt\u001b[0m\u001b[0;34m)\u001b[0m\u001b[0;34m.\u001b[0m\u001b[0madd_\u001b[0m\u001b[0;34m(\u001b[0m\u001b[0meps\u001b[0m\u001b[0;34m)\u001b[0m\u001b[0;34m\u001b[0m\u001b[0;34m\u001b[0m\u001b[0m\n\u001b[0m\u001b[1;32m    433\u001b[0m \u001b[0;34m\u001b[0m\u001b[0m\n\u001b[1;32m    434\u001b[0m             \u001b[0mparam\u001b[0m\u001b[0;34m.\u001b[0m\u001b[0maddcdiv_\u001b[0m\u001b[0;34m(\u001b[0m\u001b[0mexp_avg\u001b[0m\u001b[0;34m,\u001b[0m \u001b[0mdenom\u001b[0m\u001b[0;34m,\u001b[0m \u001b[0mvalue\u001b[0m\u001b[0;34m=\u001b[0m\u001b[0;34m-\u001b[0m\u001b[0mstep_size\u001b[0m\u001b[0;34m)\u001b[0m\u001b[0;34m\u001b[0m\u001b[0;34m\u001b[0m\u001b[0m\n",
      "\u001b[0;31mKeyboardInterrupt\u001b[0m: "
     ]
    }
   ],
   "source": [
    "batch_loss, batch_acc = [], []\n",
    "# batch_counter = 0\n",
    "# random_doc_indexes = random.sample([i for i in range(len(batched_texts))],k=10)\n",
    "# print(random_doc_indexes)\n",
    "print(f'{\"Starting Training\":-^100}')\n",
    "model.train()\n",
    "for epoch in range(50):\n",
    "    # print(f\"Epoch {epoch}\")\n",
    "    for idx in tqdm(range(246)):\n",
    "        TRAIN_emb = load_tensor(filepath=f\"../train_document/doc_{idx}/embedding\")\n",
    "        TRAIN_labels = load_tensor(filepath=f\"../train_document/doc_{idx}/label\")\n",
    "        if TRAIN_emb.size(0) == 0:\n",
    "            continue\n",
    "        output = model(TRAIN_emb)\n",
    "        loss = loss_function(output,TRAIN_labels)\n",
    "        \n",
    "        model_opt.zero_grad()\n",
    "        loss.backward()\n",
    "        model_opt.step()\n",
    "        \n",
    "    print(f\"Epoch: {epoch+1} \\t Loss: {loss.item():.5f}\")\n",
    "    batch_loss.append(loss.item())\n",
    "\n",
    "    # # batch_counter += 1\n",
    "    # # print(f\"{f'BATCH NUMBER {batch_counter}':-^100}\")\n",
    "    #     TRAIN_emb = load_tensor(filepath=f\"../train_document/doc_{idx}/embedding\")\n",
    "    #     TRAIN_labels = load_tensor(filepath=f\"../train_document/doc_{idx}/label\")\n",
    "    #     if TRAIN_emb.size(0) == 0:\n",
    "    #         continue\n",
    "    #     # TRAIN_emb, TRAIN_labels = get_model_data_batched(doc_idxs[idx],batched_texts[idx],batched_labels[idx],label_encoder,max_lens_train)\n",
    "    #     loss, acc = train(TRAIN_emb,TRAIN_labels,model,model_opt,loss_function,1)\n",
    "    #     batch_loss.append(loss)\n",
    "    #     batch_acc.append(acc)\n",
    "    #     del TRAIN_emb, TRAIN_labels"
   ]
  },
  {
   "cell_type": "code",
   "execution_count": null,
   "metadata": {},
   "outputs": [
    {
     "name": "stdout",
     "output_type": "stream",
     "text": [
      "Model parameters saved to '../models/BiLSTM.pth'\n"
     ]
    }
   ],
   "source": [
    "# save_model(model, \"../models/BiLSTM.pth\")"
   ]
  },
  {
   "cell_type": "code",
   "execution_count": 130,
   "metadata": {},
   "outputs": [
    {
     "name": "stdout",
     "output_type": "stream",
     "text": [
      "Accuracies: [0.66183575 0.         0.         0.80314961 0.         0.95973154\n",
      " 0.98043053 0.         0.         0.         0.         0.71304348\n",
      " 0.        ] \n",
      " Average acccuracy: 0.31678391579632675\n",
      "F1 Scores: [0.79125408 0.         0.         0.84019764 0.         0.84365777\n",
      " 0.98719207 0.         0.         0.         0.         0.80788172\n",
      " 0.        ] \n",
      " Average F1: 0.3284756368974551\n"
     ]
    }
   ],
   "source": [
    "cm = None\n",
    "for i in range(29):\n",
    "    TEST_emb = load_tensor(filepath=f\"../test_document/doc_{i}/embedding\")\n",
    "    TEST_labels = load_tensor(filepath=f\"../test_document/doc_{i}/label\")\n",
    "    conf_matrix_helper = calculate_confusion_matrix(TEST_emb, TEST_labels, model)\n",
    "    if cm is None:\n",
    "        cm = conf_matrix_helper\n",
    "    else:\n",
    "        cm = np.add(cm, conf_matrix_helper)\n",
    "        \n",
    "accuracies = class_accuracy(cm)\n",
    "f1_scores = class_f1_score(cm)\n",
    "average_accuracy = np.mean(accuracies)\n",
    "average_f1 = np.mean(f1_scores)\n",
    "\n",
    "print(\"Accuracies: {} \\n Average acccuracy: {}\".format(accuracies, average_accuracy))\n",
    "print(\"F1 Scores: {} \\n Average F1: {}\".format(f1_scores, average_f1))"
   ]
  },
  {
   "cell_type": "code",
   "execution_count": null,
   "metadata": {},
   "outputs": [],
   "source": [
    "import seaborn as sns"
   ]
  },
  {
   "cell_type": "code",
   "execution_count": null,
   "metadata": {},
   "outputs": [
    {
     "ename": "NameError",
     "evalue": "name 'accs_plot' is not defined",
     "output_type": "error",
     "traceback": [
      "\u001b[0;31m---------------------------------------------------------------------------\u001b[0m",
      "\u001b[0;31mNameError\u001b[0m                                 Traceback (most recent call last)",
      "Cell \u001b[0;32mIn[22], line 1\u001b[0m\n\u001b[0;32m----> 1\u001b[0m sns\u001b[38;5;241m.\u001b[39mlineplot(x\u001b[38;5;241m=\u001b[39m \u001b[38;5;28mrange\u001b[39m(\u001b[38;5;28mlen\u001b[39m(\u001b[43maccs_plot\u001b[49m)), y\u001b[38;5;241m=\u001b[39m accs_plot)\n",
      "\u001b[0;31mNameError\u001b[0m: name 'accs_plot' is not defined"
     ]
    }
   ],
   "source": [
    "sns.lineplot(x= range(len(accs_plot)), y= accs_plot);"
   ]
  },
  {
   "cell_type": "code",
   "execution_count": null,
   "metadata": {},
   "outputs": [
    {
     "data": {
      "image/png": "[encoded data removed]",
      "text/plain": [
       "<Figure size 432x288 with 1 Axes>"
      ]
     },
     "metadata": {
      "needs_background": "light"
     },
     "output_type": "display_data"
    }
   ],
   "source": [
    "sns.lineplot(x= range(len(batch_loss)), y= batch_loss);"
   ]
  },
  {
   "cell_type": "markdown",
   "metadata": {},
   "source": [
    "# -------------------------------------------------"
   ]
  },
  {
   "cell_type": "markdown",
   "metadata": {},
   "source": [
    "# Saving document embeddings"
   ]
  },
  {
   "cell_type": "code",
   "execution_count": null,
   "metadata": {},
   "outputs": [],
   "source": [
    "doc_idxs, batched_texts, batched_labels = get_batched_data(TRAIN_data, batch_size= 1)"
   ]
  },
  {
   "cell_type": "code",
   "execution_count": null,
   "metadata": {},
   "outputs": [
    {
     "name": "stdout",
     "output_type": "stream",
     "text": [
      "X_train size: torch.Size([91, 1, 768])\tY_train size: torch.Size([91])\n",
      "Tensor saved to '../train_document/doc_0/embedding'\n",
      "Tensor saved to '../train_document/doc_0/label'\n",
      "X_train size: torch.Size([72, 1, 768])\tY_train size: torch.Size([72])\n",
      "Tensor saved to '../train_document/doc_1/embedding'\n",
      "Tensor saved to '../train_document/doc_1/label'\n",
      "X_train size: torch.Size([200, 1, 768])\tY_train size: torch.Size([200])\n",
      "Tensor saved to '../train_document/doc_2/embedding'\n",
      "Tensor saved to '../train_document/doc_2/label'\n",
      "X_train size: torch.Size([119, 1, 768])\tY_train size: torch.Size([119])\n",
      "Tensor saved to '../train_document/doc_3/embedding'\n",
      "Tensor saved to '../train_document/doc_3/label'\n",
      "X_train size: torch.Size([184, 1, 768])\tY_train size: torch.Size([184])\n",
      "Tensor saved to '../train_document/doc_4/embedding'\n",
      "Tensor saved to '../train_document/doc_4/label'\n",
      "X_train size: torch.Size([211, 1, 768])\tY_train size: torch.Size([211])\n",
      "Tensor saved to '../train_document/doc_5/embedding'\n",
      "Tensor saved to '../train_document/doc_5/label'\n",
      "X_train size: torch.Size([140, 1, 768])\tY_train size: torch.Size([140])\n",
      "Tensor saved to '../train_document/doc_6/embedding'\n",
      "Tensor saved to '../train_document/doc_6/label'\n",
      "X_train size: torch.Size([87, 1, 768])\tY_train size: torch.Size([87])\n",
      "Tensor saved to '../train_document/doc_7/embedding'\n",
      "Tensor saved to '../train_document/doc_7/label'\n",
      "X_train size: torch.Size([228, 1, 768])\tY_train size: torch.Size([228])\n",
      "Tensor saved to '../train_document/doc_8/embedding'\n",
      "Tensor saved to '../train_document/doc_8/label'\n",
      "X_train size: torch.Size([99, 1, 768])\tY_train size: torch.Size([99])\n",
      "Tensor saved to '../train_document/doc_9/embedding'\n",
      "Tensor saved to '../train_document/doc_9/label'\n",
      "X_train size: torch.Size([62, 1, 768])\tY_train size: torch.Size([62])\n",
      "Tensor saved to '../train_document/doc_10/embedding'\n",
      "Tensor saved to '../train_document/doc_10/label'\n",
      "X_train size: torch.Size([213, 1, 768])\tY_train size: torch.Size([213])\n",
      "Tensor saved to '../train_document/doc_11/embedding'\n",
      "Tensor saved to '../train_document/doc_11/label'\n",
      "X_train size: torch.Size([111, 1, 768])\tY_train size: torch.Size([111])\n",
      "Tensor saved to '../train_document/doc_12/embedding'\n",
      "Tensor saved to '../train_document/doc_12/label'\n",
      "X_train size: torch.Size([199, 1, 768])\tY_train size: torch.Size([199])\n",
      "Tensor saved to '../train_document/doc_13/embedding'\n",
      "Tensor saved to '../train_document/doc_13/label'\n",
      "X_train size: torch.Size([188, 1, 768])\tY_train size: torch.Size([188])\n",
      "Tensor saved to '../train_document/doc_14/embedding'\n",
      "Tensor saved to '../train_document/doc_14/label'\n",
      "X_train size: torch.Size([271, 1, 768])\tY_train size: torch.Size([271])\n",
      "Tensor saved to '../train_document/doc_15/embedding'\n",
      "Tensor saved to '../train_document/doc_15/label'\n",
      "X_train size: torch.Size([43, 1, 768])\tY_train size: torch.Size([43])\n",
      "Tensor saved to '../train_document/doc_16/embedding'\n",
      "Tensor saved to '../train_document/doc_16/label'\n",
      "X_train size: torch.Size([82, 1, 768])\tY_train size: torch.Size([82])\n",
      "Tensor saved to '../train_document/doc_17/embedding'\n",
      "Tensor saved to '../train_document/doc_17/label'\n",
      "X_train size: torch.Size([171, 1, 768])\tY_train size: torch.Size([171])\n",
      "Tensor saved to '../train_document/doc_18/embedding'\n",
      "Tensor saved to '../train_document/doc_18/label'\n",
      "X_train size: torch.Size([149, 1, 768])\tY_train size: torch.Size([149])\n",
      "Tensor saved to '../train_document/doc_19/embedding'\n",
      "Tensor saved to '../train_document/doc_19/label'\n",
      "X_train size: torch.Size([95, 1, 768])\tY_train size: torch.Size([95])\n",
      "Tensor saved to '../train_document/doc_20/embedding'\n",
      "Tensor saved to '../train_document/doc_20/label'\n",
      "X_train size: torch.Size([56, 1, 768])\tY_train size: torch.Size([56])\n",
      "Tensor saved to '../train_document/doc_21/embedding'\n",
      "Tensor saved to '../train_document/doc_21/label'\n",
      "X_train size: torch.Size([47, 1, 768])\tY_train size: torch.Size([47])\n",
      "Tensor saved to '../train_document/doc_22/embedding'\n",
      "Tensor saved to '../train_document/doc_22/label'\n",
      "X_train size: torch.Size([116, 1, 768])\tY_train size: torch.Size([116])\n",
      "Tensor saved to '../train_document/doc_23/embedding'\n",
      "Tensor saved to '../train_document/doc_23/label'\n",
      "X_train size: torch.Size([111, 1, 768])\tY_train size: torch.Size([111])\n",
      "Tensor saved to '../train_document/doc_24/embedding'\n",
      "Tensor saved to '../train_document/doc_24/label'\n",
      "X_train size: torch.Size([45, 1, 768])\tY_train size: torch.Size([45])\n",
      "Tensor saved to '../train_document/doc_25/embedding'\n",
      "Tensor saved to '../train_document/doc_25/label'\n",
      "X_train size: torch.Size([109, 1, 768])\tY_train size: torch.Size([109])\n",
      "Tensor saved to '../train_document/doc_26/embedding'\n",
      "Tensor saved to '../train_document/doc_26/label'\n",
      "X_train size: torch.Size([155, 1, 768])\tY_train size: torch.Size([155])\n",
      "Tensor saved to '../train_document/doc_27/embedding'\n",
      "Tensor saved to '../train_document/doc_27/label'\n",
      "X_train size: torch.Size([198, 1, 768])\tY_train size: torch.Size([198])\n",
      "Tensor saved to '../train_document/doc_28/embedding'\n",
      "Tensor saved to '../train_document/doc_28/label'\n",
      "X_train size: torch.Size([153, 1, 768])\tY_train size: torch.Size([153])\n",
      "Tensor saved to '../train_document/doc_29/embedding'\n",
      "Tensor saved to '../train_document/doc_29/label'\n",
      "X_train size: torch.Size([50, 1, 768])\tY_train size: torch.Size([50])\n",
      "Tensor saved to '../train_document/doc_30/embedding'\n",
      "Tensor saved to '../train_document/doc_30/label'\n",
      "X_train size: torch.Size([44, 1, 768])\tY_train size: torch.Size([44])\n",
      "Tensor saved to '../train_document/doc_31/embedding'\n",
      "Tensor saved to '../train_document/doc_31/label'\n",
      "X_train size: torch.Size([264, 1, 768])\tY_train size: torch.Size([264])\n",
      "Tensor saved to '../train_document/doc_32/embedding'\n",
      "Tensor saved to '../train_document/doc_32/label'\n",
      "X_train size: torch.Size([114, 1, 768])\tY_train size: torch.Size([114])\n",
      "Tensor saved to '../train_document/doc_33/embedding'\n",
      "Tensor saved to '../train_document/doc_33/label'\n",
      "X_train size: torch.Size([54, 1, 768])\tY_train size: torch.Size([54])\n",
      "Tensor saved to '../train_document/doc_34/embedding'\n",
      "Tensor saved to '../train_document/doc_34/label'\n",
      "X_train size: torch.Size([243, 1, 768])\tY_train size: torch.Size([243])\n",
      "Tensor saved to '../train_document/doc_35/embedding'\n",
      "Tensor saved to '../train_document/doc_35/label'\n",
      "X_train size: torch.Size([107, 1, 768])\tY_train size: torch.Size([107])\n",
      "Tensor saved to '../train_document/doc_36/embedding'\n",
      "Tensor saved to '../train_document/doc_36/label'\n",
      "X_train size: torch.Size([127, 1, 768])\tY_train size: torch.Size([127])\n",
      "Tensor saved to '../train_document/doc_37/embedding'\n",
      "Tensor saved to '../train_document/doc_37/label'\n",
      "X_train size: torch.Size([188, 1, 768])\tY_train size: torch.Size([188])\n",
      "Tensor saved to '../train_document/doc_38/embedding'\n",
      "Tensor saved to '../train_document/doc_38/label'\n",
      "X_train size: torch.Size([189, 1, 768])\tY_train size: torch.Size([189])\n",
      "Tensor saved to '../train_document/doc_39/embedding'\n",
      "Tensor saved to '../train_document/doc_39/label'\n",
      "X_train size: torch.Size([157, 1, 768])\tY_train size: torch.Size([157])\n",
      "Tensor saved to '../train_document/doc_40/embedding'\n",
      "Tensor saved to '../train_document/doc_40/label'\n",
      "X_train size: torch.Size([62, 1, 768])\tY_train size: torch.Size([62])\n",
      "Tensor saved to '../train_document/doc_41/embedding'\n",
      "Tensor saved to '../train_document/doc_41/label'\n",
      "X_train size: torch.Size([120, 1, 768])\tY_train size: torch.Size([120])\n",
      "Tensor saved to '../train_document/doc_42/embedding'\n",
      "Tensor saved to '../train_document/doc_42/label'\n",
      "X_train size: torch.Size([142, 1, 768])\tY_train size: torch.Size([142])\n",
      "Tensor saved to '../train_document/doc_43/embedding'\n",
      "Tensor saved to '../train_document/doc_43/label'\n",
      "X_train size: torch.Size([75, 1, 768])\tY_train size: torch.Size([75])\n",
      "Tensor saved to '../train_document/doc_44/embedding'\n",
      "Tensor saved to '../train_document/doc_44/label'\n",
      "X_train size: torch.Size([146, 1, 768])\tY_train size: torch.Size([146])\n",
      "Tensor saved to '../train_document/doc_45/embedding'\n",
      "Tensor saved to '../train_document/doc_45/label'\n",
      "X_train size: torch.Size([185, 1, 768])\tY_train size: torch.Size([185])\n",
      "Tensor saved to '../train_document/doc_46/embedding'\n",
      "Tensor saved to '../train_document/doc_46/label'\n",
      "X_train size: torch.Size([53, 1, 768])\tY_train size: torch.Size([53])\n",
      "Tensor saved to '../train_document/doc_47/embedding'\n",
      "Tensor saved to '../train_document/doc_47/label'\n",
      "X_train size: torch.Size([73, 1, 768])\tY_train size: torch.Size([73])\n",
      "Tensor saved to '../train_document/doc_48/embedding'\n",
      "Tensor saved to '../train_document/doc_48/label'\n",
      "X_train size: torch.Size([79, 1, 768])\tY_train size: torch.Size([79])\n",
      "Tensor saved to '../train_document/doc_49/embedding'\n",
      "Tensor saved to '../train_document/doc_49/label'\n",
      "X_train size: torch.Size([187, 1, 768])\tY_train size: torch.Size([187])\n",
      "Tensor saved to '../train_document/doc_50/embedding'\n",
      "Tensor saved to '../train_document/doc_50/label'\n",
      "X_train size: torch.Size([82, 1, 768])\tY_train size: torch.Size([82])\n",
      "Tensor saved to '../train_document/doc_51/embedding'\n",
      "Tensor saved to '../train_document/doc_51/label'\n",
      "X_train size: torch.Size([88, 1, 768])\tY_train size: torch.Size([88])\n",
      "Tensor saved to '../train_document/doc_52/embedding'\n",
      "Tensor saved to '../train_document/doc_52/label'\n",
      "X_train size: torch.Size([59, 1, 768])\tY_train size: torch.Size([59])\n",
      "Tensor saved to '../train_document/doc_53/embedding'\n",
      "Tensor saved to '../train_document/doc_53/label'\n",
      "X_train size: torch.Size([59, 1, 768])\tY_train size: torch.Size([59])\n",
      "Tensor saved to '../train_document/doc_54/embedding'\n",
      "Tensor saved to '../train_document/doc_54/label'\n",
      "X_train size: torch.Size([110, 1, 768])\tY_train size: torch.Size([110])\n",
      "Tensor saved to '../train_document/doc_55/embedding'\n",
      "Tensor saved to '../train_document/doc_55/label'\n",
      "X_train size: torch.Size([141, 1, 768])\tY_train size: torch.Size([141])\n",
      "Tensor saved to '../train_document/doc_56/embedding'\n",
      "Tensor saved to '../train_document/doc_56/label'\n",
      "X_train size: torch.Size([31, 1, 768])\tY_train size: torch.Size([31])\n",
      "Tensor saved to '../train_document/doc_57/embedding'\n",
      "Tensor saved to '../train_document/doc_57/label'\n",
      "X_train size: torch.Size([54, 1, 768])\tY_train size: torch.Size([54])\n",
      "Tensor saved to '../train_document/doc_58/embedding'\n",
      "Tensor saved to '../train_document/doc_58/label'\n",
      "X_train size: torch.Size([54, 1, 768])\tY_train size: torch.Size([54])\n",
      "Tensor saved to '../train_document/doc_59/embedding'\n",
      "Tensor saved to '../train_document/doc_59/label'\n",
      "X_train size: torch.Size([31, 1, 768])\tY_train size: torch.Size([31])\n",
      "Tensor saved to '../train_document/doc_60/embedding'\n",
      "Tensor saved to '../train_document/doc_60/label'\n",
      "X_train size: torch.Size([39, 1, 768])\tY_train size: torch.Size([39])\n",
      "Tensor saved to '../train_document/doc_61/embedding'\n",
      "Tensor saved to '../train_document/doc_61/label'\n",
      "X_train size: torch.Size([208, 1, 768])\tY_train size: torch.Size([208])\n",
      "Tensor saved to '../train_document/doc_62/embedding'\n",
      "Tensor saved to '../train_document/doc_62/label'\n",
      "X_train size: torch.Size([115, 1, 768])\tY_train size: torch.Size([115])\n",
      "Tensor saved to '../train_document/doc_63/embedding'\n",
      "Tensor saved to '../train_document/doc_63/label'\n",
      "X_train size: torch.Size([155, 1, 768])\tY_train size: torch.Size([155])\n",
      "Tensor saved to '../train_document/doc_64/embedding'\n",
      "Tensor saved to '../train_document/doc_64/label'\n",
      "X_train size: torch.Size([123, 1, 768])\tY_train size: torch.Size([123])\n",
      "Tensor saved to '../train_document/doc_65/embedding'\n",
      "Tensor saved to '../train_document/doc_65/label'\n",
      "X_train size: torch.Size([52, 1, 768])\tY_train size: torch.Size([52])\n",
      "Tensor saved to '../train_document/doc_66/embedding'\n",
      "Tensor saved to '../train_document/doc_66/label'\n",
      "X_train size: torch.Size([143, 1, 768])\tY_train size: torch.Size([143])\n",
      "Tensor saved to '../train_document/doc_67/embedding'\n",
      "Tensor saved to '../train_document/doc_67/label'\n",
      "X_train size: torch.Size([142, 1, 768])\tY_train size: torch.Size([142])\n",
      "Tensor saved to '../train_document/doc_68/embedding'\n",
      "Tensor saved to '../train_document/doc_68/label'\n",
      "X_train size: torch.Size([0, 1, 768])\tY_train size: torch.Size([0])\n",
      "Tensor saved to '../train_document/doc_69/embedding'\n",
      "Tensor saved to '../train_document/doc_69/label'\n",
      "X_train size: torch.Size([77, 1, 768])\tY_train size: torch.Size([77])\n",
      "Tensor saved to '../train_document/doc_70/embedding'\n",
      "Tensor saved to '../train_document/doc_70/label'\n",
      "X_train size: torch.Size([116, 1, 768])\tY_train size: torch.Size([116])\n",
      "Tensor saved to '../train_document/doc_71/embedding'\n",
      "Tensor saved to '../train_document/doc_71/label'\n",
      "X_train size: torch.Size([87, 1, 768])\tY_train size: torch.Size([87])\n",
      "Tensor saved to '../train_document/doc_72/embedding'\n",
      "Tensor saved to '../train_document/doc_72/label'\n",
      "X_train size: torch.Size([122, 1, 768])\tY_train size: torch.Size([122])\n",
      "Tensor saved to '../train_document/doc_73/embedding'\n",
      "Tensor saved to '../train_document/doc_73/label'\n",
      "X_train size: torch.Size([111, 1, 768])\tY_train size: torch.Size([111])\n",
      "Tensor saved to '../train_document/doc_74/embedding'\n",
      "Tensor saved to '../train_document/doc_74/label'\n",
      "X_train size: torch.Size([95, 1, 768])\tY_train size: torch.Size([95])\n",
      "Tensor saved to '../train_document/doc_75/embedding'\n",
      "Tensor saved to '../train_document/doc_75/label'\n",
      "X_train size: torch.Size([184, 1, 768])\tY_train size: torch.Size([184])\n",
      "Tensor saved to '../train_document/doc_76/embedding'\n",
      "Tensor saved to '../train_document/doc_76/label'\n",
      "X_train size: torch.Size([144, 1, 768])\tY_train size: torch.Size([144])\n",
      "Tensor saved to '../train_document/doc_77/embedding'\n",
      "Tensor saved to '../train_document/doc_77/label'\n",
      "X_train size: torch.Size([35, 1, 768])\tY_train size: torch.Size([35])\n",
      "Tensor saved to '../train_document/doc_78/embedding'\n",
      "Tensor saved to '../train_document/doc_78/label'\n",
      "X_train size: torch.Size([140, 1, 768])\tY_train size: torch.Size([140])\n",
      "Tensor saved to '../train_document/doc_79/embedding'\n",
      "Tensor saved to '../train_document/doc_79/label'\n",
      "X_train size: torch.Size([73, 1, 768])\tY_train size: torch.Size([73])\n",
      "Tensor saved to '../train_document/doc_80/embedding'\n",
      "Tensor saved to '../train_document/doc_80/label'\n",
      "X_train size: torch.Size([137, 1, 768])\tY_train size: torch.Size([137])\n",
      "Tensor saved to '../train_document/doc_81/embedding'\n",
      "Tensor saved to '../train_document/doc_81/label'\n",
      "X_train size: torch.Size([24, 1, 768])\tY_train size: torch.Size([24])\n",
      "Tensor saved to '../train_document/doc_82/embedding'\n",
      "Tensor saved to '../train_document/doc_82/label'\n",
      "X_train size: torch.Size([113, 1, 768])\tY_train size: torch.Size([113])\n",
      "Tensor saved to '../train_document/doc_83/embedding'\n",
      "Tensor saved to '../train_document/doc_83/label'\n",
      "X_train size: torch.Size([105, 1, 768])\tY_train size: torch.Size([105])\n",
      "Tensor saved to '../train_document/doc_84/embedding'\n",
      "Tensor saved to '../train_document/doc_84/label'\n",
      "X_train size: torch.Size([80, 1, 768])\tY_train size: torch.Size([80])\n",
      "Tensor saved to '../train_document/doc_85/embedding'\n",
      "Tensor saved to '../train_document/doc_85/label'\n",
      "X_train size: torch.Size([106, 1, 768])\tY_train size: torch.Size([106])\n",
      "Tensor saved to '../train_document/doc_86/embedding'\n",
      "Tensor saved to '../train_document/doc_86/label'\n",
      "X_train size: torch.Size([44, 1, 768])\tY_train size: torch.Size([44])\n",
      "Tensor saved to '../train_document/doc_87/embedding'\n",
      "Tensor saved to '../train_document/doc_87/label'\n",
      "X_train size: torch.Size([105, 1, 768])\tY_train size: torch.Size([105])\n",
      "Tensor saved to '../train_document/doc_88/embedding'\n",
      "Tensor saved to '../train_document/doc_88/label'\n",
      "X_train size: torch.Size([53, 1, 768])\tY_train size: torch.Size([53])\n",
      "Tensor saved to '../train_document/doc_89/embedding'\n",
      "Tensor saved to '../train_document/doc_89/label'\n",
      "X_train size: torch.Size([136, 1, 768])\tY_train size: torch.Size([136])\n",
      "Tensor saved to '../train_document/doc_90/embedding'\n",
      "Tensor saved to '../train_document/doc_90/label'\n",
      "X_train size: torch.Size([83, 1, 768])\tY_train size: torch.Size([83])\n",
      "Tensor saved to '../train_document/doc_91/embedding'\n",
      "Tensor saved to '../train_document/doc_91/label'\n",
      "X_train size: torch.Size([221, 1, 768])\tY_train size: torch.Size([221])\n",
      "Tensor saved to '../train_document/doc_92/embedding'\n",
      "Tensor saved to '../train_document/doc_92/label'\n",
      "X_train size: torch.Size([150, 1, 768])\tY_train size: torch.Size([150])\n",
      "Tensor saved to '../train_document/doc_93/embedding'\n",
      "Tensor saved to '../train_document/doc_93/label'\n",
      "X_train size: torch.Size([114, 1, 768])\tY_train size: torch.Size([114])\n",
      "Tensor saved to '../train_document/doc_94/embedding'\n",
      "Tensor saved to '../train_document/doc_94/label'\n",
      "X_train size: torch.Size([57, 1, 768])\tY_train size: torch.Size([57])\n",
      "Tensor saved to '../train_document/doc_95/embedding'\n",
      "Tensor saved to '../train_document/doc_95/label'\n",
      "X_train size: torch.Size([57, 1, 768])\tY_train size: torch.Size([57])\n",
      "Tensor saved to '../train_document/doc_96/embedding'\n",
      "Tensor saved to '../train_document/doc_96/label'\n",
      "X_train size: torch.Size([70, 1, 768])\tY_train size: torch.Size([70])\n",
      "Tensor saved to '../train_document/doc_97/embedding'\n",
      "Tensor saved to '../train_document/doc_97/label'\n",
      "X_train size: torch.Size([264, 1, 768])\tY_train size: torch.Size([264])\n",
      "Tensor saved to '../train_document/doc_98/embedding'\n",
      "Tensor saved to '../train_document/doc_98/label'\n",
      "X_train size: torch.Size([167, 1, 768])\tY_train size: torch.Size([167])\n",
      "Tensor saved to '../train_document/doc_99/embedding'\n",
      "Tensor saved to '../train_document/doc_99/label'\n",
      "X_train size: torch.Size([49, 1, 768])\tY_train size: torch.Size([49])\n",
      "Tensor saved to '../train_document/doc_100/embedding'\n",
      "Tensor saved to '../train_document/doc_100/label'\n",
      "X_train size: torch.Size([63, 1, 768])\tY_train size: torch.Size([63])\n",
      "Tensor saved to '../train_document/doc_101/embedding'\n",
      "Tensor saved to '../train_document/doc_101/label'\n",
      "X_train size: torch.Size([74, 1, 768])\tY_train size: torch.Size([74])\n",
      "Tensor saved to '../train_document/doc_102/embedding'\n",
      "Tensor saved to '../train_document/doc_102/label'\n",
      "X_train size: torch.Size([123, 1, 768])\tY_train size: torch.Size([123])\n",
      "Tensor saved to '../train_document/doc_103/embedding'\n",
      "Tensor saved to '../train_document/doc_103/label'\n",
      "X_train size: torch.Size([147, 1, 768])\tY_train size: torch.Size([147])\n",
      "Tensor saved to '../train_document/doc_104/embedding'\n",
      "Tensor saved to '../train_document/doc_104/label'\n",
      "X_train size: torch.Size([180, 1, 768])\tY_train size: torch.Size([180])\n",
      "Tensor saved to '../train_document/doc_105/embedding'\n",
      "Tensor saved to '../train_document/doc_105/label'\n",
      "X_train size: torch.Size([71, 1, 768])\tY_train size: torch.Size([71])\n",
      "Tensor saved to '../train_document/doc_106/embedding'\n",
      "Tensor saved to '../train_document/doc_106/label'\n",
      "X_train size: torch.Size([174, 1, 768])\tY_train size: torch.Size([174])\n",
      "Tensor saved to '../train_document/doc_107/embedding'\n",
      "Tensor saved to '../train_document/doc_107/label'\n",
      "X_train size: torch.Size([126, 1, 768])\tY_train size: torch.Size([126])\n",
      "Tensor saved to '../train_document/doc_108/embedding'\n",
      "Tensor saved to '../train_document/doc_108/label'\n",
      "X_train size: torch.Size([129, 1, 768])\tY_train size: torch.Size([129])\n",
      "Tensor saved to '../train_document/doc_109/embedding'\n",
      "Tensor saved to '../train_document/doc_109/label'\n",
      "X_train size: torch.Size([32, 1, 768])\tY_train size: torch.Size([32])\n",
      "Tensor saved to '../train_document/doc_110/embedding'\n",
      "Tensor saved to '../train_document/doc_110/label'\n",
      "X_train size: torch.Size([121, 1, 768])\tY_train size: torch.Size([121])\n",
      "Tensor saved to '../train_document/doc_111/embedding'\n",
      "Tensor saved to '../train_document/doc_111/label'\n",
      "X_train size: torch.Size([60, 1, 768])\tY_train size: torch.Size([60])\n",
      "Tensor saved to '../train_document/doc_112/embedding'\n",
      "Tensor saved to '../train_document/doc_112/label'\n",
      "X_train size: torch.Size([94, 1, 768])\tY_train size: torch.Size([94])\n",
      "Tensor saved to '../train_document/doc_113/embedding'\n",
      "Tensor saved to '../train_document/doc_113/label'\n",
      "X_train size: torch.Size([121, 1, 768])\tY_train size: torch.Size([121])\n",
      "Tensor saved to '../train_document/doc_114/embedding'\n",
      "Tensor saved to '../train_document/doc_114/label'\n",
      "X_train size: torch.Size([115, 1, 768])\tY_train size: torch.Size([115])\n",
      "Tensor saved to '../train_document/doc_115/embedding'\n",
      "Tensor saved to '../train_document/doc_115/label'\n",
      "X_train size: torch.Size([153, 1, 768])\tY_train size: torch.Size([153])\n",
      "Tensor saved to '../train_document/doc_116/embedding'\n",
      "Tensor saved to '../train_document/doc_116/label'\n",
      "X_train size: torch.Size([308, 1, 768])\tY_train size: torch.Size([308])\n",
      "Tensor saved to '../train_document/doc_117/embedding'\n",
      "Tensor saved to '../train_document/doc_117/label'\n",
      "X_train size: torch.Size([44, 1, 768])\tY_train size: torch.Size([44])\n",
      "Tensor saved to '../train_document/doc_118/embedding'\n",
      "Tensor saved to '../train_document/doc_118/label'\n",
      "X_train size: torch.Size([139, 1, 768])\tY_train size: torch.Size([139])\n",
      "Tensor saved to '../train_document/doc_119/embedding'\n",
      "Tensor saved to '../train_document/doc_119/label'\n",
      "X_train size: torch.Size([71, 1, 768])\tY_train size: torch.Size([71])\n",
      "Tensor saved to '../train_document/doc_120/embedding'\n",
      "Tensor saved to '../train_document/doc_120/label'\n",
      "X_train size: torch.Size([63, 1, 768])\tY_train size: torch.Size([63])\n",
      "Tensor saved to '../train_document/doc_121/embedding'\n",
      "Tensor saved to '../train_document/doc_121/label'\n",
      "X_train size: torch.Size([201, 1, 768])\tY_train size: torch.Size([201])\n",
      "Tensor saved to '../train_document/doc_122/embedding'\n",
      "Tensor saved to '../train_document/doc_122/label'\n",
      "X_train size: torch.Size([31, 1, 768])\tY_train size: torch.Size([31])\n",
      "Tensor saved to '../train_document/doc_123/embedding'\n",
      "Tensor saved to '../train_document/doc_123/label'\n",
      "X_train size: torch.Size([168, 1, 768])\tY_train size: torch.Size([168])\n",
      "Tensor saved to '../train_document/doc_124/embedding'\n",
      "Tensor saved to '../train_document/doc_124/label'\n",
      "X_train size: torch.Size([213, 1, 768])\tY_train size: torch.Size([213])\n",
      "Tensor saved to '../train_document/doc_125/embedding'\n",
      "Tensor saved to '../train_document/doc_125/label'\n",
      "X_train size: torch.Size([96, 1, 768])\tY_train size: torch.Size([96])\n",
      "Tensor saved to '../train_document/doc_126/embedding'\n",
      "Tensor saved to '../train_document/doc_126/label'\n",
      "X_train size: torch.Size([85, 1, 768])\tY_train size: torch.Size([85])\n",
      "Tensor saved to '../train_document/doc_127/embedding'\n",
      "Tensor saved to '../train_document/doc_127/label'\n",
      "X_train size: torch.Size([174, 1, 768])\tY_train size: torch.Size([174])\n",
      "Tensor saved to '../train_document/doc_128/embedding'\n",
      "Tensor saved to '../train_document/doc_128/label'\n",
      "X_train size: torch.Size([53, 1, 768])\tY_train size: torch.Size([53])\n",
      "Tensor saved to '../train_document/doc_129/embedding'\n",
      "Tensor saved to '../train_document/doc_129/label'\n",
      "X_train size: torch.Size([111, 1, 768])\tY_train size: torch.Size([111])\n",
      "Tensor saved to '../train_document/doc_130/embedding'\n",
      "Tensor saved to '../train_document/doc_130/label'\n",
      "X_train size: torch.Size([130, 1, 768])\tY_train size: torch.Size([130])\n",
      "Tensor saved to '../train_document/doc_131/embedding'\n",
      "Tensor saved to '../train_document/doc_131/label'\n",
      "X_train size: torch.Size([126, 1, 768])\tY_train size: torch.Size([126])\n",
      "Tensor saved to '../train_document/doc_132/embedding'\n",
      "Tensor saved to '../train_document/doc_132/label'\n",
      "X_train size: torch.Size([158, 1, 768])\tY_train size: torch.Size([158])\n",
      "Tensor saved to '../train_document/doc_133/embedding'\n",
      "Tensor saved to '../train_document/doc_133/label'\n",
      "X_train size: torch.Size([103, 1, 768])\tY_train size: torch.Size([103])\n",
      "Tensor saved to '../train_document/doc_134/embedding'\n",
      "Tensor saved to '../train_document/doc_134/label'\n",
      "X_train size: torch.Size([130, 1, 768])\tY_train size: torch.Size([130])\n",
      "Tensor saved to '../train_document/doc_135/embedding'\n",
      "Tensor saved to '../train_document/doc_135/label'\n",
      "X_train size: torch.Size([65, 1, 768])\tY_train size: torch.Size([65])\n",
      "Tensor saved to '../train_document/doc_136/embedding'\n",
      "Tensor saved to '../train_document/doc_136/label'\n",
      "X_train size: torch.Size([98, 1, 768])\tY_train size: torch.Size([98])\n",
      "Tensor saved to '../train_document/doc_137/embedding'\n",
      "Tensor saved to '../train_document/doc_137/label'\n",
      "X_train size: torch.Size([161, 1, 768])\tY_train size: torch.Size([161])\n",
      "Tensor saved to '../train_document/doc_138/embedding'\n",
      "Tensor saved to '../train_document/doc_138/label'\n",
      "X_train size: torch.Size([93, 1, 768])\tY_train size: torch.Size([93])\n",
      "Tensor saved to '../train_document/doc_139/embedding'\n",
      "Tensor saved to '../train_document/doc_139/label'\n",
      "X_train size: torch.Size([67, 1, 768])\tY_train size: torch.Size([67])\n",
      "Tensor saved to '../train_document/doc_140/embedding'\n",
      "Tensor saved to '../train_document/doc_140/label'\n",
      "X_train size: torch.Size([173, 1, 768])\tY_train size: torch.Size([173])\n",
      "Tensor saved to '../train_document/doc_141/embedding'\n",
      "Tensor saved to '../train_document/doc_141/label'\n",
      "X_train size: torch.Size([234, 1, 768])\tY_train size: torch.Size([234])\n",
      "Tensor saved to '../train_document/doc_142/embedding'\n",
      "Tensor saved to '../train_document/doc_142/label'\n",
      "X_train size: torch.Size([153, 1, 768])\tY_train size: torch.Size([153])\n",
      "Tensor saved to '../train_document/doc_143/embedding'\n",
      "Tensor saved to '../train_document/doc_143/label'\n",
      "X_train size: torch.Size([103, 1, 768])\tY_train size: torch.Size([103])\n",
      "Tensor saved to '../train_document/doc_144/embedding'\n",
      "Tensor saved to '../train_document/doc_144/label'\n",
      "X_train size: torch.Size([42, 1, 768])\tY_train size: torch.Size([42])\n",
      "Tensor saved to '../train_document/doc_145/embedding'\n",
      "Tensor saved to '../train_document/doc_145/label'\n",
      "X_train size: torch.Size([164, 1, 768])\tY_train size: torch.Size([164])\n",
      "Tensor saved to '../train_document/doc_146/embedding'\n",
      "Tensor saved to '../train_document/doc_146/label'\n",
      "X_train size: torch.Size([36, 1, 768])\tY_train size: torch.Size([36])\n",
      "Tensor saved to '../train_document/doc_147/embedding'\n",
      "Tensor saved to '../train_document/doc_147/label'\n",
      "X_train size: torch.Size([66, 1, 768])\tY_train size: torch.Size([66])\n",
      "Tensor saved to '../train_document/doc_148/embedding'\n",
      "Tensor saved to '../train_document/doc_148/label'\n",
      "X_train size: torch.Size([386, 1, 768])\tY_train size: torch.Size([386])\n",
      "Tensor saved to '../train_document/doc_149/embedding'\n",
      "Tensor saved to '../train_document/doc_149/label'\n",
      "X_train size: torch.Size([119, 1, 768])\tY_train size: torch.Size([119])\n",
      "Tensor saved to '../train_document/doc_150/embedding'\n",
      "Tensor saved to '../train_document/doc_150/label'\n",
      "X_train size: torch.Size([83, 1, 768])\tY_train size: torch.Size([83])\n",
      "Tensor saved to '../train_document/doc_151/embedding'\n",
      "Tensor saved to '../train_document/doc_151/label'\n",
      "X_train size: torch.Size([200, 1, 768])\tY_train size: torch.Size([200])\n",
      "Tensor saved to '../train_document/doc_152/embedding'\n",
      "Tensor saved to '../train_document/doc_152/label'\n",
      "X_train size: torch.Size([159, 1, 768])\tY_train size: torch.Size([159])\n",
      "Tensor saved to '../train_document/doc_153/embedding'\n",
      "Tensor saved to '../train_document/doc_153/label'\n",
      "X_train size: torch.Size([75, 1, 768])\tY_train size: torch.Size([75])\n",
      "Tensor saved to '../train_document/doc_154/embedding'\n",
      "Tensor saved to '../train_document/doc_154/label'\n",
      "X_train size: torch.Size([75, 1, 768])\tY_train size: torch.Size([75])\n",
      "Tensor saved to '../train_document/doc_155/embedding'\n",
      "Tensor saved to '../train_document/doc_155/label'\n",
      "X_train size: torch.Size([63, 1, 768])\tY_train size: torch.Size([63])\n",
      "Tensor saved to '../train_document/doc_156/embedding'\n",
      "Tensor saved to '../train_document/doc_156/label'\n",
      "X_train size: torch.Size([65, 1, 768])\tY_train size: torch.Size([65])\n",
      "Tensor saved to '../train_document/doc_157/embedding'\n",
      "Tensor saved to '../train_document/doc_157/label'\n",
      "X_train size: torch.Size([97, 1, 768])\tY_train size: torch.Size([97])\n",
      "Tensor saved to '../train_document/doc_158/embedding'\n",
      "Tensor saved to '../train_document/doc_158/label'\n",
      "X_train size: torch.Size([75, 1, 768])\tY_train size: torch.Size([75])\n",
      "Tensor saved to '../train_document/doc_159/embedding'\n",
      "Tensor saved to '../train_document/doc_159/label'\n",
      "X_train size: torch.Size([104, 1, 768])\tY_train size: torch.Size([104])\n",
      "Tensor saved to '../train_document/doc_160/embedding'\n",
      "Tensor saved to '../train_document/doc_160/label'\n",
      "X_train size: torch.Size([44, 1, 768])\tY_train size: torch.Size([44])\n",
      "Tensor saved to '../train_document/doc_161/embedding'\n",
      "Tensor saved to '../train_document/doc_161/label'\n",
      "X_train size: torch.Size([63, 1, 768])\tY_train size: torch.Size([63])\n",
      "Tensor saved to '../train_document/doc_162/embedding'\n",
      "Tensor saved to '../train_document/doc_162/label'\n",
      "X_train size: torch.Size([79, 1, 768])\tY_train size: torch.Size([79])\n",
      "Tensor saved to '../train_document/doc_163/embedding'\n",
      "Tensor saved to '../train_document/doc_163/label'\n",
      "X_train size: torch.Size([190, 1, 768])\tY_train size: torch.Size([190])\n",
      "Tensor saved to '../train_document/doc_164/embedding'\n",
      "Tensor saved to '../train_document/doc_164/label'\n",
      "X_train size: torch.Size([33, 1, 768])\tY_train size: torch.Size([33])\n",
      "Tensor saved to '../train_document/doc_165/embedding'\n",
      "Tensor saved to '../train_document/doc_165/label'\n",
      "X_train size: torch.Size([91, 1, 768])\tY_train size: torch.Size([91])\n",
      "Tensor saved to '../train_document/doc_166/embedding'\n",
      "Tensor saved to '../train_document/doc_166/label'\n",
      "X_train size: torch.Size([96, 1, 768])\tY_train size: torch.Size([96])\n",
      "Tensor saved to '../train_document/doc_167/embedding'\n",
      "Tensor saved to '../train_document/doc_167/label'\n",
      "X_train size: torch.Size([52, 1, 768])\tY_train size: torch.Size([52])\n",
      "Tensor saved to '../train_document/doc_168/embedding'\n",
      "Tensor saved to '../train_document/doc_168/label'\n",
      "X_train size: torch.Size([91, 1, 768])\tY_train size: torch.Size([91])\n",
      "Tensor saved to '../train_document/doc_169/embedding'\n",
      "Tensor saved to '../train_document/doc_169/label'\n",
      "X_train size: torch.Size([251, 1, 768])\tY_train size: torch.Size([251])\n",
      "Tensor saved to '../train_document/doc_170/embedding'\n",
      "Tensor saved to '../train_document/doc_170/label'\n",
      "X_train size: torch.Size([117, 1, 768])\tY_train size: torch.Size([117])\n",
      "Tensor saved to '../train_document/doc_171/embedding'\n",
      "Tensor saved to '../train_document/doc_171/label'\n",
      "X_train size: torch.Size([146, 1, 768])\tY_train size: torch.Size([146])\n",
      "Tensor saved to '../train_document/doc_172/embedding'\n",
      "Tensor saved to '../train_document/doc_172/label'\n",
      "X_train size: torch.Size([84, 1, 768])\tY_train size: torch.Size([84])\n",
      "Tensor saved to '../train_document/doc_173/embedding'\n",
      "Tensor saved to '../train_document/doc_173/label'\n",
      "X_train size: torch.Size([223, 1, 768])\tY_train size: torch.Size([223])\n",
      "Tensor saved to '../train_document/doc_174/embedding'\n",
      "Tensor saved to '../train_document/doc_174/label'\n",
      "X_train size: torch.Size([54, 1, 768])\tY_train size: torch.Size([54])\n",
      "Tensor saved to '../train_document/doc_175/embedding'\n",
      "Tensor saved to '../train_document/doc_175/label'\n",
      "X_train size: torch.Size([248, 1, 768])\tY_train size: torch.Size([248])\n",
      "Tensor saved to '../train_document/doc_176/embedding'\n",
      "Tensor saved to '../train_document/doc_176/label'\n",
      "X_train size: torch.Size([69, 1, 768])\tY_train size: torch.Size([69])\n",
      "Tensor saved to '../train_document/doc_177/embedding'\n",
      "Tensor saved to '../train_document/doc_177/label'\n",
      "X_train size: torch.Size([89, 1, 768])\tY_train size: torch.Size([89])\n",
      "Tensor saved to '../train_document/doc_178/embedding'\n",
      "Tensor saved to '../train_document/doc_178/label'\n",
      "X_train size: torch.Size([124, 1, 768])\tY_train size: torch.Size([124])\n",
      "Tensor saved to '../train_document/doc_179/embedding'\n",
      "Tensor saved to '../train_document/doc_179/label'\n",
      "X_train size: torch.Size([45, 1, 768])\tY_train size: torch.Size([45])\n",
      "Tensor saved to '../train_document/doc_180/embedding'\n",
      "Tensor saved to '../train_document/doc_180/label'\n",
      "X_train size: torch.Size([95, 1, 768])\tY_train size: torch.Size([95])\n",
      "Tensor saved to '../train_document/doc_181/embedding'\n",
      "Tensor saved to '../train_document/doc_181/label'\n",
      "X_train size: torch.Size([131, 1, 768])\tY_train size: torch.Size([131])\n",
      "Tensor saved to '../train_document/doc_182/embedding'\n",
      "Tensor saved to '../train_document/doc_182/label'\n",
      "X_train size: torch.Size([117, 1, 768])\tY_train size: torch.Size([117])\n",
      "Tensor saved to '../train_document/doc_183/embedding'\n",
      "Tensor saved to '../train_document/doc_183/label'\n",
      "X_train size: torch.Size([27, 1, 768])\tY_train size: torch.Size([27])\n",
      "Tensor saved to '../train_document/doc_184/embedding'\n",
      "Tensor saved to '../train_document/doc_184/label'\n",
      "X_train size: torch.Size([106, 1, 768])\tY_train size: torch.Size([106])\n",
      "Tensor saved to '../train_document/doc_185/embedding'\n",
      "Tensor saved to '../train_document/doc_185/label'\n",
      "X_train size: torch.Size([244, 1, 768])\tY_train size: torch.Size([244])\n",
      "Tensor saved to '../train_document/doc_186/embedding'\n",
      "Tensor saved to '../train_document/doc_186/label'\n",
      "X_train size: torch.Size([87, 1, 768])\tY_train size: torch.Size([87])\n",
      "Tensor saved to '../train_document/doc_187/embedding'\n",
      "Tensor saved to '../train_document/doc_187/label'\n",
      "X_train size: torch.Size([78, 1, 768])\tY_train size: torch.Size([78])\n",
      "Tensor saved to '../train_document/doc_188/embedding'\n",
      "Tensor saved to '../train_document/doc_188/label'\n",
      "X_train size: torch.Size([97, 1, 768])\tY_train size: torch.Size([97])\n",
      "Tensor saved to '../train_document/doc_189/embedding'\n",
      "Tensor saved to '../train_document/doc_189/label'\n",
      "X_train size: torch.Size([36, 1, 768])\tY_train size: torch.Size([36])\n",
      "Tensor saved to '../train_document/doc_190/embedding'\n",
      "Tensor saved to '../train_document/doc_190/label'\n",
      "X_train size: torch.Size([128, 1, 768])\tY_train size: torch.Size([128])\n",
      "Tensor saved to '../train_document/doc_191/embedding'\n",
      "Tensor saved to '../train_document/doc_191/label'\n",
      "X_train size: torch.Size([154, 1, 768])\tY_train size: torch.Size([154])\n",
      "Tensor saved to '../train_document/doc_192/embedding'\n",
      "Tensor saved to '../train_document/doc_192/label'\n",
      "X_train size: torch.Size([115, 1, 768])\tY_train size: torch.Size([115])\n",
      "Tensor saved to '../train_document/doc_193/embedding'\n",
      "Tensor saved to '../train_document/doc_193/label'\n",
      "X_train size: torch.Size([61, 1, 768])\tY_train size: torch.Size([61])\n",
      "Tensor saved to '../train_document/doc_194/embedding'\n",
      "Tensor saved to '../train_document/doc_194/label'\n",
      "X_train size: torch.Size([245, 1, 768])\tY_train size: torch.Size([245])\n",
      "Tensor saved to '../train_document/doc_195/embedding'\n",
      "Tensor saved to '../train_document/doc_195/label'\n",
      "X_train size: torch.Size([104, 1, 768])\tY_train size: torch.Size([104])\n",
      "Tensor saved to '../train_document/doc_196/embedding'\n",
      "Tensor saved to '../train_document/doc_196/label'\n",
      "X_train size: torch.Size([91, 1, 768])\tY_train size: torch.Size([91])\n",
      "Tensor saved to '../train_document/doc_197/embedding'\n",
      "Tensor saved to '../train_document/doc_197/label'\n",
      "X_train size: torch.Size([120, 1, 768])\tY_train size: torch.Size([120])\n",
      "Tensor saved to '../train_document/doc_198/embedding'\n",
      "Tensor saved to '../train_document/doc_198/label'\n",
      "X_train size: torch.Size([89, 1, 768])\tY_train size: torch.Size([89])\n",
      "Tensor saved to '../train_document/doc_199/embedding'\n",
      "Tensor saved to '../train_document/doc_199/label'\n",
      "X_train size: torch.Size([65, 1, 768])\tY_train size: torch.Size([65])\n",
      "Tensor saved to '../train_document/doc_200/embedding'\n",
      "Tensor saved to '../train_document/doc_200/label'\n",
      "X_train size: torch.Size([74, 1, 768])\tY_train size: torch.Size([74])\n",
      "Tensor saved to '../train_document/doc_201/embedding'\n",
      "Tensor saved to '../train_document/doc_201/label'\n",
      "X_train size: torch.Size([92, 1, 768])\tY_train size: torch.Size([92])\n",
      "Tensor saved to '../train_document/doc_202/embedding'\n",
      "Tensor saved to '../train_document/doc_202/label'\n",
      "X_train size: torch.Size([240, 1, 768])\tY_train size: torch.Size([240])\n",
      "Tensor saved to '../train_document/doc_203/embedding'\n",
      "Tensor saved to '../train_document/doc_203/label'\n",
      "X_train size: torch.Size([102, 1, 768])\tY_train size: torch.Size([102])\n",
      "Tensor saved to '../train_document/doc_204/embedding'\n",
      "Tensor saved to '../train_document/doc_204/label'\n",
      "X_train size: torch.Size([107, 1, 768])\tY_train size: torch.Size([107])\n",
      "Tensor saved to '../train_document/doc_205/embedding'\n",
      "Tensor saved to '../train_document/doc_205/label'\n",
      "X_train size: torch.Size([79, 1, 768])\tY_train size: torch.Size([79])\n",
      "Tensor saved to '../train_document/doc_206/embedding'\n",
      "Tensor saved to '../train_document/doc_206/label'\n",
      "X_train size: torch.Size([168, 1, 768])\tY_train size: torch.Size([168])\n",
      "Tensor saved to '../train_document/doc_207/embedding'\n",
      "Tensor saved to '../train_document/doc_207/label'\n",
      "X_train size: torch.Size([181, 1, 768])\tY_train size: torch.Size([181])\n",
      "Tensor saved to '../train_document/doc_208/embedding'\n",
      "Tensor saved to '../train_document/doc_208/label'\n",
      "X_train size: torch.Size([53, 1, 768])\tY_train size: torch.Size([53])\n",
      "Tensor saved to '../train_document/doc_209/embedding'\n",
      "Tensor saved to '../train_document/doc_209/label'\n",
      "X_train size: torch.Size([248, 1, 768])\tY_train size: torch.Size([248])\n",
      "Tensor saved to '../train_document/doc_210/embedding'\n",
      "Tensor saved to '../train_document/doc_210/label'\n",
      "X_train size: torch.Size([141, 1, 768])\tY_train size: torch.Size([141])\n",
      "Tensor saved to '../train_document/doc_211/embedding'\n",
      "Tensor saved to '../train_document/doc_211/label'\n",
      "X_train size: torch.Size([47, 1, 768])\tY_train size: torch.Size([47])\n",
      "Tensor saved to '../train_document/doc_212/embedding'\n",
      "Tensor saved to '../train_document/doc_212/label'\n",
      "X_train size: torch.Size([81, 1, 768])\tY_train size: torch.Size([81])\n",
      "Tensor saved to '../train_document/doc_213/embedding'\n",
      "Tensor saved to '../train_document/doc_213/label'\n",
      "X_train size: torch.Size([82, 1, 768])\tY_train size: torch.Size([82])\n",
      "Tensor saved to '../train_document/doc_214/embedding'\n",
      "Tensor saved to '../train_document/doc_214/label'\n",
      "X_train size: torch.Size([60, 1, 768])\tY_train size: torch.Size([60])\n",
      "Tensor saved to '../train_document/doc_215/embedding'\n",
      "Tensor saved to '../train_document/doc_215/label'\n",
      "X_train size: torch.Size([179, 1, 768])\tY_train size: torch.Size([179])\n",
      "Tensor saved to '../train_document/doc_216/embedding'\n",
      "Tensor saved to '../train_document/doc_216/label'\n",
      "X_train size: torch.Size([65, 1, 768])\tY_train size: torch.Size([65])\n",
      "Tensor saved to '../train_document/doc_217/embedding'\n",
      "Tensor saved to '../train_document/doc_217/label'\n",
      "X_train size: torch.Size([176, 1, 768])\tY_train size: torch.Size([176])\n",
      "Tensor saved to '../train_document/doc_218/embedding'\n",
      "Tensor saved to '../train_document/doc_218/label'\n",
      "X_train size: torch.Size([283, 1, 768])\tY_train size: torch.Size([283])\n",
      "Tensor saved to '../train_document/doc_219/embedding'\n",
      "Tensor saved to '../train_document/doc_219/label'\n",
      "X_train size: torch.Size([123, 1, 768])\tY_train size: torch.Size([123])\n",
      "Tensor saved to '../train_document/doc_220/embedding'\n",
      "Tensor saved to '../train_document/doc_220/label'\n",
      "X_train size: torch.Size([263, 1, 768])\tY_train size: torch.Size([263])\n",
      "Tensor saved to '../train_document/doc_221/embedding'\n",
      "Tensor saved to '../train_document/doc_221/label'\n",
      "X_train size: torch.Size([58, 1, 768])\tY_train size: torch.Size([58])\n",
      "Tensor saved to '../train_document/doc_222/embedding'\n",
      "Tensor saved to '../train_document/doc_222/label'\n",
      "X_train size: torch.Size([193, 1, 768])\tY_train size: torch.Size([193])\n",
      "Tensor saved to '../train_document/doc_223/embedding'\n",
      "Tensor saved to '../train_document/doc_223/label'\n",
      "X_train size: torch.Size([150, 1, 768])\tY_train size: torch.Size([150])\n",
      "Tensor saved to '../train_document/doc_224/embedding'\n",
      "Tensor saved to '../train_document/doc_224/label'\n",
      "X_train size: torch.Size([0, 1, 768])\tY_train size: torch.Size([0])\n",
      "Tensor saved to '../train_document/doc_225/embedding'\n",
      "Tensor saved to '../train_document/doc_225/label'\n",
      "X_train size: torch.Size([148, 1, 768])\tY_train size: torch.Size([148])\n",
      "Tensor saved to '../train_document/doc_226/embedding'\n",
      "Tensor saved to '../train_document/doc_226/label'\n",
      "X_train size: torch.Size([45, 1, 768])\tY_train size: torch.Size([45])\n",
      "Tensor saved to '../train_document/doc_227/embedding'\n",
      "Tensor saved to '../train_document/doc_227/label'\n",
      "X_train size: torch.Size([255, 1, 768])\tY_train size: torch.Size([255])\n",
      "Tensor saved to '../train_document/doc_228/embedding'\n",
      "Tensor saved to '../train_document/doc_228/label'\n",
      "X_train size: torch.Size([66, 1, 768])\tY_train size: torch.Size([66])\n",
      "Tensor saved to '../train_document/doc_229/embedding'\n",
      "Tensor saved to '../train_document/doc_229/label'\n",
      "X_train size: torch.Size([62, 1, 768])\tY_train size: torch.Size([62])\n",
      "Tensor saved to '../train_document/doc_230/embedding'\n",
      "Tensor saved to '../train_document/doc_230/label'\n",
      "X_train size: torch.Size([214, 1, 768])\tY_train size: torch.Size([214])\n",
      "Tensor saved to '../train_document/doc_231/embedding'\n",
      "Tensor saved to '../train_document/doc_231/label'\n",
      "X_train size: torch.Size([246, 1, 768])\tY_train size: torch.Size([246])\n",
      "Tensor saved to '../train_document/doc_232/embedding'\n",
      "Tensor saved to '../train_document/doc_232/label'\n",
      "X_train size: torch.Size([110, 1, 768])\tY_train size: torch.Size([110])\n",
      "Tensor saved to '../train_document/doc_233/embedding'\n",
      "Tensor saved to '../train_document/doc_233/label'\n",
      "X_train size: torch.Size([110, 1, 768])\tY_train size: torch.Size([110])\n",
      "Tensor saved to '../train_document/doc_234/embedding'\n",
      "Tensor saved to '../train_document/doc_234/label'\n",
      "X_train size: torch.Size([67, 1, 768])\tY_train size: torch.Size([67])\n",
      "Tensor saved to '../train_document/doc_235/embedding'\n",
      "Tensor saved to '../train_document/doc_235/label'\n",
      "X_train size: torch.Size([73, 1, 768])\tY_train size: torch.Size([73])\n",
      "Tensor saved to '../train_document/doc_236/embedding'\n",
      "Tensor saved to '../train_document/doc_236/label'\n",
      "X_train size: torch.Size([56, 1, 768])\tY_train size: torch.Size([56])\n",
      "Tensor saved to '../train_document/doc_237/embedding'\n",
      "Tensor saved to '../train_document/doc_237/label'\n",
      "X_train size: torch.Size([212, 1, 768])\tY_train size: torch.Size([212])\n",
      "Tensor saved to '../train_document/doc_238/embedding'\n",
      "Tensor saved to '../train_document/doc_238/label'\n",
      "X_train size: torch.Size([215, 1, 768])\tY_train size: torch.Size([215])\n",
      "Tensor saved to '../train_document/doc_239/embedding'\n",
      "Tensor saved to '../train_document/doc_239/label'\n",
      "X_train size: torch.Size([103, 1, 768])\tY_train size: torch.Size([103])\n",
      "Tensor saved to '../train_document/doc_240/embedding'\n",
      "Tensor saved to '../train_document/doc_240/label'\n",
      "X_train size: torch.Size([45, 1, 768])\tY_train size: torch.Size([45])\n",
      "Tensor saved to '../train_document/doc_241/embedding'\n",
      "Tensor saved to '../train_document/doc_241/label'\n",
      "X_train size: torch.Size([112, 1, 768])\tY_train size: torch.Size([112])\n",
      "Tensor saved to '../train_document/doc_242/embedding'\n",
      "Tensor saved to '../train_document/doc_242/label'\n",
      "X_train size: torch.Size([77, 1, 768])\tY_train size: torch.Size([77])\n",
      "Tensor saved to '../train_document/doc_243/embedding'\n",
      "Tensor saved to '../train_document/doc_243/label'\n",
      "X_train size: torch.Size([90, 1, 768])\tY_train size: torch.Size([90])\n",
      "Tensor saved to '../train_document/doc_244/embedding'\n",
      "Tensor saved to '../train_document/doc_244/label'\n",
      "X_train size: torch.Size([122, 1, 768])\tY_train size: torch.Size([122])\n",
      "Tensor saved to '../train_document/doc_245/embedding'\n",
      "Tensor saved to '../train_document/doc_245/label'\n"
     ]
    }
   ],
   "source": [
    "for idx in range(len(doc_idxs)):\n",
    "    TRAIN_emb, TRAIN_labels = get_model_data_batched(doc_idxs[idx], batched_texts[idx], batched_labels[idx],label_encoder,max_lens_train)\n",
    "    save_tensor(TRAIN_emb, '../train_document/doc_'+str(idx),\"embedding\")\n",
    "    save_tensor(TRAIN_labels, '../train_document/doc_'+str(idx),\"label\")"
   ]
  },
  {
   "cell_type": "code",
   "execution_count": null,
   "metadata": {},
   "outputs": [],
   "source": [
    "doc_idxs, batched_texts, batched_labels = get_batched_data(TEST_data, batch_size= 1)\n",
    "max_lens_test = max_length(TEST_data)"
   ]
  },
  {
   "cell_type": "code",
   "execution_count": null,
   "metadata": {},
   "outputs": [
    {
     "name": "stdout",
     "output_type": "stream",
     "text": [
      "X_train size: torch.Size([96, 1, 768])\tY_train size: torch.Size([96])\n",
      "Tensor saved to '../test_document/doc_0/embedding'\n",
      "Tensor saved to '../test_document/doc_0/label'\n",
      "X_train size: torch.Size([139, 1, 768])\tY_train size: torch.Size([139])\n",
      "Tensor saved to '../test_document/doc_1/embedding'\n",
      "Tensor saved to '../test_document/doc_1/label'\n",
      "X_train size: torch.Size([150, 1, 768])\tY_train size: torch.Size([150])\n",
      "Tensor saved to '../test_document/doc_2/embedding'\n",
      "Tensor saved to '../test_document/doc_2/label'\n",
      "X_train size: torch.Size([54, 1, 768])\tY_train size: torch.Size([54])\n",
      "Tensor saved to '../test_document/doc_3/embedding'\n",
      "Tensor saved to '../test_document/doc_3/label'\n",
      "X_train size: torch.Size([97, 1, 768])\tY_train size: torch.Size([97])\n",
      "Tensor saved to '../test_document/doc_4/embedding'\n",
      "Tensor saved to '../test_document/doc_4/label'\n",
      "X_train size: torch.Size([57, 1, 768])\tY_train size: torch.Size([57])\n",
      "Tensor saved to '../test_document/doc_5/embedding'\n",
      "Tensor saved to '../test_document/doc_5/label'\n",
      "X_train size: torch.Size([68, 1, 768])\tY_train size: torch.Size([68])\n",
      "Tensor saved to '../test_document/doc_6/embedding'\n",
      "Tensor saved to '../test_document/doc_6/label'\n",
      "X_train size: torch.Size([113, 1, 768])\tY_train size: torch.Size([113])\n",
      "Tensor saved to '../test_document/doc_7/embedding'\n",
      "Tensor saved to '../test_document/doc_7/label'\n",
      "X_train size: torch.Size([199, 1, 768])\tY_train size: torch.Size([199])\n",
      "Tensor saved to '../test_document/doc_8/embedding'\n",
      "Tensor saved to '../test_document/doc_8/label'\n",
      "X_train size: torch.Size([139, 1, 768])\tY_train size: torch.Size([139])\n",
      "Tensor saved to '../test_document/doc_9/embedding'\n",
      "Tensor saved to '../test_document/doc_9/label'\n",
      "X_train size: torch.Size([76, 1, 768])\tY_train size: torch.Size([76])\n",
      "Tensor saved to '../test_document/doc_10/embedding'\n",
      "Tensor saved to '../test_document/doc_10/label'\n",
      "X_train size: torch.Size([104, 1, 768])\tY_train size: torch.Size([104])\n",
      "Tensor saved to '../test_document/doc_11/embedding'\n",
      "Tensor saved to '../test_document/doc_11/label'\n",
      "X_train size: torch.Size([209, 1, 768])\tY_train size: torch.Size([209])\n",
      "Tensor saved to '../test_document/doc_12/embedding'\n",
      "Tensor saved to '../test_document/doc_12/label'\n",
      "X_train size: torch.Size([135, 1, 768])\tY_train size: torch.Size([135])\n",
      "Tensor saved to '../test_document/doc_13/embedding'\n",
      "Tensor saved to '../test_document/doc_13/label'\n",
      "X_train size: torch.Size([64, 1, 768])\tY_train size: torch.Size([64])\n",
      "Tensor saved to '../test_document/doc_14/embedding'\n",
      "Tensor saved to '../test_document/doc_14/label'\n",
      "X_train size: torch.Size([62, 1, 768])\tY_train size: torch.Size([62])\n",
      "Tensor saved to '../test_document/doc_15/embedding'\n",
      "Tensor saved to '../test_document/doc_15/label'\n",
      "X_train size: torch.Size([98, 1, 768])\tY_train size: torch.Size([98])\n",
      "Tensor saved to '../test_document/doc_16/embedding'\n",
      "Tensor saved to '../test_document/doc_16/label'\n",
      "X_train size: torch.Size([111, 1, 768])\tY_train size: torch.Size([111])\n",
      "Tensor saved to '../test_document/doc_17/embedding'\n",
      "Tensor saved to '../test_document/doc_17/label'\n",
      "X_train size: torch.Size([62, 1, 768])\tY_train size: torch.Size([62])\n",
      "Tensor saved to '../test_document/doc_18/embedding'\n",
      "Tensor saved to '../test_document/doc_18/label'\n",
      "X_train size: torch.Size([130, 1, 768])\tY_train size: torch.Size([130])\n",
      "Tensor saved to '../test_document/doc_19/embedding'\n",
      "Tensor saved to '../test_document/doc_19/label'\n",
      "X_train size: torch.Size([46, 1, 768])\tY_train size: torch.Size([46])\n",
      "Tensor saved to '../test_document/doc_20/embedding'\n",
      "Tensor saved to '../test_document/doc_20/label'\n",
      "X_train size: torch.Size([66, 1, 768])\tY_train size: torch.Size([66])\n",
      "Tensor saved to '../test_document/doc_21/embedding'\n",
      "Tensor saved to '../test_document/doc_21/label'\n",
      "X_train size: torch.Size([77, 1, 768])\tY_train size: torch.Size([77])\n",
      "Tensor saved to '../test_document/doc_22/embedding'\n",
      "Tensor saved to '../test_document/doc_22/label'\n",
      "X_train size: torch.Size([53, 1, 768])\tY_train size: torch.Size([53])\n",
      "Tensor saved to '../test_document/doc_23/embedding'\n",
      "Tensor saved to '../test_document/doc_23/label'\n",
      "X_train size: torch.Size([112, 1, 768])\tY_train size: torch.Size([112])\n",
      "Tensor saved to '../test_document/doc_24/embedding'\n",
      "Tensor saved to '../test_document/doc_24/label'\n",
      "X_train size: torch.Size([186, 1, 768])\tY_train size: torch.Size([186])\n",
      "Tensor saved to '../test_document/doc_25/embedding'\n",
      "Tensor saved to '../test_document/doc_25/label'\n",
      "X_train size: torch.Size([54, 1, 768])\tY_train size: torch.Size([54])\n",
      "Tensor saved to '../test_document/doc_26/embedding'\n",
      "Tensor saved to '../test_document/doc_26/label'\n",
      "X_train size: torch.Size([43, 1, 768])\tY_train size: torch.Size([43])\n",
      "Tensor saved to '../test_document/doc_27/embedding'\n",
      "Tensor saved to '../test_document/doc_27/label'\n",
      "X_train size: torch.Size([59, 1, 768])\tY_train size: torch.Size([59])\n",
      "Tensor saved to '../test_document/doc_28/embedding'\n",
      "Tensor saved to '../test_document/doc_28/label'\n"
     ]
    }
   ],
   "source": [
    "for idx in range(len(doc_idxs)):\n",
    "    TEST_emb, TEST_labels = get_model_data_batched(doc_idxs[idx], batched_texts[idx], batched_labels[idx],label_encoder,max_lens_test)\n",
    "    save_tensor(TEST_emb, '../test_document/doc_'+str(idx),\"embedding\")\n",
    "    save_tensor(TEST_labels, '../test_document/doc_'+str(idx),\"label\")"
   ]
  },
  {
   "cell_type": "code",
   "execution_count": null,
   "metadata": {},
   "outputs": [
    {
     "data": {
      "text/plain": [
       "torch.Size([0, 1, 768])"
      ]
     },
     "execution_count": 24,
     "metadata": {},
     "output_type": "execute_result"
    }
   ],
   "source": [
    "load_tensor(f\"../train_document/doc_{69}/embedding\").size()"
   ]
  },
  {
   "cell_type": "markdown",
   "metadata": {},
   "source": [
    "# Checking LSTM"
   ]
  },
  {
   "cell_type": "code",
   "execution_count": 84,
   "metadata": {},
   "outputs": [],
   "source": [
    "TRAIN_emb = load_tensor(filepath=f\"../train_document/doc_{0}/embedding\")\n",
    "TRAIN_labels = load_tensor(filepath=f\"../train_document/doc_{0}/label\")"
   ]
  },
  {
   "cell_type": "code",
   "execution_count": 85,
   "metadata": {},
   "outputs": [
    {
     "data": {
      "text/plain": [
       "torch.Size([91, 1, 768])"
      ]
     },
     "execution_count": 85,
     "metadata": {},
     "output_type": "execute_result"
    }
   ],
   "source": [
    "TRAIN_emb.size()"
   ]
  },
  {
   "cell_type": "code",
   "execution_count": 86,
   "metadata": {},
   "outputs": [],
   "source": [
    "bilstm = nn.LSTM(input_size = 768,\n",
    "                hidden_size = 128,\n",
    "                num_layers = 1,\n",
    "                bidirectional=True)\n",
    "\n",
    "dense = nn.Sequential(nn.Dropout(p=0.1),\n",
    "                    nn.Linear(128*2, 128),\n",
    "                    nn.ReLU(),\n",
    "                    nn.Linear(128, 13),\n",
    "                    nn.Softmax(dim=1))"
   ]
  },
  {
   "cell_type": "code",
   "execution_count": 87,
   "metadata": {},
   "outputs": [],
   "source": [
    "TRAIN_emb = TRAIN_emb.permute(1,0,2)\n",
    "for i in range(TRAIN_emb.size(-2)):\n",
    "    if i == 0:\n",
    "        lstm_out, (hidden,cell) = bilstm(TRAIN_emb[:,i,:])\n",
    "    else:\n",
    "        lstm_out, (hidden,cell) = bilstm(TRAIN_emb[:,i,:], (hidden, cell))"
   ]
  },
  {
   "cell_type": "code",
   "execution_count": 106,
   "metadata": {},
   "outputs": [],
   "source": [
    "out, (hidden,cell) = bilstm(TRAIN_emb.squeeze(0))"
   ]
  },
  {
   "cell_type": "code",
   "execution_count": 108,
   "metadata": {},
   "outputs": [
    {
     "data": {
      "text/plain": [
       "torch.Size([91, 256])"
      ]
     },
     "execution_count": 108,
     "metadata": {},
     "output_type": "execute_result"
    }
   ],
   "source": [
    "out.size()"
   ]
  },
  {
   "cell_type": "code",
   "execution_count": 111,
   "metadata": {},
   "outputs": [
    {
     "data": {
      "text/plain": [
       "torch.Size([1, 256])"
      ]
     },
     "execution_count": 111,
     "metadata": {},
     "output_type": "execute_result"
    }
   ],
   "source": [
    "lstm_out.size()"
   ]
  },
  {
   "cell_type": "code",
   "execution_count": 114,
   "metadata": {},
   "outputs": [
    {
     "data": {
      "text/plain": [
       "tensor(2.5638, grad_fn=<NllLossBackward0>)"
      ]
     },
     "execution_count": 114,
     "metadata": {},
     "output_type": "execute_result"
    }
   ],
   "source": [
    "nn.CrossEntropyLoss()(dense(out),TRAIN_labels)"
   ]
  },
  {
   "cell_type": "code",
   "execution_count": null,
   "metadata": {},
   "outputs": [],
   "source": []
  }
 ],
 "metadata": {
  "kernelspec": {
   "display_name": "Python 3",
   "language": "python",
   "name": "python3"
  },
  "language_info": {
   "codemirror_mode": {
    "name": "ipython",
    "version": 3
   },
   "file_extension": ".py",
   "mimetype": "text/x-python",
   "name": "python",
   "nbconvert_exporter": "python",
   "pygments_lexer": "ipython3",
   "version": "3.8.10"
  }
 },
 "nbformat": 4,
 "nbformat_minor": 2
}
