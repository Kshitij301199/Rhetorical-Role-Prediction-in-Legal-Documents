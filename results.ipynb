{
 "cells": [
  {
   "cell_type": "code",
   "execution_count": null,
   "metadata": {},
   "outputs": [],
   "source": []
  },
  {
   "cell_type": "markdown",
   "metadata": {},
   "source": [
    "# CNN_BiLSTM Advanced_train"
   ]
  },
  {
   "cell_type": "markdown",
   "metadata": {},
   "source": [
    "Working with: \n",
    "\n",
    "{'epochs': 100, 'learning_rate': 0.0005, 'learning_rate_floor': 5e-06, 'dropout': 0.25, 'hidden_size': 512, 'num_layers': 1}\n",
    "\n",
    "Model type: CNN_BiLSTM\n",
    "\n",
    "Train type: advanced"
   ]
  },
  {
   "cell_type": "markdown",
   "metadata": {},
   "source": [
    "### First run:"
   ]
  },
  {
   "cell_type": "markdown",
   "metadata": {},
   "source": [
    "Accuracies: [0.82080925 0.1971831  0.23636364 0.76722818 0.66129032 0.88082902\n",
    " 0.99206349 0.11111111 0.56111111 0.5        0.55102041 0.79807692\n",
    " 0.46666667] \n",
    "\n",
    "- Average accuracy (standard BERT): 0.5802887085745392\n",
    "\n",
    "F1 Scores: [0.77173908 0.2014388  0.28571424 0.81331164 0.73214281 0.88772841\n",
    " 0.99206344 0.09523805 0.63124995 0.53846149 0.32727269 0.86458328\n",
    " 0.47457622] \n",
    "- Average F1: 0.5858092371887123\n",
    "\n",
    "Accuracies Legal BERT: [0.63478978 0.0625     0.11111111 0.52861035 0.42307692 0.61290323\n",
    " 0.80234834 0.         0.         0.29333333 0.         0.4789916\n",
    " 0.07142857] \n",
    "\n",
    "- Average accuracy Legal BERT: 0.30916101766344367\n",
    "\n",
    "F1 Scores Legal BERT: [0.70383907 0.05172409 0.04444441 0.5910129  0.28947364 0.30158726\n",
    " 0.80788172 0.         0.         0.29931968 0.         0.55072459\n",
    " 0.04651158] \n",
    "- Average F1 Legal BERT: 0.2835783806245674"
   ]
  },
  {
   "cell_type": "markdown",
   "metadata": {},
   "source": [
    "### Second run:\n",
    "Accuracies: [0.80711825 0.27272727 0.5        0.67385787 0.80434783 0.89893617\n",
    " 0.99801193 0.13333333 0.58940397 0.48717949 0.71428571 0.83168317\n",
    " 0.52631579] \n",
    "\n",
    "- Average accuracy (standard BERT): 0.6336308297273198\n",
    "\n",
    "F1 Scores: [0.76164675 0.07594934 0.35714281 0.77688364 0.77083328 0.89417984\n",
    " 0.9970208  0.1481481  0.6116838  0.50666662 0.42424238 0.88888884\n",
    " 0.59701487] \n",
    "- Average F1: 0.6007923908458702\n",
    "\n",
    "Accuracies Legal BERT: [0.60245515 0.05882353 0.         0.57326892 0.35714286 0.68644068\n",
    " 0.87317073 0.         0.10218978 0.19298246 0.2173913  0.49579832\n",
    " 0.05527638] \n",
    "\n",
    "- Average accuracy Legal BERT: 0.32422616203345367\n",
    "\n",
    "F1 Scores Legal BERT: [0.62733525 0.05042012 0.         0.59333328 0.32608691 0.52597398\n",
    " 0.78336975 0.         0.10108298 0.17054259 0.07194242 0.57004826\n",
    " 0.09649121] \n",
    "- Average F1 Legal BERT: 0.30127898019607346"
   ]
  },
  {
   "cell_type": "markdown",
   "metadata": {},
   "source": [
    "### Third run:\n",
    "Accuracies: [0.80364372 0.43478261 0.31578947 0.75037594 0.69090909 0.93785311\n",
    " 0.98050682 0.         0.65254237 0.53947368 0.57627119 0.83505155\n",
    " 0.33870968] \n",
    "\n",
    "- Average accuracy (standard BERT): 0.6043007103950246\n",
    "\n",
    "F1 Scores: [0.80896582 0.21978018 0.21818177 0.80225075 0.72380947 0.9046321\n",
    " 0.98918382 0.         0.59689917 0.554054   0.38857138 0.87567562\n",
    " 0.46153842] \n",
    "- Average F1: 0.5802725021711612\n",
    "\n",
    "Accuracies Legal BERT: [0.69036697 0.         0.08333333 0.53159851 0.4        0.46666667\n",
    " 0.80270793 0.         0.23170732 0.2        0.         0.39354839\n",
    " 0.08219178] \n",
    "\n",
    "- Average accuracy Legal BERT: 0.29862468468058345\n",
    "\n",
    "F1 Scores Legal BERT: [0.65186784 0.         0.08333328 0.61904757 0.26666662 0.29999996\n",
    " 0.81292845 0.         0.24999995 0.16393438 0.         0.50205757\n",
    " 0.11764702] \n",
    "- Average F1 Legal BERT: 0.2898063568123027"
   ]
  },
  {
   "cell_type": "markdown",
   "metadata": {},
   "source": []
  },
  {
   "cell_type": "code",
   "execution_count": 1,
   "metadata": {},
   "outputs": [
    {
     "name": "stdout",
     "output_type": "stream",
     "text": [
      "Average accuracy CNN_BILSTM Standard emb advanced training : 60.60734162322945\n",
      "Average accuracy CNN_BILSTM LEGALBERT emb advanced training : 31.067062145916026\n",
      "Average F1_SCORE CNN_BILSTM Standard emb advanced training : 58.89580434019146\n",
      "Average F1_SCORE CNN_BILSTM LEGALBERT emb advanced training : 29.155457254431454\n"
     ]
    }
   ],
   "source": [
    "a1 = 0.5802887085745392\n",
    "a1_legal = 0.30916101766344367\n",
    "\n",
    "a2 =  0.6336308297273198\n",
    "a2_legal =  0.32422616203345367\n",
    "\n",
    "a3 = 0.6043007103950246\n",
    "a3_legal = 0.29862468468058345\n",
    "\n",
    "f1= 0.5858092371887123\n",
    "f1_legal= 0.2835783806245674\n",
    "\n",
    "f2= 0.6007923908458702\n",
    "f2_legal= 0.30127898019607346\n",
    "\n",
    "f3 = 0.5802725021711612\n",
    "f3_legal= 0.2898063568123027\n",
    "\n",
    "average_accuracy = (a1 + a2 + a3 )/3\n",
    "print(f\"Average accuracy CNN_BILSTM Standard emb advanced training : {average_accuracy*100}\")\n",
    "\n",
    "average_accuracy_legal = (a1_legal + a2_legal + a3_legal )/3\n",
    "print(f\"Average accuracy CNN_BILSTM LEGALBERT emb advanced training : {average_accuracy_legal*100}\")\n",
    "\n",
    "average_f1 = (f1 + f2 + f3)/3\n",
    "print(f\"Average F1_SCORE CNN_BILSTM Standard emb advanced training : {average_f1*100}\")\n",
    "\n",
    "average_f1_legal = (f1_legal + f2_legal + f3_legal)/3\n",
    "print(f\"Average F1_SCORE CNN_BILSTM LEGALBERT emb advanced training : {average_f1_legal*100}\")\n"
   ]
  },
  {
   "cell_type": "code",
   "execution_count": null,
   "metadata": {},
   "outputs": [],
   "source": []
  },
  {
   "cell_type": "markdown",
   "metadata": {},
   "source": [
    "# BiLSTM Advanced train"
   ]
  },
  {
   "cell_type": "markdown",
   "metadata": {},
   "source": [
    "Working with: \n",
    "{'epochs': 100, 'learning_rate': 0.0005, 'learning_rate_floor': 5e-06, 'dropout': 0.25, 'hidden_size': 512, 'num_layers': 1}\n",
    "Model type: BiLSTM\n",
    "Train type: advanced"
   ]
  },
  {
   "cell_type": "markdown",
   "metadata": {},
   "source": [
    "#### First run\n",
    "Accuracies: [0.8159204  0.41666667 0.40540541 0.7740458  0.84090909 0.95428571\n",
    " 0.99011858 0.         0.3556701  0.50649351 0.55555556 0.82795699\n",
    " 0.53125   ] \n",
    "\n",
    " Average accuracy (standard BERT): 0.6134059852513694\n",
    "\n",
    "F1 Scores: [0.73749292 0.12499997 0.41095885 0.82171794 0.78723399 0.91506844\n",
    " 0.99207916 0.         0.52272723 0.52348988 0.26315786 0.85082868\n",
    " 0.557377  ] \n",
    " Average F1: 0.5774716871466666\n",
    "\n",
    "Accuracies Legal BERT: [0.65247253 0.         0.         0.50165746 0.40740741 0.55813953\n",
    " 0.90190736 0.         0.11842105 0.16774194 0.22222222 0.51960784\n",
    " 0.2       ] \n",
    "\n",
    " Average accuracy Legal BERT: 0.3268905645192576\n",
    "\n",
    "F1 Scores Legal BERT: [0.55783906 0.         0.         0.61185979 0.28571424 0.45141061\n",
    " 0.76004588 0.         0.17307688 0.22907485 0.03199999 0.55789469\n",
    " 0.20338978] \n",
    " Average F1 Legal BERT: 0.29710044281381487"
   ]
  },
  {
   "cell_type": "code",
   "execution_count": 2,
   "metadata": {},
   "outputs": [
    {
     "name": "stdout",
     "output_type": "stream",
     "text": [
      "0.5801\n",
      "0.3080\n"
     ]
    }
   ],
   "source": [
    "avg_f1 = (0.5774716871466666 + 0.5870875423101112 + 0.5756798228044397)/3\n",
    "avg_f1_legal = (0.29710044281381487 + 0.31879639110219643 + 0.3080578172675436)/3\n",
    "print(f\"{avg_f1:.4f}\")\n",
    "print(f\"{avg_f1_legal:.4f}\")"
   ]
  },
  {
   "cell_type": "code",
   "execution_count": 2,
   "metadata": {},
   "outputs": [
    {
     "name": "stdout",
     "output_type": "stream",
     "text": [
      "0.6144666666666666\n",
      "0.3700666666666667\n"
     ]
    }
   ],
   "source": [
    "BiLSTM_Advanced_avg_accuracy = (0.6134+0.6072+0.6228)/3\n",
    "print(BiLSTM_Advanced_avg_accuracy)\n",
    "BiLSTM_Advanced_avg_accuracy_legal = (0.3269+0.3743+0.4090)/3\n",
    "print(BiLSTM_Advanced_avg_accuracy_legal)"
   ]
  },
  {
   "cell_type": "markdown",
   "metadata": {},
   "source": [
    "#### Second run\n",
    "\n",
    "Accuracies: [0.86370597 0.17460317 0.35483871 0.63314286 0.80434783 0.93785311\n",
    " 0.99407115 0.         0.40559441 0.51315789 0.6875     0.89534884\n",
    " 0.62962963] \n",
    "\n",
    " Average accuracy (standard BERT): 0.6072148892850151\n",
    "\n",
    "F1 Scores: [0.69287464 0.16793888 0.32835816 0.76203572 0.77083328 0.9046321\n",
    " 0.99603955 0.         0.54460089 0.52702698 0.29729726 0.88505742\n",
    " 0.60714281] \n",
    " Average F1: 0.5756798228044397\n",
    "\n",
    "Accuracies Legal BERT: [0.5619296  0.15384615 0.11111111 0.66334165 0.53333333 0.48128342\n",
    " 0.80961924 0.         0.27272727 0.38028169 0.25       0.64788732\n",
    " 0.        ] \n",
    "\n",
    " Average accuracy Legal BERT: 0.374258522134801\n",
    "\n",
    "F1 Scores Legal BERT: [0.6871263  0.08510634 0.04444441 0.54285709 0.24615381 0.47745353\n",
    " 0.8055832  0.         0.07407405 0.37762233 0.08571426 0.5786163\n",
    " 0.        ] \n",
    " Average F1 Legal BERT: 0.3080578172675436"
   ]
  },
  {
   "cell_type": "markdown",
   "metadata": {},
   "source": [
    "#### Third run \n",
    "Epoch: 100 | Document: 246/246 | Loss: 0.10670\n",
    "Accuracies: [0.76267748 0.21212121 0.75       0.81272727 0.80434783 0.93220339\n",
    " 0.99798793 0.         0.45454545 0.53658537 0.59615385 0.79\n",
    " 0.44736842] \n",
    "\n",
    " Average accuracy (standard BERT): 0.6228244769787654\n",
    "\n",
    "F1 Scores: [0.76695558 0.13861382 0.37499996 0.79185115 0.77083328 0.89918251\n",
    " 0.99100894 0.         0.61032859 0.57142852 0.36904758 0.84042548\n",
    " 0.50746264] \n",
    " Average F1: 0.5870875423101112\n",
    "\n",
    "Accuracies Legal BERT: [0.64150943 0.05128205 0.2        0.58356941 0.55555556 0.62195122\n",
    " 0.78700361 0.         0.55555556 0.27272727 0.3        0.51694915\n",
    " 0.23076923] \n",
    "\n",
    " Average accuracy Legal BERT: 0.40899019131645775\n",
    "\n",
    "F1 Scores Legal BERT: [0.71285319 0.03738313 0.04878047 0.64124509 0.29411761 0.37499996\n",
    " 0.82419655 0.         0.12658226 0.26086951 0.08823527 0.59223296\n",
    " 0.1428571 ] \n",
    " Average F1 Legal BERT: 0.31879639110219643\n",
    "\n",
    "--- 1002.2935099601746 seconds ---"
   ]
  },
  {
   "cell_type": "markdown",
   "metadata": {},
   "source": []
  },
  {
   "cell_type": "markdown",
   "metadata": {},
   "source": [
    "# BiLSTM Default train (Standard EMB)"
   ]
  },
  {
   "cell_type": "markdown",
   "metadata": {},
   "source": [
    "### WTF RESULTS:\n",
    "Working with: \n",
    "{'epochs': 100, 'learning_rate': 0.0005, 'learning_rate_floor': 5e-06, 'dropout': 0.25, 'hidden_size': 512, 'num_layers': 1}\n",
    "Model type: BiLSTM\n",
    "Train type: default"
   ]
  },
  {
   "cell_type": "markdown",
   "metadata": {},
   "source": [
    "### run 1\n",
    "Epoch: 100 | Document: 246/246 | Loss: 0.00259\n",
    "\n",
    "Accuracies: [0.75799481 0.27777778 0.31818182 0.80487805 0.80434783 0.93922652\n",
    " 0.98821218 0.33333333 0.75       0.62       0.69387755 0.87912088\n",
    " 0.66666667] \n",
    "\n",
    " Average accuracy: 0.6795090319404996\n",
    "\n",
    "F1 Scores: [0.82270164 0.11627904 0.24137926 0.82914568 0.77083328 0.916442\n",
    " 0.99308978 0.1333333  0.62499995 0.50819667 0.41212117 0.8938547\n",
    " 0.51063825] \n",
    "\n",
    " Average F1: 0.5979242089631345\n",
    "\n"
   ]
  },
  {
   "cell_type": "code",
   "execution_count": 3,
   "metadata": {},
   "outputs": [
    {
     "name": "stdout",
     "output_type": "stream",
     "text": [
      "0.6688000000000001\n"
     ]
    }
   ],
   "source": [
    "BiLSTM_default_avg_accuracy = (0.6795+0.6520+0.6749)/3\n",
    "print(BiLSTM_default_avg_accuracy)"
   ]
  },
  {
   "cell_type": "markdown",
   "metadata": {},
   "source": []
  },
  {
   "cell_type": "markdown",
   "metadata": {},
   "source": [
    "### Run 2\n",
    "Epoch: 100 | Document: 246/246 | Loss: 0.00295\n",
    "Accuracies: [0.79902913 0.29032258 0.45454545 0.77535101 0.8        0.885\n",
    " 0.9960396  0.25       0.69281046 0.63043478 0.55263158 0.84946237\n",
    " 0.5       ] \n",
    "\n",
    " Average accuracy: 0.6519713049283822\n",
    "\n",
    "F1 Scores: [0.82094758 0.18181814 0.43478256 0.81475405 0.75789469 0.90769226\n",
    " 0.99702671 0.24999995 0.72354944 0.49152538 0.27272724 0.87292813\n",
    " 0.52459011] \n",
    " Average F1: 0.6192489393167365"
   ]
  },
  {
   "cell_type": "markdown",
   "metadata": {},
   "source": [
    "### Run 3\n",
    "Epoch: 100 | Document: 246/246 | Loss: 0.00118\n",
    "Accuracies: [0.78289474 0.44827586 0.54166667 0.76560122 0.80434783 0.91578947\n",
    " 0.99405941 0.42857143 0.68316832 0.5890411  0.51351351 0.89655172\n",
    " 0.41025641] \n",
    "\n",
    " Average accuracy: 0.6749028983189914\n",
    " \n",
    "F1 Scores: [0.81706714 0.26804119 0.43333328 0.81391581 0.77083328 0.91578942\n",
    " 0.99504455 0.31578942 0.57261406 0.5931034  0.24836598 0.89142852\n",
    " 0.47058818] \n",
    " Average F1: 0.6235318646870767"
   ]
  },
  {
   "cell_type": "markdown",
   "metadata": {},
   "source": [
    "# BiLSTM ADVANCED TRAIN (AGAIN)"
   ]
  },
  {
   "cell_type": "markdown",
   "metadata": {},
   "source": [
    "### Run 1\n",
    "Epoch: 100 | Document: 246/246 | Loss: 0.16607\n",
    "Accuracies: [0.79497487 0.47619048 0.54166667 0.8056872  0.7755102  0.96428571\n",
    " 0.98425197 0.         0.5        0.6        0.7027027  0.84444444\n",
    " 0.65384615] \n",
    "\n",
    " Average accuracy (standard BERT): 0.6648892622219272\n",
    "\n",
    "F1 Scores: [0.80304564 0.22471906 0.43333328 0.84158411 0.76767672 0.90502788\n",
    " 0.98814224 0.         0.63917521 0.5454545  0.33986924 0.85393253\n",
    " 0.61818177] \n",
    " Average F1: 0.6123186294423064\n",
    "\n",
    "Accuracies Legal BERT: [0.65955556 0.02173913 0.         0.4874552  0.19607843 0.63917526\n",
    " 0.89415042 0.         0.12903226 0.32258065 0.21212121 0.51515152\n",
    " 0.5       ] \n",
    "\n",
    " Average accuracy Legal BERT: 0.3520799708117919\n",
    "\n",
    "F1 Scores Legal BERT: [0.70666662 0.01754381 0.         0.57627114 0.19801975 0.4320557\n",
    " 0.74391652 0.         0.0467836  0.29850741 0.15384611 0.5454545\n",
    " 0.1212121 ] \n",
    " Average F1 Legal BERT: 0.2954059425806642"
   ]
  },
  {
   "cell_type": "code",
   "execution_count": null,
   "metadata": {},
   "outputs": [],
   "source": []
  },
  {
   "cell_type": "markdown",
   "metadata": {},
   "source": [
    "### Run 2\n",
    "Epoch: 100 | Document: 246/246 | Loss: 0.11012\n",
    "Accuracies: [0.80977683 0.17171717 0.7        0.84464286 0.68421053 0.9015544\n",
    " 0.99603175 0.         0.51476793 0.59722222 0.60344828 0.83516484\n",
    " 0.48648649] \n",
    "\n",
    " Average accuracy (standard BERT): 0.6265402531333788\n",
    "\n",
    "F1 Scores: [0.79540705 0.20359277 0.30434779 0.83055307 0.72897191 0.90861614\n",
    " 0.9960317  0.         0.64721481 0.59722217 0.40229881 0.84916196\n",
    " 0.54545449] \n",
    " Average F1: 0.6006825119240397\n",
    "\n",
    "Accuracies Legal BERT: [0.54425612 0.03703704 0.04545455 0.70431894 0.41176471 0.53403141\n",
    " 0.875      0.         0.04255319 0.32835821 0.14285714 0.50793651\n",
    " 0.15384615] \n",
    "\n",
    " Average accuracy Legal BERT: 0.3328779972673288\n",
    "\n",
    "F1 Scores Legal BERT: [0.6752336  0.02105259 0.03448271 0.48181814 0.20895519 0.53543302\n",
    " 0.82352936 0.         0.02139034 0.31654671 0.01626015 0.59813079\n",
    " 0.09523805] \n",
    " Average F1 Legal BERT: 0.29446697302279073"
   ]
  },
  {
   "cell_type": "markdown",
   "metadata": {},
   "source": [
    "### Run 3\n",
    "Epoch: 100 | Document: 246/246 | Loss: 0.12203\n",
    "Accuracies: [0.80456026 0.29411765 0.45       0.79458599 0.7755102  0.82727273\n",
    " 0.99800399 0.         0.48863636 0.61818182 0.63636364 0.875\n",
    " 0.51724138] \n",
    "\n",
    " Average accuracy (standard BERT): 0.621498001212983\n",
    "\n",
    "F1 Scores: [0.78164552 0.25210079 0.32142852 0.82684336 0.76767672 0.88780483\n",
    " 0.99502483 0.         0.63861382 0.53543302 0.28187916 0.87499995\n",
    " 0.51724133] \n",
    " Average F1: 0.5908224492829619\n",
    "\n",
    "Accuracies Legal BERT: [0.54383464 0.04651163 0.         0.66666667 0.34883721 0.60185185\n",
    " 0.84334764 0.         0.296875   0.21176471 0.16666667 0.56122449\n",
    " 0.12987013] \n",
    "\n",
    " Average accuracy Legal BERT: 0.33980389442191444\n",
    "\n",
    "F1 Scores Legal BERT: [0.64171568 0.03603599 0.         0.5535353  0.32258059 0.43624156\n",
    " 0.81030923 0.         0.18627447 0.22929931 0.0447761  0.5913978\n",
    " 0.18867921] \n",
    " Average F1 Legal BERT: 0.310834249198474"
   ]
  },
  {
   "cell_type": "markdown",
   "metadata": {},
   "source": []
  },
  {
   "cell_type": "markdown",
   "metadata": {},
   "source": [
    "# CNN_BiLSTM Default Train (Standard EMB)"
   ]
  },
  {
   "cell_type": "markdown",
   "metadata": {},
   "source": [
    "### Run 1\n",
    "Epoch: 100 | Document: 246/246 | Loss: 0.02087\n",
    "Accuracies: [0.78973843 0.30188679 0.         0.74165457 0.75510204 0.87817259\n",
    " 0.98821218 0.         0.71962617 0.61403509 0.66666667 0.88372093\n",
    " 0.44680851] \n",
    "\n",
    " Average accuracy: 0.5988941514427752\n",
    "\n",
    "F1 Scores: [0.79735902 0.26446276 0.         0.80599364 0.7474747  0.8940568\n",
    " 0.99308978 0.         0.62348173 0.54263561 0.39024386 0.87356317\n",
    " 0.55263153] \n",
    " \n",
    " Average F1: 0.5757686608160583\n"
   ]
  },
  {
   "cell_type": "code",
   "execution_count": 5,
   "metadata": {},
   "outputs": [
    {
     "name": "stdout",
     "output_type": "stream",
     "text": [
      "0.6066333333333334\n"
     ]
    }
   ],
   "source": [
    "CNN_default_avg_accuracy = (0.5989+0.6315+0.5895)/3\n",
    "print(CNN_default_avg_accuracy)"
   ]
  },
  {
   "cell_type": "markdown",
   "metadata": {},
   "source": [
    "### Run 2\n",
    "Epoch: 100 | Document: 246/246 | Loss: 0.00147\n",
    "Accuracies: [0.79317073 0.1875     0.23529412 0.80463576 0.70588235 0.96\n",
    " 0.98622047 0.33333333 0.61643836 0.62295082 0.58823529 0.83\n",
    " 0.54545455] \n",
    "\n",
    " Average accuracy: 0.6314704450052263\n",
    "\n",
    "F1 Scores: [0.81299995 0.15517237 0.22857138 0.82163985 0.71287124 0.92054789\n",
    " 0.99011853 0.22222218 0.62937058 0.57142852 0.43478256 0.88297867\n",
    " 0.58064511] \n",
    " \n",
    " Average F1: 0.612565293680568\n"
   ]
  },
  {
   "cell_type": "markdown",
   "metadata": {},
   "source": [
    "### Run 3\n",
    "Epoch: 100 | Document: 246/246 | Loss: 0.01225\n",
    "Accuracies: [0.77823834 0.07826087 0.21875    0.77471637 0.7826087  0.92571429\n",
    " 0.99209486 0.         0.60666667 0.48780488 0.6        0.84782609\n",
    " 0.57142857] \n",
    "\n",
    " Average accuracy: 0.5895468943993224\n",
    "\n",
    "F1 Scores: [0.77422675 0.09836061 0.2058823  0.79933105 0.74999995 0.88767118\n",
    " 0.99405936 0.         0.62758616 0.51948047 0.36144574 0.86666662\n",
    " 0.56140346] \n",
    " \n",
    " Average F1: 0.5727779726544399\n"
   ]
  },
  {
   "cell_type": "markdown",
   "metadata": {},
   "source": [
    "### Run 1\n",
    "Epoch: 100 | Document: 246/246 | Loss: 0.07603\n",
    "Accuracies: [0.28571429 0.         0.         0.         0.         0.04512067\n",
    " 0.         0.         0.         0.         0.         0.0343075\n",
    " 0.        ] \n",
    "\n",
    " Average accuracy: 0.028087881084703798\n",
    "\n",
    "F1 Scores: [0.07794506 0.         0.         0.         0.         0.08206105\n",
    " 0.         0.         0.         0.         0.         0.06171427\n",
    " 0.        ] \n",
    " \n",
    " Average F1: 0.01705541387606481\n",
    "\n"
   ]
  },
  {
   "cell_type": "markdown",
   "metadata": {},
   "source": [
    "### Run 2\n",
    "Epoch: 100 | Document: 246/246 | Loss: 0.07202\n",
    "Accuracies: [0.44230769 0.         0.         0.         0.         0.\n",
    " 0.18298497 0.         0.         0.         0.         0.\n",
    " 0.        ] \n",
    "\n",
    " Average accuracy: 0.048099435190067326\n",
    "\n",
    "F1 Scores: [0.08526412 0.         0.         0.         0.         0.\n",
    " 0.30888267 0.         0.         0.         0.         0.\n",
    " 0.        ] \n",
    " \n",
    " Average F1: 0.030318983732806854"
   ]
  },
  {
   "cell_type": "markdown",
   "metadata": {},
   "source": [
    "### Run 3\n",
    "Epoch: 100 | Document: 246/246 | Loss: 0.06098\n",
    "Accuracies: [0.         0.         0.         0.         0.         0.08480565\n",
    " 0.13716295 0.         0.         0.         0.         0.\n",
    " 0.        ] \n",
    "\n",
    " Average accuracy: 0.017074508306866354\n",
    "\n",
    "F1 Scores: [0.         0.         0.         0.         0.         0.10147987\n",
    " 0.22918704 0.         0.         0.         0.         0.\n",
    " 0.        ] \n",
    " \n",
    " Average F1: 0.025435916254851962"
   ]
  },
  {
   "cell_type": "markdown",
   "metadata": {},
   "source": []
  }
 ],
 "metadata": {
  "kernelspec": {
   "display_name": "anlp2023",
   "language": "python",
   "name": "python3"
  },
  "language_info": {
   "codemirror_mode": {
    "name": "ipython",
    "version": 3
   },
   "file_extension": ".py",
   "mimetype": "text/x-python",
   "name": "python",
   "nbconvert_exporter": "python",
   "pygments_lexer": "ipython3",
   "version": "3.8.10"
  }
 },
 "nbformat": 4,
 "nbformat_minor": 2
}
